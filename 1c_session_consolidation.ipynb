{
 "cells": [
  {
   "cell_type": "code",
   "execution_count": 1,
   "id": "f089824e",
   "metadata": {},
   "outputs": [],
   "source": [
    "import os\n",
    "import json\n",
    "\n",
    "import session_processing_helper as helper\n",
    "import utils\n",
    "\n",
    "import pandas as pd"
   ]
  },
  {
   "cell_type": "code",
   "execution_count": 2,
   "id": "3e724969",
   "metadata": {},
   "outputs": [
    {
     "name": "stdout",
     "output_type": "stream",
     "text": [
      "/Users/rebekahzhang/data/behavior_data/exp2\n"
     ]
    }
   ],
   "source": [
    "data_dir = '/Users/rebekahzhang/data/behavior_data'\n",
    "exp = \"exp2\"\n",
    "data_folder = os.path.join(data_dir, exp)\n",
    "print(data_folder)"
   ]
  },
  {
   "cell_type": "code",
   "execution_count": 7,
   "id": "5be3b460",
   "metadata": {},
   "outputs": [],
   "source": [
    "with open('exp_cohort_info.json', 'r') as f:\n",
    "    training_info = json.load(f)"
   ]
  },
  {
   "cell_type": "code",
   "execution_count": 15,
   "id": "28b90d46",
   "metadata": {},
   "outputs": [],
   "source": [
    "cohort_info = training_info['cohorts']"
   ]
  },
  {
   "cell_type": "code",
   "execution_count": 16,
   "id": "779c1575",
   "metadata": {},
   "outputs": [],
   "source": [
    "def add_cohort_column(sessions_all, cohort_info):\n",
    "    \"\"\"Add cohort column based on mouse name and cohort info.\"\"\"\n",
    "    # Create reverse mapping\n",
    "    mouse_to_cohort = {}\n",
    "    for cohort, mice in cohort_info.items():\n",
    "        for mouse in mice:\n",
    "            mouse_to_cohort[mouse] = cohort\n",
    "    \n",
    "    # Add cohort column\n",
    "    sessions_all['cohort'] = sessions_all['mouse'].map(mouse_to_cohort)\n",
    "    \n",
    "    # Check for any unmapped mice\n",
    "    unmapped = sessions_all[sessions_all['cohort'].isna()]\n",
    "    if not unmapped.empty:\n",
    "        print(f\"Warning: {len(unmapped)} mice not found in cohort info:\")\n",
    "        print(unmapped['mouse'].unique())\n",
    "    \n",
    "    return sessions_all"
   ]
  },
  {
   "cell_type": "code",
   "execution_count": 17,
   "id": "8364e8bf",
   "metadata": {},
   "outputs": [
    {
     "name": "stdout",
     "output_type": "stream",
     "text": [
      "1831 sessions in total\n"
     ]
    }
   ],
   "source": [
    "_, sessions_training = helper.generate_session_logs(data_folder, save_logs=False)\n",
    "session_info_list = []\n",
    "for _, session_info in sessions_training.iterrows():\n",
    "    events_processed = pd.read_csv(utils.generate_events_processed_path(data_folder, session_info), low_memory=False)\n",
    "    session_basics = helper.get_session_basics(events_processed)\n",
    "    session_basics['dir'] = session_info['dir']\n",
    "    session_info_list.append(session_basics)\n",
    "sessions_info = pd.DataFrame(session_info_list)\n",
    "corrected_sessions_training = pd.merge(sessions_training, sessions_info, on=\"dir\")\n",
    "corrected_sessions_training = corrected_sessions_training.drop(columns=['index', 'total_reward', 'total_trial', 'total_reward'])\n",
    "corrected_sessions_training = corrected_sessions_training.groupby('mouse', group_keys=False).apply(helper.assign_session_numbers)\n",
    "corrected_sessions_training = add_cohort_column(corrected_sessions_training, cohort_info)\n",
    "# if save_log:\n",
    "utils.save_as_csv(df=corrected_sessions_training, folder=data_folder, filename=f'sessions_training_{exp}.csv')"
   ]
  },
  {
   "cell_type": "code",
   "execution_count": null,
   "id": "9743a974",
   "metadata": {},
   "outputs": [],
   "source": []
  }
 ],
 "metadata": {
  "kernelspec": {
   "display_name": "LUCKYCHARM",
   "language": "python",
   "name": "luckycharm"
  },
  "language_info": {
   "codemirror_mode": {
    "name": "ipython",
    "version": 3
   },
   "file_extension": ".py",
   "mimetype": "text/x-python",
   "name": "python",
   "nbconvert_exporter": "python",
   "pygments_lexer": "ipython3",
   "version": "3.10.6"
  }
 },
 "nbformat": 4,
 "nbformat_minor": 5
}
