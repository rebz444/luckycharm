{
 "cells": [
  {
   "cell_type": "code",
   "execution_count": 12,
   "id": "47c46fde",
   "metadata": {},
   "outputs": [],
   "source": [
    "import os\n",
    "import numpy as np\n",
    "import statistics\n",
    "import math\n",
    "\n",
    "import behavior_analysis_helper_functions as helper\n",
    "import analysis_session_helper_functions as new_helper\n",
    "\n",
    "import pandas as pd\n",
    "import matplotlib.pyplot as plt\n",
    "import seaborn as sns"
   ]
  },
  {
   "attachments": {},
   "cell_type": "markdown",
   "id": "00e5d562",
   "metadata": {},
   "source": [
    "first version\n",
    "<br> worked great for last batch of data\n",
    "<br> worked also ok for data collected prior to 510"
   ]
  },
  {
   "cell_type": "code",
   "execution_count": 8,
   "id": "4d9291b1",
   "metadata": {},
   "outputs": [],
   "source": [
    "# sns.set_theme()\n",
    "colors = [\"#fd7f6f\", \"#7eb0d5\", \"#b2e061\", \"#bd7ebe\", \"#ffb55a\", \"#ffee65\", \"#beb9db\", \"#fdcce5\", \"#8bd3c7\"]"
   ]
  },
  {
   "cell_type": "code",
   "execution_count": 13,
   "id": "0b55488f",
   "metadata": {},
   "outputs": [
    {
     "name": "stdout",
     "output_type": "stream",
     "text": [
      "/Users/rebekahzhang/Documents/shuler_lab/behavior_data/cohort_2/509_clean\n"
     ]
    }
   ],
   "source": [
    "cohort = 'cohort_2'\n",
    "to_analyze = '509_clean'\n",
    "data_dir = '/Users/rebekahzhang/Documents/shuler_lab/behavior_data'\n",
    "data_folder = os.path.join(data_dir, cohort, to_analyze)\n",
    "print(data_folder)"
   ]
  },
  {
   "cell_type": "markdown",
   "id": "50a919e0",
   "metadata": {},
   "source": [
    "## Session"
   ]
  },
  {
   "cell_type": "code",
   "execution_count": 14,
   "id": "f41cab92",
   "metadata": {},
   "outputs": [
    {
     "data": {
      "text/html": [
       "<div>\n",
       "<style scoped>\n",
       "    .dataframe tbody tr th:only-of-type {\n",
       "        vertical-align: middle;\n",
       "    }\n",
       "\n",
       "    .dataframe tbody tr th {\n",
       "        vertical-align: top;\n",
       "    }\n",
       "\n",
       "    .dataframe thead th {\n",
       "        text-align: right;\n",
       "    }\n",
       "</style>\n",
       "<table border=\"1\" class=\"dataframe\">\n",
       "  <thead>\n",
       "    <tr style=\"text-align: right;\">\n",
       "      <th></th>\n",
       "      <th>date</th>\n",
       "      <th>mouse</th>\n",
       "      <th>dir</th>\n",
       "      <th>filename</th>\n",
       "    </tr>\n",
       "  </thead>\n",
       "  <tbody>\n",
       "    <tr>\n",
       "      <th>0</th>\n",
       "      <td>2023-04-12</td>\n",
       "      <td>RZ013</td>\n",
       "      <td>2023-04-12_05-44-07_RZ013</td>\n",
       "      <td>data_RZ013_2023-04-12_05-44-07.txt</td>\n",
       "    </tr>\n",
       "    <tr>\n",
       "      <th>1</th>\n",
       "      <td>2023-05-09</td>\n",
       "      <td>RZ017</td>\n",
       "      <td>2023-05-09_13-26-19_RZ017</td>\n",
       "      <td>data_RZ017_2023-05-09_13-26-19.txt</td>\n",
       "    </tr>\n",
       "    <tr>\n",
       "      <th>2</th>\n",
       "      <td>2023-04-25</td>\n",
       "      <td>RZ015</td>\n",
       "      <td>2023-04-25_12-10-41_RZ015</td>\n",
       "      <td>data_RZ015_2023-04-25_12-10-41.txt</td>\n",
       "    </tr>\n",
       "    <tr>\n",
       "      <th>3</th>\n",
       "      <td>2023-05-02</td>\n",
       "      <td>RZ013</td>\n",
       "      <td>2023-05-02_11-18-24_RZ013</td>\n",
       "      <td>data_RZ013_2023-05-02_11-18-24.txt</td>\n",
       "    </tr>\n",
       "    <tr>\n",
       "      <th>4</th>\n",
       "      <td>2023-05-04</td>\n",
       "      <td>RZ015</td>\n",
       "      <td>2023-05-04_13-23-22_RZ015</td>\n",
       "      <td>data_RZ015_2023-05-04_13-23-22.txt</td>\n",
       "    </tr>\n",
       "  </tbody>\n",
       "</table>\n",
       "</div>"
      ],
      "text/plain": [
       "         date  mouse                        dir  \\\n",
       "0  2023-04-12  RZ013  2023-04-12_05-44-07_RZ013   \n",
       "1  2023-05-09  RZ017  2023-05-09_13-26-19_RZ017   \n",
       "2  2023-04-25  RZ015  2023-04-25_12-10-41_RZ015   \n",
       "3  2023-05-02  RZ013  2023-05-02_11-18-24_RZ013   \n",
       "4  2023-05-04  RZ015  2023-05-04_13-23-22_RZ015   \n",
       "\n",
       "                             filename  \n",
       "0  data_RZ013_2023-04-12_05-44-07.txt  \n",
       "1  data_RZ017_2023-05-09_13-26-19.txt  \n",
       "2  data_RZ015_2023-04-25_12-10-41.txt  \n",
       "3  data_RZ013_2023-05-02_11-18-24.txt  \n",
       "4  data_RZ015_2023-05-04_13-23-22.txt  "
      ]
     },
     "execution_count": 14,
     "metadata": {},
     "output_type": "execute_result"
    }
   ],
   "source": [
    "session_log = new_helper.generate_all_session_log(data_folder)\n",
    "session_log.head()"
   ]
  },
  {
   "cell_type": "code",
   "execution_count": 3,
   "id": "08ab899d",
   "metadata": {},
   "outputs": [
    {
     "name": "stdout",
     "output_type": "stream",
     "text": [
      "/Users/rebekahzhang/Documents/shuler_lab/behavior_data/cohort_2/509_clean\n"
     ]
    }
   ],
   "source": [
    "# # get a list of all folder names in data folder\n",
    "# cohort = 'cohort_2'\n",
    "# cohort_folder = f'/Users/rebekahzhang/Documents/shuler_lab/behavior_data/{cohort}'\n",
    "# data_folder = os.path.join(cohort_folder, '509_clean')\n",
    "# print(data_folder)\n",
    "# dir_list = os.listdir(data_folder)\n",
    "# dir_list.remove('.DS_Store')\n",
    "\n",
    "# dir_list.remove('509_all_sessions.csv')"
   ]
  },
  {
   "cell_type": "code",
   "execution_count": 4,
   "id": "06307fde",
   "metadata": {},
   "outputs": [],
   "source": [
    "# make a table of session info with date, mouse, folder name, and file name\n",
    "date_list = []\n",
    "mouse_list = []\n",
    "filename_list = []\n",
    "for f in dir_list:\n",
    "    date_list.append(f[0:10])\n",
    "    mouse = f[-5:]\n",
    "    mouse_list.append(mouse)\n",
    "    filename_list.append(f'data_{mouse}_{f[0:19]}.txt')\n",
    "session_log = pd.DataFrame({'date': date_list, 'mouse': mouse_list, \n",
    "                            'dir': dir_list, 'filename': filename_list})"
   ]
  },
  {
   "cell_type": "code",
   "execution_count": 6,
   "id": "c227902b",
   "metadata": {},
   "outputs": [
    {
     "name": "stdout",
     "output_type": "stream",
     "text": [
      "all_sessions.csv\n"
     ]
    },
    {
     "ename": "ValueError",
     "evalue": "Length of values (84) does not match length of index (85)",
     "output_type": "error",
     "traceback": [
      "\u001b[0;31m---------------------------------------------------------------------------\u001b[0m",
      "\u001b[0;31mValueError\u001b[0m                                Traceback (most recent call last)",
      "\u001b[1;32m/Users/rebekahzhang/Documents/shuler_lab/code/luckycharm/behavior_analysis_session.ipynb Cell 6\u001b[0m in \u001b[0;36m<cell line: 11>\u001b[0;34m()\u001b[0m\n\u001b[1;32m      <a href='vscode-notebook-cell:/Users/rebekahzhang/Documents/shuler_lab/code/luckycharm/behavior_analysis_session.ipynb#W5sZmlsZQ%3D%3D?line=8'>9</a>\u001b[0m     \u001b[39mexcept\u001b[39;00m:\n\u001b[1;32m     <a href='vscode-notebook-cell:/Users/rebekahzhang/Documents/shuler_lab/code/luckycharm/behavior_analysis_session.ipynb#W5sZmlsZQ%3D%3D?line=9'>10</a>\u001b[0m         \u001b[39mprint\u001b[39m(dir_name)\n\u001b[0;32m---> <a href='vscode-notebook-cell:/Users/rebekahzhang/Documents/shuler_lab/code/luckycharm/behavior_analysis_session.ipynb#W5sZmlsZQ%3D%3D?line=10'>11</a>\u001b[0m session_log[\u001b[39m'\u001b[39m\u001b[39mtraining\u001b[39m\u001b[39m'\u001b[39m] \u001b[39m=\u001b[39m training_list\n",
      "File \u001b[0;32m~/opt/anaconda3/envs/LUCKYCHARM/lib/python3.10/site-packages/pandas/core/frame.py:3977\u001b[0m, in \u001b[0;36mDataFrame.__setitem__\u001b[0;34m(self, key, value)\u001b[0m\n\u001b[1;32m   3974\u001b[0m     \u001b[39mself\u001b[39m\u001b[39m.\u001b[39m_setitem_array([key], value)\n\u001b[1;32m   3975\u001b[0m \u001b[39melse\u001b[39;00m:\n\u001b[1;32m   3976\u001b[0m     \u001b[39m# set column\u001b[39;00m\n\u001b[0;32m-> 3977\u001b[0m     \u001b[39mself\u001b[39;49m\u001b[39m.\u001b[39;49m_set_item(key, value)\n",
      "File \u001b[0;32m~/opt/anaconda3/envs/LUCKYCHARM/lib/python3.10/site-packages/pandas/core/frame.py:4171\u001b[0m, in \u001b[0;36mDataFrame._set_item\u001b[0;34m(self, key, value)\u001b[0m\n\u001b[1;32m   4161\u001b[0m \u001b[39mdef\u001b[39;00m \u001b[39m_set_item\u001b[39m(\u001b[39mself\u001b[39m, key, value) \u001b[39m-\u001b[39m\u001b[39m>\u001b[39m \u001b[39mNone\u001b[39;00m:\n\u001b[1;32m   4162\u001b[0m     \u001b[39m\"\"\"\u001b[39;00m\n\u001b[1;32m   4163\u001b[0m \u001b[39m    Add series to DataFrame in specified column.\u001b[39;00m\n\u001b[1;32m   4164\u001b[0m \n\u001b[0;32m   (...)\u001b[0m\n\u001b[1;32m   4169\u001b[0m \u001b[39m    ensure homogeneity.\u001b[39;00m\n\u001b[1;32m   4170\u001b[0m \u001b[39m    \"\"\"\u001b[39;00m\n\u001b[0;32m-> 4171\u001b[0m     value \u001b[39m=\u001b[39m \u001b[39mself\u001b[39;49m\u001b[39m.\u001b[39;49m_sanitize_column(value)\n\u001b[1;32m   4173\u001b[0m     \u001b[39mif\u001b[39;00m (\n\u001b[1;32m   4174\u001b[0m         key \u001b[39min\u001b[39;00m \u001b[39mself\u001b[39m\u001b[39m.\u001b[39mcolumns\n\u001b[1;32m   4175\u001b[0m         \u001b[39mand\u001b[39;00m value\u001b[39m.\u001b[39mndim \u001b[39m==\u001b[39m \u001b[39m1\u001b[39m\n\u001b[1;32m   4176\u001b[0m         \u001b[39mand\u001b[39;00m \u001b[39mnot\u001b[39;00m is_extension_array_dtype(value)\n\u001b[1;32m   4177\u001b[0m     ):\n\u001b[1;32m   4178\u001b[0m         \u001b[39m# broadcast across multiple columns if necessary\u001b[39;00m\n\u001b[1;32m   4179\u001b[0m         \u001b[39mif\u001b[39;00m \u001b[39mnot\u001b[39;00m \u001b[39mself\u001b[39m\u001b[39m.\u001b[39mcolumns\u001b[39m.\u001b[39mis_unique \u001b[39mor\u001b[39;00m \u001b[39misinstance\u001b[39m(\u001b[39mself\u001b[39m\u001b[39m.\u001b[39mcolumns, MultiIndex):\n",
      "File \u001b[0;32m~/opt/anaconda3/envs/LUCKYCHARM/lib/python3.10/site-packages/pandas/core/frame.py:4904\u001b[0m, in \u001b[0;36mDataFrame._sanitize_column\u001b[0;34m(self, value)\u001b[0m\n\u001b[1;32m   4901\u001b[0m     \u001b[39mreturn\u001b[39;00m _reindex_for_setitem(Series(value), \u001b[39mself\u001b[39m\u001b[39m.\u001b[39mindex)\n\u001b[1;32m   4903\u001b[0m \u001b[39mif\u001b[39;00m is_list_like(value):\n\u001b[0;32m-> 4904\u001b[0m     com\u001b[39m.\u001b[39;49mrequire_length_match(value, \u001b[39mself\u001b[39;49m\u001b[39m.\u001b[39;49mindex)\n\u001b[1;32m   4905\u001b[0m \u001b[39mreturn\u001b[39;00m sanitize_array(value, \u001b[39mself\u001b[39m\u001b[39m.\u001b[39mindex, copy\u001b[39m=\u001b[39m\u001b[39mTrue\u001b[39;00m, allow_2d\u001b[39m=\u001b[39m\u001b[39mTrue\u001b[39;00m)\n",
      "File \u001b[0;32m~/opt/anaconda3/envs/LUCKYCHARM/lib/python3.10/site-packages/pandas/core/common.py:561\u001b[0m, in \u001b[0;36mrequire_length_match\u001b[0;34m(data, index)\u001b[0m\n\u001b[1;32m    557\u001b[0m \u001b[39m\"\"\"\u001b[39;00m\n\u001b[1;32m    558\u001b[0m \u001b[39mCheck the length of data matches the length of the index.\u001b[39;00m\n\u001b[1;32m    559\u001b[0m \u001b[39m\"\"\"\u001b[39;00m\n\u001b[1;32m    560\u001b[0m \u001b[39mif\u001b[39;00m \u001b[39mlen\u001b[39m(data) \u001b[39m!=\u001b[39m \u001b[39mlen\u001b[39m(index):\n\u001b[0;32m--> 561\u001b[0m     \u001b[39mraise\u001b[39;00m \u001b[39mValueError\u001b[39;00m(\n\u001b[1;32m    562\u001b[0m         \u001b[39m\"\u001b[39m\u001b[39mLength of values \u001b[39m\u001b[39m\"\u001b[39m\n\u001b[1;32m    563\u001b[0m         \u001b[39mf\u001b[39m\u001b[39m\"\u001b[39m\u001b[39m(\u001b[39m\u001b[39m{\u001b[39;00m\u001b[39mlen\u001b[39m(data)\u001b[39m}\u001b[39;00m\u001b[39m) \u001b[39m\u001b[39m\"\u001b[39m\n\u001b[1;32m    564\u001b[0m         \u001b[39m\"\u001b[39m\u001b[39mdoes not match length of index \u001b[39m\u001b[39m\"\u001b[39m\n\u001b[1;32m    565\u001b[0m         \u001b[39mf\u001b[39m\u001b[39m\"\u001b[39m\u001b[39m(\u001b[39m\u001b[39m{\u001b[39;00m\u001b[39mlen\u001b[39m(index)\u001b[39m}\u001b[39;00m\u001b[39m)\u001b[39m\u001b[39m\"\u001b[39m\n\u001b[1;32m    566\u001b[0m     )\n",
      "\u001b[0;31mValueError\u001b[0m: Length of values (84) does not match length of index (85)"
     ]
    }
   ],
   "source": [
    "# get the type of training from session meta data for each session\n",
    "# prints the name of the session if session can't load\n",
    "training_list = []\n",
    "for dir_name, file_name in zip(session_log.dir, session_log.filename):\n",
    "    try:\n",
    "        session_meta = helper.load_session_meta(data_folder, dir_name, file_name)\n",
    "        training = session_meta.training.tolist()[0]\n",
    "        training_list.append(training)\n",
    "    except:\n",
    "        print(dir_name)\n",
    "session_log['training'] = training_list"
   ]
  },
  {
   "cell_type": "code",
   "execution_count": null,
   "id": "92147d0f",
   "metadata": {},
   "outputs": [],
   "source": [
    "# get a df of only regular sessions, and sort by date time\n",
    "training_session_log = session_log.loc[session_log.training == 'regular'].sort_values('dir').reset_index()\n",
    "training_session_log.head()"
   ]
  },
  {
   "cell_type": "code",
   "execution_count": null,
   "id": "d3e4fa11",
   "metadata": {},
   "outputs": [],
   "source": [
    "# add columns of basic info of number of blocks, trials, total rewards, and total time to each training session\n",
    "# with not normal end, if end not proper, tiral num is one less \n",
    "session_basics_columns = ['num_blocks', 'num_trials', 'rewards', 'time', 'proper_end']\n",
    "column_names = training_session_log.columns.values.tolist() + session_basics_columns\n",
    "training_session_log = training_session_log.reindex(columns=column_names)\n",
    "# add basic info of num\n",
    "for dir_name, file_name in zip(session_log.dir, session_log.filename):\n",
    "    session = helper.load_session(data_folder, dir_name, file_name)\n",
    "    session_basic = helper.get_session_basic_proper_end(session)\n",
    "    training_session_log.loc[training_session_log.dir == dir_name, session_basics_columns] = session_basic"
   ]
  },
  {
   "cell_type": "code",
   "execution_count": null,
   "id": "7419b543",
   "metadata": {},
   "outputs": [],
   "source": [
    "# prints mouse names in data base, check for weird ones and delete from data base\n",
    "mouse_list = session_log.mouse.unique().tolist()\n",
    "mouse_list.sort()\n",
    "print(mouse_list)"
   ]
  },
  {
   "cell_type": "code",
   "execution_count": null,
   "id": "a4da16e8",
   "metadata": {},
   "outputs": [],
   "source": [
    "# session screening\n",
    "# should print nothing if all sessions are reg and long enough\n",
    "#### can upgrade to deleting wrong ones from data folder\n",
    "\n",
    "# prints short sessions, to be deleted from dataset folder\n",
    "short_session = training_session_log.loc[(training_session_log['training'] == 'regular') & \n",
    "                                         (training_session_log['num_trials'] < 100)] \n",
    "print(short_session.dir)\n",
    "\n",
    "# prints dates of the same mouse with multiple sessions\n",
    "for d in session_log.date.unique().tolist():\n",
    "    session_of_the_day = session_log.loc[session_log['date'] == d]\n",
    "    for mouse in mouse_list:\n",
    "        count = len(session_of_the_day.loc[session_of_the_day['mouse'] == mouse])\n",
    "        if count > 1:\n",
    "            print(d, mouse)   "
   ]
  },
  {
   "cell_type": "code",
   "execution_count": null,
   "id": "49580dfc",
   "metadata": {},
   "outputs": [],
   "source": [
    "# check for missing sessions by the number of sessions in each training day\n",
    "num_mice = 6\n",
    "date_list = training_session_log.date.unique().tolist()\n",
    "for date in date_list:\n",
    "    data = training_session_log.loc[training_session_log['date'] == date]\n",
    "    if len(data) < num_mice:\n",
    "        print(date)"
   ]
  },
  {
   "cell_type": "code",
   "execution_count": null,
   "id": "0bfa60c2",
   "metadata": {},
   "outputs": [],
   "source": [
    "filename = f'all_sessions.csv'\n",
    "path = os.path.join(data_folder, filename)\n",
    "training_session_log.to_csv(path)"
   ]
  },
  {
   "cell_type": "markdown",
   "id": "a54150ef",
   "metadata": {},
   "source": [
    "## Per session analysis "
   ]
  },
  {
   "cell_type": "code",
   "execution_count": null,
   "id": "6f66c97e",
   "metadata": {},
   "outputs": [],
   "source": [
    "all_trials_column_names = ['trial_num', 'block_num', 'start_time', 'end_time', 'enl_repeats', 'blk_bg_avg', 'blk_type',\n",
    "                           'bg_length', 'reward_size', 'miss_trial', 'time_waited', 'num_consumption_lick']"
   ]
  },
  {
   "cell_type": "code",
   "execution_count": null,
   "id": "0cd77363",
   "metadata": {},
   "outputs": [],
   "source": [
    "%%time\n",
    "# for each session, generates all trials df and saves it in the raw data folder\n",
    "# skips if all trials already exists in folder\n",
    "# original version\n",
    "for dir_name, file_name in zip(training_session_log.dir, training_session_log.filename):\n",
    "    filename = f'{dir_name}_all_trials.csv'\n",
    "    path = os.path.join(data_folder, dir_name, filename)\n",
    "    if os.path.isfile(path):\n",
    "        continue\n",
    "\n",
    "    session = helper.load_session(data_folder, dir_name, file_name)\n",
    "    total_trial_list = helper.generate_total_trial_list(training_session_log, dir_name)\n",
    "    all_trials = helper.generate_all_trials_df(all_trials_column_names, total_trial_list)\n",
    "    for i in total_trial_list:\n",
    "        trial = session.loc[session['session_trial_num'] == i]\n",
    "        trial_data = helper.get_trial_data(trial)\n",
    "        all_trials.loc[all_trials.trial_num == i, all_trials_column_names[1:]] = trial_data\n",
    "        \n",
    "    all_trials.to_csv(path)"
   ]
  },
  {
   "cell_type": "code",
   "execution_count": null,
   "id": "7b8dbada",
   "metadata": {},
   "outputs": [],
   "source": [
    "# %%time\n",
    "# # for each session, generates all trials df and saves it in the raw data folder\n",
    "# # skips if all trials already exists in folder\n",
    "# # debug version\n",
    "# problem_dir = []\n",
    "# problem_trials = []\n",
    "# for dir_name, file_name in zip(training_session_log.dir, training_session_log.filename):\n",
    "#     try:\n",
    "#         filename = f'{dir_name}_all_trials.csv'\n",
    "#         path = os.path.join(data_folder, dir_name, filename)\n",
    "#         # if os.path.isfile(path):\n",
    "#         #     continue\n",
    "\n",
    "#         session = helper.load_session(data_folder, dir_name, file_name)\n",
    "#         total_trial_list = helper.generate_total_trial_list(training_session_log, dir_name)\n",
    "#         all_trials = helper.generate_all_trials_df(all_trials_column_names, total_trial_list)\n",
    "#         for i in total_trial_list:\n",
    "#             trial = session.loc[session['session_trial_num'] == i]\n",
    "#             trial_data = helper.get_trial_data(trial)\n",
    "#             all_trials.loc[all_trials.trial_num == i, all_trials_column_names[1:]] = trial_data\n",
    "#     except:\n",
    "#         problem_dir.append(dir_name)\n",
    "#         problem_trials.append(i)\n",
    "        \n",
    "#     # all_trials.to_csv(path)"
   ]
  },
  {
   "cell_type": "code",
   "execution_count": null,
   "id": "7bd8f1dd",
   "metadata": {},
   "outputs": [],
   "source": [
    "# print(len(training_session_log))\n",
    "# print(len(problem_dir))\n",
    "# for dir, trial in zip(problem_dir, problem_trials):\n",
    "#     print(dir, trial)"
   ]
  },
  {
   "cell_type": "code",
   "execution_count": null,
   "id": "2b6f4089",
   "metadata": {},
   "outputs": [],
   "source": [
    "test = 0\n",
    "dir = problem_dir[test]\n",
    "trial = problem_trials[test]\n",
    "print(dir, trial)\n",
    "filename = training_session_log.loc[training_session_log.dir == dir, 'filename'].iloc[0]\n",
    "session = helper.load_session(data_folder, dir, filename)\n",
    "total_trial_list = helper.generate_total_trial_list(training_session_log, dir)\n",
    "all_trials = helper.generate_all_trials_df(all_trials_column_names, total_trial_list)\n",
    "\n",
    "trial = session.loc[session['session_trial_num'] == trial]\n",
    "trial\n",
    "trial_basics = helper.get_trial_basics(trial)\n",
    "trial_data = helper.get_trial_data(trial)\n",
    "all_trials.loc[all_trials.trial_num == trial, all_trials_column_names[1:]] = trial_data"
   ]
  },
  {
   "cell_type": "markdown",
   "id": "cb1aea50",
   "metadata": {},
   "source": [
    "## adding session info based on per trial performance to master log"
   ]
  },
  {
   "cell_type": "markdown",
   "id": "402431e6",
   "metadata": {},
   "source": [
    "### number of days in training"
   ]
  },
  {
   "cell_type": "code",
   "execution_count": null,
   "id": "64bd348d",
   "metadata": {},
   "outputs": [],
   "source": [
    "for mouse in mouse_list:\n",
    "    total_days = sum(training_session_log.mouse == mouse)\n",
    "    training_session_log.loc[training_session_log.mouse == mouse, 'days'] = list(range(total_days))"
   ]
  },
  {
   "cell_type": "markdown",
   "id": "fa43b237",
   "metadata": {},
   "source": [
    "### engagement of each session\n",
    "miss trials and good trials, and the proportions"
   ]
  },
  {
   "cell_type": "code",
   "execution_count": null,
   "id": "757e0b4e",
   "metadata": {},
   "outputs": [],
   "source": [
    "for dir_name in training_session_log.dir:\n",
    "    all_trials = helper.load_all_trials(data_folder, dir_name)\n",
    "    session_performance = helper.get_session_performance(all_trials)\n",
    "    training_session_log.loc[training_session_log.dir == dir_name, \n",
    "                             ['miss_trials', 'good_trials']] = session_performance"
   ]
  },
  {
   "cell_type": "code",
   "execution_count": null,
   "id": "d184d479",
   "metadata": {},
   "outputs": [],
   "source": [
    "training_session_log['p_miss'] = training_session_log.miss_trials/training_session_log.num_trials\n",
    "training_session_log['p_good'] = training_session_log.good_trials/training_session_log.num_trials\n",
    "training_session_log['p_rest'] = 1 - training_session_log.p_good - training_session_log.p_miss"
   ]
  },
  {
   "cell_type": "code",
   "execution_count": null,
   "id": "3a25fc9c",
   "metadata": {},
   "outputs": [],
   "source": [
    "# plot engagement in session. each mouse has a plot\n",
    "for mouse in mouse_list:\n",
    "    session_mouse = training_session_log.loc[training_session_log.mouse == mouse]\n",
    "    to_plot = session_mouse.loc[:, ['days', 'p_good','p_miss','p_rest']]\n",
    "    fig = plt.figure()\n",
    "    ax = to_plot.plot.bar(x='days', stacked=True, color = colors[0:3])\n",
    "    ax.set_title(mouse)\n",
    "    ax.set_xlabel('Days in Training')\n",
    "    ax.set_ylabel('Normalized Proportion')\n",
    "    ax.legend(loc='upper right', bbox_to_anchor=(1.25, 1))\n",
    "    plt.plot(to_plot.days, to_plot.p_good, color = 'k', linewidth=1.5)\n",
    "    plt.savefig(f'engagement_{mouse}', bbox_inches='tight')"
   ]
  },
  {
   "cell_type": "code",
   "execution_count": null,
   "id": "b31f6250",
   "metadata": {},
   "outputs": [],
   "source": [
    "# plot percent good trials in session. each mouse is a line\n",
    "fig = plt.figure()\n",
    "for i, mouse in enumerate(mouse_list):\n",
    "    session_mouse = training_session_log.loc[training_session_log.mouse == mouse]\n",
    "    plt.plot(session_mouse.days, session_mouse.p_good, color=colors[i], label=mouse)\n",
    "plt.title('Proportion of Good Trials ')\n",
    "plt.xlabel('Days in Training')\n",
    "plt.legend(loc=\"lower right\")\n",
    "plt.xlim([0, 11])\n",
    "plt.ylim([0, 1])\n",
    "fig.savefig('%_good_trials.png', bbox_inches='tight')"
   ]
  },
  {
   "cell_type": "code",
   "execution_count": null,
   "id": "0a8a3f55",
   "metadata": {},
   "outputs": [],
   "source": [
    "# plot percent missed trials in session. each mouse is a line\n",
    "fig = plt.figure()\n",
    "for i, mouse in enumerate(mouse_list):\n",
    "    session_mouse = training_session_log.loc[training_session_log.mouse == mouse]\n",
    "    plt.plot(session_mouse.days, session_mouse.p_miss, color=colors[i], label=mouse)\n",
    "plt.title('Proportion of Missed Trials')\n",
    "plt.xlabel('Days in Training')\n",
    "plt.legend(loc=\"upper right\")\n",
    "# plt.xlim([0, 11])\n",
    "# plt.ylim([0, 0.2])\n",
    "fig.savefig('%_missed_trials.png', bbox_inches='tight')"
   ]
  },
  {
   "attachments": {},
   "cell_type": "markdown",
   "id": "b396743e",
   "metadata": {},
   "source": [
    "### performance of each session\n",
    "reward rate, bg_repeats"
   ]
  },
  {
   "cell_type": "code",
   "execution_count": null,
   "id": "4a912bab",
   "metadata": {},
   "outputs": [],
   "source": [
    "training_session_log['reward_rate'] = training_session_log.rewards/training_session_log.time"
   ]
  },
  {
   "cell_type": "code",
   "execution_count": null,
   "id": "71b55163",
   "metadata": {},
   "outputs": [],
   "source": [
    "# plot the change in reward rate over days. each mouse is a line \n",
    "fig = plt.figure()\n",
    "for i, mouse in enumerate(mouse_list):\n",
    "    session_mouse = training_session_log.loc[training_session_log.mouse == mouse]\n",
    "    plt.plot(session_mouse.days, session_mouse.reward_rate, color=colors[i], label=mouse)\n",
    "\n",
    "plt.xlabel('Days in Training')\n",
    "plt.ylabel('Reward Rate (ul/s)')\n",
    "plt.legend()\n",
    "# plt.xlim([0, 11])\n",
    "# plt.ylim([0, 0.4])\n",
    "fig.savefig('reward_rate.png', bbox_inches='tight')"
   ]
  },
  {
   "cell_type": "code",
   "execution_count": null,
   "id": "c2e48719",
   "metadata": {},
   "outputs": [],
   "source": [
    "for dir_name in training_session_log.dir:\n",
    "    all_trials = helper.load_all_trials(data_folder, dir_name)\n",
    "    session_mistakes = helper.get_session_mistakes(all_trials)\n",
    "    training_session_log.loc[training_session_log.dir == dir_name, \n",
    "                             ['num_enl_repeats_mean', 'num_enl_repeats_median', \n",
    "                              'num_enl_repeats_stdev']] = session_mistakes"
   ]
  },
  {
   "cell_type": "code",
   "execution_count": null,
   "id": "e4b3d656",
   "metadata": {},
   "outputs": [],
   "source": [
    "training_session_log.head()"
   ]
  },
  {
   "cell_type": "code",
   "execution_count": null,
   "id": "86c7cd53",
   "metadata": {},
   "outputs": [],
   "source": [
    "test_all_trials = helper.load_all_trials(data_folder, training_session_log.dir[0])\n",
    "test_all_trials.head()"
   ]
  },
  {
   "cell_type": "code",
   "execution_count": null,
   "id": "51f1c23e",
   "metadata": {},
   "outputs": [],
   "source": [
    "blk_type_list = ['l', 's']\n",
    "def get_session_tw_difference(all_trials):\n",
    "    tw_list = []\n",
    "    for blk_type in blk_type_list: \n",
    "        blk = all_trials.loc[all_trials['blk_type']==blk_type]\n",
    "        tw_list.append(blk.time_waited.mean())\n",
    "        tw_list.append(blk.time_waited.median())\n",
    "        tw_list.append(blk.time_waited.std())\n",
    "    return tw_list"
   ]
  },
  {
   "cell_type": "code",
   "execution_count": null,
   "id": "f4f70c86",
   "metadata": {},
   "outputs": [],
   "source": [
    "# get time wait for long vs short trials\n",
    "training_session_log['tw_l_mean'] = ''\n",
    "training_session_log['tw_l_median'] = ''\n",
    "training_session_log['tw_l_stdev'] = ''\n",
    "training_session_log['tw_s_mean'] = ''\n",
    "training_session_log['tw_s_median'] = ''\n",
    "training_session_log['tw_s_stdev'] = ''\n",
    "\n",
    "for dir_name in training_session_log.dir:\n",
    "    all_trials = helper.load_all_trials(data_folder, dir_name)\n",
    "    tw_diff_blk = get_session_tw_difference(all_trials)\n",
    "    training_session_log.loc[training_session_log.dir == dir_name, \n",
    "                             ['tw_l_mean', 'tw_l_median', 'tw_l_stdev',\n",
    "                              'tw_s_mean', 'tw_s_median','tw_s_stdev']] = tw_diff_blk\n",
    "training_session_log['tw_diff'] = training_session_log.tw_l_mean - training_session_log.tw_s_mean"
   ]
  },
  {
   "cell_type": "code",
   "execution_count": null,
   "id": "3e23fd12",
   "metadata": {},
   "outputs": [],
   "source": [
    "# get time wait for long vs short trials for only good trials \n",
    "training_session_log['tw_l_mean_g'] = ''\n",
    "training_session_log['tw_l_median_g'] = ''\n",
    "training_session_log['tw_l_stdev_g'] = ''\n",
    "training_session_log['tw_s_mean_g'] = ''\n",
    "training_session_log['tw_s_median_g'] = ''\n",
    "training_session_log['tw_s_stdev_g'] = ''\n",
    "\n",
    "for dir_name in training_session_log.dir:\n",
    "    all_trials = helper.load_all_trials(data_folder, dir_name)\n",
    "    good_trials = helper.select_good_trials(all_trials)\n",
    "    tw_diff_blk = get_session_tw_difference(good_trials)\n",
    "    training_session_log.loc[training_session_log.dir == dir_name, \n",
    "                             ['tw_l_mean_g', 'tw_l_median_g', 'tw_l_stdev_g',\n",
    "                              'tw_s_mean_g', 'tw_s_median_g','tw_s_stdev_g']] = tw_diff_blk\n",
    "training_session_log['tw_diff_g'] = training_session_log.tw_l_mean_g - training_session_log.tw_s_mean_g"
   ]
  },
  {
   "cell_type": "code",
   "execution_count": null,
   "id": "9eeb37ce",
   "metadata": {},
   "outputs": [],
   "source": [
    "# plot the change in difference in time waited bewteen long and short blocks over days. \n",
    "fig = plt.figure()\n",
    "for i, mouse in enumerate(mouse_list):\n",
    "    session_mouse = training_session_log.loc[training_session_log.mouse == mouse]\n",
    "    plt.plot(session_mouse.days, session_mouse.tw_diff, color=colors[i], label=mouse)\n",
    "\n",
    "plt.xlabel('Days in Training')\n",
    "plt.ylabel('Difference in Time Waited (s)')\n",
    "plt.legend(loc=\"upper left\")\n",
    "# plt.xlim([0, 11])\n",
    "# plt.ylim([0, 0.4])\n",
    "# fig.savefig('reward_rate.png', bbox_inches='tight')"
   ]
  },
  {
   "cell_type": "code",
   "execution_count": null,
   "id": "9bfa837d",
   "metadata": {},
   "outputs": [],
   "source": [
    "for mouse in mouse_list:\n",
    "    session_mouse = training_session_log.loc[training_session_log.mouse == mouse]\n",
    "    \n",
    "    fig = plt.figure()\n",
    "    plt.errorbar(session_mouse.days, session_mouse.num_bg_repeats_mean, session_mouse.num_bg_repeats_stdev, \n",
    "                 linestyle='None', marker='o', color=colors[0], label='mean')\n",
    "    plt.scatter(session_mouse.days, session_mouse.num_bg_repeats_median, color=colors[1], label='median')\n",
    "    plt.title(mouse)\n",
    "    plt.xlabel('Days in Training')\n",
    "    plt.ylabel('Number of BG Repeats')\n",
    "    plt.legend(loc='upper right')\n",
    "    plt.savefig(f'bg_repeats_{mouse}', bbox_inches='tight')"
   ]
  },
  {
   "cell_type": "code",
   "execution_count": null,
   "id": "3be3be52",
   "metadata": {},
   "outputs": [],
   "source": [
    "# plot percent mean bg repeats in session for all mice. each mouse is a line\n",
    "fig = plt.figure()\n",
    "for i, mouse in enumerate(mouse_list):\n",
    "    session_mouse = training_session_log.loc[training_session_log.mouse == mouse]\n",
    "    plt.plot(session_mouse.days, session_mouse.num_bg_repeats_mean, color=colors[i], label=mouse)\n",
    "plt.xlabel('Days in Training')\n",
    "plt.ylabel('Number of Mean BG Repeats')\n",
    "plt.legend(loc='upper right')\n",
    "plt.savefig(f'bg_repeats_mean', bbox_inches='tight')"
   ]
  },
  {
   "cell_type": "code",
   "execution_count": null,
   "id": "354c4a4f",
   "metadata": {},
   "outputs": [],
   "source": [
    "# plot percent stdev bg repeats in session for all mice. each mouse is a line\n",
    "fig = plt.figure()\n",
    "for i, mouse in enumerate(mouse_list):\n",
    "    session_mouse = training_session_log.loc[training_session_log.mouse == mouse]\n",
    "    plt.plot(session_mouse.days, session_mouse.num_bg_repeats_stdev, color=colors[i], label=mouse)\n",
    "plt.xlabel('Days in Training')\n",
    "plt.ylabel('Stdev of BG Repeats')\n",
    "plt.legend(loc='upper right')\n",
    "plt.savefig(f'bg_repeats_stdev', bbox_inches='tight')"
   ]
  },
  {
   "cell_type": "markdown",
   "id": "89eb0e94",
   "metadata": {},
   "source": [
    "### wait behavior of each session"
   ]
  },
  {
   "cell_type": "code",
   "execution_count": null,
   "id": "1d3d0144",
   "metadata": {},
   "outputs": [],
   "source": [
    "for dir_name in training_session_log.dir:\n",
    "    all_trials = helper.load_all_trials(data_folder, dir_name)\n",
    "    session_time_waited = helper.get_session_time_waited(all_trials)\n",
    "    training_session_log.loc[training_session_log.dir == dir_name, \n",
    "                             ['tw_mean', 'tw_median', 'tw_stdev']] = session_time_waited"
   ]
  },
  {
   "cell_type": "code",
   "execution_count": null,
   "id": "80dcc8d9",
   "metadata": {},
   "outputs": [],
   "source": [
    "# plot time waited across training days for each mouse. one plot per mouse. \n",
    "for mouse in mouse_list:\n",
    "    session_mouse = training_session_log.loc[training_session_log.mouse == mouse]\n",
    "    \n",
    "    fig = plt.figure()\n",
    "    plt.errorbar(session_mouse.days, session_mouse.tw_mean, session_mouse.tw_stdev, \n",
    "                 linestyle='None', marker='o', color=colors[0], label='mean')\n",
    "    plt.scatter(session_mouse.days, session_mouse.tw_median, color=colors[1], label='median')\n",
    "    plt.title(mouse)\n",
    "    plt.xlabel('Days in Training')\n",
    "    plt.ylabel('Time Waited (s)')\n",
    "    plt.legend(loc='upper right')\n",
    "    plt.savefig(f'tw_{mouse}', bbox_inches='tight')"
   ]
  },
  {
   "cell_type": "code",
   "execution_count": null,
   "id": "67200e82",
   "metadata": {},
   "outputs": [],
   "source": [
    "# plot percent mean time waited in session. each mouse is a line.\n",
    "fig = plt.figure()\n",
    "for i, mouse in enumerate(mouse_list):\n",
    "    session_mouse = training_session_log.loc[training_session_log.mouse == mouse]\n",
    "    plt.plot(session_mouse.days, session_mouse.tw_mean, color=colors[i], label=mouse)\n",
    "\n",
    "plt.xlabel('Days in Training')\n",
    "plt.ylabel('Mean Time Waited (s)')\n",
    "plt.legend(loc='upper right')\n",
    "plt.savefig(f'tw', bbox_inches='tight')"
   ]
  },
  {
   "cell_type": "code",
   "execution_count": null,
   "id": "3dcb980e",
   "metadata": {},
   "outputs": [],
   "source": [
    "# time waited for only good trials \n",
    "training_session_log['tw_good_mean'] = ''\n",
    "training_session_log['tw_good_median'] = ''\n",
    "training_session_log['tw_good_stdev'] = ''\n",
    "for dir_name in training_session_log.dir:\n",
    "    all_trials = helper.load_all_trials(data_folder, dir_name)\n",
    "    good_trials = helper.select_good_trials(all_trials)\n",
    "    session_time_waited = helper.get_session_time_waited(good_trials)\n",
    "    training_session_log.loc[training_session_log.dir == dir_name, \n",
    "                             ['tw_good_mean', 'tw_good_median', 'tw_good_stdev']] = session_time_waited"
   ]
  },
  {
   "cell_type": "code",
   "execution_count": null,
   "id": "a426921a",
   "metadata": {},
   "outputs": [],
   "source": [
    "# plot time waited for only good trials in session. one plot per mouse\n",
    "for mouse in mouse_list:\n",
    "    session_mouse = training_session_log.loc[training_session_log.mouse == mouse]\n",
    "    \n",
    "    fig = plt.figure()\n",
    "    plt.errorbar(session_mouse.days, session_mouse.tw_good_mean, session_mouse.tw_good_stdev, \n",
    "                 linestyle='None', marker='o', color=colors[0], label='mean')\n",
    "    plt.scatter(session_mouse.days, session_mouse.tw_good_median, color=colors[1], label='median')\n",
    "    plt.title(mouse)\n",
    "    plt.xlabel('Days in Training')\n",
    "    plt.ylabel('Time Waited (s)')\n",
    "    plt.legend(loc='upper right')\n",
    "    plt.savefig(f'tw_good_{mouse}', bbox_inches='tight')"
   ]
  },
  {
   "cell_type": "code",
   "execution_count": null,
   "id": "36d37451",
   "metadata": {},
   "outputs": [],
   "source": [
    "# plot time waited for only good trials in session. each mouse is a line\n",
    "fig = plt.figure()\n",
    "for i, mouse in enumerate(mouse_list):\n",
    "    session_mouse = training_session_log.loc[training_session_log.mouse == mouse]\n",
    "    plt.plot(session_mouse.days, session_mouse.tw_good_mean, color=colors[i], label=mouse)\n",
    "\n",
    "plt.xlabel('Days in Training')\n",
    "plt.ylabel('Mean Time Waited (s)')\n",
    "plt.legend(loc='upper right')\n",
    "plt.savefig(f'tw_good', bbox_inches='tight')"
   ]
  },
  {
   "cell_type": "code",
   "execution_count": null,
   "id": "bae03737",
   "metadata": {},
   "outputs": [],
   "source": [
    "# plots all trials of time bg vs time wait of each session\n",
    "for dir_name in training_session_log.dir:\n",
    "    all_trials = load_all_trials(data_folder, dir_name)\n",
    "    fig = plt.figure()\n",
    "    plt.scatter(all_trials.bg_length, all_trials.time_waited, color=colors[0])\n",
    "    days_trained = training_session_log.loc[training_session_log.dir == dir_name, 'days'].tolist()[0]\n",
    "    plt.title (f'Day {days_trained}')\n",
    "    plt.xlabel('Time in Background (s)')\n",
    "    plt.ylabel('Time Waited (s)')\n",
    "    plt.savefig(f'tw_scatter_{dir_name}', bbox_inches='tight')"
   ]
  },
  {
   "cell_type": "code",
   "execution_count": null,
   "id": "427d2fd6",
   "metadata": {},
   "outputs": [],
   "source": [
    "# plots only good trials of time bg vs time wait of each session\n",
    "for dir_name in training_session_log.dir:\n",
    "    all_trials = load_all_trials(data_folder, dir_name)\n",
    "    good_trials = select_good_trials(all_trials)\n",
    "    fig = plt.figure()\n",
    "    plt.scatter(good_trials.bg_length, good_trials.time_waited, color=colors[0])\n",
    "    days_trained = training_session_log.loc[training_session_log.dir == dir_name, 'days'].tolist()[0]\n",
    "    plt.title (f'Day {days_trained}')\n",
    "    plt.xlabel('Time in Background (s)')\n",
    "    plt.ylabel('Time Waited (s)')\n",
    "    plt.savefig(f'tw_good_scatter_{dir_name}', bbox_inches='tight')"
   ]
  },
  {
   "cell_type": "code",
   "execution_count": null,
   "id": "9a118b89",
   "metadata": {},
   "outputs": [],
   "source": [
    "# plots all trials of trial number vs time wait of each session\n",
    "for dir_name in training_session_log.dir:\n",
    "    all_trials = load_all_trials(data_folder, dir_name)\n",
    "    fig = plt.figure()\n",
    "    plt.scatter(all_trials.trial_num, all_trials.time_waited, color=colors[0])\n",
    "    days_trained = training_session_log.loc[training_session_log.dir == dir_name, 'days'].tolist()[0]\n",
    "    plt.title (f'Day {int(days_trained)}')\n",
    "    plt.xlabel('Trial Number')\n",
    "    plt.ylabel('Time Waited (s)')\n",
    "    plt.savefig(f'tw_by_trial_{dir_name}', bbox_inches='tight')"
   ]
  },
  {
   "cell_type": "code",
   "execution_count": null,
   "id": "fe87708c",
   "metadata": {},
   "outputs": [],
   "source": [
    "# plots all trials of trial number vs time wait of each session\n",
    "for dir_name in training_session_log.dir:\n",
    "    all_trials = load_all_trials(data_folder, dir_name)\n",
    "    good_trials = select_good_trials(all_trials)\n",
    "    fig = plt.figure()\n",
    "    plt.scatter(good_trials.trial_num, good_trials.time_waited, color=colors[0])\n",
    "    days_trained = training_session_log.loc[training_session_log.dir == dir_name, 'days'].tolist()[0]\n",
    "    plt.title (f'Day {int(days_trained)}')\n",
    "    plt.xlabel('Trial Number')\n",
    "    plt.ylabel('Time Waited (s)')\n",
    "    plt.savefig(f'tw_by_trial_good_{dir_name}', bbox_inches='tight')"
   ]
  },
  {
   "cell_type": "code",
   "execution_count": null,
   "id": "6e022957",
   "metadata": {},
   "outputs": [],
   "source": [
    "# sns.scatterplot(x=\"bg_length\",\n",
    "#                     y=\"time_waited\",\n",
    "#                     hue=\"block_num\",\n",
    "#                     data=example_all_trials)"
   ]
  },
  {
   "cell_type": "code",
   "execution_count": null,
   "id": "8215f3df",
   "metadata": {},
   "outputs": [],
   "source": [
    "# example_good_trials = select_good_trials(all_trials)\n",
    "# sns.scatterplot(x=\"bg_length\",\n",
    "#                     y=\"time_waited\",\n",
    "#                     hue=\"block_num\",\n",
    "#                     data=example_good_trials)"
   ]
  },
  {
   "cell_type": "markdown",
   "id": "77e785ec",
   "metadata": {},
   "source": [
    "### saves the master log with analyzed info"
   ]
  },
  {
   "cell_type": "code",
   "execution_count": null,
   "id": "e39d9887",
   "metadata": {},
   "outputs": [],
   "source": [
    "# save master log with analyzed data\n",
    "filename = 'all_sessions.csv'\n",
    "path = os.path.join(cohort_folder, filename)\n",
    "training_session_log.to_csv(path)"
   ]
  },
  {
   "cell_type": "markdown",
   "id": "e008390e",
   "metadata": {},
   "source": [
    "## block based analysis"
   ]
  },
  {
   "cell_type": "code",
   "execution_count": null,
   "id": "5c4d2a1d",
   "metadata": {},
   "outputs": [],
   "source": [
    "# makes a list of 0 to total block number, used to loop in the session\n",
    "def generate_total_block_list(session_log, dir_name):\n",
    "    current_session = session_log.loc[session_log.dir == dir_name]\n",
    "    total_block_list = range(int(current_session.num_blocks.tolist()[0]) + 1)\n",
    "    return total_block_list"
   ]
  },
  {
   "cell_type": "code",
   "execution_count": null,
   "id": "8006954c",
   "metadata": {},
   "outputs": [],
   "source": [
    "# makes an empty df with each row being a block, and each column with block info\n",
    "# block number is added to the df\n",
    "all_blocks_column_names = ['block_num', 'num_trials', 'blk_bg_avg', 'block_type', 'bg_repeats_avg', \n",
    "                           'bg_length_avg', 'reward_size_avg', 'num_miss_trial', 'time_waited_avg', \n",
    "                           'num_consumption_lick_avg']\n",
    "\n",
    "def generate_all_blocks_df(column_names, total_block_list):\n",
    "    all_blocks = pd.DataFrame(columns=column_names)\n",
    "    all_blocks['block_num'] = total_block_list\n",
    "    return all_blocks"
   ]
  },
  {
   "cell_type": "code",
   "execution_count": null,
   "id": "e5fe36e7",
   "metadata": {},
   "outputs": [],
   "source": [
    "# gets block data\n",
    "# takes raw data of each block as input\n",
    "def get_block_data(block):\n",
    "    num_trials = len(block)\n",
    "    blk_bg_avg = block.blk_bg_avg.mean()\n",
    "    if blk_bg_avg < 2:\n",
    "        block_type = 's'\n",
    "    elif blk_bg_avg > 2:\n",
    "        block_type = 'l'\n",
    "    else:\n",
    "        print(blk_bg_avg)\n",
    "    \n",
    "    bg_repeats = block.bg_repeats.mean()\n",
    "    bg_length = block.bg_length.mean()\n",
    "    reward_size = block.reward_size.mean()\n",
    "    miss_trial = block.miss_trial.sum()\n",
    "    time_waited = block.time_waited.mean()\n",
    "    num_cons_lick = block.num_consumption_lick.mean()\n",
    "    \n",
    "    return [num_trials, blk_bg_avg, block_type, bg_repeats, bg_length, \n",
    "            reward_size, miss_trial, time_waited, num_cons_lick]"
   ]
  },
  {
   "cell_type": "code",
   "execution_count": null,
   "id": "cc84d377",
   "metadata": {},
   "outputs": [],
   "source": [
    "%%time\n",
    "# for each session, generates all blocks df and saves it in the raw data folder\n",
    "# skips if all_blocks.csv already exists in folder\n",
    "for dir_name in training_session_log.dir:\n",
    "    filename = f'{dir_name}_all_blocks.csv'\n",
    "    path = os.path.join(data_folder, dir_name, filename)\n",
    "    if os.path.isfile(path):\n",
    "        continue\n",
    "    \n",
    "    all_trials = load_all_trials(data_folder, dir_name)\n",
    "    total_block_list = generate_total_block_list(training_session_log, dir_name)\n",
    "    all_blocks = generate_all_blocks_df(all_blocks_column_names, total_block_list)\n",
    "    for i in total_block_list:\n",
    "        block = all_trials.loc[all_trials['block_num'] == i]\n",
    "        block_data = get_block_data(block)\n",
    "        all_blocks.loc[all_blocks.block_num == i, all_blocks_column_names[1:]] = block_data\n",
    "        \n",
    "    all_blocks.to_csv(path)"
   ]
  },
  {
   "cell_type": "code",
   "execution_count": null,
   "id": "1206a296",
   "metadata": {},
   "outputs": [],
   "source": [
    "%%time\n",
    "# for each session, generates all blocks df and saves it in the raw data folder\n",
    "# skips if all_blocks_good_trials.csv already exists in folder\n",
    "for dir_name in training_session_log.dir:\n",
    "    filename = f'{dir_name}_all_blocks_good_trials.csv'\n",
    "    path = os.path.join(data_folder, dir_name, filename)\n",
    "    if os.path.isfile(path):\n",
    "        continue\n",
    "    \n",
    "    all_trials = load_all_trials(data_folder, dir_name)\n",
    "    good_trials = select_good_trials(all_trials) \n",
    "    total_block_list = generate_total_block_list(training_session_log, dir_name)\n",
    "    all_blocks = generate_all_blocks_df(all_blocks_column_names, total_block_list)\n",
    "    for i in total_block_list:\n",
    "        block = good_trials.loc[good_trials['block_num'] == i]\n",
    "        if len(block) == 0:\n",
    "            continue\n",
    "        else:\n",
    "            block_data = get_block_data(block)\n",
    "        all_blocks.loc[all_blocks.block_num == i, all_blocks_column_names[1:]] = block_data\n",
    "        \n",
    "    all_blocks.to_csv(path)"
   ]
  },
  {
   "cell_type": "code",
   "execution_count": null,
   "id": "c3164735",
   "metadata": {},
   "outputs": [],
   "source": [
    "# can be combined with load_all_trials, should change to read csv\n",
    "def load_all_blocks(data_folder, dir_name):\n",
    "    filename = f'{dir_name}_all_blocks.csv'\n",
    "    path = os.path.join(data_folder, dir_name, filename)\n",
    "    all_blocks_df = pd.read_csv(path, index_col=0)\n",
    "    return all_blocks_df"
   ]
  },
  {
   "cell_type": "code",
   "execution_count": null,
   "id": "32cde3a1",
   "metadata": {},
   "outputs": [],
   "source": [
    "# plots all blocks of trial number vs time wait of each session\n",
    "for dir_name in training_session_log.dir:\n",
    "    all_blocks = load_all_blocks(data_folder, dir_name)\n",
    "    good_trials = select_good_trials(all_trials)\n",
    "    fig = plt.figure()\n",
    "    plt.scatter(good_trials.trial_num, good_trials.time_waited, color=colors[0])\n",
    "    days_trained = training_session_log.loc[training_session_log.dir == dir_name, 'days'].tolist()[0]\n",
    "    plt.title (f'Day {int(days_trained)}')\n",
    "    plt.xlabel('Trial Number')\n",
    "    plt.ylabel('Time Waited (s)')\n",
    "    plt.savefig(f'tw_by_trial_good_{dir_name}', bbox_inches='tight')"
   ]
  },
  {
   "cell_type": "markdown",
   "id": "f1708b2a",
   "metadata": {},
   "source": [
    "## lick analysis across sessions"
   ]
  },
  {
   "cell_type": "code",
   "execution_count": null,
   "id": "181e8d43",
   "metadata": {},
   "outputs": [],
   "source": [
    "lick_start = session.loc[(session['key'] == 'lick') & (session['value'] == 1)]\n",
    "lick_start_times = lick_start['session_time'].tolist()\n",
    "lick_end = session.loc[(session['key'] == 'lick') & (session['value'] == 0)]\n",
    "lick_end_times = lick_end['session_time'].tolist()\n",
    "lick_times = [end - start for end, start in zip(lick_end_times, lick_start_times)]\n",
    "lick_time_min = min(lick_times)\n",
    "lick_time_max = max(lick_times)\n",
    "lick_time_med = statistics.median(lick_times)\n",
    "lick_time_avg = statistics.mean(lick_times)\n",
    "lick_time_std = statistics.stdev(lick_times)"
   ]
  },
  {
   "cell_type": "code",
   "execution_count": null,
   "id": "1384d51d",
   "metadata": {},
   "outputs": [],
   "source": [
    "for dir_name, file_name in zip(training_session_log.dir, training_session_log.filename):\n",
    "    session = load_session(data_folder, dir_name, file_name)"
   ]
  },
  {
   "cell_type": "markdown",
   "id": "71c71e4d",
   "metadata": {},
   "source": [
    "## Furture implementation"
   ]
  },
  {
   "cell_type": "code",
   "execution_count": null,
   "id": "9230d849",
   "metadata": {},
   "outputs": [],
   "source": [
    "# delete short sessions. doesnt work right now because of permission issue\n",
    "short_session = session_log.loc[(session_log['training'] == 'regular') & (session_log['total_trials'] < 100)] \n",
    "print(short_session)\n",
    "# for dir_name in short_session.dir:\n",
    "#     path = os.path.join(data_folder, dir_name)\n",
    "#     os.remove(path)"
   ]
  },
  {
   "cell_type": "code",
   "execution_count": null,
   "id": "102eb905",
   "metadata": {},
   "outputs": [],
   "source": [
    "# print out sessions with the same mouse running more than once\n",
    "mouse_list = session_log.mouse.unique().tolist()\n",
    "print(mouse_list)\n",
    "for d in session_log.date.unique().tolist():\n",
    "    session_of_the_day = session_log.loc[session_log['date'] == d]\n",
    "    for mouse in mouse_list:\n",
    "        count = len(session_of_the_day.loc[session_of_the_day['mouse'] == mouse])\n",
    "        if count > 1:\n",
    "            print(d, mouse)   "
   ]
  },
  {
   "cell_type": "code",
   "execution_count": null,
   "id": "64fb8488",
   "metadata": {},
   "outputs": [],
   "source": [
    "# search for background in key\n",
    "for dir_name, file_name in zip(session_log.dir, session_log.filename):\n",
    "    session = load_session(data_folder, dir_name, file_name)\n",
    "    keys = session['key'].unique().tolist()\n",
    "    if \"background\" not in keys:\n",
    "        print(dir_name)"
   ]
  }
 ],
 "metadata": {
  "kernelspec": {
   "display_name": "LUCKYCHARM",
   "language": "python",
   "name": "luckycharm"
  },
  "language_info": {
   "codemirror_mode": {
    "name": "ipython",
    "version": 3
   },
   "file_extension": ".py",
   "mimetype": "text/x-python",
   "name": "python",
   "nbconvert_exporter": "python",
   "pygments_lexer": "ipython3",
   "version": "3.10.6"
  }
 },
 "nbformat": 4,
 "nbformat_minor": 5
}
