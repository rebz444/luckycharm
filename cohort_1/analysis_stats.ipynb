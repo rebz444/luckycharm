{
 "cells": [
  {
   "cell_type": "code",
   "execution_count": 1,
   "metadata": {},
   "outputs": [],
   "source": [
    "import os\n",
    "\n",
    "import analysis_utils as utils\n",
    "\n",
    "import pandas as pd\n",
    "from scipy.stats import ttest_ind"
   ]
  },
  {
   "cell_type": "code",
   "execution_count": 2,
   "metadata": {},
   "outputs": [
    {
     "name": "stdout",
     "output_type": "stream",
     "text": [
      "/Users/rebekahzhang/Documents/shuler_lab/behavior_data/cohort_1/full_clean\n"
     ]
    }
   ],
   "source": [
    "cohort = 'cohort_1'\n",
    "to_analyze = 'full_clean'\n",
    "data_dir = '/Users/rebekahzhang/Documents/shuler_lab/behavior_data'\n",
    "data_folder = os.path.join(data_dir, cohort, to_analyze)\n",
    "print(data_folder)"
   ]
  },
  {
   "cell_type": "markdown",
   "metadata": {},
   "source": [
    "### load session log and make mouse list"
   ]
  },
  {
   "cell_type": "code",
   "execution_count": 3,
   "metadata": {},
   "outputs": [],
   "source": [
    "training_session_log = utils.load_session_log(data_folder, 'training_sessions.csv')"
   ]
  },
  {
   "cell_type": "code",
   "execution_count": 4,
   "metadata": {},
   "outputs": [
    {
     "name": "stdout",
     "output_type": "stream",
     "text": [
      "['RZ008', 'RZ009', 'RZ010', 'RZ011']\n"
     ]
    }
   ],
   "source": [
    "mouse_list = utils.generate_mouse_list(training_session_log)"
   ]
  },
  {
   "cell_type": "markdown",
   "metadata": {},
   "source": [
    "### Check if boys and girls are significantly different "
   ]
  },
  {
   "cell_type": "markdown",
   "metadata": {},
   "source": [
    "boys =  ['RZ008', 'RZ009']\n",
    "girls = ['RZ010', 'RZ011']"
   ]
  },
  {
   "cell_type": "code",
   "execution_count": null,
   "metadata": {},
   "outputs": [],
   "source": [
    "boy = wait_df[wait_df['mouse'].isin(boys)]\n",
    "girl = wait_df[wait_df['mouse'].isin(girls)]\n",
    "\n",
    "ttest_ind(boy['tw_mean_g'], girl['tw_mean_g'])"
   ]
  }
 ],
 "metadata": {
  "kernelspec": {
   "display_name": "LUCKYCHARM",
   "language": "python",
   "name": "luckycharm"
  },
  "language_info": {
   "codemirror_mode": {
    "name": "ipython",
    "version": 3
   },
   "file_extension": ".py",
   "mimetype": "text/x-python",
   "name": "python",
   "nbconvert_exporter": "python",
   "pygments_lexer": "ipython3",
   "version": "3.10.6"
  },
  "orig_nbformat": 4
 },
 "nbformat": 4,
 "nbformat_minor": 2
}
