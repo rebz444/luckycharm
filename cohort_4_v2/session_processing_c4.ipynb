{
 "cells": [
  {
   "cell_type": "code",
   "execution_count": 30,
   "metadata": {},
   "outputs": [],
   "source": [
    "import os\n",
    "import json\n",
    "\n",
    "import session_processing_helper as helper\n",
    "import utils_c4 as utils\n",
    "\n",
    "import pandas as pd\n",
    "import statistics"
   ]
  },
  {
   "cell_type": "code",
   "execution_count": 75,
   "metadata": {},
   "outputs": [
    {
     "name": "stdout",
     "output_type": "stream",
     "text": [
      "/Users/rebekahzhang/Documents/shuler_lab/behavior_data/cohort_4_v2/full_clean\n"
     ]
    }
   ],
   "source": [
    "cohort = 'cohort_4_v2'\n",
    "to_analyze = 'full_clean'\n",
    "data_dir = '/Users/rebekahzhang/Documents/shuler_lab/behavior_data'\n",
    "data_folder = os.path.join(data_dir, cohort, to_analyze)\n",
    "print(data_folder)"
   ]
  },
  {
   "cell_type": "code",
   "execution_count": 76,
   "metadata": {},
   "outputs": [],
   "source": [
    "mouse_dict = {'s': ['RZ026', 'RZ027', 'RZ030', 'RZ031'],\n",
    "                  'l': ['RZ028', 'RZ029', 'RZ032', 'RZ033']}\n",
    "mouse_list = [mouse for group in list(mouse_dict.values()) for mouse in group]"
   ]
  },
  {
   "attachments": {},
   "cell_type": "markdown",
   "metadata": {},
   "source": [
    "# Generate all session logs"
   ]
  },
  {
   "attachments": {},
   "cell_type": "markdown",
   "metadata": {},
   "source": [
    "generate session log using meta data from each session and add columns of basic info to each session"
   ]
  },
  {
   "cell_type": "code",
   "execution_count": 77,
   "metadata": {},
   "outputs": [],
   "source": [
    "def generate_sessions_all(data_folder):\n",
    "    sessions_all = pd.DataFrame()\n",
    "    for root, _, files in os.walk(data_folder):\n",
    "        for file in files:\n",
    "            if file.startswith(\"meta_\") and file.endswith(\".json\"):\n",
    "                path = os.path.join(root, file)\n",
    "                with open(path) as f:\n",
    "                    session_data = json.load(f)\n",
    "                session_meta = pd.DataFrame([session_data])  # Wrap in a list to create a single-row DataFrame\n",
    "                sessions_all = pd.concat([sessions_all, session_meta], ignore_index=True)\n",
    "    \n",
    "    if not sessions_all.empty:\n",
    "        sessions_all['date'] = pd.to_datetime(sessions_all['date'])\n",
    "        sessions_all['dir'] = sessions_all['date'].dt.strftime('%Y-%m-%d') + '_' + sessions_all['time'] + '_' + sessions_all['mouse']\n",
    "        sessions_all['exp'] = sessions_all['exp'].replace({'exp1_short': 's', 'exp1_long': 'l'})\n",
    "    \n",
    "    return sessions_all"
   ]
  },
  {
   "cell_type": "code",
   "execution_count": 92,
   "metadata": {},
   "outputs": [],
   "source": [
    "sessions_all = generate_sessions_all(data_folder)"
   ]
  },
  {
   "cell_type": "code",
   "execution_count": 84,
   "metadata": {},
   "outputs": [
    {
     "data": {
      "text/html": [
       "<div>\n",
       "<style scoped>\n",
       "    .dataframe tbody tr th:only-of-type {\n",
       "        vertical-align: middle;\n",
       "    }\n",
       "\n",
       "    .dataframe tbody tr th {\n",
       "        vertical-align: top;\n",
       "    }\n",
       "\n",
       "    .dataframe thead th {\n",
       "        text-align: right;\n",
       "    }\n",
       "</style>\n",
       "<table border=\"1\" class=\"dataframe\">\n",
       "  <thead>\n",
       "    <tr style=\"text-align: right;\">\n",
       "      <th></th>\n",
       "      <th>mouse</th>\n",
       "      <th>date</th>\n",
       "      <th>time</th>\n",
       "      <th>exp</th>\n",
       "      <th>training</th>\n",
       "      <th>rig</th>\n",
       "      <th>pump_ul_per_turn</th>\n",
       "      <th>total_trial</th>\n",
       "      <th>total_reward</th>\n",
       "      <th>avg_tw</th>\n",
       "      <th>dir</th>\n",
       "    </tr>\n",
       "  </thead>\n",
       "  <tbody>\n",
       "    <tr>\n",
       "      <th>0</th>\n",
       "      <td>RZ033</td>\n",
       "      <td>2023-12-18</td>\n",
       "      <td>13-54-44</td>\n",
       "      <td>l</td>\n",
       "      <td>regular</td>\n",
       "      <td>rig3</td>\n",
       "      <td>0.059</td>\n",
       "      <td>171</td>\n",
       "      <td>369.5</td>\n",
       "      <td>2.44</td>\n",
       "      <td>2023-12-18_13-54-44_RZ033</td>\n",
       "    </tr>\n",
       "    <tr>\n",
       "      <th>1</th>\n",
       "      <td>RZ027</td>\n",
       "      <td>2023-12-15</td>\n",
       "      <td>11-27-18</td>\n",
       "      <td>s</td>\n",
       "      <td>regular</td>\n",
       "      <td>rig3</td>\n",
       "      <td>0.059</td>\n",
       "      <td>266</td>\n",
       "      <td>868.3</td>\n",
       "      <td>4.03</td>\n",
       "      <td>2023-12-15_11-27-18_RZ027</td>\n",
       "    </tr>\n",
       "    <tr>\n",
       "      <th>2</th>\n",
       "      <td>RZ030</td>\n",
       "      <td>2023-12-17</td>\n",
       "      <td>17-09-56</td>\n",
       "      <td>s</td>\n",
       "      <td>regular</td>\n",
       "      <td>rig2</td>\n",
       "      <td>0.066</td>\n",
       "      <td>23</td>\n",
       "      <td>37.8</td>\n",
       "      <td>4.00</td>\n",
       "      <td>2023-12-17_17-09-56_RZ030</td>\n",
       "    </tr>\n",
       "    <tr>\n",
       "      <th>3</th>\n",
       "      <td>RZ033</td>\n",
       "      <td>2023-12-19</td>\n",
       "      <td>12-53-14</td>\n",
       "      <td>l</td>\n",
       "      <td>regular</td>\n",
       "      <td>rig3</td>\n",
       "      <td>0.059</td>\n",
       "      <td>220</td>\n",
       "      <td>315.0</td>\n",
       "      <td>1.79</td>\n",
       "      <td>2023-12-19_12-53-14_RZ033</td>\n",
       "    </tr>\n",
       "    <tr>\n",
       "      <th>4</th>\n",
       "      <td>RZ031</td>\n",
       "      <td>2023-12-19</td>\n",
       "      <td>12-10-22</td>\n",
       "      <td>s</td>\n",
       "      <td>regular</td>\n",
       "      <td>rig3</td>\n",
       "      <td>0.059</td>\n",
       "      <td>451</td>\n",
       "      <td>272.1</td>\n",
       "      <td>1.31</td>\n",
       "      <td>2023-12-19_12-10-22_RZ031</td>\n",
       "    </tr>\n",
       "  </tbody>\n",
       "</table>\n",
       "</div>"
      ],
      "text/plain": [
       "   mouse       date      time exp training   rig  pump_ul_per_turn  \\\n",
       "0  RZ033 2023-12-18  13-54-44   l  regular  rig3             0.059   \n",
       "1  RZ027 2023-12-15  11-27-18   s  regular  rig3             0.059   \n",
       "2  RZ030 2023-12-17  17-09-56   s  regular  rig2             0.066   \n",
       "3  RZ033 2023-12-19  12-53-14   l  regular  rig3             0.059   \n",
       "4  RZ031 2023-12-19  12-10-22   s  regular  rig3             0.059   \n",
       "\n",
       "   total_trial  total_reward  avg_tw                        dir  \n",
       "0          171         369.5    2.44  2023-12-18_13-54-44_RZ033  \n",
       "1          266         868.3    4.03  2023-12-15_11-27-18_RZ027  \n",
       "2           23          37.8    4.00  2023-12-17_17-09-56_RZ030  \n",
       "3          220         315.0    1.79  2023-12-19_12-53-14_RZ033  \n",
       "4          451         272.1    1.31  2023-12-19_12-10-22_RZ031  "
      ]
     },
     "execution_count": 84,
     "metadata": {},
     "output_type": "execute_result"
    }
   ],
   "source": [
    "sessions_all.head()"
   ]
  },
  {
   "cell_type": "code",
   "execution_count": 93,
   "metadata": {},
   "outputs": [],
   "source": [
    "session_basics_list = []\n",
    "for _, session_info in sessions_all.iterrows():\n",
    "    try:\n",
    "        session = pd.read_csv(utils.generate_events_path(data_folder, session_info))\n",
    "        session_basics = {'dir': session_info.dir} | helper.get_session_basics(session)\n",
    "        session_basics_list.append(session_basics)\n",
    "    except:\n",
    "        print(session_info.dir)\n",
    "session_basics_df = pd.DataFrame(session_basics_list)\n",
    "sessions_all = pd.merge(sessions_all, session_basics_df, on='dir')"
   ]
  },
  {
   "attachments": {},
   "cell_type": "markdown",
   "metadata": {},
   "source": [
    "focus only on regular training sessions"
   ]
  },
  {
   "cell_type": "code",
   "execution_count": 94,
   "metadata": {},
   "outputs": [],
   "source": [
    "sessions_training = sessions_all.loc[sessions_all.training == 'regular'].sort_values('dir').reset_index()"
   ]
  },
  {
   "attachments": {},
   "cell_type": "markdown",
   "metadata": {},
   "source": [
    "## Examine quality of sessions\n",
    "doesn't need to run when data folder is cleaned"
   ]
  },
  {
   "attachments": {},
   "cell_type": "markdown",
   "metadata": {},
   "source": [
    "### Check for short sessions"
   ]
  },
  {
   "cell_type": "code",
   "execution_count": 95,
   "metadata": {},
   "outputs": [
    {
     "data": {
      "text/html": [
       "<div>\n",
       "<style scoped>\n",
       "    .dataframe tbody tr th:only-of-type {\n",
       "        vertical-align: middle;\n",
       "    }\n",
       "\n",
       "    .dataframe tbody tr th {\n",
       "        vertical-align: top;\n",
       "    }\n",
       "\n",
       "    .dataframe thead th {\n",
       "        text-align: right;\n",
       "    }\n",
       "</style>\n",
       "<table border=\"1\" class=\"dataframe\">\n",
       "  <thead>\n",
       "    <tr style=\"text-align: right;\">\n",
       "      <th></th>\n",
       "      <th>index</th>\n",
       "      <th>mouse</th>\n",
       "      <th>date</th>\n",
       "      <th>time</th>\n",
       "      <th>exp</th>\n",
       "      <th>training</th>\n",
       "      <th>rig</th>\n",
       "      <th>pump_ul_per_turn</th>\n",
       "      <th>total_trial</th>\n",
       "      <th>total_reward</th>\n",
       "      <th>avg_tw</th>\n",
       "      <th>dir</th>\n",
       "      <th>num_blocks</th>\n",
       "      <th>num_trials</th>\n",
       "      <th>rewards</th>\n",
       "      <th>session_time</th>\n",
       "      <th>proper_end</th>\n",
       "    </tr>\n",
       "  </thead>\n",
       "  <tbody>\n",
       "    <tr>\n",
       "      <th>28</th>\n",
       "      <td>2</td>\n",
       "      <td>RZ030</td>\n",
       "      <td>2023-12-17</td>\n",
       "      <td>17-09-56</td>\n",
       "      <td>s</td>\n",
       "      <td>regular</td>\n",
       "      <td>rig2</td>\n",
       "      <td>0.066</td>\n",
       "      <td>23</td>\n",
       "      <td>37.8</td>\n",
       "      <td>4.00</td>\n",
       "      <td>2023-12-17_17-09-56_RZ030</td>\n",
       "      <td>1.0</td>\n",
       "      <td>24.0</td>\n",
       "      <td>37.8</td>\n",
       "      <td>239.64</td>\n",
       "      <td>True</td>\n",
       "    </tr>\n",
       "    <tr>\n",
       "      <th>30</th>\n",
       "      <td>41</td>\n",
       "      <td>RZ032</td>\n",
       "      <td>2023-12-17</td>\n",
       "      <td>17-23-19</td>\n",
       "      <td>l</td>\n",
       "      <td>regular</td>\n",
       "      <td>rig3</td>\n",
       "      <td>0.059</td>\n",
       "      <td>35</td>\n",
       "      <td>68.7</td>\n",
       "      <td>3.88</td>\n",
       "      <td>2023-12-17_17-23-19_RZ032</td>\n",
       "      <td>1.0</td>\n",
       "      <td>36.0</td>\n",
       "      <td>68.7</td>\n",
       "      <td>535.16</td>\n",
       "      <td>True</td>\n",
       "    </tr>\n",
       "    <tr>\n",
       "      <th>31</th>\n",
       "      <td>16</td>\n",
       "      <td>RZ033</td>\n",
       "      <td>2023-12-17</td>\n",
       "      <td>17-37-24</td>\n",
       "      <td>l</td>\n",
       "      <td>regular</td>\n",
       "      <td>rig3</td>\n",
       "      <td>0.059</td>\n",
       "      <td>28</td>\n",
       "      <td>39.7</td>\n",
       "      <td>3.04</td>\n",
       "      <td>2023-12-17_17-37-24_RZ033</td>\n",
       "      <td>1.0</td>\n",
       "      <td>29.0</td>\n",
       "      <td>39.7</td>\n",
       "      <td>421.21</td>\n",
       "      <td>True</td>\n",
       "    </tr>\n",
       "    <tr>\n",
       "      <th>36</th>\n",
       "      <td>24</td>\n",
       "      <td>RZ030</td>\n",
       "      <td>2023-12-18</td>\n",
       "      <td>13-21-02</td>\n",
       "      <td>s</td>\n",
       "      <td>regular</td>\n",
       "      <td>rig2</td>\n",
       "      <td>0.066</td>\n",
       "      <td>28</td>\n",
       "      <td>79.1</td>\n",
       "      <td>4.11</td>\n",
       "      <td>2023-12-18_13-21-02_RZ030</td>\n",
       "      <td>1.0</td>\n",
       "      <td>29.0</td>\n",
       "      <td>79.1</td>\n",
       "      <td>269.42</td>\n",
       "      <td>True</td>\n",
       "    </tr>\n",
       "  </tbody>\n",
       "</table>\n",
       "</div>"
      ],
      "text/plain": [
       "    index  mouse       date      time exp training   rig  pump_ul_per_turn  \\\n",
       "28      2  RZ030 2023-12-17  17-09-56   s  regular  rig2             0.066   \n",
       "30     41  RZ032 2023-12-17  17-23-19   l  regular  rig3             0.059   \n",
       "31     16  RZ033 2023-12-17  17-37-24   l  regular  rig3             0.059   \n",
       "36     24  RZ030 2023-12-18  13-21-02   s  regular  rig2             0.066   \n",
       "\n",
       "    total_trial  total_reward  avg_tw                        dir  num_blocks  \\\n",
       "28           23          37.8    4.00  2023-12-17_17-09-56_RZ030         1.0   \n",
       "30           35          68.7    3.88  2023-12-17_17-23-19_RZ032         1.0   \n",
       "31           28          39.7    3.04  2023-12-17_17-37-24_RZ033         1.0   \n",
       "36           28          79.1    4.11  2023-12-18_13-21-02_RZ030         1.0   \n",
       "\n",
       "    num_trials  rewards  session_time  proper_end  \n",
       "28        24.0     37.8        239.64        True  \n",
       "30        36.0     68.7        535.16        True  \n",
       "31        29.0     39.7        421.21        True  \n",
       "36        29.0     79.1        269.42        True  "
      ]
     },
     "metadata": {},
     "output_type": "display_data"
    }
   ],
   "source": [
    "short_session = sessions_training.loc[sessions_training['num_trials'] < 50] \n",
    "if len(short_session)>0:\n",
    "    display(short_session)\n",
    "else: \n",
    "    print('no short sessions!')"
   ]
  },
  {
   "cell_type": "markdown",
   "metadata": {},
   "source": [
    "### Check if mice ran correct experiments for each session"
   ]
  },
  {
   "cell_type": "code",
   "execution_count": 96,
   "metadata": {},
   "outputs": [
    {
     "name": "stdout",
     "output_type": "stream",
     "text": [
      "all correct!\n"
     ]
    }
   ],
   "source": [
    "sessions_training['correct_exp'] = sessions_training.apply(lambda row: row['mouse'] in mouse_dict.get(row['exp'], []), axis=1)\n",
    "incorrect_exp_df = sessions_training[~sessions_training['correct_exp']]\n",
    "if len(incorrect_exp_df) > 0:\n",
    "    display(incorrect_exp_df)\n",
    "else:\n",
    "    print('all correct!')"
   ]
  },
  {
   "cell_type": "markdown",
   "metadata": {},
   "source": [
    "### Check for session number mismatch for each day"
   ]
  },
  {
   "cell_type": "code",
   "execution_count": 97,
   "metadata": {},
   "outputs": [],
   "source": [
    "log_by_date = sessions_training.groupby('date')"
   ]
  },
  {
   "cell_type": "code",
   "execution_count": 98,
   "metadata": {},
   "outputs": [],
   "source": [
    "# generate a dict of number or rounds for each date\n",
    "rounds_dict = {}\n",
    "for date, data in log_by_date:\n",
    "    num_session_dict = {}\n",
    "    for mouse in mouse_list:\n",
    "        mouse_by_date = data.loc[data['mouse'] == mouse]\n",
    "        num_session_dict[mouse] = len(mouse_by_date)\n",
    "    num_session_list = list(num_session_dict.values())\n",
    "    mode_session = statistics.mode(num_session_list)\n",
    "    rounds_dict[date]=mode_session"
   ]
  },
  {
   "cell_type": "markdown",
   "metadata": {},
   "source": [
    "check for missing sessions, copy and paste from previous day to pad"
   ]
  },
  {
   "cell_type": "code",
   "execution_count": 91,
   "metadata": {},
   "outputs": [
    {
     "name": "stdout",
     "output_type": "stream",
     "text": [
      "on 2023-12-14 00:00:00, RZ029 has missing sessions\n"
     ]
    }
   ],
   "source": [
    "for date, data in log_by_date:\n",
    "    rounds = rounds_dict[date]\n",
    "    for mouse in mouse_list:\n",
    "        mouse_by_date = data.loc[data['mouse'] == mouse]\n",
    "        if len(mouse_by_date) < rounds:\n",
    "            print(f\"on {date}, {mouse} has missing sessions\")"
   ]
  },
  {
   "cell_type": "markdown",
   "metadata": {},
   "source": [
    "check for sessions that needs patching, combine two sessions"
   ]
  },
  {
   "cell_type": "code",
   "execution_count": 100,
   "metadata": {},
   "outputs": [],
   "source": [
    "for date, data in log_by_date:\n",
    "    rounds = rounds_dict[date]\n",
    "    for mouse in mouse_list:\n",
    "        mouse_by_date = data.loc[data['mouse'] == mouse]\n",
    "        if len(mouse_by_date) > rounds:\n",
    "            print(f\"on {date}, {mouse} has too many sessions\")"
   ]
  },
  {
   "cell_type": "code",
   "execution_count": 102,
   "metadata": {},
   "outputs": [],
   "source": [
    "# day = log_by_date.get_group('2023-11-15')\n",
    "# display(day)"
   ]
  },
  {
   "cell_type": "code",
   "execution_count": 104,
   "metadata": {},
   "outputs": [],
   "source": [
    "# sessions_to_stitch = day[day['mouse'] == 'RZ033']"
   ]
  },
  {
   "cell_type": "code",
   "execution_count": 105,
   "metadata": {},
   "outputs": [],
   "source": [
    "# sessions_to_stitch"
   ]
  },
  {
   "cell_type": "code",
   "execution_count": null,
   "metadata": {},
   "outputs": [],
   "source": [
    "# session_1 = utils.load_data(utils.generate_events_path(data_folder, sessions_to_stitch.iloc[0]))\n",
    "# session_2 = utils.load_data(utils.utils.generate_events_path(data_folder, sessions_to_stitch.iloc[1]))\n",
    "# stitched_session = helper.stitch_sessions(session_1, session_2)"
   ]
  },
  {
   "cell_type": "code",
   "execution_count": null,
   "metadata": {},
   "outputs": [],
   "source": [
    "# session_2"
   ]
  },
  {
   "cell_type": "code",
   "execution_count": null,
   "metadata": {},
   "outputs": [],
   "source": [
    "# utils.stitched_session.to_csv(utils.generate_events_path(data_folder, sessions_to_stitch.iloc[0]))"
   ]
  },
  {
   "attachments": {},
   "cell_type": "markdown",
   "metadata": {},
   "source": [
    "make a copy of cleaned data before preceeding!"
   ]
  },
  {
   "attachments": {},
   "cell_type": "markdown",
   "metadata": {},
   "source": [
    "## Add training session number to training log"
   ]
  },
  {
   "cell_type": "code",
   "execution_count": 106,
   "metadata": {},
   "outputs": [],
   "source": [
    "sessions_training = sessions_training.groupby('mouse', group_keys=False).apply(helper.assign_session_numbers)"
   ]
  },
  {
   "attachments": {},
   "cell_type": "markdown",
   "metadata": {},
   "source": [
    "## Saves all sessions log and training session log"
   ]
  },
  {
   "cell_type": "code",
   "execution_count": 107,
   "metadata": {},
   "outputs": [],
   "source": [
    "utils.save_as_csv(df=sessions_all, folder=data_folder, filename='sessions_all.csv')\n",
    "utils.save_as_csv(df=sessions_training, folder=data_folder, filename='sessions_training.csv')"
   ]
  },
  {
   "attachments": {},
   "cell_type": "markdown",
   "metadata": {},
   "source": [
    "# Process raw session and generate all_trials"
   ]
  },
  {
   "attachments": {},
   "cell_type": "markdown",
   "metadata": {},
   "source": [
    "load session log"
   ]
  },
  {
   "cell_type": "code",
   "execution_count": 108,
   "metadata": {},
   "outputs": [],
   "source": [
    "sessions_training = utils.load_data(os.path.join(data_folder, 'sessions_training.csv'))"
   ]
  },
  {
   "cell_type": "markdown",
   "metadata": {},
   "source": [
    "### Generate all trials, align trial number, trial state, and trial time for raw session"
   ]
  },
  {
   "cell_type": "code",
   "execution_count": 118,
   "metadata": {},
   "outputs": [],
   "source": [
    "for _, session_info in sessions_training.iterrows():\n",
    "    try: \n",
    "        events_processed_path = utils.generate_events_processed_path(data_folder, session_info)\n",
    "        trials_path = utils.generate_trials_path(data_folder, session_info)\n",
    "        if os.path.isfile(events_processed_path) and os.path.isfile(trials_path):\n",
    "            continue\n",
    "        \n",
    "        events = pd.read_csv(utils.generate_events_path(data_folder, session_info))\n",
    "        trials = helper.generate_trials(session_info, events)\n",
    "\n",
    "        # align trial number\n",
    "        events = helper.align_trial_number(events, trials)\n",
    "        events = utils.trim_session(session_info, events)\n",
    "\n",
    "        # align trial state\n",
    "        events = events.groupby('session_trial_num', group_keys=False).apply(helper.align_trial_states)\n",
    "        # add trial_time\n",
    "        events = events.groupby('session_trial_num', group_keys=False).apply(helper.add_trial_time)\n",
    "\n",
    "        events.to_csv(events_processed_path)\n",
    "        trials.to_csv(trials_path)\n",
    "    except:\n",
    "        display(session_info)"
   ]
  },
  {
   "attachments": {},
   "cell_type": "markdown",
   "metadata": {},
   "source": [
    "### Adding analyzed trial data to all trials df"
   ]
  },
  {
   "cell_type": "code",
   "execution_count": 119,
   "metadata": {},
   "outputs": [],
   "source": [
    "for _, session_info in sessions_training.iterrows():\n",
    "    trials_analyzed_path = utils.generate_trials_analyzed_path(data_folder, session_info)\n",
    "    if os.path.isfile(trials_analyzed_path):\n",
    "        continue\n",
    "    \n",
    "    session_by_trial = utils.load_data(utils.generate_events_processed_path(data_folder, session_info)).groupby('session_trial_num')\n",
    "    trials = utils.load_data(utils.generate_trials_path(data_folder, session_info))\n",
    "    trials_data = helper.get_trial_data_df(session_by_trial)\n",
    "    trials_analyzed = pd.merge(trials, trials_data, on='session_trial_num')\n",
    "    trials_analyzed.to_csv(trials_analyzed_path)"
   ]
  },
  {
   "cell_type": "markdown",
   "metadata": {},
   "source": [
    "# Stitching of padded sessions"
   ]
  },
  {
   "cell_type": "code",
   "execution_count": 14,
   "metadata": {},
   "outputs": [],
   "source": [
    "stitched_folder = os.path.join(data_dir, cohort, 'padded_stitched')"
   ]
  },
  {
   "cell_type": "markdown",
   "metadata": {},
   "source": [
    "load session log"
   ]
  },
  {
   "cell_type": "code",
   "execution_count": 15,
   "metadata": {},
   "outputs": [],
   "source": [
    "sessions_training = utils.load_data(os.path.join(data_folder, 'sessions_training.csv'))"
   ]
  },
  {
   "cell_type": "markdown",
   "metadata": {},
   "source": [
    "generage stitched all mice log with columns of date, mouse, dir, filename"
   ]
  },
  {
   "cell_type": "code",
   "execution_count": 17,
   "metadata": {},
   "outputs": [
    {
     "data": {
      "text/html": [
       "<div>\n",
       "<style scoped>\n",
       "    .dataframe tbody tr th:only-of-type {\n",
       "        vertical-align: middle;\n",
       "    }\n",
       "\n",
       "    .dataframe tbody tr th {\n",
       "        vertical-align: top;\n",
       "    }\n",
       "\n",
       "    .dataframe thead th {\n",
       "        text-align: right;\n",
       "    }\n",
       "</style>\n",
       "<table border=\"1\" class=\"dataframe\">\n",
       "  <thead>\n",
       "    <tr style=\"text-align: right;\">\n",
       "      <th></th>\n",
       "      <th>index</th>\n",
       "      <th>mouse</th>\n",
       "      <th>date</th>\n",
       "      <th>time</th>\n",
       "      <th>exp</th>\n",
       "      <th>training</th>\n",
       "      <th>rig</th>\n",
       "      <th>dir</th>\n",
       "      <th>num_blocks</th>\n",
       "      <th>num_trials</th>\n",
       "      <th>rewards</th>\n",
       "      <th>session_time</th>\n",
       "      <th>proper_end</th>\n",
       "      <th>correct_exp</th>\n",
       "      <th>session</th>\n",
       "    </tr>\n",
       "  </thead>\n",
       "  <tbody>\n",
       "    <tr>\n",
       "      <th>0</th>\n",
       "      <td>74</td>\n",
       "      <td>RZ026</td>\n",
       "      <td>2023-10-31</td>\n",
       "      <td>11-39-46</td>\n",
       "      <td>s</td>\n",
       "      <td>regular</td>\n",
       "      <td>rig2</td>\n",
       "      <td>2023-10-31_11-39-46_RZ026</td>\n",
       "      <td>1.0</td>\n",
       "      <td>487.0</td>\n",
       "      <td>187.7</td>\n",
       "      <td>2403.29</td>\n",
       "      <td>True</td>\n",
       "      <td>True</td>\n",
       "      <td>0</td>\n",
       "    </tr>\n",
       "    <tr>\n",
       "      <th>1</th>\n",
       "      <td>145</td>\n",
       "      <td>RZ028</td>\n",
       "      <td>2023-10-31</td>\n",
       "      <td>12-22-14</td>\n",
       "      <td>l</td>\n",
       "      <td>regular</td>\n",
       "      <td>rig2</td>\n",
       "      <td>2023-10-31_12-22-14_RZ028</td>\n",
       "      <td>1.0</td>\n",
       "      <td>353.0</td>\n",
       "      <td>89.9</td>\n",
       "      <td>2405.82</td>\n",
       "      <td>True</td>\n",
       "      <td>True</td>\n",
       "      <td>0</td>\n",
       "    </tr>\n",
       "    <tr>\n",
       "      <th>2</th>\n",
       "      <td>147</td>\n",
       "      <td>RZ029</td>\n",
       "      <td>2023-10-31</td>\n",
       "      <td>12-25-13</td>\n",
       "      <td>l</td>\n",
       "      <td>regular</td>\n",
       "      <td>rig3</td>\n",
       "      <td>2023-10-31_12-25-13_RZ029</td>\n",
       "      <td>1.0</td>\n",
       "      <td>354.0</td>\n",
       "      <td>73.7</td>\n",
       "      <td>2402.37</td>\n",
       "      <td>True</td>\n",
       "      <td>True</td>\n",
       "      <td>0</td>\n",
       "    </tr>\n",
       "    <tr>\n",
       "      <th>3</th>\n",
       "      <td>247</td>\n",
       "      <td>RZ030</td>\n",
       "      <td>2023-10-31</td>\n",
       "      <td>13-12-44</td>\n",
       "      <td>s</td>\n",
       "      <td>regular</td>\n",
       "      <td>rig2</td>\n",
       "      <td>2023-10-31_13-12-44_RZ030</td>\n",
       "      <td>1.0</td>\n",
       "      <td>438.0</td>\n",
       "      <td>533.1</td>\n",
       "      <td>2405.46</td>\n",
       "      <td>True</td>\n",
       "      <td>True</td>\n",
       "      <td>0</td>\n",
       "    </tr>\n",
       "    <tr>\n",
       "      <th>4</th>\n",
       "      <td>198</td>\n",
       "      <td>RZ031</td>\n",
       "      <td>2023-10-31</td>\n",
       "      <td>13-14-02</td>\n",
       "      <td>s</td>\n",
       "      <td>regular</td>\n",
       "      <td>rig3</td>\n",
       "      <td>2023-10-31_13-14-02_RZ031</td>\n",
       "      <td>1.0</td>\n",
       "      <td>468.0</td>\n",
       "      <td>259.5</td>\n",
       "      <td>2405.59</td>\n",
       "      <td>True</td>\n",
       "      <td>True</td>\n",
       "      <td>0</td>\n",
       "    </tr>\n",
       "    <tr>\n",
       "      <th>...</th>\n",
       "      <td>...</td>\n",
       "      <td>...</td>\n",
       "      <td>...</td>\n",
       "      <td>...</td>\n",
       "      <td>...</td>\n",
       "      <td>...</td>\n",
       "      <td>...</td>\n",
       "      <td>...</td>\n",
       "      <td>...</td>\n",
       "      <td>...</td>\n",
       "      <td>...</td>\n",
       "      <td>...</td>\n",
       "      <td>...</td>\n",
       "      <td>...</td>\n",
       "      <td>...</td>\n",
       "    </tr>\n",
       "    <tr>\n",
       "      <th>227</th>\n",
       "      <td>81</td>\n",
       "      <td>RZ029</td>\n",
       "      <td>2023-12-07</td>\n",
       "      <td>11-15-38</td>\n",
       "      <td>l</td>\n",
       "      <td>regular</td>\n",
       "      <td>rig2</td>\n",
       "      <td>2023-12-07_11-15-38_RZ029</td>\n",
       "      <td>1.0</td>\n",
       "      <td>298.0</td>\n",
       "      <td>571.7</td>\n",
       "      <td>2404.07</td>\n",
       "      <td>True</td>\n",
       "      <td>True</td>\n",
       "      <td>28</td>\n",
       "    </tr>\n",
       "    <tr>\n",
       "      <th>228</th>\n",
       "      <td>200</td>\n",
       "      <td>RZ032</td>\n",
       "      <td>2023-12-07</td>\n",
       "      <td>14-23-24</td>\n",
       "      <td>l</td>\n",
       "      <td>regular</td>\n",
       "      <td>rig3</td>\n",
       "      <td>2023-12-07_14-23-24_RZ032</td>\n",
       "      <td>1.0</td>\n",
       "      <td>306.0</td>\n",
       "      <td>432.2</td>\n",
       "      <td>2401.58</td>\n",
       "      <td>True</td>\n",
       "      <td>True</td>\n",
       "      <td>28</td>\n",
       "    </tr>\n",
       "    <tr>\n",
       "      <th>229</th>\n",
       "      <td>211</td>\n",
       "      <td>RZ033</td>\n",
       "      <td>2023-12-07</td>\n",
       "      <td>14-24-21</td>\n",
       "      <td>l</td>\n",
       "      <td>regular</td>\n",
       "      <td>rig2</td>\n",
       "      <td>2023-12-07_14-24-21_RZ033</td>\n",
       "      <td>1.0</td>\n",
       "      <td>304.0</td>\n",
       "      <td>493.5</td>\n",
       "      <td>2404.83</td>\n",
       "      <td>True</td>\n",
       "      <td>True</td>\n",
       "      <td>28</td>\n",
       "    </tr>\n",
       "    <tr>\n",
       "      <th>230</th>\n",
       "      <td>189</td>\n",
       "      <td>RZ030</td>\n",
       "      <td>2023-12-07</td>\n",
       "      <td>15-12-34</td>\n",
       "      <td>s</td>\n",
       "      <td>regular</td>\n",
       "      <td>rig3</td>\n",
       "      <td>2023-12-07_15-12-34_RZ030</td>\n",
       "      <td>1.0</td>\n",
       "      <td>367.0</td>\n",
       "      <td>861.4</td>\n",
       "      <td>2404.54</td>\n",
       "      <td>True</td>\n",
       "      <td>True</td>\n",
       "      <td>28</td>\n",
       "    </tr>\n",
       "    <tr>\n",
       "      <th>231</th>\n",
       "      <td>69</td>\n",
       "      <td>RZ031</td>\n",
       "      <td>2023-12-07</td>\n",
       "      <td>15-13-42</td>\n",
       "      <td>s</td>\n",
       "      <td>regular</td>\n",
       "      <td>rig2</td>\n",
       "      <td>2023-12-07_15-13-42_RZ031</td>\n",
       "      <td>1.0</td>\n",
       "      <td>470.0</td>\n",
       "      <td>174.5</td>\n",
       "      <td>2400.08</td>\n",
       "      <td>True</td>\n",
       "      <td>True</td>\n",
       "      <td>28</td>\n",
       "    </tr>\n",
       "  </tbody>\n",
       "</table>\n",
       "<p>232 rows × 15 columns</p>\n",
       "</div>"
      ],
      "text/plain": [
       "     index  mouse        date      time exp training   rig  \\\n",
       "0       74  RZ026  2023-10-31  11-39-46   s  regular  rig2   \n",
       "1      145  RZ028  2023-10-31  12-22-14   l  regular  rig2   \n",
       "2      147  RZ029  2023-10-31  12-25-13   l  regular  rig3   \n",
       "3      247  RZ030  2023-10-31  13-12-44   s  regular  rig2   \n",
       "4      198  RZ031  2023-10-31  13-14-02   s  regular  rig3   \n",
       "..     ...    ...         ...       ...  ..      ...   ...   \n",
       "227     81  RZ029  2023-12-07  11-15-38   l  regular  rig2   \n",
       "228    200  RZ032  2023-12-07  14-23-24   l  regular  rig3   \n",
       "229    211  RZ033  2023-12-07  14-24-21   l  regular  rig2   \n",
       "230    189  RZ030  2023-12-07  15-12-34   s  regular  rig3   \n",
       "231     69  RZ031  2023-12-07  15-13-42   s  regular  rig2   \n",
       "\n",
       "                           dir  num_blocks  num_trials  rewards  session_time  \\\n",
       "0    2023-10-31_11-39-46_RZ026         1.0       487.0    187.7       2403.29   \n",
       "1    2023-10-31_12-22-14_RZ028         1.0       353.0     89.9       2405.82   \n",
       "2    2023-10-31_12-25-13_RZ029         1.0       354.0     73.7       2402.37   \n",
       "3    2023-10-31_13-12-44_RZ030         1.0       438.0    533.1       2405.46   \n",
       "4    2023-10-31_13-14-02_RZ031         1.0       468.0    259.5       2405.59   \n",
       "..                         ...         ...         ...      ...           ...   \n",
       "227  2023-12-07_11-15-38_RZ029         1.0       298.0    571.7       2404.07   \n",
       "228  2023-12-07_14-23-24_RZ032         1.0       306.0    432.2       2401.58   \n",
       "229  2023-12-07_14-24-21_RZ033         1.0       304.0    493.5       2404.83   \n",
       "230  2023-12-07_15-12-34_RZ030         1.0       367.0    861.4       2404.54   \n",
       "231  2023-12-07_15-13-42_RZ031         1.0       470.0    174.5       2400.08   \n",
       "\n",
       "     proper_end  correct_exp  session  \n",
       "0          True         True        0  \n",
       "1          True         True        0  \n",
       "2          True         True        0  \n",
       "3          True         True        0  \n",
       "4          True         True        0  \n",
       "..          ...          ...      ...  \n",
       "227        True         True       28  \n",
       "228        True         True       28  \n",
       "229        True         True       28  \n",
       "230        True         True       28  \n",
       "231        True         True       28  \n",
       "\n",
       "[232 rows x 15 columns]"
      ]
     },
     "execution_count": 17,
     "metadata": {},
     "output_type": "execute_result"
    }
   ],
   "source": [
    "sessions_training"
   ]
  },
  {
   "cell_type": "code",
   "execution_count": 22,
   "metadata": {},
   "outputs": [],
   "source": [
    "def generate_sessions_training_stitched(sessions_training):\n",
    "    sessions_training_stitched = sessions_training[['date', 'training', 'session']].copy()\n",
    "    sessions_training_stitched = sessions_training_stitched.drop_duplicates(subset=['session'], keep='first')\n",
    "    return sessions_training_stitched"
   ]
  },
  {
   "cell_type": "code",
   "execution_count": 23,
   "metadata": {},
   "outputs": [],
   "source": [
    "sessions_training_stitched = generate_sessions_training_stitched(sessions_training)"
   ]
  },
  {
   "cell_type": "markdown",
   "metadata": {},
   "source": [
    "creates empty directories in the stitched folder"
   ]
  },
  {
   "cell_type": "code",
   "execution_count": 25,
   "metadata": {},
   "outputs": [
    {
     "data": {
      "text/html": [
       "<div>\n",
       "<style scoped>\n",
       "    .dataframe tbody tr th:only-of-type {\n",
       "        vertical-align: middle;\n",
       "    }\n",
       "\n",
       "    .dataframe tbody tr th {\n",
       "        vertical-align: top;\n",
       "    }\n",
       "\n",
       "    .dataframe thead th {\n",
       "        text-align: right;\n",
       "    }\n",
       "</style>\n",
       "<table border=\"1\" class=\"dataframe\">\n",
       "  <thead>\n",
       "    <tr style=\"text-align: right;\">\n",
       "      <th></th>\n",
       "      <th>date</th>\n",
       "      <th>training</th>\n",
       "      <th>session</th>\n",
       "    </tr>\n",
       "  </thead>\n",
       "  <tbody>\n",
       "    <tr>\n",
       "      <th>0</th>\n",
       "      <td>2023-10-31</td>\n",
       "      <td>regular</td>\n",
       "      <td>0</td>\n",
       "    </tr>\n",
       "    <tr>\n",
       "      <th>8</th>\n",
       "      <td>2023-11-01</td>\n",
       "      <td>regular</td>\n",
       "      <td>1</td>\n",
       "    </tr>\n",
       "    <tr>\n",
       "      <th>16</th>\n",
       "      <td>2023-11-02</td>\n",
       "      <td>regular</td>\n",
       "      <td>2</td>\n",
       "    </tr>\n",
       "    <tr>\n",
       "      <th>24</th>\n",
       "      <td>2023-11-03</td>\n",
       "      <td>regular</td>\n",
       "      <td>3</td>\n",
       "    </tr>\n",
       "    <tr>\n",
       "      <th>32</th>\n",
       "      <td>2023-11-03</td>\n",
       "      <td>regular</td>\n",
       "      <td>4</td>\n",
       "    </tr>\n",
       "    <tr>\n",
       "      <th>40</th>\n",
       "      <td>2023-11-04</td>\n",
       "      <td>regular</td>\n",
       "      <td>5</td>\n",
       "    </tr>\n",
       "    <tr>\n",
       "      <th>48</th>\n",
       "      <td>2023-11-05</td>\n",
       "      <td>regular</td>\n",
       "      <td>6</td>\n",
       "    </tr>\n",
       "    <tr>\n",
       "      <th>56</th>\n",
       "      <td>2023-11-06</td>\n",
       "      <td>regular</td>\n",
       "      <td>7</td>\n",
       "    </tr>\n",
       "    <tr>\n",
       "      <th>64</th>\n",
       "      <td>2023-11-07</td>\n",
       "      <td>regular</td>\n",
       "      <td>8</td>\n",
       "    </tr>\n",
       "    <tr>\n",
       "      <th>72</th>\n",
       "      <td>2023-11-08</td>\n",
       "      <td>regular</td>\n",
       "      <td>9</td>\n",
       "    </tr>\n",
       "    <tr>\n",
       "      <th>80</th>\n",
       "      <td>2023-11-09</td>\n",
       "      <td>regular</td>\n",
       "      <td>10</td>\n",
       "    </tr>\n",
       "    <tr>\n",
       "      <th>88</th>\n",
       "      <td>2023-11-10</td>\n",
       "      <td>regular</td>\n",
       "      <td>11</td>\n",
       "    </tr>\n",
       "    <tr>\n",
       "      <th>96</th>\n",
       "      <td>2023-11-12</td>\n",
       "      <td>regular</td>\n",
       "      <td>12</td>\n",
       "    </tr>\n",
       "    <tr>\n",
       "      <th>104</th>\n",
       "      <td>2023-11-13</td>\n",
       "      <td>regular</td>\n",
       "      <td>13</td>\n",
       "    </tr>\n",
       "    <tr>\n",
       "      <th>112</th>\n",
       "      <td>2023-11-14</td>\n",
       "      <td>regular</td>\n",
       "      <td>14</td>\n",
       "    </tr>\n",
       "    <tr>\n",
       "      <th>120</th>\n",
       "      <td>2023-11-15</td>\n",
       "      <td>regular</td>\n",
       "      <td>15</td>\n",
       "    </tr>\n",
       "    <tr>\n",
       "      <th>128</th>\n",
       "      <td>2023-11-16</td>\n",
       "      <td>regular</td>\n",
       "      <td>16</td>\n",
       "    </tr>\n",
       "    <tr>\n",
       "      <th>136</th>\n",
       "      <td>2023-11-17</td>\n",
       "      <td>regular</td>\n",
       "      <td>17</td>\n",
       "    </tr>\n",
       "    <tr>\n",
       "      <th>144</th>\n",
       "      <td>2023-11-17</td>\n",
       "      <td>regular</td>\n",
       "      <td>18</td>\n",
       "    </tr>\n",
       "    <tr>\n",
       "      <th>152</th>\n",
       "      <td>2023-11-29</td>\n",
       "      <td>regular</td>\n",
       "      <td>19</td>\n",
       "    </tr>\n",
       "    <tr>\n",
       "      <th>160</th>\n",
       "      <td>2023-11-30</td>\n",
       "      <td>regular</td>\n",
       "      <td>20</td>\n",
       "    </tr>\n",
       "    <tr>\n",
       "      <th>168</th>\n",
       "      <td>2023-11-30</td>\n",
       "      <td>regular</td>\n",
       "      <td>21</td>\n",
       "    </tr>\n",
       "    <tr>\n",
       "      <th>176</th>\n",
       "      <td>2023-12-01</td>\n",
       "      <td>regular</td>\n",
       "      <td>22</td>\n",
       "    </tr>\n",
       "    <tr>\n",
       "      <th>184</th>\n",
       "      <td>2023-12-02</td>\n",
       "      <td>regular</td>\n",
       "      <td>23</td>\n",
       "    </tr>\n",
       "    <tr>\n",
       "      <th>192</th>\n",
       "      <td>2023-12-03</td>\n",
       "      <td>regular</td>\n",
       "      <td>24</td>\n",
       "    </tr>\n",
       "    <tr>\n",
       "      <th>200</th>\n",
       "      <td>2023-12-04</td>\n",
       "      <td>regular</td>\n",
       "      <td>25</td>\n",
       "    </tr>\n",
       "    <tr>\n",
       "      <th>208</th>\n",
       "      <td>2023-12-05</td>\n",
       "      <td>regular</td>\n",
       "      <td>26</td>\n",
       "    </tr>\n",
       "    <tr>\n",
       "      <th>216</th>\n",
       "      <td>2023-12-06</td>\n",
       "      <td>regular</td>\n",
       "      <td>27</td>\n",
       "    </tr>\n",
       "    <tr>\n",
       "      <th>224</th>\n",
       "      <td>2023-12-07</td>\n",
       "      <td>regular</td>\n",
       "      <td>28</td>\n",
       "    </tr>\n",
       "  </tbody>\n",
       "</table>\n",
       "</div>"
      ],
      "text/plain": [
       "           date training  session\n",
       "0    2023-10-31  regular        0\n",
       "8    2023-11-01  regular        1\n",
       "16   2023-11-02  regular        2\n",
       "24   2023-11-03  regular        3\n",
       "32   2023-11-03  regular        4\n",
       "40   2023-11-04  regular        5\n",
       "48   2023-11-05  regular        6\n",
       "56   2023-11-06  regular        7\n",
       "64   2023-11-07  regular        8\n",
       "72   2023-11-08  regular        9\n",
       "80   2023-11-09  regular       10\n",
       "88   2023-11-10  regular       11\n",
       "96   2023-11-12  regular       12\n",
       "104  2023-11-13  regular       13\n",
       "112  2023-11-14  regular       14\n",
       "120  2023-11-15  regular       15\n",
       "128  2023-11-16  regular       16\n",
       "136  2023-11-17  regular       17\n",
       "144  2023-11-17  regular       18\n",
       "152  2023-11-29  regular       19\n",
       "160  2023-11-30  regular       20\n",
       "168  2023-11-30  regular       21\n",
       "176  2023-12-01  regular       22\n",
       "184  2023-12-02  regular       23\n",
       "192  2023-12-03  regular       24\n",
       "200  2023-12-04  regular       25\n",
       "208  2023-12-05  regular       26\n",
       "216  2023-12-06  regular       27\n",
       "224  2023-12-07  regular       28"
      ]
     },
     "execution_count": 25,
     "metadata": {},
     "output_type": "execute_result"
    }
   ],
   "source": [
    "sessions_training_stitched"
   ]
  },
  {
   "cell_type": "code",
   "execution_count": 28,
   "metadata": {},
   "outputs": [],
   "source": [
    "for _, session_info in sessions_training_stitched.iterrows():\n",
    "    new_dir = os.path.join(stitched_folder, f\"{session_info.date}_{session_info.session}\")\n",
    "    if not os.path.exists(new_dir):\n",
    "        os.makedirs(new_dir)"
   ]
  },
  {
   "cell_type": "code",
   "execution_count": 41,
   "metadata": {},
   "outputs": [],
   "source": [
    "def generate_events_processed_stitched_path(data_folder, session_info):\n",
    "    filename = f'events_processed_stitched_{session_info.date}_{session_info.session}.csv'\n",
    "    return os.path.join(data_folder, f\"{session_info.date}_{session_info.session}\", filename)"
   ]
  },
  {
   "cell_type": "code",
   "execution_count": 42,
   "metadata": {},
   "outputs": [],
   "source": [
    "def generate_trials_analyzed_stitched_path(data_folder, session_info):\n",
    "    filename = f'trials_analyzed_stitched_{session_info.date}_{session_info.session}.csv'\n",
    "    return os.path.join(data_folder, f\"{session_info.date}_{session_info.session}\", filename)"
   ]
  },
  {
   "cell_type": "code",
   "execution_count": 34,
   "metadata": {},
   "outputs": [],
   "source": [
    "log_by_session = sessions_training.groupby('session')"
   ]
  },
  {
   "cell_type": "code",
   "execution_count": 51,
   "metadata": {},
   "outputs": [],
   "source": [
    "for s, session_num in log_by_session:\n",
    "    num_mice = len(session_num)\n",
    "    session_info = session_num.iloc[0]\n",
    "    events_stitched = utils.load_data(utils.generate_events_processed_path(data_folder, session_info))\n",
    "    trials_stitched = utils.load_data(utils.generate_trials_analyzed_path(data_folder, session_info))\n",
    "\n",
    "    for i in range(1, num_mice):\n",
    "        session_2 = utils.load_data(utils.generate_events_processed_path(data_folder, session_num.iloc[i]))\n",
    "        all_trials_2 = utils.load_data(utils.generate_trials_analyzed_path(data_folder, session_num.iloc[i]))\n",
    "        events_stitched = helper.stitch_sessions(events_stitched, session_2)\n",
    "        trials_stitched = helper.stitch_all_trials(trials_stitched, all_trials_2)\n",
    "    \n",
    "    events_stitched.to_csv(generate_events_processed_stitched_path(stitched_folder, session_info))\n",
    "    trials_stitched.to_csv(generate_trials_analyzed_stitched_path(stitched_folder, session_info))"
   ]
  },
  {
   "cell_type": "code",
   "execution_count": 52,
   "metadata": {},
   "outputs": [
    {
     "name": "stderr",
     "output_type": "stream",
     "text": [
      "/Users/rebekahzhang/Documents/shuler_lab/code/luckycharm/cohort_4/utils_c4.py:21: DtypeWarning: Columns (6) have mixed types. Specify dtype option on import or set low_memory=False.\n",
      "  df = pd.read_csv(path, index_col=0)\n",
      "/Users/rebekahzhang/Documents/shuler_lab/code/luckycharm/cohort_4/utils_c4.py:21: DtypeWarning: Columns (6) have mixed types. Specify dtype option on import or set low_memory=False.\n",
      "  df = pd.read_csv(path, index_col=0)\n",
      "/Users/rebekahzhang/Documents/shuler_lab/code/luckycharm/cohort_4/utils_c4.py:21: DtypeWarning: Columns (6) have mixed types. Specify dtype option on import or set low_memory=False.\n",
      "  df = pd.read_csv(path, index_col=0)\n",
      "/Users/rebekahzhang/Documents/shuler_lab/code/luckycharm/cohort_4/utils_c4.py:21: DtypeWarning: Columns (6) have mixed types. Specify dtype option on import or set low_memory=False.\n",
      "  df = pd.read_csv(path, index_col=0)\n"
     ]
    }
   ],
   "source": [
    "stitched_session_basics_list = []\n",
    "for _, session_info in sessions_training_stitched.iterrows():\n",
    "    events = utils.load_data(generate_events_processed_stitched_path(stitched_folder, session_info))\n",
    "    session_basics = {'session': session_info['session']} | helper.get_session_basics(events)\n",
    "    stitched_session_basics_list.append(session_basics)\n",
    "stitched_session_basics = pd.DataFrame(stitched_session_basics_list)\n",
    "sessions_training_stitched = pd.merge(sessions_training_stitched, stitched_session_basics, on='session')"
   ]
  },
  {
   "cell_type": "code",
   "execution_count": 53,
   "metadata": {},
   "outputs": [],
   "source": [
    "utils.save_as_csv(sessions_training_stitched, stitched_folder, 'sessions_training_stitched.csv')"
   ]
  },
  {
   "cell_type": "code",
   "execution_count": 54,
   "metadata": {},
   "outputs": [
    {
     "data": {
      "text/html": [
       "<div>\n",
       "<style scoped>\n",
       "    .dataframe tbody tr th:only-of-type {\n",
       "        vertical-align: middle;\n",
       "    }\n",
       "\n",
       "    .dataframe tbody tr th {\n",
       "        vertical-align: top;\n",
       "    }\n",
       "\n",
       "    .dataframe thead th {\n",
       "        text-align: right;\n",
       "    }\n",
       "</style>\n",
       "<table border=\"1\" class=\"dataframe\">\n",
       "  <thead>\n",
       "    <tr style=\"text-align: right;\">\n",
       "      <th></th>\n",
       "      <th>date</th>\n",
       "      <th>training</th>\n",
       "      <th>session</th>\n",
       "      <th>num_blocks</th>\n",
       "      <th>num_trials</th>\n",
       "      <th>rewards</th>\n",
       "      <th>session_time</th>\n",
       "      <th>proper_end</th>\n",
       "    </tr>\n",
       "  </thead>\n",
       "  <tbody>\n",
       "    <tr>\n",
       "      <th>0</th>\n",
       "      <td>2023-10-31</td>\n",
       "      <td>regular</td>\n",
       "      <td>0</td>\n",
       "      <td>8.0</td>\n",
       "      <td>3225.0</td>\n",
       "      <td>1911.6</td>\n",
       "      <td>62958.68</td>\n",
       "      <td>True</td>\n",
       "    </tr>\n",
       "    <tr>\n",
       "      <th>1</th>\n",
       "      <td>2023-11-01</td>\n",
       "      <td>regular</td>\n",
       "      <td>1</td>\n",
       "      <td>8.0</td>\n",
       "      <td>2942.0</td>\n",
       "      <td>4150.2</td>\n",
       "      <td>92528.09</td>\n",
       "      <td>True</td>\n",
       "    </tr>\n",
       "    <tr>\n",
       "      <th>2</th>\n",
       "      <td>2023-11-02</td>\n",
       "      <td>regular</td>\n",
       "      <td>2</td>\n",
       "      <td>9.0</td>\n",
       "      <td>3033.0</td>\n",
       "      <td>4887.6</td>\n",
       "      <td>93254.17</td>\n",
       "      <td>True</td>\n",
       "    </tr>\n",
       "    <tr>\n",
       "      <th>3</th>\n",
       "      <td>2023-11-03</td>\n",
       "      <td>regular</td>\n",
       "      <td>3</td>\n",
       "      <td>8.0</td>\n",
       "      <td>2619.0</td>\n",
       "      <td>4202.3</td>\n",
       "      <td>48806.09</td>\n",
       "      <td>True</td>\n",
       "    </tr>\n",
       "    <tr>\n",
       "      <th>4</th>\n",
       "      <td>2023-11-03</td>\n",
       "      <td>regular</td>\n",
       "      <td>4</td>\n",
       "      <td>8.0</td>\n",
       "      <td>1813.0</td>\n",
       "      <td>4676.3</td>\n",
       "      <td>44786.86</td>\n",
       "      <td>True</td>\n",
       "    </tr>\n",
       "    <tr>\n",
       "      <th>5</th>\n",
       "      <td>2023-11-04</td>\n",
       "      <td>regular</td>\n",
       "      <td>5</td>\n",
       "      <td>8.0</td>\n",
       "      <td>2508.0</td>\n",
       "      <td>4368.8</td>\n",
       "      <td>426901.11</td>\n",
       "      <td>True</td>\n",
       "    </tr>\n",
       "    <tr>\n",
       "      <th>6</th>\n",
       "      <td>2023-11-05</td>\n",
       "      <td>regular</td>\n",
       "      <td>6</td>\n",
       "      <td>8.0</td>\n",
       "      <td>2772.0</td>\n",
       "      <td>4073.6</td>\n",
       "      <td>54142.84</td>\n",
       "      <td>True</td>\n",
       "    </tr>\n",
       "    <tr>\n",
       "      <th>7</th>\n",
       "      <td>2023-11-06</td>\n",
       "      <td>regular</td>\n",
       "      <td>7</td>\n",
       "      <td>8.0</td>\n",
       "      <td>2868.0</td>\n",
       "      <td>3891.9</td>\n",
       "      <td>51936.30</td>\n",
       "      <td>True</td>\n",
       "    </tr>\n",
       "    <tr>\n",
       "      <th>8</th>\n",
       "      <td>2023-11-07</td>\n",
       "      <td>regular</td>\n",
       "      <td>8</td>\n",
       "      <td>8.0</td>\n",
       "      <td>2701.0</td>\n",
       "      <td>3843.5</td>\n",
       "      <td>67753.79</td>\n",
       "      <td>True</td>\n",
       "    </tr>\n",
       "    <tr>\n",
       "      <th>9</th>\n",
       "      <td>2023-11-08</td>\n",
       "      <td>regular</td>\n",
       "      <td>9</td>\n",
       "      <td>8.0</td>\n",
       "      <td>2677.0</td>\n",
       "      <td>3392.3</td>\n",
       "      <td>49173.70</td>\n",
       "      <td>True</td>\n",
       "    </tr>\n",
       "    <tr>\n",
       "      <th>10</th>\n",
       "      <td>2023-11-09</td>\n",
       "      <td>regular</td>\n",
       "      <td>10</td>\n",
       "      <td>8.0</td>\n",
       "      <td>2724.0</td>\n",
       "      <td>4021.6</td>\n",
       "      <td>50625.32</td>\n",
       "      <td>True</td>\n",
       "    </tr>\n",
       "    <tr>\n",
       "      <th>11</th>\n",
       "      <td>2023-11-10</td>\n",
       "      <td>regular</td>\n",
       "      <td>11</td>\n",
       "      <td>8.0</td>\n",
       "      <td>2664.0</td>\n",
       "      <td>4446.6</td>\n",
       "      <td>49668.89</td>\n",
       "      <td>True</td>\n",
       "    </tr>\n",
       "    <tr>\n",
       "      <th>12</th>\n",
       "      <td>2023-11-12</td>\n",
       "      <td>regular</td>\n",
       "      <td>12</td>\n",
       "      <td>8.0</td>\n",
       "      <td>2964.0</td>\n",
       "      <td>3578.1</td>\n",
       "      <td>52477.36</td>\n",
       "      <td>True</td>\n",
       "    </tr>\n",
       "    <tr>\n",
       "      <th>13</th>\n",
       "      <td>2023-11-13</td>\n",
       "      <td>regular</td>\n",
       "      <td>13</td>\n",
       "      <td>9.0</td>\n",
       "      <td>2511.0</td>\n",
       "      <td>3892.7</td>\n",
       "      <td>46014.54</td>\n",
       "      <td>True</td>\n",
       "    </tr>\n",
       "    <tr>\n",
       "      <th>14</th>\n",
       "      <td>2023-11-14</td>\n",
       "      <td>regular</td>\n",
       "      <td>14</td>\n",
       "      <td>8.0</td>\n",
       "      <td>2546.0</td>\n",
       "      <td>4631.5</td>\n",
       "      <td>48596.05</td>\n",
       "      <td>True</td>\n",
       "    </tr>\n",
       "    <tr>\n",
       "      <th>15</th>\n",
       "      <td>2023-11-15</td>\n",
       "      <td>regular</td>\n",
       "      <td>15</td>\n",
       "      <td>10.0</td>\n",
       "      <td>3037.0</td>\n",
       "      <td>5904.4</td>\n",
       "      <td>447362.45</td>\n",
       "      <td>True</td>\n",
       "    </tr>\n",
       "    <tr>\n",
       "      <th>16</th>\n",
       "      <td>2023-11-16</td>\n",
       "      <td>regular</td>\n",
       "      <td>16</td>\n",
       "      <td>8.0</td>\n",
       "      <td>2618.0</td>\n",
       "      <td>3577.2</td>\n",
       "      <td>84472.29</td>\n",
       "      <td>True</td>\n",
       "    </tr>\n",
       "    <tr>\n",
       "      <th>17</th>\n",
       "      <td>2023-11-17</td>\n",
       "      <td>regular</td>\n",
       "      <td>17</td>\n",
       "      <td>8.0</td>\n",
       "      <td>2784.0</td>\n",
       "      <td>4240.3</td>\n",
       "      <td>52275.88</td>\n",
       "      <td>True</td>\n",
       "    </tr>\n",
       "    <tr>\n",
       "      <th>18</th>\n",
       "      <td>2023-11-17</td>\n",
       "      <td>regular</td>\n",
       "      <td>18</td>\n",
       "      <td>8.0</td>\n",
       "      <td>2544.0</td>\n",
       "      <td>4122.2</td>\n",
       "      <td>50028.95</td>\n",
       "      <td>True</td>\n",
       "    </tr>\n",
       "    <tr>\n",
       "      <th>19</th>\n",
       "      <td>2023-11-29</td>\n",
       "      <td>regular</td>\n",
       "      <td>19</td>\n",
       "      <td>8.0</td>\n",
       "      <td>1903.0</td>\n",
       "      <td>3594.8</td>\n",
       "      <td>42850.73</td>\n",
       "      <td>True</td>\n",
       "    </tr>\n",
       "    <tr>\n",
       "      <th>20</th>\n",
       "      <td>2023-11-30</td>\n",
       "      <td>regular</td>\n",
       "      <td>20</td>\n",
       "      <td>8.0</td>\n",
       "      <td>2598.0</td>\n",
       "      <td>4399.4</td>\n",
       "      <td>364626.29</td>\n",
       "      <td>True</td>\n",
       "    </tr>\n",
       "    <tr>\n",
       "      <th>21</th>\n",
       "      <td>2023-11-30</td>\n",
       "      <td>regular</td>\n",
       "      <td>21</td>\n",
       "      <td>8.0</td>\n",
       "      <td>2318.0</td>\n",
       "      <td>3726.8</td>\n",
       "      <td>43679.99</td>\n",
       "      <td>True</td>\n",
       "    </tr>\n",
       "    <tr>\n",
       "      <th>22</th>\n",
       "      <td>2023-12-01</td>\n",
       "      <td>regular</td>\n",
       "      <td>22</td>\n",
       "      <td>8.0</td>\n",
       "      <td>2765.0</td>\n",
       "      <td>3971.8</td>\n",
       "      <td>69744.42</td>\n",
       "      <td>True</td>\n",
       "    </tr>\n",
       "    <tr>\n",
       "      <th>23</th>\n",
       "      <td>2023-12-02</td>\n",
       "      <td>regular</td>\n",
       "      <td>23</td>\n",
       "      <td>8.0</td>\n",
       "      <td>2735.0</td>\n",
       "      <td>3324.9</td>\n",
       "      <td>48775.41</td>\n",
       "      <td>True</td>\n",
       "    </tr>\n",
       "    <tr>\n",
       "      <th>24</th>\n",
       "      <td>2023-12-03</td>\n",
       "      <td>regular</td>\n",
       "      <td>24</td>\n",
       "      <td>8.0</td>\n",
       "      <td>2904.0</td>\n",
       "      <td>3611.7</td>\n",
       "      <td>50545.14</td>\n",
       "      <td>True</td>\n",
       "    </tr>\n",
       "    <tr>\n",
       "      <th>25</th>\n",
       "      <td>2023-12-04</td>\n",
       "      <td>regular</td>\n",
       "      <td>25</td>\n",
       "      <td>9.0</td>\n",
       "      <td>2321.0</td>\n",
       "      <td>4830.3</td>\n",
       "      <td>52677.13</td>\n",
       "      <td>True</td>\n",
       "    </tr>\n",
       "    <tr>\n",
       "      <th>26</th>\n",
       "      <td>2023-12-05</td>\n",
       "      <td>regular</td>\n",
       "      <td>26</td>\n",
       "      <td>8.0</td>\n",
       "      <td>2500.0</td>\n",
       "      <td>4027.3</td>\n",
       "      <td>59413.61</td>\n",
       "      <td>True</td>\n",
       "    </tr>\n",
       "    <tr>\n",
       "      <th>27</th>\n",
       "      <td>2023-12-06</td>\n",
       "      <td>regular</td>\n",
       "      <td>27</td>\n",
       "      <td>8.0</td>\n",
       "      <td>2464.0</td>\n",
       "      <td>4862.7</td>\n",
       "      <td>49901.03</td>\n",
       "      <td>True</td>\n",
       "    </tr>\n",
       "    <tr>\n",
       "      <th>28</th>\n",
       "      <td>2023-12-07</td>\n",
       "      <td>regular</td>\n",
       "      <td>28</td>\n",
       "      <td>8.0</td>\n",
       "      <td>2477.0</td>\n",
       "      <td>4645.8</td>\n",
       "      <td>84551.70</td>\n",
       "      <td>True</td>\n",
       "    </tr>\n",
       "  </tbody>\n",
       "</table>\n",
       "</div>"
      ],
      "text/plain": [
       "          date training  session  num_blocks  num_trials  rewards  \\\n",
       "0   2023-10-31  regular        0         8.0      3225.0   1911.6   \n",
       "1   2023-11-01  regular        1         8.0      2942.0   4150.2   \n",
       "2   2023-11-02  regular        2         9.0      3033.0   4887.6   \n",
       "3   2023-11-03  regular        3         8.0      2619.0   4202.3   \n",
       "4   2023-11-03  regular        4         8.0      1813.0   4676.3   \n",
       "5   2023-11-04  regular        5         8.0      2508.0   4368.8   \n",
       "6   2023-11-05  regular        6         8.0      2772.0   4073.6   \n",
       "7   2023-11-06  regular        7         8.0      2868.0   3891.9   \n",
       "8   2023-11-07  regular        8         8.0      2701.0   3843.5   \n",
       "9   2023-11-08  regular        9         8.0      2677.0   3392.3   \n",
       "10  2023-11-09  regular       10         8.0      2724.0   4021.6   \n",
       "11  2023-11-10  regular       11         8.0      2664.0   4446.6   \n",
       "12  2023-11-12  regular       12         8.0      2964.0   3578.1   \n",
       "13  2023-11-13  regular       13         9.0      2511.0   3892.7   \n",
       "14  2023-11-14  regular       14         8.0      2546.0   4631.5   \n",
       "15  2023-11-15  regular       15        10.0      3037.0   5904.4   \n",
       "16  2023-11-16  regular       16         8.0      2618.0   3577.2   \n",
       "17  2023-11-17  regular       17         8.0      2784.0   4240.3   \n",
       "18  2023-11-17  regular       18         8.0      2544.0   4122.2   \n",
       "19  2023-11-29  regular       19         8.0      1903.0   3594.8   \n",
       "20  2023-11-30  regular       20         8.0      2598.0   4399.4   \n",
       "21  2023-11-30  regular       21         8.0      2318.0   3726.8   \n",
       "22  2023-12-01  regular       22         8.0      2765.0   3971.8   \n",
       "23  2023-12-02  regular       23         8.0      2735.0   3324.9   \n",
       "24  2023-12-03  regular       24         8.0      2904.0   3611.7   \n",
       "25  2023-12-04  regular       25         9.0      2321.0   4830.3   \n",
       "26  2023-12-05  regular       26         8.0      2500.0   4027.3   \n",
       "27  2023-12-06  regular       27         8.0      2464.0   4862.7   \n",
       "28  2023-12-07  regular       28         8.0      2477.0   4645.8   \n",
       "\n",
       "    session_time  proper_end  \n",
       "0       62958.68        True  \n",
       "1       92528.09        True  \n",
       "2       93254.17        True  \n",
       "3       48806.09        True  \n",
       "4       44786.86        True  \n",
       "5      426901.11        True  \n",
       "6       54142.84        True  \n",
       "7       51936.30        True  \n",
       "8       67753.79        True  \n",
       "9       49173.70        True  \n",
       "10      50625.32        True  \n",
       "11      49668.89        True  \n",
       "12      52477.36        True  \n",
       "13      46014.54        True  \n",
       "14      48596.05        True  \n",
       "15     447362.45        True  \n",
       "16      84472.29        True  \n",
       "17      52275.88        True  \n",
       "18      50028.95        True  \n",
       "19      42850.73        True  \n",
       "20     364626.29        True  \n",
       "21      43679.99        True  \n",
       "22      69744.42        True  \n",
       "23      48775.41        True  \n",
       "24      50545.14        True  \n",
       "25      52677.13        True  \n",
       "26      59413.61        True  \n",
       "27      49901.03        True  \n",
       "28      84551.70        True  "
      ]
     },
     "execution_count": 54,
     "metadata": {},
     "output_type": "execute_result"
    }
   ],
   "source": [
    "sessions_training_stitched"
   ]
  },
  {
   "cell_type": "markdown",
   "metadata": {},
   "source": [
    "# Combine sessions"
   ]
  },
  {
   "cell_type": "code",
   "execution_count": null,
   "metadata": {},
   "outputs": [],
   "source": [
    "stitched_folder = os.path.join(data_dir, cohort, 'full_clean_stitched')\n",
    "stitched_all_mice_folder = os.path.join(data_dir, cohort, 'full_clean_stitched_all_mice')"
   ]
  },
  {
   "attachments": {},
   "cell_type": "markdown",
   "metadata": {},
   "source": [
    "## Stitch sessions from the same mouse on the same day"
   ]
  },
  {
   "cell_type": "markdown",
   "metadata": {},
   "source": [
    "load session log and generate lists for looping"
   ]
  },
  {
   "cell_type": "code",
   "execution_count": null,
   "metadata": {},
   "outputs": [],
   "source": [
    "training_session_log = utils.load_session_log(data_folder, 'training_sessions.csv')"
   ]
  },
  {
   "cell_type": "markdown",
   "metadata": {},
   "source": [
    "makes the stitched session log with columns of date, mouse, dir, filename"
   ]
  },
  {
   "cell_type": "code",
   "execution_count": null,
   "metadata": {},
   "outputs": [],
   "source": [
    "stitched_session_log = helper.generate_stitched_session_log(training_session_log)"
   ]
  },
  {
   "cell_type": "markdown",
   "metadata": {},
   "source": [
    "### Stitch!"
   ]
  },
  {
   "cell_type": "markdown",
   "metadata": {},
   "source": [
    "creates empty directories in the stitched folder"
   ]
  },
  {
   "cell_type": "code",
   "execution_count": null,
   "metadata": {},
   "outputs": [],
   "source": [
    "for d in stitched_session_log.dir:\n",
    "    new_dir = os.path.join(stitched_folder, d)\n",
    "    if not os.path.exists(new_dir):\n",
    "        os.makedirs(new_dir)"
   ]
  },
  {
   "cell_type": "markdown",
   "metadata": {},
   "source": [
    "loop through each day and each mouse to stitch processed_session and all_trials_analyzed"
   ]
  },
  {
   "cell_type": "code",
   "execution_count": null,
   "metadata": {},
   "outputs": [],
   "source": [
    "training_session_log = training_session_log.sort_values(by = ['dir'])\n",
    "log_by_date = training_session_log.groupby('date')"
   ]
  },
  {
   "cell_type": "code",
   "execution_count": null,
   "metadata": {},
   "outputs": [],
   "source": [
    "for d, date in log_by_date:\n",
    "    date_log_by_mouse = date.groupby('mouse')\n",
    "    for m, mouse in date_log_by_mouse:\n",
    "        num_sessions = len(mouse)\n",
    "        session_info = mouse.iloc[0]\n",
    "        stitched_session = utils.load_processed_session(data_folder, session_info)\n",
    "        stitched_all_trials = utils.load_all_trials_analyzed(data_folder, session_info)\n",
    "\n",
    "        for i in range(1, num_sessions):\n",
    "            session_2 = utils.load_processed_session(data_folder, mouse.iloc[i])\n",
    "            all_trials_2 = utils.load_all_trials_analyzed(data_folder, mouse.iloc[i])\n",
    "\n",
    "            stitched_session = helper.stitch_sessions(stitched_session, session_2)\n",
    "            stitched_all_trials = helper.stitch_all_trials(stitched_all_trials, all_trials_2)\n",
    "        \n",
    "        stitched_session.to_csv(utils.generate_stitched_processed_session_path(stitched_folder, session_info))\n",
    "        stitched_all_trials.to_csv(utils.generate_stitched_all_trials_path(stitched_folder, session_info))"
   ]
  },
  {
   "cell_type": "markdown",
   "metadata": {},
   "source": [
    "### Add info to stitched sesscion log and save it"
   ]
  },
  {
   "cell_type": "code",
   "execution_count": null,
   "metadata": {},
   "outputs": [],
   "source": [
    "stitched_session_basics_list = []\n",
    "for _, session_info in stitched_session_log.iterrows():\n",
    "    session = utils.load_stitched_processed_session(stitched_folder, session_info)\n",
    "    session_basics = {'dir': session_info.dir} | helper.get_session_basics(session)\n",
    "    stitched_session_basics_list.append(session_basics)\n",
    "stitched_session_basics = pd.DataFrame(stitched_session_basics_list)\n",
    "stitched_session_log = pd.merge(stitched_session_log, stitched_session_basics, on='dir')"
   ]
  },
  {
   "cell_type": "code",
   "execution_count": null,
   "metadata": {},
   "outputs": [],
   "source": [
    "def assign_session_numbers(group):\n",
    "    group.sort_values(by=['mouse', 'date'], inplace=True)\n",
    "    group['session'] = list(range(len(group)))\n",
    "    return group"
   ]
  },
  {
   "cell_type": "code",
   "execution_count": null,
   "metadata": {},
   "outputs": [],
   "source": [
    "stitched_session_log = stitched_session_log.groupby('mouse', group_keys=False).apply(assign_session_numbers)\n",
    "utils.save_as_csv(stitched_session_log, stitched_folder, 'stitched_training_session_log.csv')"
   ]
  },
  {
   "cell_type": "markdown",
   "metadata": {},
   "source": [
    "## Stitch all Sessions from the same day"
   ]
  },
  {
   "cell_type": "markdown",
   "metadata": {},
   "source": [
    "load stitched session log"
   ]
  },
  {
   "cell_type": "code",
   "execution_count": null,
   "metadata": {},
   "outputs": [],
   "source": [
    "stitched_session_log = utils.load_data(os.path.join(data_folder, 'sessions_training.csv'))"
   ]
  },
  {
   "cell_type": "markdown",
   "metadata": {},
   "source": [
    "generage stitched all mice log with columns of date, mouse, dir, filename"
   ]
  },
  {
   "cell_type": "code",
   "execution_count": null,
   "metadata": {},
   "outputs": [],
   "source": [
    "stitched_all_mice_session_log = helper.generate_stitched_all_mice_session_log(stitched_session_log)"
   ]
  },
  {
   "cell_type": "markdown",
   "metadata": {},
   "source": [
    "### Stitch!"
   ]
  },
  {
   "cell_type": "markdown",
   "metadata": {},
   "source": [
    "creates empty directories in the stitched folder"
   ]
  },
  {
   "cell_type": "code",
   "execution_count": null,
   "metadata": {},
   "outputs": [],
   "source": [
    "for date in stitched_all_mice_session_log.date:\n",
    "    new_dir = os.path.join(stitched_all_mice_folder, date)\n",
    "    if not os.path.exists(new_dir):\n",
    "        os.makedirs(new_dir)"
   ]
  },
  {
   "cell_type": "markdown",
   "metadata": {},
   "source": [
    "loop through each day to stitch processed_session and all_trials_analyzed from all mice"
   ]
  },
  {
   "cell_type": "code",
   "execution_count": null,
   "metadata": {},
   "outputs": [],
   "source": [
    "def generate_trials_analyzed_stitched_path(data_folder, session_info):\n",
    "    filename = f'trials_analyzed_stitched_{session_info.date}.csv'\n",
    "    return os.path.join(data_folder, session_info.date, filename)"
   ]
  },
  {
   "cell_type": "code",
   "execution_count": null,
   "metadata": {},
   "outputs": [],
   "source": [
    "log_by_date = stitched_session_log.groupby('date')"
   ]
  },
  {
   "cell_type": "code",
   "execution_count": null,
   "metadata": {},
   "outputs": [],
   "source": [
    "for d, date in log_by_date:\n",
    "    num_mice = len(date)\n",
    "    session_info = date.iloc[0]\n",
    "    stitched_session = utils.load_data(utils.generate_events_processed_path(data_folder, session_info))\n",
    "    stitched_all_trials = utils.load_data(utils.generate_trials_analyzed_path(data_folder, session_info))\n",
    "\n",
    "    for i in range(1, num_mice):\n",
    "        session_2 = utils.load_data(utils.generate_events_processed_path(data_folder, date.iloc[i]))\n",
    "        all_trials_2 = utils.load_data(utils.generate_trials_analyzed_path(data_folder, date.iloc[i]))\n",
    "        stitched_session = helper.stitch_sessions(stitched_session, session_2)\n",
    "        stitched_all_trials = helper.stitch_all_trials(stitched_all_trials, all_trials_2)\n",
    "    \n",
    "    stitched_session.to_csv(generate_events_processed_stitched_path(stitched_all_mice_folder, session_info))\n",
    "    stitched_all_trials.to_csv(generate_trials_analyzed_stitched_path(stitched_all_mice_folder, session_info))"
   ]
  },
  {
   "cell_type": "code",
   "execution_count": null,
   "metadata": {},
   "outputs": [],
   "source": [
    "stitched_all_trials"
   ]
  },
  {
   "cell_type": "markdown",
   "metadata": {},
   "source": [
    "### Add info to stitched sesscion log and save it"
   ]
  },
  {
   "cell_type": "code",
   "execution_count": null,
   "metadata": {},
   "outputs": [],
   "source": [
    "stitched_session_basics_list = []\n",
    "for _, session_info in stitched_all_mice_session_log.iterrows():\n",
    "    session = utils.load_data(generate_events_processed_stitched_path(stitched_all_mice_folder, session_info))\n",
    "    session_basics = {'date': session_info.date} | helper.get_session_basics(session)\n",
    "    stitched_session_basics_list.append(session_basics)\n",
    "stitched_session_basics = pd.DataFrame(stitched_session_basics_list)\n",
    "stitched_session_log = pd.merge(stitched_all_mice_session_log, stitched_session_basics, on='date')"
   ]
  },
  {
   "cell_type": "code",
   "execution_count": null,
   "metadata": {},
   "outputs": [],
   "source": [
    "total_days = len(stitched_all_mice_session_log)\n",
    "stitched_all_mice_session_log['days'] = list(range(total_days))"
   ]
  },
  {
   "cell_type": "code",
   "execution_count": null,
   "metadata": {},
   "outputs": [],
   "source": [
    "utils.save_as_csv(stitched_session_log, stitched_all_mice_folder, 'sessions_training_stitched.csv')"
   ]
  }
 ],
 "metadata": {
  "kernelspec": {
   "display_name": "LUCKYCHARM",
   "language": "python",
   "name": "luckycharm"
  },
  "language_info": {
   "codemirror_mode": {
    "name": "ipython",
    "version": 3
   },
   "file_extension": ".py",
   "mimetype": "text/x-python",
   "name": "python",
   "nbconvert_exporter": "python",
   "pygments_lexer": "ipython3",
   "version": "3.1.-1"
  },
  "orig_nbformat": 4
 },
 "nbformat": 4,
 "nbformat_minor": 2
}
