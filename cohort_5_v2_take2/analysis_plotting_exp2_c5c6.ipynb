{
 "cells": [
  {
   "cell_type": "code",
   "execution_count": null,
   "metadata": {},
   "outputs": [],
   "source": [
    "import os\n",
    "import numpy as np\n",
    "\n",
    "import analysis_plotting_helper_functions_c3v3 as helper\n",
    "import session_processing_helper_c5 as processing_helper\n",
    "import utils\n",
    "\n",
    "import pandas as pd\n",
    "import matplotlib.pyplot as plt\n",
    "import seaborn as sns\n",
    "from scipy import stats\n",
    "from statsmodels.stats.multicomp import pairwise_tukeyhsd"
   ]
  },
  {
   "cell_type": "code",
   "execution_count": 2,
   "metadata": {},
   "outputs": [
    {
     "name": "stdout",
     "output_type": "stream",
     "text": [
      "/Users/rebekahzhang/data/behavior_data/exp2/cohort_5+6\n",
      "/Users/rebekahzhang/data/behavior_data/exp2/cohort_5+6_figures\n"
     ]
    }
   ],
   "source": [
    "data_dir = '/Users/rebekahzhang/data/behavior_data'\n",
    "exp = \"exp2\"\n",
    "cohort = \"cohort_5+6\"\n",
    "data_folder = os.path.join(data_dir, exp, cohort)\n",
    "figure_folder = os.path.join(data_dir, exp, f'{cohort}_figures')\n",
    "print(data_folder)\n",
    "print(figure_folder)"
   ]
  },
  {
   "cell_type": "code",
   "execution_count": 3,
   "metadata": {},
   "outputs": [],
   "source": [
    "# two_colors = plt.cm.viridis(np.linspace(0, 1, 2))\n",
    "two_colors = [\"#ffb400\", \"#9080ff\"]\n",
    "custom_palette = {'s': two_colors[0], 'l': two_colors[1]}"
   ]
  },
  {
   "cell_type": "code",
   "execution_count": 4,
   "metadata": {},
   "outputs": [],
   "source": [
    "colors = [\"#fd7f6f\", \"#7eb0d5\", \"#b2e061\", \"#bd7ebe\", \"#ffb55a\", \"#ffee65\", \n",
    "          \"#beb9db\", \"#fdcce5\", \"#8bd3c7\", \"#96c3d6\", \"#c4d7a7\", \"#d1b9d9\",\n",
    "          \"#ffcc00\"]"
   ]
  },
  {
   "cell_type": "markdown",
   "metadata": {},
   "source": [
    "# Merge session logs of cohort 5 and cohort 6\n",
    "merging two logs and adding training session number, then saving. remember to move data from cohort folders to combined folder. Does not need to be re run"
   ]
  },
  {
   "cell_type": "code",
   "execution_count": 5,
   "metadata": {},
   "outputs": [],
   "source": [
    "sessions_c5 = pd.read_csv(os.path.join(data_dir, exp, 'cohort_5', 'sessions_training.csv'))\n",
    "sessions_c6 = pd.read_csv(os.path.join(data_dir, exp, 'cohort_6', 'sessions_training.csv'))"
   ]
  },
  {
   "cell_type": "code",
   "execution_count": 6,
   "metadata": {},
   "outputs": [],
   "source": [
    "sessions_c5c6 = pd.concat([sessions_c5, sessions_c6])"
   ]
  },
  {
   "cell_type": "code",
   "execution_count": 7,
   "metadata": {},
   "outputs": [],
   "source": [
    "sessions_c5c6 = sessions_c5c6.drop(columns = ['Unnamed: 0'])\n",
    "sessions_c5c6 = sessions_c5c6.groupby('mouse', group_keys=False).apply(processing_helper.assign_session_numbers)"
   ]
  },
  {
   "cell_type": "code",
   "execution_count": 8,
   "metadata": {},
   "outputs": [],
   "source": [
    "sessions_c5c6 = sessions_c5c6.groupby('mouse', group_keys=False).apply(processing_helper.assign_session_numbers)\n",
    "sessions_c5c6 = sessions_c5c6.sort_values('dir')"
   ]
  },
  {
   "cell_type": "code",
   "execution_count": 9,
   "metadata": {},
   "outputs": [],
   "source": [
    "utils.save_log(sessions_c5c6, data_folder, \"sessions_training.csv\")"
   ]
  },
  {
   "attachments": {},
   "cell_type": "markdown",
   "metadata": {},
   "source": [
    "# Session based plotting"
   ]
  },
  {
   "attachments": {},
   "cell_type": "markdown",
   "metadata": {},
   "source": [
    "### load session log"
   ]
  },
  {
   "cell_type": "code",
   "execution_count": 51,
   "metadata": {},
   "outputs": [],
   "source": [
    "sessions_training = pd.read_csv(os.path.join(data_folder, 'sessions_training.csv'))"
   ]
  },
  {
   "attachments": {},
   "cell_type": "markdown",
   "metadata": {},
   "source": [
    "### make mouse list"
   ]
  },
  {
   "cell_type": "code",
   "execution_count": 52,
   "metadata": {},
   "outputs": [
    {
     "name": "stdout",
     "output_type": "stream",
     "text": [
      "['RZ034', 'RZ036', 'RZ037', 'RZ038', 'RZ039', 'RZ047', 'RZ050', 'RZ051', 'RZ052', 'RZ053', 'RZ054', 'RZ055', 'RZ056']\n"
     ]
    }
   ],
   "source": [
    "# mouse_list = utils.generate_mouse_list(sessions_training)\n",
    "mouse_list = ['RZ034', 'RZ036', 'RZ037', 'RZ038', 'RZ039', 'RZ047', 'RZ050', 'RZ051', 'RZ052', 'RZ053', 'RZ054', 'RZ055', 'RZ056']\n",
    "print(mouse_list)"
   ]
  },
  {
   "cell_type": "code",
   "execution_count": 53,
   "metadata": {},
   "outputs": [],
   "source": [
    "cohort_group = {\"s\": ['RZ034', 'RZ036', 'RZ047', 'RZ050', 'RZ051'], \n",
    "                \"l\": ['RZ037', 'RZ038', 'RZ039', 'RZ052', 'RZ053', 'RZ054', 'RZ055', 'RZ056']}"
   ]
  },
  {
   "cell_type": "markdown",
   "metadata": {},
   "source": [
    "### finalizing data set before plotting"
   ]
  },
  {
   "cell_type": "code",
   "execution_count": 54,
   "metadata": {},
   "outputs": [],
   "source": [
    "sessions_training = sessions_training.loc[sessions_training['session'] <= 57]"
   ]
  },
  {
   "cell_type": "code",
   "execution_count": 86,
   "metadata": {},
   "outputs": [],
   "source": [
    "sessions_training = sessions_training.loc[sessions_training['mouse']!= 'RZ049']"
   ]
  },
  {
   "cell_type": "code",
   "execution_count": 87,
   "metadata": {},
   "outputs": [],
   "source": [
    "sessions_training = sessions_training.loc[~sessions_training['mouse'].isin(['RZ049', 'RZ038'])]"
   ]
  },
  {
   "attachments": {},
   "cell_type": "markdown",
   "metadata": {},
   "source": [
    "### Plotting functions\n",
    "should be moved to helper"
   ]
  },
  {
   "cell_type": "code",
   "execution_count": 15,
   "metadata": {},
   "outputs": [],
   "source": [
    "def plot_each_mouse_per_line(data_df, column_name, plot_name, title, x_label, y_label, \n",
    "                             figure_folder=figure_folder, mouse_list=mouse_list):\n",
    "    fig = plt.figure()\n",
    "    for i, mouse in enumerate(mouse_list):\n",
    "        session_mouse = data_df.loc[data_df.mouse == mouse]\n",
    "        plt.plot(session_mouse.session, session_mouse[column_name], color=colors[i], label=mouse)\n",
    "    plt.title(title)\n",
    "    plt.xlabel(x_label)\n",
    "    plt.ylabel(y_label)\n",
    "    plt.legend(bbox_to_anchor=(1, 1), loc=\"upper left\")\n",
    "    fig.savefig(f'{figure_folder}/{plot_name}.png', bbox_inches='tight')"
   ]
  },
  {
   "cell_type": "code",
   "execution_count": 16,
   "metadata": {},
   "outputs": [],
   "source": [
    "def plot_overdays_colored_by_group(data_df, column_name, plot_name, title, x_label, y_label, \n",
    "                                   figure_folder=figure_folder, color_palette=custom_palette):\n",
    "    fig = plt.figure()\n",
    "    sns.lineplot(x=\"session\",\n",
    "                 y=column_name,\n",
    "                 hue=\"group\",\n",
    "                 data=data_df,\n",
    "                 palette=color_palette)\n",
    "    plt.title(title)\n",
    "    plt.xlabel(x_label)\n",
    "    plt.ylabel(y_label)\n",
    "    # plt.ylim(1,4)\n",
    "    plt.legend(bbox_to_anchor=(1, 1), loc=\"upper left\")\n",
    "    fig.savefig(f'{figure_folder}/{plot_name}.png', bbox_inches='tight')"
   ]
  },
  {
   "attachments": {},
   "cell_type": "markdown",
   "metadata": {},
   "source": [
    "# Plot type of trials per session"
   ]
  },
  {
   "attachments": {},
   "cell_type": "markdown",
   "metadata": {},
   "source": [
    "### generate trial type df for plotting\n",
    "Calculate proportions of trials types and generate trial type df"
   ]
  },
  {
   "cell_type": "code",
   "execution_count": null,
   "metadata": {},
   "outputs": [],
   "source": [
    "sessions_training"
   ]
  },
  {
   "cell_type": "code",
   "execution_count": 90,
   "metadata": {},
   "outputs": [],
   "source": [
    "def generate_trial_type_df(training_session_log):\n",
    "    for _, session_info in training_session_log.iterrows():\n",
    "        all_trials = utils.load_data(utils.generate_trials_analyzed_path(data_folder, session_info))\n",
    "        session_performance = helper.get_session_performance(all_trials)\n",
    "        training_session_log.loc[training_session_log.dir == session_info['dir'], \n",
    "                                    ['miss_trials', 'good_trials']] = session_performance\n",
    "    trial_type_df = training_session_log[['mouse', 'group', 'session', 'num_trials', \n",
    "                                            'miss_trials', 'good_trials']].copy()\n",
    "    trial_type_df['p_miss'] = trial_type_df.miss_trials/trial_type_df.num_trials\n",
    "    trial_type_df['p_good'] = trial_type_df.good_trials/trial_type_df.num_trials\n",
    "    trial_type_df['p_accident'] = 1 - trial_type_df.p_good - trial_type_df.p_miss \n",
    "    return trial_type_df"
   ]
  },
  {
   "cell_type": "code",
   "execution_count": 91,
   "metadata": {},
   "outputs": [],
   "source": [
    "trial_type_df = generate_trial_type_df(sessions_training)"
   ]
  },
  {
   "cell_type": "markdown",
   "metadata": {},
   "source": [
    "### trial type combined plot"
   ]
  },
  {
   "cell_type": "code",
   "execution_count": null,
   "metadata": {},
   "outputs": [],
   "source": [
    "for group, mice in cohort_group.items():\n",
    "  fig, axs = plt.subplots(8, 1, figsize=(10, 10), sharex=True)\n",
    "\n",
    "  for i, mouse in enumerate(mice):\n",
    "    session_mouse = trial_type_df.loc[(trial_type_df.mouse == mouse) & (trial_type_df.group == group)]\n",
    "    to_plot = session_mouse.loc[:, ['session', 'p_good', 'p_miss', 'p_accident']]\n",
    "    ax = axs.flat[i]\n",
    "    to_plot.plot.bar(x='session', stacked=True, ax=ax, legend=None)\n",
    "    ax.set_title(mouse)\n",
    "    ax.set_xlabel('Sessions')\n",
    "    ax.set_ylabel('Normalized Proportion')\n",
    "    ax.plot(to_plot.session, to_plot.p_good, color='k', linewidth=1.5)\n",
    "  \n",
    "  # if group == \"l\":\n",
    "  #   handles, labels = ax.get_legend_handles_labels()\n",
    "  #   fig.legend(handles, labels, loc='upper right', bbox_to_anchor=(1.12, 1))\n",
    "  # if group == \"s\" and len(mice) < 5:\n",
    "  #   axs.flat[-1].axis('off')\n",
    "  plt.tight_layout()\n",
    "  plt.savefig(f'{figure_folder}/engagement_plots_{group}.png', bbox_inches='tight')"
   ]
  },
  {
   "cell_type": "markdown",
   "metadata": {},
   "source": [
    "### percentage good trials"
   ]
  },
  {
   "cell_type": "code",
   "execution_count": null,
   "metadata": {},
   "outputs": [],
   "source": [
    "# plot the proportion of good trials\n",
    "plot_each_mouse_per_line(data_df=trial_type_df, \n",
    "                         column_name='p_good', \n",
    "                         plot_name=\"%_good_trials\", \n",
    "                         title='Proportion of Good Trials',\n",
    "                         x_label='Sessions', \n",
    "                         y_label='Proportion')"
   ]
  },
  {
   "cell_type": "code",
   "execution_count": null,
   "metadata": {},
   "outputs": [],
   "source": [
    "plot_overdays_colored_by_group(data_df=trial_type_df, \n",
    "                               column_name=\"p_good\", \n",
    "                               plot_name='%_good_trials_by_group', \n",
    "                               title='Proportion of Good Trials', \n",
    "                               x_label='Sessions', \n",
    "                               y_label='Proportion')"
   ]
  },
  {
   "cell_type": "markdown",
   "metadata": {},
   "source": [
    "### Percent missed trials"
   ]
  },
  {
   "cell_type": "code",
   "execution_count": null,
   "metadata": {},
   "outputs": [],
   "source": [
    "# plot the proportion of miss trials\n",
    "plot_each_mouse_per_line(data_df=trial_type_df, \n",
    "                         column_name='p_miss', \n",
    "                         plot_name=\"%_miss_trials\",\n",
    "                         title='Proportion of Missed Trials', \n",
    "                         x_label='Sessions', \n",
    "                         y_label='Proportion')"
   ]
  },
  {
   "cell_type": "code",
   "execution_count": null,
   "metadata": {},
   "outputs": [],
   "source": [
    "plot_overdays_colored_by_group(data_df=trial_type_df, \n",
    "                               column_name=\"p_miss\", \n",
    "                               plot_name='%_miss_trials_by_group', \n",
    "                               title='Proportion of Missed Trials', \n",
    "                               x_label='Sessions', \n",
    "                               y_label='Proportion')"
   ]
  },
  {
   "cell_type": "markdown",
   "metadata": {},
   "source": [
    "### Percent accident trials"
   ]
  },
  {
   "cell_type": "code",
   "execution_count": null,
   "metadata": {},
   "outputs": [],
   "source": [
    "# plot the proportion of accident trials\n",
    "plot_each_mouse_per_line(data_df=trial_type_df, \n",
    "                         column_name='p_accident', \n",
    "                         plot_name=\"%_accident_trials\", \n",
    "                         title='Proportion of Accident Trials',\n",
    "                         x_label='Sessions', \n",
    "                         y_label='Proportion')"
   ]
  },
  {
   "cell_type": "code",
   "execution_count": null,
   "metadata": {},
   "outputs": [],
   "source": [
    "plot_overdays_colored_by_group(data_df=trial_type_df, \n",
    "                               column_name=\"p_accident\", \n",
    "                               plot_name='%_accident_trials_by_group', \n",
    "                               title='Proportion of Accident Trials', \n",
    "                               x_label='Sessions', \n",
    "                               y_label='Proportion')"
   ]
  },
  {
   "attachments": {},
   "cell_type": "markdown",
   "metadata": {},
   "source": [
    "# Plot rewards per session"
   ]
  },
  {
   "cell_type": "markdown",
   "metadata": {},
   "source": [
    "### add info to training session log for plotting"
   ]
  },
  {
   "cell_type": "code",
   "execution_count": 99,
   "metadata": {},
   "outputs": [],
   "source": [
    "def generate_reward_df(sessions):\n",
    "\n",
    "    reward_df = sessions[['mouse', 'group', 'session', 'num_trials', \n",
    "                                            'rewards', 'session_time']].copy()\n",
    "    reward_df['reward_rate'] = reward_df.rewards/reward_df.session_time\n",
    "    reward_df['reward_per_trial'] = reward_df.rewards/reward_df.num_trials\n",
    "    reward_df['num_trials_rewarded'] = reward_df.rewards/5\n",
    "    reward_df['%_trials_rewarded'] = reward_df.num_trials_rewarded/reward_df.num_trials\n",
    "\n",
    "    return reward_df"
   ]
  },
  {
   "cell_type": "code",
   "execution_count": 100,
   "metadata": {},
   "outputs": [],
   "source": [
    "rewards_df = generate_reward_df(sessions_training)"
   ]
  },
  {
   "cell_type": "markdown",
   "metadata": {},
   "source": [
    "### plot % rewarded trials"
   ]
  },
  {
   "cell_type": "code",
   "execution_count": null,
   "metadata": {},
   "outputs": [],
   "source": [
    "plot_each_mouse_per_line(data_df=rewards_df, \n",
    "                         column_name='%_trials_rewarded', \n",
    "                         plot_name=\"%_trials_rewarded\",\n",
    "                         title='Percent Trials Rewarded', \n",
    "                         x_label='Sessions', \n",
    "                         y_label='%')"
   ]
  },
  {
   "cell_type": "code",
   "execution_count": null,
   "metadata": {},
   "outputs": [],
   "source": [
    "plot_overdays_colored_by_group(data_df=rewards_df, \n",
    "                               column_name=\"%_trials_rewarded\", \n",
    "                               plot_name='%_trials_rewarded_by_group', \n",
    "                               title='Percent Trials Rewarded', \n",
    "                               x_label='Sessions', \n",
    "                               y_label='%')"
   ]
  },
  {
   "cell_type": "markdown",
   "metadata": {},
   "source": [
    "### Plot reward rate"
   ]
  },
  {
   "cell_type": "code",
   "execution_count": null,
   "metadata": {},
   "outputs": [],
   "source": [
    "# plot the reward rate\n",
    "plot_each_mouse_per_line(data_df=rewards_df, \n",
    "                         column_name='reward_rate', \n",
    "                         plot_name=\"reward_rate\",\n",
    "                         title='Reward Rate', \n",
    "                         x_label='Sessions', \n",
    "                         y_label='Reward Rate (ul/s)')"
   ]
  },
  {
   "cell_type": "code",
   "execution_count": null,
   "metadata": {},
   "outputs": [],
   "source": [
    "plot_overdays_colored_by_group(data_df=rewards_df, \n",
    "                               column_name=\"reward_rate\", \n",
    "                               plot_name='reward_rate_by_group', \n",
    "                               title='Reward Rate', \n",
    "                               x_label='Sessions', \n",
    "                               y_label='Reward Rate (ul/s)')"
   ]
  },
  {
   "cell_type": "markdown",
   "metadata": {},
   "source": [
    "### Plot session length"
   ]
  },
  {
   "cell_type": "code",
   "execution_count": null,
   "metadata": {},
   "outputs": [],
   "source": [
    "# plot the session length\n",
    "plot_each_mouse_per_line(data_df=rewards_df, \n",
    "                         column_name='session_time', \n",
    "                         plot_name=\"session_length\", \n",
    "                         title='Session Length',\n",
    "                         x_label='Sessions', \n",
    "                         y_label='Time (s)')"
   ]
  },
  {
   "cell_type": "code",
   "execution_count": null,
   "metadata": {},
   "outputs": [],
   "source": [
    "plot_overdays_colored_by_group(data_df=rewards_df, \n",
    "                               column_name=\"session_time\", \n",
    "                               plot_name='session_length_by_group', \n",
    "                               title='Session Length', \n",
    "                               x_label='Sessions', \n",
    "                               y_label='Time (s)')"
   ]
  },
  {
   "cell_type": "markdown",
   "metadata": {},
   "source": [
    "### plot num trials completed"
   ]
  },
  {
   "cell_type": "code",
   "execution_count": null,
   "metadata": {},
   "outputs": [],
   "source": [
    "# plot the number of trials completed\n",
    "plot_each_mouse_per_line(data_df=rewards_df, \n",
    "                         column_name='num_trials', \n",
    "                         plot_name=\"num_trials\", \n",
    "                         title='Trials Completed',\n",
    "                         x_label='Sessions', \n",
    "                         y_label='Count')"
   ]
  },
  {
   "cell_type": "code",
   "execution_count": null,
   "metadata": {},
   "outputs": [],
   "source": [
    "plot_overdays_colored_by_group(data_df=rewards_df, \n",
    "                               column_name=\"num_trials\", \n",
    "                               plot_name='num_trials_by_group', \n",
    "                               title='Trials Completed', \n",
    "                               x_label='Sessions', \n",
    "                               y_label='Count')"
   ]
  },
  {
   "cell_type": "markdown",
   "metadata": {},
   "source": [
    "# Plot background behavior"
   ]
  },
  {
   "cell_type": "markdown",
   "metadata": {},
   "source": [
    "### generate mistake df for plotting"
   ]
  },
  {
   "cell_type": "code",
   "execution_count": 109,
   "metadata": {},
   "outputs": [],
   "source": [
    "def get_session_mistakes(all_trials):\n",
    "    all_trials['bg_repeats'] -= 1\n",
    "    num_bg_repeats_mean = all_trials.bg_repeats.mean()\n",
    "    num_bg_repeats_med = all_trials.bg_repeats.median()\n",
    "    num_bg_repeats_std = all_trials.bg_repeats.std()\n",
    "    num_bg_repeats_rate_mean = num_bg_repeats_mean/all_trials.bg_length.mean()\n",
    "    return [num_bg_repeats_mean, num_bg_repeats_med, num_bg_repeats_std, num_bg_repeats_rate_mean]"
   ]
  },
  {
   "cell_type": "code",
   "execution_count": 110,
   "metadata": {},
   "outputs": [],
   "source": [
    "def generate_mistake_df(training_session_log):\n",
    "    mistake_df = training_session_log[['mouse', 'session', 'dir', 'group']].copy()\n",
    "\n",
    "    for _, session_info in training_session_log.iterrows():\n",
    "        all_trials = utils.load_data(utils.generate_trials_analyzed_path(data_folder, session_info))\n",
    "        # time waited for all trials\n",
    "        session_mistakes = get_session_mistakes(all_trials)\n",
    "        mistake_df.loc[mistake_df.dir == session_info['dir'], \n",
    "                                ['num_bg_repeats_mean', 'num_bg_repeats_med', \n",
    "                                 'num_bg_repeats_std', 'num_bg_repeats_rate_mean']] = session_mistakes\n",
    "    return mistake_df"
   ]
  },
  {
   "cell_type": "code",
   "execution_count": 111,
   "metadata": {},
   "outputs": [],
   "source": [
    "mistakes_df = generate_mistake_df(sessions_training)"
   ]
  },
  {
   "cell_type": "markdown",
   "metadata": {},
   "source": [
    "### plot number of mistakes per trial"
   ]
  },
  {
   "cell_type": "code",
   "execution_count": null,
   "metadata": {},
   "outputs": [],
   "source": [
    "plot_each_mouse_per_line(data_df=mistakes_df, \n",
    "                         column_name='num_bg_repeats_mean', \n",
    "                         plot_name=\"num_bg_repeats_mean\", \n",
    "                         title='Number of Background Repeat Penalty',\n",
    "                         x_label='Sessions', \n",
    "                         y_label=' ')"
   ]
  },
  {
   "cell_type": "code",
   "execution_count": null,
   "metadata": {},
   "outputs": [],
   "source": [
    "plot_overdays_colored_by_group(data_df=mistakes_df, \n",
    "                               column_name=\"num_bg_repeats_mean\", \n",
    "                               plot_name='num_bg_repeats_mean_by_group', \n",
    "                               title='Number of Background Repeat Penalty', \n",
    "                               x_label='Sessions', \n",
    "                               y_label=' ')"
   ]
  },
  {
   "cell_type": "markdown",
   "metadata": {},
   "source": [
    "### plot mistake rate"
   ]
  },
  {
   "cell_type": "code",
   "execution_count": null,
   "metadata": {},
   "outputs": [],
   "source": [
    "plot_each_mouse_per_line(data_df=mistakes_df, \n",
    "                         column_name='num_bg_repeats_rate_mean', \n",
    "                         plot_name=\"num_bg_repeats_rate_mean\", \n",
    "                         title='Background Repeat Rate',\n",
    "                         x_label='Sessions', \n",
    "                         y_label='Count per Second')"
   ]
  },
  {
   "cell_type": "code",
   "execution_count": null,
   "metadata": {},
   "outputs": [],
   "source": [
    "plot_overdays_colored_by_group(data_df=mistakes_df, \n",
    "                               column_name=\"num_bg_repeats_rate_mean\", \n",
    "                               plot_name='num_bg_repeats_rate_mean_by_group', \n",
    "                               title='Background Repeat Rate', \n",
    "                               x_label='Sessions', \n",
    "                               y_label='Count per Second')"
   ]
  },
  {
   "attachments": {},
   "cell_type": "markdown",
   "metadata": {},
   "source": [
    "# Plot time wait behavior"
   ]
  },
  {
   "cell_type": "markdown",
   "metadata": {},
   "source": [
    "### generate wait df for plotting"
   ]
  },
  {
   "cell_type": "code",
   "execution_count": 15,
   "metadata": {},
   "outputs": [],
   "source": [
    "def generate_wait_df(training_session_log):\n",
    "    wait_df = training_session_log[['mouse', 'session', 'dir', 'group']].copy()\n",
    "\n",
    "    for _, session_info in training_session_log.iterrows():\n",
    "        all_trials = utils.load_data(utils.generate_trials_analyzed_path(data_folder, session_info))\n",
    "        # time waited for all trials\n",
    "        session_tw = helper.get_session_tw(all_trials)\n",
    "        wait_df.loc[wait_df.dir == session_info['dir'], \n",
    "                                ['tw_mean', 'tw_median', 'tw_stdev']] = session_tw\n",
    "\n",
    "        good_trials = utils.select_good_trials(all_trials)\n",
    "         # time waited for good trials\n",
    "        session_tw_g = helper.get_session_tw(good_trials)\n",
    "        wait_df.loc[wait_df.dir == session_info['dir'], \n",
    "                                ['tw_mean_g', 'tw_median_g', 'tw_stdev_g']] = session_tw_g\n",
    "    return wait_df"
   ]
  },
  {
   "cell_type": "code",
   "execution_count": 88,
   "metadata": {},
   "outputs": [],
   "source": [
    "wait_df = generate_wait_df(sessions_training)"
   ]
  },
  {
   "cell_type": "markdown",
   "metadata": {},
   "source": [
    "### plot time watied"
   ]
  },
  {
   "cell_type": "code",
   "execution_count": null,
   "metadata": {},
   "outputs": [],
   "source": [
    "# plot the time waited over days. \n",
    "plot_each_mouse_per_line(data_df=wait_df, \n",
    "                         column_name='tw_mean', \n",
    "                         plot_name=\"tw_mean\", \n",
    "                         title='Time Waited',\n",
    "                         x_label='Sessions', \n",
    "                         y_label='Time (s)')"
   ]
  },
  {
   "cell_type": "code",
   "execution_count": null,
   "metadata": {},
   "outputs": [],
   "source": [
    "plot_overdays_colored_by_group(data_df=wait_df, \n",
    "                               column_name=\"tw_mean\", \n",
    "                               plot_name='tw_mean_by_group', \n",
    "                               title='Time Waited', \n",
    "                               x_label='Sessions', \n",
    "                               y_label='Time (s)')"
   ]
  },
  {
   "cell_type": "code",
   "execution_count": null,
   "metadata": {},
   "outputs": [],
   "source": [
    "plot_overdays_colored_by_group(data_df=wait_df_no_outlier, \n",
    "                               column_name=\"tw_mean\", \n",
    "                               plot_name='tw_mean_by_group', \n",
    "                               title='Time Waited', \n",
    "                               x_label='Sessions', \n",
    "                               y_label='Time (s)')"
   ]
  },
  {
   "cell_type": "code",
   "execution_count": null,
   "metadata": {},
   "outputs": [],
   "source": [
    "# plot the time waited over days good trials only. \n",
    "plot_each_mouse_per_line(data_df=wait_df, \n",
    "                         column_name='tw_mean_g', \n",
    "                         plot_name=\"tw_mean_g\", \n",
    "                         title='Time Waited (Good Trials Only)',\n",
    "                         x_label='Sessions', \n",
    "                         y_label='Time (s)')"
   ]
  },
  {
   "cell_type": "code",
   "execution_count": null,
   "metadata": {},
   "outputs": [],
   "source": [
    "plot_overdays_colored_by_group(data_df=wait_df, \n",
    "                               column_name=\"tw_mean_g\", \n",
    "                               plot_name='tw_mean_g_by_group', \n",
    "                               title='Time Waited (Good Trials Only)', \n",
    "                               x_label='Sessions', \n",
    "                               y_label='Time (s)')"
   ]
  },
  {
   "cell_type": "markdown",
   "metadata": {},
   "source": [
    "## some stats"
   ]
  },
  {
   "cell_type": "markdown",
   "metadata": {},
   "source": [
    "all sessions tw difference"
   ]
  },
  {
   "cell_type": "code",
   "execution_count": 89,
   "metadata": {},
   "outputs": [
    {
     "data": {
      "text/html": [
       "<div>\n",
       "<style scoped>\n",
       "    .dataframe tbody tr th:only-of-type {\n",
       "        vertical-align: middle;\n",
       "    }\n",
       "\n",
       "    .dataframe tbody tr th {\n",
       "        vertical-align: top;\n",
       "    }\n",
       "\n",
       "    .dataframe thead th {\n",
       "        text-align: right;\n",
       "    }\n",
       "</style>\n",
       "<table border=\"1\" class=\"dataframe\">\n",
       "  <thead>\n",
       "    <tr style=\"text-align: right;\">\n",
       "      <th></th>\n",
       "      <th>mouse</th>\n",
       "      <th>session</th>\n",
       "      <th>dir</th>\n",
       "      <th>group</th>\n",
       "      <th>tw_mean</th>\n",
       "      <th>tw_median</th>\n",
       "      <th>tw_stdev</th>\n",
       "      <th>tw_mean_g</th>\n",
       "      <th>tw_median_g</th>\n",
       "      <th>tw_stdev_g</th>\n",
       "    </tr>\n",
       "  </thead>\n",
       "  <tbody>\n",
       "    <tr>\n",
       "      <th>0</th>\n",
       "      <td>RZ034</td>\n",
       "      <td>0</td>\n",
       "      <td>2024-01-30_09-52-34_RZ034</td>\n",
       "      <td>s</td>\n",
       "      <td>0.466963</td>\n",
       "      <td>0.340259</td>\n",
       "      <td>0.435522</td>\n",
       "      <td>0.431781</td>\n",
       "      <td>0.310554</td>\n",
       "      <td>0.390514</td>\n",
       "    </tr>\n",
       "    <tr>\n",
       "      <th>1</th>\n",
       "      <td>RZ036</td>\n",
       "      <td>0</td>\n",
       "      <td>2024-01-30_09-55-23_RZ036</td>\n",
       "      <td>s</td>\n",
       "      <td>0.390074</td>\n",
       "      <td>0.302142</td>\n",
       "      <td>0.332347</td>\n",
       "      <td>0.378059</td>\n",
       "      <td>0.232625</td>\n",
       "      <td>0.395064</td>\n",
       "    </tr>\n",
       "    <tr>\n",
       "      <th>2</th>\n",
       "      <td>RZ037</td>\n",
       "      <td>0</td>\n",
       "      <td>2024-01-30_10-36-04_RZ037</td>\n",
       "      <td>l</td>\n",
       "      <td>1.696422</td>\n",
       "      <td>0.789636</td>\n",
       "      <td>2.564594</td>\n",
       "      <td>2.390402</td>\n",
       "      <td>1.037323</td>\n",
       "      <td>3.418212</td>\n",
       "    </tr>\n",
       "    <tr>\n",
       "      <th>4</th>\n",
       "      <td>RZ039</td>\n",
       "      <td>0</td>\n",
       "      <td>2024-01-30_11-40-20_RZ039</td>\n",
       "      <td>l</td>\n",
       "      <td>1.179677</td>\n",
       "      <td>0.509508</td>\n",
       "      <td>1.559682</td>\n",
       "      <td>2.174182</td>\n",
       "      <td>1.180063</td>\n",
       "      <td>1.941666</td>\n",
       "    </tr>\n",
       "    <tr>\n",
       "      <th>5</th>\n",
       "      <td>RZ034</td>\n",
       "      <td>1</td>\n",
       "      <td>2024-01-31_10-37-51_RZ034</td>\n",
       "      <td>s</td>\n",
       "      <td>2.447444</td>\n",
       "      <td>1.334782</td>\n",
       "      <td>3.606793</td>\n",
       "      <td>3.078756</td>\n",
       "      <td>1.523699</td>\n",
       "      <td>4.509924</td>\n",
       "    </tr>\n",
       "    <tr>\n",
       "      <th>...</th>\n",
       "      <td>...</td>\n",
       "      <td>...</td>\n",
       "      <td>...</td>\n",
       "      <td>...</td>\n",
       "      <td>...</td>\n",
       "      <td>...</td>\n",
       "      <td>...</td>\n",
       "      <td>...</td>\n",
       "      <td>...</td>\n",
       "      <td>...</td>\n",
       "    </tr>\n",
       "    <tr>\n",
       "      <th>1011</th>\n",
       "      <td>RZ052</td>\n",
       "      <td>57</td>\n",
       "      <td>2024-09-13_11-47-24_RZ052</td>\n",
       "      <td>l</td>\n",
       "      <td>2.596680</td>\n",
       "      <td>1.463440</td>\n",
       "      <td>4.208879</td>\n",
       "      <td>3.678163</td>\n",
       "      <td>2.085946</td>\n",
       "      <td>5.827187</td>\n",
       "    </tr>\n",
       "    <tr>\n",
       "      <th>1012</th>\n",
       "      <td>RZ053</td>\n",
       "      <td>57</td>\n",
       "      <td>2024-09-13_12-16-00_RZ053</td>\n",
       "      <td>l</td>\n",
       "      <td>1.980068</td>\n",
       "      <td>1.221629</td>\n",
       "      <td>4.397515</td>\n",
       "      <td>2.546296</td>\n",
       "      <td>1.195273</td>\n",
       "      <td>6.384118</td>\n",
       "    </tr>\n",
       "    <tr>\n",
       "      <th>1013</th>\n",
       "      <td>RZ054</td>\n",
       "      <td>57</td>\n",
       "      <td>2024-09-13_12-21-28_RZ054</td>\n",
       "      <td>l</td>\n",
       "      <td>2.140448</td>\n",
       "      <td>0.831807</td>\n",
       "      <td>5.515733</td>\n",
       "      <td>3.638768</td>\n",
       "      <td>1.050284</td>\n",
       "      <td>7.904301</td>\n",
       "    </tr>\n",
       "    <tr>\n",
       "      <th>1014</th>\n",
       "      <td>RZ055</td>\n",
       "      <td>57</td>\n",
       "      <td>2024-09-13_12-23-39_RZ055</td>\n",
       "      <td>l</td>\n",
       "      <td>4.832807</td>\n",
       "      <td>1.941313</td>\n",
       "      <td>8.890270</td>\n",
       "      <td>7.841885</td>\n",
       "      <td>3.168195</td>\n",
       "      <td>11.293142</td>\n",
       "    </tr>\n",
       "    <tr>\n",
       "      <th>1015</th>\n",
       "      <td>RZ056</td>\n",
       "      <td>57</td>\n",
       "      <td>2024-09-13_12-26-25_RZ056</td>\n",
       "      <td>l</td>\n",
       "      <td>2.628337</td>\n",
       "      <td>1.819853</td>\n",
       "      <td>4.220814</td>\n",
       "      <td>2.919377</td>\n",
       "      <td>1.863387</td>\n",
       "      <td>4.892617</td>\n",
       "    </tr>\n",
       "  </tbody>\n",
       "</table>\n",
       "<p>703 rows × 10 columns</p>\n",
       "</div>"
      ],
      "text/plain": [
       "      mouse  session                        dir group   tw_mean  tw_median  \\\n",
       "0     RZ034        0  2024-01-30_09-52-34_RZ034     s  0.466963   0.340259   \n",
       "1     RZ036        0  2024-01-30_09-55-23_RZ036     s  0.390074   0.302142   \n",
       "2     RZ037        0  2024-01-30_10-36-04_RZ037     l  1.696422   0.789636   \n",
       "4     RZ039        0  2024-01-30_11-40-20_RZ039     l  1.179677   0.509508   \n",
       "5     RZ034        1  2024-01-31_10-37-51_RZ034     s  2.447444   1.334782   \n",
       "...     ...      ...                        ...   ...       ...        ...   \n",
       "1011  RZ052       57  2024-09-13_11-47-24_RZ052     l  2.596680   1.463440   \n",
       "1012  RZ053       57  2024-09-13_12-16-00_RZ053     l  1.980068   1.221629   \n",
       "1013  RZ054       57  2024-09-13_12-21-28_RZ054     l  2.140448   0.831807   \n",
       "1014  RZ055       57  2024-09-13_12-23-39_RZ055     l  4.832807   1.941313   \n",
       "1015  RZ056       57  2024-09-13_12-26-25_RZ056     l  2.628337   1.819853   \n",
       "\n",
       "      tw_stdev  tw_mean_g  tw_median_g  tw_stdev_g  \n",
       "0     0.435522   0.431781     0.310554    0.390514  \n",
       "1     0.332347   0.378059     0.232625    0.395064  \n",
       "2     2.564594   2.390402     1.037323    3.418212  \n",
       "4     1.559682   2.174182     1.180063    1.941666  \n",
       "5     3.606793   3.078756     1.523699    4.509924  \n",
       "...        ...        ...          ...         ...  \n",
       "1011  4.208879   3.678163     2.085946    5.827187  \n",
       "1012  4.397515   2.546296     1.195273    6.384118  \n",
       "1013  5.515733   3.638768     1.050284    7.904301  \n",
       "1014  8.890270   7.841885     3.168195   11.293142  \n",
       "1015  4.220814   2.919377     1.863387    4.892617  \n",
       "\n",
       "[703 rows x 10 columns]"
      ]
     },
     "execution_count": 89,
     "metadata": {},
     "output_type": "execute_result"
    }
   ],
   "source": [
    "wait_df"
   ]
  },
  {
   "cell_type": "code",
   "execution_count": 90,
   "metadata": {},
   "outputs": [
    {
     "name": "stdout",
     "output_type": "stream",
     "text": [
      "RZ034 avg tw: 1.7321099594691909\n",
      "RZ036 avg tw: 2.121853089809856\n",
      "RZ037 avg tw: 3.887343703496214\n",
      "RZ039 avg tw: 5.558478202124927\n",
      "RZ047 avg tw: 2.26219010828616\n",
      "RZ048 avg tw: 1.7774260335827543\n",
      "RZ050 avg tw: 2.2476466916241535\n",
      "RZ051 avg tw: 2.2411428607987665\n",
      "RZ052 avg tw: 2.739564537204516\n",
      "RZ053 avg tw: 2.9562906624903658\n",
      "RZ054 avg tw: 5.112327289732677\n",
      "RZ055 avg tw: 5.219981593361283\n",
      "RZ056 avg tw: 2.376790463573562\n"
     ]
    }
   ],
   "source": [
    "wait_by_mouse = wait_df.groupby('mouse')\n",
    "for m, mouse_data in wait_by_mouse:\n",
    "    avg_avg_tw = mouse_data['tw_mean'].mean()\n",
    "    print(m, \"avg tw:\", avg_avg_tw)"
   ]
  },
  {
   "cell_type": "markdown",
   "metadata": {},
   "source": [
    "### zscore outlier"
   ]
  },
  {
   "cell_type": "code",
   "execution_count": 91,
   "metadata": {},
   "outputs": [],
   "source": [
    "def calculate_tw_z_score(mouse_data):\n",
    "    time_waited = mouse_data['tw_mean']\n",
    "    z_score = stats.zscore(time_waited)\n",
    "    mouse_data['tw_z_score'] = z_score\n",
    "    return mouse_data"
   ]
  },
  {
   "cell_type": "code",
   "execution_count": 92,
   "metadata": {},
   "outputs": [],
   "source": [
    "wait_df = wait_df.groupby('mouse', group_keys=False).apply(calculate_tw_z_score)"
   ]
  },
  {
   "cell_type": "code",
   "execution_count": 93,
   "metadata": {},
   "outputs": [],
   "source": [
    "outlier_sessions = wait_df[(wait_df['tw_z_score'] > 3) | (wait_df['tw_z_score'] < -3)]"
   ]
  },
  {
   "cell_type": "code",
   "execution_count": 95,
   "metadata": {},
   "outputs": [],
   "source": [
    "wait_df_no_outlier = wait_df[wait_df['tw_z_score'].between(-3, 3)]"
   ]
  },
  {
   "cell_type": "code",
   "execution_count": 96,
   "metadata": {},
   "outputs": [
    {
     "data": {
      "text/html": [
       "<div>\n",
       "<style scoped>\n",
       "    .dataframe tbody tr th:only-of-type {\n",
       "        vertical-align: middle;\n",
       "    }\n",
       "\n",
       "    .dataframe tbody tr th {\n",
       "        vertical-align: top;\n",
       "    }\n",
       "\n",
       "    .dataframe thead th {\n",
       "        text-align: right;\n",
       "    }\n",
       "</style>\n",
       "<table border=\"1\" class=\"dataframe\">\n",
       "  <thead>\n",
       "    <tr style=\"text-align: right;\">\n",
       "      <th></th>\n",
       "      <th>mouse</th>\n",
       "      <th>session</th>\n",
       "      <th>dir</th>\n",
       "      <th>group</th>\n",
       "      <th>tw_mean</th>\n",
       "      <th>tw_median</th>\n",
       "      <th>tw_stdev</th>\n",
       "      <th>tw_mean_g</th>\n",
       "      <th>tw_median_g</th>\n",
       "      <th>tw_stdev_g</th>\n",
       "      <th>tw_z_score</th>\n",
       "    </tr>\n",
       "  </thead>\n",
       "  <tbody>\n",
       "    <tr>\n",
       "      <th>0</th>\n",
       "      <td>RZ034</td>\n",
       "      <td>0</td>\n",
       "      <td>2024-01-30_09-52-34_RZ034</td>\n",
       "      <td>s</td>\n",
       "      <td>0.466963</td>\n",
       "      <td>0.340259</td>\n",
       "      <td>0.435522</td>\n",
       "      <td>0.431781</td>\n",
       "      <td>0.310554</td>\n",
       "      <td>0.390514</td>\n",
       "      <td>-1.578426</td>\n",
       "    </tr>\n",
       "    <tr>\n",
       "      <th>1</th>\n",
       "      <td>RZ036</td>\n",
       "      <td>0</td>\n",
       "      <td>2024-01-30_09-55-23_RZ036</td>\n",
       "      <td>s</td>\n",
       "      <td>0.390074</td>\n",
       "      <td>0.302142</td>\n",
       "      <td>0.332347</td>\n",
       "      <td>0.378059</td>\n",
       "      <td>0.232625</td>\n",
       "      <td>0.395064</td>\n",
       "      <td>-1.443811</td>\n",
       "    </tr>\n",
       "    <tr>\n",
       "      <th>2</th>\n",
       "      <td>RZ037</td>\n",
       "      <td>0</td>\n",
       "      <td>2024-01-30_10-36-04_RZ037</td>\n",
       "      <td>l</td>\n",
       "      <td>1.696422</td>\n",
       "      <td>0.789636</td>\n",
       "      <td>2.564594</td>\n",
       "      <td>2.390402</td>\n",
       "      <td>1.037323</td>\n",
       "      <td>3.418212</td>\n",
       "      <td>-0.986132</td>\n",
       "    </tr>\n",
       "    <tr>\n",
       "      <th>4</th>\n",
       "      <td>RZ039</td>\n",
       "      <td>0</td>\n",
       "      <td>2024-01-30_11-40-20_RZ039</td>\n",
       "      <td>l</td>\n",
       "      <td>1.179677</td>\n",
       "      <td>0.509508</td>\n",
       "      <td>1.559682</td>\n",
       "      <td>2.174182</td>\n",
       "      <td>1.180063</td>\n",
       "      <td>1.941666</td>\n",
       "      <td>-1.235899</td>\n",
       "    </tr>\n",
       "    <tr>\n",
       "      <th>5</th>\n",
       "      <td>RZ034</td>\n",
       "      <td>1</td>\n",
       "      <td>2024-01-31_10-37-51_RZ034</td>\n",
       "      <td>s</td>\n",
       "      <td>2.447444</td>\n",
       "      <td>1.334782</td>\n",
       "      <td>3.606793</td>\n",
       "      <td>3.078756</td>\n",
       "      <td>1.523699</td>\n",
       "      <td>4.509924</td>\n",
       "      <td>0.892467</td>\n",
       "    </tr>\n",
       "    <tr>\n",
       "      <th>...</th>\n",
       "      <td>...</td>\n",
       "      <td>...</td>\n",
       "      <td>...</td>\n",
       "      <td>...</td>\n",
       "      <td>...</td>\n",
       "      <td>...</td>\n",
       "      <td>...</td>\n",
       "      <td>...</td>\n",
       "      <td>...</td>\n",
       "      <td>...</td>\n",
       "      <td>...</td>\n",
       "    </tr>\n",
       "    <tr>\n",
       "      <th>1011</th>\n",
       "      <td>RZ052</td>\n",
       "      <td>57</td>\n",
       "      <td>2024-09-13_11-47-24_RZ052</td>\n",
       "      <td>l</td>\n",
       "      <td>2.596680</td>\n",
       "      <td>1.463440</td>\n",
       "      <td>4.208879</td>\n",
       "      <td>3.678163</td>\n",
       "      <td>2.085946</td>\n",
       "      <td>5.827187</td>\n",
       "      <td>-0.094179</td>\n",
       "    </tr>\n",
       "    <tr>\n",
       "      <th>1012</th>\n",
       "      <td>RZ053</td>\n",
       "      <td>57</td>\n",
       "      <td>2024-09-13_12-16-00_RZ053</td>\n",
       "      <td>l</td>\n",
       "      <td>1.980068</td>\n",
       "      <td>1.221629</td>\n",
       "      <td>4.397515</td>\n",
       "      <td>2.546296</td>\n",
       "      <td>1.195273</td>\n",
       "      <td>6.384118</td>\n",
       "      <td>-0.726359</td>\n",
       "    </tr>\n",
       "    <tr>\n",
       "      <th>1013</th>\n",
       "      <td>RZ054</td>\n",
       "      <td>57</td>\n",
       "      <td>2024-09-13_12-21-28_RZ054</td>\n",
       "      <td>l</td>\n",
       "      <td>2.140448</td>\n",
       "      <td>0.831807</td>\n",
       "      <td>5.515733</td>\n",
       "      <td>3.638768</td>\n",
       "      <td>1.050284</td>\n",
       "      <td>7.904301</td>\n",
       "      <td>-0.884566</td>\n",
       "    </tr>\n",
       "    <tr>\n",
       "      <th>1014</th>\n",
       "      <td>RZ055</td>\n",
       "      <td>57</td>\n",
       "      <td>2024-09-13_12-23-39_RZ055</td>\n",
       "      <td>l</td>\n",
       "      <td>4.832807</td>\n",
       "      <td>1.941313</td>\n",
       "      <td>8.890270</td>\n",
       "      <td>7.841885</td>\n",
       "      <td>3.168195</td>\n",
       "      <td>11.293142</td>\n",
       "      <td>-0.117164</td>\n",
       "    </tr>\n",
       "    <tr>\n",
       "      <th>1015</th>\n",
       "      <td>RZ056</td>\n",
       "      <td>57</td>\n",
       "      <td>2024-09-13_12-26-25_RZ056</td>\n",
       "      <td>l</td>\n",
       "      <td>2.628337</td>\n",
       "      <td>1.819853</td>\n",
       "      <td>4.220814</td>\n",
       "      <td>2.919377</td>\n",
       "      <td>1.863387</td>\n",
       "      <td>4.892617</td>\n",
       "      <td>0.264889</td>\n",
       "    </tr>\n",
       "  </tbody>\n",
       "</table>\n",
       "<p>688 rows × 11 columns</p>\n",
       "</div>"
      ],
      "text/plain": [
       "      mouse  session                        dir group   tw_mean  tw_median  \\\n",
       "0     RZ034        0  2024-01-30_09-52-34_RZ034     s  0.466963   0.340259   \n",
       "1     RZ036        0  2024-01-30_09-55-23_RZ036     s  0.390074   0.302142   \n",
       "2     RZ037        0  2024-01-30_10-36-04_RZ037     l  1.696422   0.789636   \n",
       "4     RZ039        0  2024-01-30_11-40-20_RZ039     l  1.179677   0.509508   \n",
       "5     RZ034        1  2024-01-31_10-37-51_RZ034     s  2.447444   1.334782   \n",
       "...     ...      ...                        ...   ...       ...        ...   \n",
       "1011  RZ052       57  2024-09-13_11-47-24_RZ052     l  2.596680   1.463440   \n",
       "1012  RZ053       57  2024-09-13_12-16-00_RZ053     l  1.980068   1.221629   \n",
       "1013  RZ054       57  2024-09-13_12-21-28_RZ054     l  2.140448   0.831807   \n",
       "1014  RZ055       57  2024-09-13_12-23-39_RZ055     l  4.832807   1.941313   \n",
       "1015  RZ056       57  2024-09-13_12-26-25_RZ056     l  2.628337   1.819853   \n",
       "\n",
       "      tw_stdev  tw_mean_g  tw_median_g  tw_stdev_g  tw_z_score  \n",
       "0     0.435522   0.431781     0.310554    0.390514   -1.578426  \n",
       "1     0.332347   0.378059     0.232625    0.395064   -1.443811  \n",
       "2     2.564594   2.390402     1.037323    3.418212   -0.986132  \n",
       "4     1.559682   2.174182     1.180063    1.941666   -1.235899  \n",
       "5     3.606793   3.078756     1.523699    4.509924    0.892467  \n",
       "...        ...        ...          ...         ...         ...  \n",
       "1011  4.208879   3.678163     2.085946    5.827187   -0.094179  \n",
       "1012  4.397515   2.546296     1.195273    6.384118   -0.726359  \n",
       "1013  5.515733   3.638768     1.050284    7.904301   -0.884566  \n",
       "1014  8.890270   7.841885     3.168195   11.293142   -0.117164  \n",
       "1015  4.220814   2.919377     1.863387    4.892617    0.264889  \n",
       "\n",
       "[688 rows x 11 columns]"
      ]
     },
     "execution_count": 96,
     "metadata": {},
     "output_type": "execute_result"
    }
   ],
   "source": [
    "wait_df_no_outlier"
   ]
  },
  {
   "cell_type": "markdown",
   "metadata": {},
   "source": [
    "### within group anova"
   ]
  },
  {
   "cell_type": "code",
   "execution_count": 114,
   "metadata": {},
   "outputs": [],
   "source": [
    "short = wait_df_no_outlier[wait_df_no_outlier['group']=='s']\n",
    "long = wait_df_no_outlier[wait_df_no_outlier['group']=='l']"
   ]
  },
  {
   "cell_type": "code",
   "execution_count": 115,
   "metadata": {},
   "outputs": [
    {
     "name": "stdout",
     "output_type": "stream",
     "text": [
      "F-stats: 1.6420756956404134\n",
      "P-value: 0.1488716654029924\n",
      "Multiple Comparison of Means - Tukey HSD, FWER=0.05\n",
      "===================================================\n",
      "group1 group2 meandiff p-adj   lower  upper  reject\n",
      "---------------------------------------------------\n",
      " RZ034  RZ036   0.3382 0.3754   -0.16 0.8364  False\n",
      " RZ034  RZ047   0.4463  0.108 -0.0518 0.9445  False\n",
      " RZ034  RZ048   0.0919 0.9999 -0.9732 1.1571  False\n",
      " RZ034  RZ050   0.3447 0.3533 -0.1535 0.8429  False\n",
      " RZ034  RZ051   0.1904 0.8864 -0.3123 0.6931  False\n",
      " RZ036  RZ047   0.1082 0.9893   -0.39 0.6063  False\n",
      " RZ036  RZ048  -0.2463 0.9857 -1.3114 0.8189  False\n",
      " RZ036  RZ050   0.0065    1.0 -0.4916 0.5047  False\n",
      " RZ036  RZ051  -0.1478  0.959 -0.6505 0.3549  False\n",
      " RZ047  RZ048  -0.3544 0.9316 -1.4196 0.7107  False\n",
      " RZ047  RZ050  -0.1016 0.9919 -0.5998 0.3965  False\n",
      " RZ047  RZ051   -0.256 0.6894 -0.7586 0.2467  False\n",
      " RZ048  RZ050   0.2528 0.9839 -0.8124 1.3179  False\n",
      " RZ048  RZ051   0.0985 0.9998 -0.9688 1.1657  False\n",
      " RZ050  RZ051  -0.1543 0.9509  -0.657 0.3484  False\n",
      "---------------------------------------------------\n"
     ]
    }
   ],
   "source": [
    "short_by_mouse = short.groupby('mouse')\n",
    "mouse_names = short.mouse.unique().tolist()\n",
    "\n",
    "# Extract 'tw_mean' values for each mouse and store them in a list of lists\n",
    "tw_mean_values = [short_by_mouse.get_group(m)['tw_mean'].tolist() for m in mouse_names]\n",
    "\n",
    "# Perform the ANOVA test using the list of lists\n",
    "f_stat, p_value = stats.f_oneway(*tw_mean_values)\n",
    "\n",
    "print(\"F-stats:\", f_stat)\n",
    "print(\"P-value:\", p_value)\n",
    "\n",
    "tukey_results = pairwise_tukeyhsd(short['tw_mean'], short['mouse'])\n",
    "print(tukey_results)"
   ]
  },
  {
   "cell_type": "code",
   "execution_count": 116,
   "metadata": {},
   "outputs": [
    {
     "name": "stdout",
     "output_type": "stream",
     "text": [
      "F-stats: 19.08943927105315\n",
      "P-value: 1.5859334792570996e-19\n",
      "Multiple Comparison of Means - Tukey HSD, FWER=0.05 \n",
      "====================================================\n",
      "group1 group2 meandiff p-adj   lower   upper  reject\n",
      "----------------------------------------------------\n",
      " RZ037  RZ039   1.8049 0.0004  0.5744  3.0354   True\n",
      " RZ037  RZ052  -1.1315 0.0976 -2.3673  0.1043  False\n",
      " RZ037  RZ053  -0.9712 0.2376 -2.2125  0.2701  False\n",
      " RZ037  RZ054   1.1815 0.0715 -0.0543  2.4174  False\n",
      " RZ037  RZ055    0.986 0.2213 -0.2554  2.2273  False\n",
      " RZ037  RZ056  -1.4537 0.0097 -2.6895 -0.2178   True\n",
      " RZ039  RZ052  -2.9364    0.0 -4.1668 -1.7059   True\n",
      " RZ039  RZ053  -2.7761    0.0 -4.0121 -1.5401   True\n",
      " RZ039  RZ054  -0.6233  0.744 -1.8538  0.6071  False\n",
      " RZ039  RZ055  -0.8189 0.4397 -2.0549  0.4171  False\n",
      " RZ039  RZ056  -3.2585    0.0  -4.489 -2.0281   True\n",
      " RZ052  RZ053   0.1603 0.9998  -1.081  1.4016  False\n",
      " RZ052  RZ054    2.313    0.0  1.0772  3.5488   True\n",
      " RZ052  RZ055   2.1174    0.0  0.8761  3.3588   True\n",
      " RZ052  RZ056  -0.3222 0.9874  -1.558  0.9136  False\n",
      " RZ053  RZ054   2.1527    0.0  0.9114  3.3941   True\n",
      " RZ053  RZ055   1.9572 0.0001  0.7104   3.204   True\n",
      " RZ053  RZ056  -0.4825 0.9113 -1.7238  0.7589  False\n",
      " RZ054  RZ055  -0.1956 0.9992 -1.4369  1.0457  False\n",
      " RZ054  RZ056  -2.6352    0.0  -3.871 -1.3994   True\n",
      " RZ055  RZ056  -2.4396    0.0  -3.681 -1.1983   True\n",
      "----------------------------------------------------\n"
     ]
    }
   ],
   "source": [
    "long_by_mouse = long.groupby('mouse')\n",
    "mouse_names = long.mouse.unique().tolist()\n",
    "\n",
    "# Extract 'tw_mean' values for each mouse and store them in a list of lists\n",
    "tw_mean_values = [long_by_mouse.get_group(m)['tw_mean'].tolist() for m in mouse_names]\n",
    "\n",
    "# Perform the ANOVA test using the list of lists\n",
    "f_stat, p_value = stats.f_oneway(*tw_mean_values)\n",
    "\n",
    "print(\"F-stats:\", f_stat)\n",
    "print(\"P-value:\", p_value)\n",
    "\n",
    "tukey_results = pairwise_tukeyhsd(long['tw_mean'], long['mouse'])\n",
    "print(tukey_results)"
   ]
  },
  {
   "cell_type": "markdown",
   "metadata": {},
   "source": [
    "### between group t_test"
   ]
  },
  {
   "cell_type": "code",
   "execution_count": 117,
   "metadata": {},
   "outputs": [
    {
     "name": "stdout",
     "output_type": "stream",
     "text": [
      "2.1128911091393623\n",
      "3.9786823502833637\n",
      "\n"
     ]
    },
    {
     "data": {
      "text/plain": [
       "Ttest_indResult(statistic=-10.422406575854321, pvalue=9.584355564436378e-24)"
      ]
     },
     "execution_count": 117,
     "metadata": {},
     "output_type": "execute_result"
    }
   ],
   "source": [
    "short = wait_df[wait_df['group']=='s']\n",
    "long = wait_df[wait_df['group']=='l']\n",
    "\n",
    "print(short.tw_mean.mean())\n",
    "print(long.tw_mean.mean())\n",
    "print()\n",
    "\n",
    "#perform independent two sample t-test\n",
    "stats.ttest_ind(short['tw_mean'], long['tw_mean'])"
   ]
  },
  {
   "cell_type": "code",
   "execution_count": 118,
   "metadata": {},
   "outputs": [
    {
     "name": "stdout",
     "output_type": "stream",
     "text": [
      "1.9457771597014173\n",
      "3.8176802165884003\n"
     ]
    },
    {
     "data": {
      "text/plain": [
       "Ttest_indResult(statistic=-12.09599332128395, pvalue=1.1456236330093193e-30)"
      ]
     },
     "execution_count": 118,
     "metadata": {},
     "output_type": "execute_result"
    }
   ],
   "source": [
    "short = wait_df_no_outlier[wait_df_no_outlier['group']=='s']\n",
    "long = wait_df_no_outlier[wait_df_no_outlier['group']=='l']\n",
    "\n",
    "print(short.tw_mean.mean())\n",
    "print(long.tw_mean.mean())\n",
    "\n",
    "#perform independent two sample t-test\n",
    "stats.ttest_ind(short['tw_mean'], long['tw_mean'])"
   ]
  },
  {
   "cell_type": "code",
   "execution_count": 110,
   "metadata": {},
   "outputs": [
    {
     "data": {
      "image/png": "[encoded data removed]",
      "text/plain": [
       "<Figure size 108x432 with 1 Axes>"
      ]
     },
     "metadata": {
      "needs_background": "light"
     },
     "output_type": "display_data"
    }
   ],
   "source": [
    "plt.figure(figsize=(1.5, 6))\n",
    "sns.boxplot(data=wait_df, x=\"group\", y=\"tw_mean\", palette=custom_palette)\n",
    "plt.ylabel(\"Time (s)\")\n",
    "plt.xlabel(\"Group\")\n",
    "plt.savefig(f'{figure_folder}/{\"tw_box\"}.png', bbox_inches='tight')"
   ]
  },
  {
   "cell_type": "markdown",
   "metadata": {},
   "source": [
    "by days sessions tw difference"
   ]
  },
  {
   "cell_type": "code",
   "execution_count": 111,
   "metadata": {},
   "outputs": [],
   "source": [
    "def generate_p_val_df(wait_df, group_col_name):\n",
    "    result_list = []\n",
    "    for num, data in wait_df.groupby(group_col_name):\n",
    "        short = data[data['group']=='s']\n",
    "        long = data[data['group']=='l']\n",
    "        s_tw = short.tw_mean.mean()\n",
    "        l_tw = long.tw_mean.mean()\n",
    "\n",
    "        # Perform t-test\n",
    "        ttest = stats.ttest_ind(short['tw_mean'], long['tw_mean'])\n",
    "        p_val_t = ttest[1]\n",
    "\n",
    "        # Perform Mann-Whitney U test\n",
    "        u_test = stats.mannwhitneyu(short['tw_mean'], long['tw_mean'])\n",
    "        p_val_u = u_test[1]\n",
    "\n",
    "        result_list.append([num, s_tw, l_tw, p_val_t, p_val_u])\n",
    "\n",
    "    return pd.DataFrame(result_list, columns=[\"num\", \"s_tw\", \"l_tw\", \"p_val_t\", \"p_val_u\"])"
   ]
  },
  {
   "cell_type": "markdown",
   "metadata": {},
   "source": [
    "plot waiting df in 10 day intervals"
   ]
  },
  {
   "cell_type": "code",
   "execution_count": 112,
   "metadata": {},
   "outputs": [],
   "source": [
    "wait_df['period'] = wait_df['session']//10 #add session period in 10 day intervals"
   ]
  },
  {
   "cell_type": "code",
   "execution_count": 113,
   "metadata": {},
   "outputs": [
    {
     "data": {
      "image/png": "[encoded data removed]",
      "text/plain": [
       "<Figure size 648x432 with 6 Axes>"
      ]
     },
     "metadata": {
      "needs_background": "light"
     },
     "output_type": "display_data"
    }
   ],
   "source": [
    "num_subplots = wait_df['period'].max()+1\n",
    "fig, axs = plt.subplots(1, num_subplots, figsize=(num_subplots*1.5, 6), sharey=True)\n",
    "for p, period_data in wait_df.groupby('period'):\n",
    "    sns.boxplot(data=period_data,\n",
    "                x=\"group\", \n",
    "                y=\"tw_mean\", \n",
    "                palette=custom_palette,\n",
    "                ax=axs.flat[p])\n",
    "    if p != 0:\n",
    "        axs.flat[p].set_ylabel(\"\")\n",
    "\n",
    "plt.tight_layout()\n",
    "plt.savefig(f'{figure_folder}/tw_box_by_period.png', bbox_inches='tight')"
   ]
  },
  {
   "cell_type": "code",
   "execution_count": null,
   "metadata": {},
   "outputs": [],
   "source": [
    "tw_stats_by_period = generate_p_val_df(wait_df, \"period\")\n",
    "tw_stats_by_period[tw_stats_by_period['p_val_t'] < 0.05]"
   ]
  },
  {
   "cell_type": "code",
   "execution_count": null,
   "metadata": {},
   "outputs": [],
   "source": [
    "tw_stats_by_period"
   ]
  },
  {
   "cell_type": "markdown",
   "metadata": {},
   "source": [
    "## plots to be figured out"
   ]
  },
  {
   "cell_type": "code",
   "execution_count": null,
   "metadata": {},
   "outputs": [],
   "source": [
    "for group, mice in cohort_group.items():\n",
    "    fig, axs = plt.subplots(5, 1, figsize=(10, 10), sharex=True)\n",
    "    for i, mouse in enumerate(mice):\n",
    "        session_mouse = wait_df.loc[(wait_df.mouse == mouse) & (wait_df.group == group)]\n",
    "        ax = axs.flat[i]\n",
    "        ax.errorbar(session_mouse.session, session_mouse.tw_mean, session_mouse.tw_stdev, \n",
    "                    linestyle='None', marker='o', color=custom_palette[group], label='mean')\n",
    "        ax.scatter(session_mouse.session, session_mouse.tw_median, label='median', color='yellowgreen')\n",
    "        ax.set_title(mouse)\n",
    "        ax.set_xlabel('Sessions')\n",
    "        ax.set_ylabel('Time Waited (s)')\n",
    "        ax.set_ylim([-5, 35])\n",
    "    \n",
    "    if group == \"s\":\n",
    "        axs.flat[3].axis('off')\n",
    "        axs.flat[4].axis('off')\n",
    "    handles, labels = ax.get_legend_handles_labels()\n",
    "    fig.legend(handles, labels, loc='upper right', bbox_to_anchor=(1.12, 1))\n",
    "    plt.tight_layout()\n",
    "    plt.savefig(f'{figure_folder}/tw_plots_{group}.png', bbox_inches='tight', dpi=300)"
   ]
  },
  {
   "cell_type": "code",
   "execution_count": null,
   "metadata": {},
   "outputs": [],
   "source": [
    "for group, mice in cohort_group.items():\n",
    "    fig, axs = plt.subplots(3, 1, figsize=(10, 10), sharex=True, sharey=True)\n",
    "    for i, mouse in enumerate(mice):\n",
    "        session_mouse = wait_df.loc[(wait_df.mouse == mouse) & (wait_df.group == group)]\n",
    "        ax = axs.flat[i]\n",
    "        ax.errorbar(session_mouse.session, session_mouse.tw_mean_g, session_mouse.tw_stdev_g, \n",
    "                    linestyle='None', marker='o', color=custom_palette[group], label='mean')\n",
    "        ax.scatter(session_mouse.session, session_mouse.tw_median_g, label='median', color='yellowgreen')\n",
    "        ax.set_title(mouse)\n",
    "        ax.set_xlabel('Sessions')\n",
    "        ax.set_ylabel('Time Waited (s)')\n",
    "        ax.set_ylim([-5, 35])\n",
    "    \n",
    "    if group == \"s\":\n",
    "        axs.flat[2].axis('off')\n",
    "        # axs.set_ylim(0, 35)\n",
    "    handles, labels = ax.get_legend_handles_labels()\n",
    "    fig.legend(handles, labels, loc='upper right', bbox_to_anchor=(1.12, 1))\n",
    "    plt.tight_layout()\n",
    "    plt.savefig(f'{figure_folder}/tw_good_plots_{group}.png', bbox_inches='tight', dpi=300)"
   ]
  },
  {
   "cell_type": "code",
   "execution_count": 58,
   "metadata": {},
   "outputs": [],
   "source": [
    "def calculate_subplot_row_col(session_mouse, plots_per_row):\n",
    "    days_trained = len(session_mouse)\n",
    "    num_rows = (days_trained - 1) // plots_per_row + 1\n",
    "    num_cols = min(days_trained, plots_per_row)\n",
    "    return num_rows, num_cols"
   ]
  },
  {
   "cell_type": "code",
   "execution_count": 59,
   "metadata": {},
   "outputs": [],
   "source": [
    "for mouse in mouse_list:\n",
    "    session_mouse = sessions_training.loc[sessions_training.mouse == mouse]\n",
    "    num_rows, num_cols = calculate_subplot_row_col(session_mouse, 8)\n",
    "    fig, axs = plt.subplots(num_rows, num_cols, figsize=(21.5, 2.5 * num_rows))\n",
    "\n",
    "    for i, (_, session_info) in enumerate(session_mouse.iterrows()):\n",
    "        all_trials = utils.load_data(utils.generate_trials_analyzed_path(data_folder, session_info))\n",
    "        row_idx = i // num_cols\n",
    "        col_idx = i % num_cols\n",
    "        ax = axs[row_idx, col_idx]\n",
    "        \n",
    "        sns.scatterplot(x=\"session_trial_num\",\n",
    "                        y=\"time_waited\",\n",
    "                        hue=\"group\",\n",
    "                        data=all_trials,\n",
    "                        palette=custom_palette,\n",
    "                        ax=axs.flat[i])\n",
    "        ax.set_ylim([0,35])\n",
    "        ax.set_title(f'Session {i}')\n",
    "        ax.legend().remove()\n",
    "    \n",
    "    # Remove any unused subplots\n",
    "    if i + 1 < num_rows * num_cols:\n",
    "        for j in range(i + 1, num_rows * num_cols):\n",
    "            axs.flat[j].axis('off')\n",
    "\n",
    "    # Adjust the spacing between subplots\n",
    "    plt.tight_layout()\n",
    "\n",
    "    # Save the figure with proper spacing around the subplots\n",
    "    plt.savefig(f'{figure_folder}/trial_num_vs_tw_{mouse}.png', bbox_inches='tight', dpi=300)\n",
    "    plt.close()"
   ]
  },
  {
   "cell_type": "markdown",
   "metadata": {},
   "source": [
    "# Stitched all sessions all mice per day"
   ]
  },
  {
   "cell_type": "code",
   "execution_count": null,
   "metadata": {},
   "outputs": [],
   "source": [
    "stitched_folder = os.path.join(data_dir, cohort, exp, 'stitched')\n",
    "stitched_figure_folder = os.path.join(data_dir, cohort, exp, 'figures')\n",
    "print(data_folder)\n",
    "print(figure_folder)"
   ]
  },
  {
   "cell_type": "code",
   "execution_count": 61,
   "metadata": {},
   "outputs": [],
   "source": [
    "stitched_log = utils.load_session_log(stitched_folder, f'sessions_training_stitched_{exp}.csv')"
   ]
  },
  {
   "cell_type": "code",
   "execution_count": 62,
   "metadata": {},
   "outputs": [],
   "source": [
    "def generate_events_processed_stitched_path(data_folder, session_info):\n",
    "    filename = f'events_processed_stitched_{session_info.date}.csv'\n",
    "    return os.path.join(data_folder, f\"{session_info.date}\", filename)"
   ]
  },
  {
   "cell_type": "code",
   "execution_count": 63,
   "metadata": {},
   "outputs": [],
   "source": [
    "def generate_trials_analyzed_stitched_path(data_folder, session_info):\n",
    "    filename = f'trials_analyzed_stitched_{session_info.date}.csv'\n",
    "    return os.path.join(data_folder, session_info.date, filename)"
   ]
  },
  {
   "cell_type": "code",
   "execution_count": null,
   "metadata": {},
   "outputs": [],
   "source": [
    "days_trained = len(stitched_log)\n",
    "num_rows = (days_trained - 1) // 10 + 1\n",
    "num_cols = min(days_trained, 10)\n",
    "\n",
    "fig, axs = plt.subplots(num_rows, num_cols, figsize=(2.5*num_cols, 2.5 * num_rows))\n",
    "\n",
    "for i, (_, session_info) in enumerate(stitched_log.iterrows()):\n",
    "    all_trials = utils.load_data(generate_trials_analyzed_stitched_path(stitched_folder, session_info))\n",
    "    row_idx = i // num_cols\n",
    "    col_idx = i % num_cols\n",
    "    ax = axs[row_idx, col_idx]\n",
    "\n",
    "    sns.kdeplot(data=all_trials.reset_index(drop=True), \n",
    "                    x=\"time_waited\", \n",
    "                    hue=\"group\",\n",
    "                    common_norm=False,\n",
    "                    bw_adjust=0.5, \n",
    "                    palette=custom_palette,\n",
    "                    ax=axs.flat[i])\n",
    "    \n",
    "    ax.axvline(x=all_trials.loc[all_trials.group == 'l']['time_waited'].mean(), \n",
    "               color=custom_palette['l'], linestyle='--')\n",
    "    ax.axvline(x=all_trials.loc[all_trials.group == 's']['time_waited'].mean(), \n",
    "               color=custom_palette['s'], linestyle='--')\n",
    "    ax.set_xlim([0, 15])\n",
    "    ax.set_ylim([0, 0.6])\n",
    "    ax.set_title(f'Session {i+1}')\n",
    "    \n",
    "# Remove any unused subplots\n",
    "if i + 1 < num_rows * num_cols:\n",
    "    for j in range(i + 1, num_rows * num_cols):\n",
    "        axs.flat[j].axis('off')\n",
    "\n",
    "for i in range(days_trained):\n",
    "    ax = axs.flat[i]\n",
    "    ax.get_legend().remove()\n",
    "\n",
    "# Adjust the spacing between subplots\n",
    "plt.tight_layout()\n",
    "\n",
    "# Save the figure with proper spacing around the subplots\n",
    "plt.savefig(f'{stitched_figure_folder}/tw_kde.png', bbox_inches='tight', dpi=300)"
   ]
  },
  {
   "cell_type": "code",
   "execution_count": null,
   "metadata": {},
   "outputs": [],
   "source": [
    "days_trained = len(stitched_log)\n",
    "num_rows = (days_trained - 1) // 10 + 1\n",
    "num_cols = min(days_trained, 10)\n",
    "\n",
    "fig, axs = plt.subplots(num_rows, num_cols, figsize=(2.5*num_cols, 2.5 * num_rows))\n",
    "\n",
    "for i, (_, session_info) in enumerate(stitched_log.iterrows()):\n",
    "    all_trials = utils.load_data(generate_trials_analyzed_stitched_path(stitched_folder, session_info))\n",
    "    row_idx = i // num_cols\n",
    "    col_idx = i % num_cols\n",
    "    ax = axs[row_idx, col_idx]\n",
    "\n",
    "    sns.ecdfplot(data=all_trials.reset_index(drop=True), \n",
    "                    x=\"time_waited\", \n",
    "                    hue=\"group\",\n",
    "                    palette=custom_palette,\n",
    "                    ax=axs.flat[i])\n",
    "    \n",
    "    ax.axvline(x=all_trials.loc[all_trials.group == 'l']['time_waited'].mean(), \n",
    "               color=custom_palette['l'], linestyle='--')\n",
    "    ax.axvline(x=all_trials.loc[all_trials.group == 's']['time_waited'].mean(), \n",
    "               color=custom_palette['s'], linestyle='--')\n",
    "    \n",
    "    ax.set_xlim([0, 15])\n",
    "    ax.set_ylim([0, 1.01])\n",
    "    \n",
    "    ax.set_title(f'Session {i+1}')\n",
    "    \n",
    "# Remove any unused subplots\n",
    "if i + 1 < num_rows * num_cols:\n",
    "    for j in range(i + 1, num_rows * num_cols):\n",
    "        axs.flat[j].axis('off')\n",
    "\n",
    "for i in range(days_trained):\n",
    "    ax = axs.flat[i]\n",
    "    ax.get_legend().remove()\n",
    "\n",
    "# Adjust the spacing between subplots\n",
    "plt.tight_layout()\n",
    "\n",
    "# Save the figure with proper spacing around the subplots\n",
    "plt.savefig(f'{stitched_figure_folder}/tw_cdf.png', bbox_inches='tight', dpi=300)"
   ]
  },
  {
   "cell_type": "code",
   "execution_count": 66,
   "metadata": {},
   "outputs": [],
   "source": [
    "def select_non_accident_trials(all_trials):\n",
    "    non_accident_trials = all_trials[all_trials['time_waited'] > 0.5]\n",
    "    return non_accident_trials"
   ]
  },
  {
   "cell_type": "code",
   "execution_count": null,
   "metadata": {},
   "outputs": [],
   "source": [
    "days_trained = len(stitched_log)\n",
    "num_rows = (days_trained - 1) // 10 + 1\n",
    "num_cols = min(days_trained, 10)\n",
    "\n",
    "fig, axs = plt.subplots(num_rows, num_cols, figsize=(2.5*num_cols, 2.5 * num_rows))\n",
    "\n",
    "for i, (_, session_info) in enumerate(stitched_log.iterrows()):\n",
    "    all_trials = utils.load_data(generate_trials_analyzed_stitched_path(stitched_folder, session_info))\n",
    "    non_accident_trials = select_non_accident_trials(all_trials)\n",
    "    row_idx = i // num_cols\n",
    "    col_idx = i % num_cols\n",
    "    ax = axs[row_idx, col_idx]\n",
    "\n",
    "    sns.kdeplot(data=non_accident_trials.reset_index(drop=True), \n",
    "                    x=\"time_waited\", \n",
    "                    hue=\"group\",\n",
    "                    common_norm=False,\n",
    "                    bw_adjust=0.5, \n",
    "                    palette=custom_palette,\n",
    "                    ax=axs.flat[i])\n",
    "    \n",
    "    ax.axvline(x=non_accident_trials.loc[non_accident_trials.group == 'l']['time_waited'].mean(), \n",
    "               color=custom_palette['l'], linestyle='--')\n",
    "    ax.axvline(x=non_accident_trials.loc[non_accident_trials.group == 's']['time_waited'].mean(), \n",
    "               color=custom_palette['s'], linestyle='--')\n",
    "    \n",
    "    ax.set_xlim([0, 15])\n",
    "    ax.set_ylim([0, 0.6])\n",
    "    \n",
    "    ax.set_title(f'Session {i+1}')\n",
    "\n",
    "# Remove any unused subplots\n",
    "if i + 1 < num_rows * num_cols:\n",
    "    for j in range(i + 1, num_rows * num_cols):\n",
    "        axs.flat[j].axis('off')\n",
    "\n",
    "for i in range(days_trained):\n",
    "    ax = axs.flat[i]\n",
    "    ax.get_legend().remove()\n",
    "\n",
    "# Adjust the spacing between subplots\n",
    "plt.tight_layout()\n",
    "\n",
    "# Save the figure with proper spacing around the subplots\n",
    "plt.savefig(f'{stitched_figure_folder}/tw_g_kde.png', bbox_inches='tight', dpi=300)"
   ]
  },
  {
   "cell_type": "code",
   "execution_count": null,
   "metadata": {},
   "outputs": [],
   "source": [
    "days_trained = len(stitched_log)\n",
    "num_rows = (days_trained - 1) // 10 + 1\n",
    "num_cols = min(days_trained, 10)\n",
    "\n",
    "fig, axs = plt.subplots(num_rows, num_cols, figsize=(2.5*num_cols, 2.5 * num_rows))\n",
    "\n",
    "for i, (_, session_info) in enumerate(stitched_log.iterrows()):\n",
    "    all_trials = utils.load_data(generate_trials_analyzed_stitched_path(stitched_folder, session_info))\n",
    "    non_accident_trials = select_non_accident_trials(all_trials)\n",
    "    row_idx = i // num_cols\n",
    "    col_idx = i % num_cols\n",
    "    ax = axs[row_idx, col_idx]\n",
    "\n",
    "    sns.ecdfplot(data=non_accident_trials.reset_index(drop=True), \n",
    "                    x=\"time_waited\", \n",
    "                    hue=\"group\",\n",
    "                    palette=custom_palette,\n",
    "                    ax=axs.flat[i])\n",
    "    \n",
    "    ax.axvline(x=non_accident_trials.loc[non_accident_trials.group == 'l']['time_waited'].mean(), \n",
    "               color=custom_palette['l'], linestyle='--')\n",
    "    ax.axvline(x=non_accident_trials.loc[non_accident_trials.group == 's']['time_waited'].mean(), \n",
    "               color=custom_palette['s'], linestyle='--')\n",
    "    \n",
    "    ax.set_xlim([0, 15])\n",
    "    ax.set_ylim([0, 1.01])\n",
    "    \n",
    "    ax.set_title(f'Session {i+1}')\n",
    "\n",
    "# Remove any unused subplots\n",
    "if i + 1 < num_rows * num_cols:\n",
    "    for j in range(i + 1, num_rows * num_cols):\n",
    "        axs.flat[j].axis('off')\n",
    "\n",
    "for i in range(days_trained):\n",
    "    ax = axs.flat[i]\n",
    "    ax.get_legend().remove()\n",
    "\n",
    "# Adjust the spacing between subplots\n",
    "plt.tight_layout()\n",
    "\n",
    "# Save the figure with proper spacing around the subplots\n",
    "plt.savefig(f'{stitched_figure_folder}/tw_g_cdf.png', bbox_inches='tight', dpi=300)"
   ]
  }
 ],
 "metadata": {
  "kernelspec": {
   "display_name": "LUCKYCHARM",
   "language": "python",
   "name": "python3"
  },
  "language_info": {
   "codemirror_mode": {
    "name": "ipython",
    "version": 3
   },
   "file_extension": ".py",
   "mimetype": "text/x-python",
   "name": "python",
   "nbconvert_exporter": "python",
   "pygments_lexer": "ipython3",
   "version": "3.10.6"
  },
  "orig_nbformat": 4
 },
 "nbformat": 4,
 "nbformat_minor": 2
}
