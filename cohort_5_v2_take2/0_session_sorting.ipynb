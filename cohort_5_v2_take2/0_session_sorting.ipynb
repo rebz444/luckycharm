{
 "cells": [
  {
   "cell_type": "code",
   "execution_count": 1,
   "metadata": {},
   "outputs": [],
   "source": [
    "import os\n",
    "import shutil"
   ]
  },
  {
   "cell_type": "markdown",
   "metadata": {},
   "source": [
    "# Data sorting\n",
    "needed only when multiple exps and cohorts are trained during the same period of time"
   ]
  },
  {
   "cell_type": "markdown",
   "metadata": {},
   "source": [
    "create a folder with the time period as name (eg. '20250531-20240806')\n",
    "<br>\n",
    "create a folder named raw inside the period folder and put all session files into the raw folder"
   ]
  },
  {
   "cell_type": "code",
   "execution_count": 24,
   "metadata": {},
   "outputs": [
    {
     "name": "stdout",
     "output_type": "stream",
     "text": [
      "/Users/rebekahzhang/data/behavior_data/20240123-20240415\n"
     ]
    }
   ],
   "source": [
    "data_dir = '/Users/rebekahzhang/data/behavior_data'\n",
    "period = '20240123-20240415'\n",
    "data_folder = os.path.join(data_dir, period)\n",
    "print(data_folder)"
   ]
  },
  {
   "cell_type": "markdown",
   "metadata": {},
   "source": [
    "Back up raw data"
   ]
  },
  {
   "cell_type": "code",
   "execution_count": 25,
   "metadata": {},
   "outputs": [],
   "source": [
    "def backup(source_dir):\n",
    "    \"\"\"create a copy for source_dir in the same path parallel to source_dir\"\"\"\n",
    "    data_folder = os.path.dirname(source_dir)\n",
    "    source_name = os.path.basename(source_dir)\n",
    "    destination_dir = os.path.join(data_folder, f\"{source_name}_copy\")\n",
    "    if not os.path.isdir(destination_dir):\n",
    "        shutil.copytree(source_dir, destination_dir)\n",
    "        print(f\"{os.path.basename(source_dir)} backed up\")\n",
    "    else:\n",
    "        print(f\"{os.path.basename(destination_dir)} already exist\")"
   ]
  },
  {
   "cell_type": "code",
   "execution_count": 26,
   "metadata": {},
   "outputs": [
    {
     "name": "stdout",
     "output_type": "stream",
     "text": [
      "raw backed up\n"
     ]
    }
   ],
   "source": [
    "raw_folder = os.path.join(data_folder, \"raw\")\n",
    "backup(raw_folder)"
   ]
  },
  {
   "cell_type": "markdown",
   "metadata": {},
   "source": [
    "## Sort sessions based on exp\n",
    "move sessions from raw folder to corresponding exp folder"
   ]
  },
  {
   "cell_type": "code",
   "execution_count": 27,
   "metadata": {},
   "outputs": [],
   "source": [
    "exp_dict = {\"exp2\": [\"RZ034\", \"RZ035\", \"RZ036\", \"RZ047\", \"RZ048\", \"RZ049\", \"RZ050\", \"RZ051\", \n",
    "                     \"RZ037\", \"RZ038\", \"RZ039\", \"RZ052\", \"RZ053\", \"RZ054\", \"RZ055\", \"RZ056\"],\n",
    "            \"exp3\": [\"RZ040\", \"RZ041\", \"RZ042\", \"RZ043\", \"RZ044\", \"RZ045\"]}"
   ]
  },
  {
   "cell_type": "code",
   "execution_count": 28,
   "metadata": {},
   "outputs": [],
   "source": [
    "exp2_folder = os.path.join(data_folder, 'exp2')\n",
    "exp3_folder = os.path.join(data_folder, 'exp3')"
   ]
  },
  {
   "cell_type": "code",
   "execution_count": 29,
   "metadata": {},
   "outputs": [],
   "source": [
    "def move_sessions_to_exp_folders(source_path, exp2_folder, exp3_folder):\n",
    "    # Create experiment folders\n",
    "    os.makedirs(exp2_folder, exist_ok=True)\n",
    "    os.makedirs(exp3_folder, exist_ok=True)\n",
    "\n",
    "    # Create a dictionary mapping experiment names to their folder paths\n",
    "    exp_folders = {\n",
    "        \"exp2\": exp2_folder,\n",
    "        \"exp3\": exp3_folder\n",
    "    }\n",
    "\n",
    "    # Iterate through all items in the source directory\n",
    "    for item in os.listdir(source_path):\n",
    "        item_path = os.path.join(source_path, item)\n",
    "        \n",
    "        # Check if the item is a directory and matches the session folder naming pattern\n",
    "        if os.path.isdir(item_path) and len(item.split('_')) == 3:\n",
    "            date, time, mouse_name = item.split('_')\n",
    "            \n",
    "            # Find the corresponding experiment for the mouse\n",
    "            for exp, mice in exp_dict.items():\n",
    "                if mouse_name in mice:\n",
    "                    # Construct the destination path\n",
    "                    dest_path = os.path.join(exp_folders[exp], item)\n",
    "                    \n",
    "                    # Move the folder\n",
    "                    shutil.move(item_path, dest_path)\n",
    "                    break\n",
    "            else:\n",
    "                print(f\"No matching experiment found for {item}\")"
   ]
  },
  {
   "cell_type": "code",
   "execution_count": 30,
   "metadata": {},
   "outputs": [
    {
     "name": "stdout",
     "output_type": "stream",
     "text": [
      "No matching experiment found for 2024-03-31_12-29-59_test\n",
      "No matching experiment found for 2024-03-31_12-29-19_test\n"
     ]
    }
   ],
   "source": [
    "move_sessions_to_exp_folders(raw_folder, exp2_folder, exp3_folder)"
   ]
  },
  {
   "cell_type": "markdown",
   "metadata": {},
   "source": [
    "## Sort sessions based on cohort\n",
    "move sessions from raw folder to corresponding exp folder"
   ]
  },
  {
   "cell_type": "code",
   "execution_count": 31,
   "metadata": {},
   "outputs": [],
   "source": [
    "cohort_dict = {\"cohort_5\": [\"RZ034\", \"RZ035\", \"RZ036\", \"RZ037\", \"RZ038\", \"RZ039\", \"RZ040\", \"RZ041\", \"RZ042\", \"RZ043\", \"RZ044\", \"RZ045\"],\n",
    "               \"cohort_6\": [\"RZ047\", \"RZ048\", \"RZ049\", \"RZ050\", \"RZ051\", \"RZ052\", \"RZ053\", \"RZ054\", \"RZ055\", \"RZ056\"]}"
   ]
  },
  {
   "cell_type": "code",
   "execution_count": 32,
   "metadata": {},
   "outputs": [],
   "source": [
    "def moving_sessions_to_cohort_folders(exp_folder):\n",
    "    # Create cohort folders inside exp2 folder\n",
    "    for cohort in cohort_dict.keys():\n",
    "        cohort_folder = os.path.join(exp_folder, cohort)\n",
    "        os.makedirs(cohort_folder, exist_ok=True)\n",
    "    \n",
    "    for item in os.listdir(exp_folder):\n",
    "        item_path = os.path.join(exp_folder, item)\n",
    "        \n",
    "        if os.path.isdir(item_path) and len(item.split('_')) == 3:\n",
    "            date, time, mouse_name = item.split('_')\n",
    "            \n",
    "            for cohort, mice in cohort_dict.items():\n",
    "                if mouse_name in mice:\n",
    "                    dest_path = os.path.join(exp_folder, cohort, item)\n",
    "                    shutil.move(item_path, dest_path)\n",
    "                    break\n",
    "            else:\n",
    "                print(f\"No matching cohort found for {item}\")"
   ]
  },
  {
   "cell_type": "code",
   "execution_count": 33,
   "metadata": {},
   "outputs": [],
   "source": [
    "moving_sessions_to_cohort_folders(exp2_folder)\n",
    "moving_sessions_to_cohort_folders(exp3_folder)"
   ]
  },
  {
   "cell_type": "markdown",
   "metadata": {},
   "source": [
    "back up both folders"
   ]
  },
  {
   "cell_type": "code",
   "execution_count": 34,
   "metadata": {},
   "outputs": [
    {
     "name": "stdout",
     "output_type": "stream",
     "text": [
      "exp2 backed up\n",
      "exp3 backed up\n"
     ]
    }
   ],
   "source": [
    "backup(exp2_folder)\n",
    "backup(exp3_folder)"
   ]
  },
  {
   "cell_type": "code",
   "execution_count": null,
   "metadata": {},
   "outputs": [],
   "source": []
  }
 ],
 "metadata": {
  "kernelspec": {
   "display_name": "LUCKYCHARM",
   "language": "python",
   "name": "luckycharm"
  },
  "language_info": {
   "codemirror_mode": {
    "name": "ipython",
    "version": 3
   },
   "file_extension": ".py",
   "mimetype": "text/x-python",
   "name": "python",
   "nbconvert_exporter": "python",
   "pygments_lexer": "ipython3",
   "version": "3.10.6"
  }
 },
 "nbformat": 4,
 "nbformat_minor": 2
}
