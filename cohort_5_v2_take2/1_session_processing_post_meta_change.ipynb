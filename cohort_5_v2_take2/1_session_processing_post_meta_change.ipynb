{
 "cells": [
  {
   "cell_type": "code",
   "execution_count": 154,
   "metadata": {},
   "outputs": [],
   "source": [
    "import os\n",
    "import json\n",
    "import shutil\n",
    "\n",
    "import session_processing_helper_c5 as helper\n",
    "import utils_c5 as utils\n",
    "\n",
    "import pandas as pd"
   ]
  },
  {
   "cell_type": "code",
   "execution_count": 155,
   "metadata": {},
   "outputs": [
    {
     "name": "stdout",
     "output_type": "stream",
     "text": [
      "/Users/rebekahzhang/data/behavior_data/20240123-20240415/exp2/cohort_5\n"
     ]
    }
   ],
   "source": [
    "data_dir = '/Users/rebekahzhang/data/behavior_data'\n",
    "period = '20240123-20240415'\n",
    "exp = \"exp2\"\n",
    "cohort = \"cohort_5\"\n",
    "data_folder = os.path.join(data_dir, period, exp, cohort)\n",
    "print(data_folder)"
   ]
  },
  {
   "cell_type": "markdown",
   "metadata": {},
   "source": [
    "# Quality Control"
   ]
  },
  {
   "cell_type": "markdown",
   "metadata": {},
   "source": [
    "## Check session folders have both meta and events"
   ]
  },
  {
   "cell_type": "code",
   "execution_count": 156,
   "metadata": {},
   "outputs": [],
   "source": [
    "def check_session_files(data_folder):\n",
    "    files_check = []\n",
    "    for entry in os.scandir(data_folder):\n",
    "        if entry.is_dir():\n",
    "            dir = entry.name\n",
    "            session_path = os.path.join(data_folder, dir)\n",
    "            events_found = False\n",
    "            meta_found = False\n",
    "            events_empty = True\n",
    "            meta_empty = True\n",
    "            \n",
    "            required_files = [f for f in os.scandir(session_path) if f.is_file() and not f.name.startswith('.')]\n",
    "            \n",
    "            for file in required_files:\n",
    "                if file.name.startswith(\"events_\"):\n",
    "                    events_found = True\n",
    "                    if file.stat().st_size > 0:\n",
    "                        events_empty = False\n",
    "                elif file.name.startswith(\"meta_\"):\n",
    "                    meta_found = True\n",
    "                    if file.stat().st_size > 0:\n",
    "                        meta_empty = False\n",
    "            \n",
    "            files_check.append({\n",
    "                'dir': dir,\n",
    "                'events': events_found,\n",
    "                'meta': meta_found,\n",
    "                'events_empty': events_empty if events_found else None,\n",
    "                'meta_empty': meta_empty if meta_found else None\n",
    "            })\n",
    "\n",
    "    files_check_df = pd.DataFrame(files_check).sort_values(\"dir\")\n",
    "    missing_meta = files_check_df[files_check_df.meta==False]\n",
    "    missing_events = files_check_df[files_check_df.events==False]\n",
    "    empty_meta = files_check_df[(files_check_df.meta==True) & (files_check_df.meta_empty==True)]\n",
    "    empty_events = files_check_df[(files_check_df.events==True) & (files_check_df.events_empty==True)]\n",
    "    \n",
    "    return missing_meta, missing_events, empty_meta, empty_events"
   ]
  },
  {
   "cell_type": "code",
   "execution_count": 157,
   "metadata": {},
   "outputs": [
    {
     "name": "stdout",
     "output_type": "stream",
     "text": [
      "\n",
      "All sessions have non-empty meta and events files.\n"
     ]
    }
   ],
   "source": [
    "missing_events, missing_meta, empty_meta, empty_events = check_session_files(data_folder)\n",
    "if not (missing_meta.empty and missing_events.empty and empty_meta.empty and empty_events.empty):\n",
    "    print(\"\\nFile check results:\")\n",
    "    if not missing_meta.empty:\n",
    "        print(\"\\nSessions missing meta files:\")\n",
    "        display(missing_meta)\n",
    "    if not missing_events.empty:\n",
    "        print(\"\\nSessions missing events files:\")\n",
    "        display(missing_events)\n",
    "    if not empty_meta.empty:\n",
    "        print(\"\\nSessions with empty meta files:\")\n",
    "        display(empty_meta)\n",
    "    if not empty_events.empty:\n",
    "        print(\"\\nSessions with empty events files:\")\n",
    "        display(empty_events)\n",
    "else:\n",
    "    print(\"\\nAll sessions have non-empty meta and events files.\")"
   ]
  },
  {
   "cell_type": "code",
   "execution_count": 158,
   "metadata": {},
   "outputs": [],
   "source": [
    "def delete_folders(folder_list, data_folder):\n",
    "  if folder_list:\n",
    "    for folder in folder_list:\n",
    "      full_path = os.path.join(data_folder, folder)\n",
    "      if os.path.exists(full_path):\n",
    "        shutil.rmtree(full_path)\n",
    "        print(f\"Deleted folder: {full_path}\")\n",
    "      else:\n",
    "        print(f\"Folder not found: {full_path}\")\n",
    "  else:\n",
    "    print(\"no sessions to delete\")"
   ]
  },
  {
   "cell_type": "code",
   "execution_count": 159,
   "metadata": {},
   "outputs": [
    {
     "name": "stdout",
     "output_type": "stream",
     "text": [
      "no sessions to delete\n"
     ]
    }
   ],
   "source": [
    "delete_folders(missing_meta.dir.tolist(), data_folder)"
   ]
  },
  {
   "cell_type": "code",
   "execution_count": 160,
   "metadata": {},
   "outputs": [
    {
     "name": "stdout",
     "output_type": "stream",
     "text": [
      "no sessions to delete\n"
     ]
    }
   ],
   "source": [
    "delete_folders(missing_events.dir.tolist(), data_folder)"
   ]
  },
  {
   "cell_type": "code",
   "execution_count": 161,
   "metadata": {},
   "outputs": [
    {
     "name": "stdout",
     "output_type": "stream",
     "text": [
      "no sessions to delete\n"
     ]
    }
   ],
   "source": [
    "delete_folders(empty_meta.dir.tolist(), data_folder)"
   ]
  },
  {
   "cell_type": "code",
   "execution_count": 162,
   "metadata": {},
   "outputs": [
    {
     "name": "stdout",
     "output_type": "stream",
     "text": [
      "no sessions to delete\n"
     ]
    }
   ],
   "source": [
    "delete_folders(empty_events.dir.tolist(), data_folder)"
   ]
  },
  {
   "attachments": {},
   "cell_type": "markdown",
   "metadata": {},
   "source": [
    "## Generate and save sessions log"
   ]
  },
  {
   "attachments": {},
   "cell_type": "markdown",
   "metadata": {},
   "source": [
    "generate session log using meta data from each session and add columns of basic info to each session"
   ]
  },
  {
   "cell_type": "code",
   "execution_count": 89,
   "metadata": {},
   "outputs": [],
   "source": [
    "def modify_total_trial(row):\n",
    "    ending_code = row['ending_code'].lower()\n",
    "    if ending_code == 'pygame' or ending_code == 'manual':\n",
    "        return row['total_trial'] - 1\n",
    "    elif ending_code == 'miss':\n",
    "        return row['total_trial'] - 5\n",
    "    else:\n",
    "        return row['total_trial']"
   ]
  },
  {
   "cell_type": "code",
   "execution_count": 90,
   "metadata": {},
   "outputs": [],
   "source": [
    "def modify_sessions_all(sessions_all):\n",
    "    sessions_all['dir'] = sessions_all['date']+ '_' + sessions_all['time'] + '_' + sessions_all['mouse']\n",
    "    sessions_all = sessions_all.sort_values('dir')\n",
    "    sessions_all[['exp', 'group']] = sessions_all['exp'].str.extract(r'exp(\\d)_(short|long)')\n",
    "    sessions_all['group'] = sessions_all['group'].map({'short': 's', 'long': 'l'})\n",
    "    \n",
    "    sessions_all['total_trial'] = sessions_all.apply(modify_total_trial, axis=1)\n",
    "    sessions_all = sessions_all.drop(['forward_file'], axis=1)\n",
    "    return sessions_all"
   ]
  },
  {
   "cell_type": "code",
   "execution_count": 91,
   "metadata": {},
   "outputs": [],
   "source": [
    "def generate_sessions_all(data_folder):\n",
    "    \"\"\"Generates a DataFrame using session metadata from JSON files.\n",
    "    Args:\n",
    "        data_folder (str): Path to the directory containing JSON files.\n",
    "    Returns:\n",
    "        pd.DataFrame: DataFrame containing session metadata, sorted by 'dir' column.\n",
    "    \"\"\"\n",
    "\n",
    "    data = []\n",
    "    for root, _, files in os.walk(data_folder):\n",
    "        for file in files:\n",
    "            if file.startswith(\"meta_\") and file.endswith(\".json\"):\n",
    "                path = os.path.join(root, file)\n",
    "                try:\n",
    "                    with open(path) as f:\n",
    "                        session_data = json.load(f)['session_config']\n",
    "                        data.append(session_data)\n",
    "                except Exception as e:\n",
    "                    print(f\"Error processing file {file}: {e}\")\n",
    "\n",
    "    sessions_all = pd.DataFrame(data)\n",
    "    sessions_all = modify_sessions_all(sessions_all)\n",
    "    return sessions_all"
   ]
  },
  {
   "cell_type": "code",
   "execution_count": 92,
   "metadata": {},
   "outputs": [],
   "source": [
    "def generate_sessions_training(sessions_all):\n",
    "    sessions_training = sessions_all.loc[sessions_all.training == 'regular'].reset_index()\n",
    "    sessions_training = sessions_training.groupby('mouse', group_keys=False).apply(helper.assign_session_numbers)\n",
    "    return sessions_training"
   ]
  },
  {
   "cell_type": "code",
   "execution_count": 93,
   "metadata": {},
   "outputs": [],
   "source": [
    "def generate_session_logs(data_folder, save_logs=True):\n",
    "    sessions_all = generate_sessions_all(data_folder)\n",
    "    sessions_training = generate_sessions_training(sessions_all)\n",
    "    if save_logs:\n",
    "        utils.save_as_csv(df=sessions_all, folder=data_folder, filename='sessions_all.csv')\n",
    "        utils.save_as_csv(df=sessions_training, folder=data_folder, filename='sessions_training.csv')\n",
    "\n",
    "    return sessions_all, sessions_training"
   ]
  },
  {
   "cell_type": "markdown",
   "metadata": {},
   "source": [
    "### re-run after every quality control steps"
   ]
  },
  {
   "cell_type": "code",
   "execution_count": 111,
   "metadata": {},
   "outputs": [
    {
     "data": {
      "text/html": [
       "<div>\n",
       "<style scoped>\n",
       "    .dataframe tbody tr th:only-of-type {\n",
       "        vertical-align: middle;\n",
       "    }\n",
       "\n",
       "    .dataframe tbody tr th {\n",
       "        vertical-align: top;\n",
       "    }\n",
       "\n",
       "    .dataframe thead th {\n",
       "        text-align: right;\n",
       "    }\n",
       "</style>\n",
       "<table border=\"1\" class=\"dataframe\">\n",
       "  <thead>\n",
       "    <tr style=\"text-align: right;\">\n",
       "      <th></th>\n",
       "      <th>index</th>\n",
       "      <th>date</th>\n",
       "      <th>time</th>\n",
       "      <th>mouse</th>\n",
       "      <th>exp</th>\n",
       "      <th>training</th>\n",
       "      <th>rig</th>\n",
       "      <th>trainer</th>\n",
       "      <th>record</th>\n",
       "      <th>total_reward</th>\n",
       "      <th>total_trial</th>\n",
       "      <th>avg_tw</th>\n",
       "      <th>ending_code</th>\n",
       "      <th>dir</th>\n",
       "      <th>group</th>\n",
       "      <th>session</th>\n",
       "    </tr>\n",
       "  </thead>\n",
       "  <tbody>\n",
       "    <tr>\n",
       "      <th>113</th>\n",
       "      <td>71</td>\n",
       "      <td>2024-10-03</td>\n",
       "      <td>11-38-00</td>\n",
       "      <td>RZ053</td>\n",
       "      <td>2</td>\n",
       "      <td>regular</td>\n",
       "      <td>rig4</td>\n",
       "      <td>Rebekah</td>\n",
       "      <td>False</td>\n",
       "      <td>560</td>\n",
       "      <td>170</td>\n",
       "      <td>12.74</td>\n",
       "      <td>miss</td>\n",
       "      <td>2024-10-03_11-38-00_RZ053</td>\n",
       "      <td>l</td>\n",
       "      <td>19</td>\n",
       "    </tr>\n",
       "    <tr>\n",
       "      <th>114</th>\n",
       "      <td>47</td>\n",
       "      <td>2024-10-03</td>\n",
       "      <td>11-52-54</td>\n",
       "      <td>RZ054</td>\n",
       "      <td>2</td>\n",
       "      <td>regular</td>\n",
       "      <td>rig5</td>\n",
       "      <td>Rebekah</td>\n",
       "      <td>False</td>\n",
       "      <td>205</td>\n",
       "      <td>64</td>\n",
       "      <td>22.69</td>\n",
       "      <td>miss</td>\n",
       "      <td>2024-10-03_11-52-54_RZ054</td>\n",
       "      <td>l</td>\n",
       "      <td>14</td>\n",
       "    </tr>\n",
       "    <tr>\n",
       "      <th>115</th>\n",
       "      <td>18</td>\n",
       "      <td>2024-10-03</td>\n",
       "      <td>11-54-10</td>\n",
       "      <td>RZ047</td>\n",
       "      <td>2</td>\n",
       "      <td>regular</td>\n",
       "      <td>rig6</td>\n",
       "      <td>Rebekah</td>\n",
       "      <td>False</td>\n",
       "      <td>700</td>\n",
       "      <td>329</td>\n",
       "      <td>2.08</td>\n",
       "      <td>reward</td>\n",
       "      <td>2024-10-03_11-54-10_RZ047</td>\n",
       "      <td>s</td>\n",
       "      <td>12</td>\n",
       "    </tr>\n",
       "    <tr>\n",
       "      <th>116</th>\n",
       "      <td>87</td>\n",
       "      <td>2024-10-03</td>\n",
       "      <td>13-02-53</td>\n",
       "      <td>RZ050</td>\n",
       "      <td>2</td>\n",
       "      <td>regular</td>\n",
       "      <td>rig1</td>\n",
       "      <td>Rebekah</td>\n",
       "      <td>False</td>\n",
       "      <td>700</td>\n",
       "      <td>430</td>\n",
       "      <td>1.91</td>\n",
       "      <td>reward</td>\n",
       "      <td>2024-10-03_13-02-53_RZ050</td>\n",
       "      <td>s</td>\n",
       "      <td>7</td>\n",
       "    </tr>\n",
       "    <tr>\n",
       "      <th>117</th>\n",
       "      <td>30</td>\n",
       "      <td>2024-10-03</td>\n",
       "      <td>13-59-56</td>\n",
       "      <td>RZ051</td>\n",
       "      <td>2</td>\n",
       "      <td>regular</td>\n",
       "      <td>rig1</td>\n",
       "      <td>Rebekah</td>\n",
       "      <td>False</td>\n",
       "      <td>700</td>\n",
       "      <td>240</td>\n",
       "      <td>3.65</td>\n",
       "      <td>reward</td>\n",
       "      <td>2024-10-03_13-59-56_RZ051</td>\n",
       "      <td>s</td>\n",
       "      <td>7</td>\n",
       "    </tr>\n",
       "  </tbody>\n",
       "</table>\n",
       "</div>"
      ],
      "text/plain": [
       "     index        date      time  mouse exp training   rig  trainer  record  \\\n",
       "113     71  2024-10-03  11-38-00  RZ053   2  regular  rig4  Rebekah   False   \n",
       "114     47  2024-10-03  11-52-54  RZ054   2  regular  rig5  Rebekah   False   \n",
       "115     18  2024-10-03  11-54-10  RZ047   2  regular  rig6  Rebekah   False   \n",
       "116     87  2024-10-03  13-02-53  RZ050   2  regular  rig1  Rebekah   False   \n",
       "117     30  2024-10-03  13-59-56  RZ051   2  regular  rig1  Rebekah   False   \n",
       "\n",
       "     total_reward  total_trial  avg_tw ending_code                        dir  \\\n",
       "113           560          170   12.74        miss  2024-10-03_11-38-00_RZ053   \n",
       "114           205           64   22.69        miss  2024-10-03_11-52-54_RZ054   \n",
       "115           700          329    2.08      reward  2024-10-03_11-54-10_RZ047   \n",
       "116           700          430    1.91      reward  2024-10-03_13-02-53_RZ050   \n",
       "117           700          240    3.65      reward  2024-10-03_13-59-56_RZ051   \n",
       "\n",
       "    group  session  \n",
       "113     l       19  \n",
       "114     l       14  \n",
       "115     s       12  \n",
       "116     s        7  \n",
       "117     s        7  "
      ]
     },
     "execution_count": 111,
     "metadata": {},
     "output_type": "execute_result"
    }
   ],
   "source": [
    "sessions_all, sessions_training = generate_session_logs(data_folder)\n",
    "\n",
    "sessions_training.tail()"
   ]
  },
  {
   "attachments": {},
   "cell_type": "markdown",
   "metadata": {},
   "source": [
    "## Remove unwanted sessions\n",
    "doesn't need to run when data folder is cleaned \n",
    "<br>\n",
    "sessions_all needs to be regenerated after every cleaning step"
   ]
  },
  {
   "cell_type": "markdown",
   "metadata": {},
   "source": [
    "### Remove test sessions"
   ]
  },
  {
   "cell_type": "code",
   "execution_count": 95,
   "metadata": {},
   "outputs": [],
   "source": [
    "def remove_sessions(sessions_to_remove, data_folder):\n",
    "    for _, session_info in sessions_to_remove.iterrows():\n",
    "        shutil.rmtree(os.path.join(data_folder, session_info.dir))"
   ]
  },
  {
   "cell_type": "code",
   "execution_count": 96,
   "metadata": {},
   "outputs": [
    {
     "name": "stdout",
     "output_type": "stream",
     "text": [
      "no test sessions to be deleted!\n"
     ]
    }
   ],
   "source": [
    "sessions_test = sessions_all.loc[sessions_all.mouse=='test']\n",
    "if len(sessions_test) > 0:\n",
    "    remove_sessions(sessions_test, data_folder)\n",
    "    print(\"test sessions removed\")\n",
    "else:\n",
    "    print(\"no test sessions to be deleted!\")"
   ]
  },
  {
   "attachments": {},
   "cell_type": "markdown",
   "metadata": {},
   "source": [
    "### Check for short sessions"
   ]
  },
  {
   "cell_type": "code",
   "execution_count": 97,
   "metadata": {},
   "outputs": [],
   "source": [
    "short_threshold = 20"
   ]
  },
  {
   "cell_type": "code",
   "execution_count": 98,
   "metadata": {},
   "outputs": [
    {
     "data": {
      "text/html": [
       "<div>\n",
       "<style scoped>\n",
       "    .dataframe tbody tr th:only-of-type {\n",
       "        vertical-align: middle;\n",
       "    }\n",
       "\n",
       "    .dataframe tbody tr th {\n",
       "        vertical-align: top;\n",
       "    }\n",
       "\n",
       "    .dataframe thead th {\n",
       "        text-align: right;\n",
       "    }\n",
       "</style>\n",
       "<table border=\"1\" class=\"dataframe\">\n",
       "  <thead>\n",
       "    <tr style=\"text-align: right;\">\n",
       "      <th></th>\n",
       "      <th>date</th>\n",
       "      <th>time</th>\n",
       "      <th>mouse</th>\n",
       "      <th>exp</th>\n",
       "      <th>training</th>\n",
       "      <th>rig</th>\n",
       "      <th>trainer</th>\n",
       "      <th>record</th>\n",
       "      <th>total_reward</th>\n",
       "      <th>total_trial</th>\n",
       "      <th>avg_tw</th>\n",
       "      <th>ending_code</th>\n",
       "      <th>dir</th>\n",
       "      <th>group</th>\n",
       "    </tr>\n",
       "  </thead>\n",
       "  <tbody>\n",
       "    <tr>\n",
       "      <th>106</th>\n",
       "      <td>2024-09-18</td>\n",
       "      <td>11-53-54</td>\n",
       "      <td>RZ051</td>\n",
       "      <td>2</td>\n",
       "      <td>regular</td>\n",
       "      <td>rig4</td>\n",
       "      <td>Rebekah</td>\n",
       "      <td>False</td>\n",
       "      <td>30</td>\n",
       "      <td>18</td>\n",
       "      <td>34.23</td>\n",
       "      <td>miss</td>\n",
       "      <td>2024-09-18_11-53-54_RZ051</td>\n",
       "      <td>s</td>\n",
       "    </tr>\n",
       "    <tr>\n",
       "      <th>53</th>\n",
       "      <td>2024-09-18</td>\n",
       "      <td>13-01-40</td>\n",
       "      <td>RZ052</td>\n",
       "      <td>2</td>\n",
       "      <td>regular</td>\n",
       "      <td>rig6</td>\n",
       "      <td>Rebekah</td>\n",
       "      <td>False</td>\n",
       "      <td>10</td>\n",
       "      <td>1</td>\n",
       "      <td>48.76</td>\n",
       "      <td>miss</td>\n",
       "      <td>2024-09-18_13-01-40_RZ052</td>\n",
       "      <td>l</td>\n",
       "    </tr>\n",
       "    <tr>\n",
       "      <th>36</th>\n",
       "      <td>2024-09-18</td>\n",
       "      <td>13-02-33</td>\n",
       "      <td>RZ055</td>\n",
       "      <td>2</td>\n",
       "      <td>regular</td>\n",
       "      <td>rig4</td>\n",
       "      <td>Rebekah</td>\n",
       "      <td>False</td>\n",
       "      <td>25</td>\n",
       "      <td>11</td>\n",
       "      <td>36.21</td>\n",
       "      <td>miss</td>\n",
       "      <td>2024-09-18_13-02-33_RZ055</td>\n",
       "      <td>l</td>\n",
       "    </tr>\n",
       "    <tr>\n",
       "      <th>69</th>\n",
       "      <td>2024-09-18</td>\n",
       "      <td>14-41-44</td>\n",
       "      <td>RZ056</td>\n",
       "      <td>2</td>\n",
       "      <td>regular</td>\n",
       "      <td>rig2</td>\n",
       "      <td>Rebekah</td>\n",
       "      <td>False</td>\n",
       "      <td>5</td>\n",
       "      <td>1</td>\n",
       "      <td>56.62</td>\n",
       "      <td>miss</td>\n",
       "      <td>2024-09-18_14-41-44_RZ056</td>\n",
       "      <td>l</td>\n",
       "    </tr>\n",
       "    <tr>\n",
       "      <th>119</th>\n",
       "      <td>2024-09-21</td>\n",
       "      <td>15-06-44</td>\n",
       "      <td>RZ054</td>\n",
       "      <td>2</td>\n",
       "      <td>regular</td>\n",
       "      <td>rig4</td>\n",
       "      <td>Rebekah</td>\n",
       "      <td>False</td>\n",
       "      <td>25</td>\n",
       "      <td>6</td>\n",
       "      <td>33.50</td>\n",
       "      <td>miss</td>\n",
       "      <td>2024-09-21_15-06-44_RZ054</td>\n",
       "      <td>l</td>\n",
       "    </tr>\n",
       "    <tr>\n",
       "      <th>73</th>\n",
       "      <td>2024-09-24</td>\n",
       "      <td>12-10-36</td>\n",
       "      <td>RZ052</td>\n",
       "      <td>2</td>\n",
       "      <td>regular</td>\n",
       "      <td>rig2</td>\n",
       "      <td>Rebekah</td>\n",
       "      <td>False</td>\n",
       "      <td>0</td>\n",
       "      <td>-1</td>\n",
       "      <td>0.00</td>\n",
       "      <td>manual</td>\n",
       "      <td>2024-09-24_12-10-36_RZ052</td>\n",
       "      <td>l</td>\n",
       "    </tr>\n",
       "    <tr>\n",
       "      <th>40</th>\n",
       "      <td>2024-09-24</td>\n",
       "      <td>13-47-40</td>\n",
       "      <td>RZ055</td>\n",
       "      <td>2</td>\n",
       "      <td>regular</td>\n",
       "      <td>rig5</td>\n",
       "      <td>Rebekah</td>\n",
       "      <td>False</td>\n",
       "      <td>50</td>\n",
       "      <td>15</td>\n",
       "      <td>23.60</td>\n",
       "      <td>miss</td>\n",
       "      <td>2024-09-24_13-47-40_RZ055</td>\n",
       "      <td>l</td>\n",
       "    </tr>\n",
       "    <tr>\n",
       "      <th>19</th>\n",
       "      <td>2024-09-25</td>\n",
       "      <td>11-46-49</td>\n",
       "      <td>RZ052</td>\n",
       "      <td>2</td>\n",
       "      <td>regular</td>\n",
       "      <td>rig4</td>\n",
       "      <td>Rebekah</td>\n",
       "      <td>False</td>\n",
       "      <td>5</td>\n",
       "      <td>0</td>\n",
       "      <td>50.32</td>\n",
       "      <td>miss</td>\n",
       "      <td>2024-09-25_11-46-49_RZ052</td>\n",
       "      <td>l</td>\n",
       "    </tr>\n",
       "    <tr>\n",
       "      <th>74</th>\n",
       "      <td>2024-10-01</td>\n",
       "      <td>10-56-01</td>\n",
       "      <td>RZ049</td>\n",
       "      <td>2</td>\n",
       "      <td>regular</td>\n",
       "      <td>rig3</td>\n",
       "      <td>Rebekah</td>\n",
       "      <td>False</td>\n",
       "      <td>5</td>\n",
       "      <td>1</td>\n",
       "      <td>1.07</td>\n",
       "      <td>manual</td>\n",
       "      <td>2024-10-01_10-56-01_RZ049</td>\n",
       "      <td>s</td>\n",
       "    </tr>\n",
       "    <tr>\n",
       "      <th>44</th>\n",
       "      <td>2024-10-01</td>\n",
       "      <td>12-07-18</td>\n",
       "      <td>RZ056</td>\n",
       "      <td>2</td>\n",
       "      <td>regular</td>\n",
       "      <td>rig3</td>\n",
       "      <td>Rebekah</td>\n",
       "      <td>False</td>\n",
       "      <td>15</td>\n",
       "      <td>6</td>\n",
       "      <td>33.30</td>\n",
       "      <td>miss</td>\n",
       "      <td>2024-10-01_12-07-18_RZ056</td>\n",
       "      <td>l</td>\n",
       "    </tr>\n",
       "    <tr>\n",
       "      <th>67</th>\n",
       "      <td>2024-10-02</td>\n",
       "      <td>12-42-04</td>\n",
       "      <td>RZ052</td>\n",
       "      <td>2</td>\n",
       "      <td>regular</td>\n",
       "      <td>rig6</td>\n",
       "      <td>Rebekah</td>\n",
       "      <td>False</td>\n",
       "      <td>10</td>\n",
       "      <td>5</td>\n",
       "      <td>41.88</td>\n",
       "      <td>miss</td>\n",
       "      <td>2024-10-02_12-42-04_RZ052</td>\n",
       "      <td>l</td>\n",
       "    </tr>\n",
       "  </tbody>\n",
       "</table>\n",
       "</div>"
      ],
      "text/plain": [
       "           date      time  mouse exp training   rig  trainer  record  \\\n",
       "106  2024-09-18  11-53-54  RZ051   2  regular  rig4  Rebekah   False   \n",
       "53   2024-09-18  13-01-40  RZ052   2  regular  rig6  Rebekah   False   \n",
       "36   2024-09-18  13-02-33  RZ055   2  regular  rig4  Rebekah   False   \n",
       "69   2024-09-18  14-41-44  RZ056   2  regular  rig2  Rebekah   False   \n",
       "119  2024-09-21  15-06-44  RZ054   2  regular  rig4  Rebekah   False   \n",
       "73   2024-09-24  12-10-36  RZ052   2  regular  rig2  Rebekah   False   \n",
       "40   2024-09-24  13-47-40  RZ055   2  regular  rig5  Rebekah   False   \n",
       "19   2024-09-25  11-46-49  RZ052   2  regular  rig4  Rebekah   False   \n",
       "74   2024-10-01  10-56-01  RZ049   2  regular  rig3  Rebekah   False   \n",
       "44   2024-10-01  12-07-18  RZ056   2  regular  rig3  Rebekah   False   \n",
       "67   2024-10-02  12-42-04  RZ052   2  regular  rig6  Rebekah   False   \n",
       "\n",
       "     total_reward  total_trial  avg_tw ending_code                        dir  \\\n",
       "106            30           18   34.23        miss  2024-09-18_11-53-54_RZ051   \n",
       "53             10            1   48.76        miss  2024-09-18_13-01-40_RZ052   \n",
       "36             25           11   36.21        miss  2024-09-18_13-02-33_RZ055   \n",
       "69              5            1   56.62        miss  2024-09-18_14-41-44_RZ056   \n",
       "119            25            6   33.50        miss  2024-09-21_15-06-44_RZ054   \n",
       "73              0           -1    0.00      manual  2024-09-24_12-10-36_RZ052   \n",
       "40             50           15   23.60        miss  2024-09-24_13-47-40_RZ055   \n",
       "19              5            0   50.32        miss  2024-09-25_11-46-49_RZ052   \n",
       "74              5            1    1.07      manual  2024-10-01_10-56-01_RZ049   \n",
       "44             15            6   33.30        miss  2024-10-01_12-07-18_RZ056   \n",
       "67             10            5   41.88        miss  2024-10-02_12-42-04_RZ052   \n",
       "\n",
       "    group  \n",
       "106     s  \n",
       "53      l  \n",
       "36      l  \n",
       "69      l  \n",
       "119     l  \n",
       "73      l  \n",
       "40      l  \n",
       "19      l  \n",
       "74      s  \n",
       "44      l  \n",
       "67      l  "
      ]
     },
     "metadata": {},
     "output_type": "display_data"
    }
   ],
   "source": [
    "sessions_short = sessions_all[(sessions_all['total_trial'] < short_threshold) | sessions_all['total_trial'].isna()]\n",
    "if len(sessions_short)>0:\n",
    "    display(sessions_short)\n",
    "else: \n",
    "    print('no short sessions to be checked!')"
   ]
  },
  {
   "cell_type": "markdown",
   "metadata": {},
   "source": [
    "remove short sessions if needed"
   ]
  },
  {
   "cell_type": "code",
   "execution_count": 99,
   "metadata": {},
   "outputs": [],
   "source": [
    "remove_sessions(sessions_short, data_folder)"
   ]
  },
  {
   "cell_type": "markdown",
   "metadata": {},
   "source": [
    "# Process Events"
   ]
  },
  {
   "attachments": {},
   "cell_type": "markdown",
   "metadata": {},
   "source": [
    "load session log"
   ]
  },
  {
   "cell_type": "code",
   "execution_count": 100,
   "metadata": {},
   "outputs": [],
   "source": [
    "sessions_training = utils.load_data(os.path.join(data_folder, 'sessions_training.csv'))"
   ]
  },
  {
   "cell_type": "code",
   "execution_count": 101,
   "metadata": {},
   "outputs": [],
   "source": [
    "# trim events and check if events properly ended\n",
    "def process_events(session_info, events):\n",
    "    events = events.loc[events['session_trial_num'].between(0, session_info['total_trial'])]\n",
    "    return events"
   ]
  },
  {
   "cell_type": "code",
   "execution_count": 102,
   "metadata": {},
   "outputs": [],
   "source": [
    "problematic_sessions = pd.DataFrame(columns=sessions_training.columns)\n",
    "\n",
    "for _, session_info in sessions_training.iterrows():\n",
    "    try:\n",
    "        events_processed_path = utils.generate_events_processed_path(data_folder, session_info)\n",
    "        if os.path.isfile(events_processed_path):\n",
    "            continue\n",
    "        events = pd.read_csv(utils.generate_events_path(data_folder, session_info), low_memory=False)\n",
    "        events = process_events(session_info, events)\n",
    "        events_processed = events.groupby('session_trial_num', group_keys=False).apply(helper.add_trial_time)\n",
    "        events_processed.to_csv(events_processed_path)\n",
    "    except:\n",
    "        problematic_sessions = pd.concat([problematic_sessions, session_info.to_frame().T], ignore_index=True)"
   ]
  },
  {
   "cell_type": "code",
   "execution_count": 77,
   "metadata": {},
   "outputs": [
    {
     "name": "stdout",
     "output_type": "stream",
     "text": [
      "all sessions are perfect! woohoo!\n"
     ]
    }
   ],
   "source": [
    "if len(problematic_sessions) > 0:\n",
    "    display(problematic_sessions)\n",
    "else:\n",
    "    print(\"all sessions are perfect! woohoo!\")"
   ]
  },
  {
   "cell_type": "markdown",
   "metadata": {},
   "source": [
    "# Data set curation "
   ]
  },
  {
   "cell_type": "code",
   "execution_count": 130,
   "metadata": {},
   "outputs": [],
   "source": [
    "# deprecated rounds dict cuz we no longer run more than 1 session per day\n",
    "# mouse_list = utils.generate_mouse_list(sessions_all)\n",
    "mouse_list = ['RZ047','RZ049','RZ050','RZ051','RZ052','RZ053','RZ054','RZ055','RZ056']\n",
    "sessions_by_date = sessions_training.groupby('date')"
   ]
  },
  {
   "cell_type": "markdown",
   "metadata": {},
   "source": [
    "### Deal with missing sessions\n",
    "this is not the proper way to deal with this. should have it populated with mean and variation"
   ]
  },
  {
   "cell_type": "code",
   "execution_count": 131,
   "metadata": {},
   "outputs": [
    {
     "name": "stdout",
     "output_type": "stream",
     "text": [
      "on 2024-09-20, RZ050 has missing sessions\n",
      "on 2024-09-20, RZ051 has missing sessions\n",
      "on 2024-09-21, RZ050 has missing sessions\n",
      "on 2024-09-21, RZ051 has missing sessions\n",
      "on 2024-09-24, RZ050 has missing sessions\n",
      "on 2024-09-24, RZ051 has missing sessions\n",
      "on 2024-09-25, RZ054 has missing sessions\n",
      "on 2024-09-30, RZ047 has missing sessions\n",
      "on 2024-09-30, RZ049 has missing sessions\n",
      "on 2024-09-30, RZ052 has missing sessions\n",
      "on 2024-09-30, RZ053 has missing sessions\n",
      "on 2024-09-30, RZ054 has missing sessions\n",
      "on 2024-09-30, RZ055 has missing sessions\n",
      "on 2024-09-30, RZ056 has missing sessions\n",
      "on 2024-10-03, RZ049 has missing sessions\n"
     ]
    }
   ],
   "source": [
    "no_missing_sessions = True\n",
    "for date, data in sessions_by_date:\n",
    "    for mouse in mouse_list:\n",
    "        mouse_by_date = data.loc[data['mouse'] == mouse]\n",
    "        if len(mouse_by_date) < 1:\n",
    "            no_missing_sessions = False\n",
    "            print(f\"on {date}, {mouse} has missing sessions\")\n",
    "if no_missing_sessions:\n",
    "    print(\"no missing sessions!\")"
   ]
  },
  {
   "cell_type": "code",
   "execution_count": 132,
   "metadata": {},
   "outputs": [
    {
     "data": {
      "text/html": [
       "<div>\n",
       "<style scoped>\n",
       "    .dataframe tbody tr th:only-of-type {\n",
       "        vertical-align: middle;\n",
       "    }\n",
       "\n",
       "    .dataframe tbody tr th {\n",
       "        vertical-align: top;\n",
       "    }\n",
       "\n",
       "    .dataframe thead th {\n",
       "        text-align: right;\n",
       "    }\n",
       "</style>\n",
       "<table border=\"1\" class=\"dataframe\">\n",
       "  <thead>\n",
       "    <tr style=\"text-align: right;\">\n",
       "      <th></th>\n",
       "      <th>date</th>\n",
       "      <th>time</th>\n",
       "      <th>mouse</th>\n",
       "      <th>exp</th>\n",
       "      <th>training</th>\n",
       "      <th>rig</th>\n",
       "      <th>trainer</th>\n",
       "      <th>record</th>\n",
       "      <th>avg_tw</th>\n",
       "      <th>ending_code</th>\n",
       "      <th>dir</th>\n",
       "      <th>group</th>\n",
       "      <th>session</th>\n",
       "      <th>num_blocks</th>\n",
       "      <th>num_trials</th>\n",
       "      <th>rewards</th>\n",
       "      <th>session_time</th>\n",
       "      <th>proper_end</th>\n",
       "    </tr>\n",
       "  </thead>\n",
       "  <tbody>\n",
       "    <tr>\n",
       "      <th>23</th>\n",
       "      <td>2024-09-24</td>\n",
       "      <td>12-04-52</td>\n",
       "      <td>RZ049</td>\n",
       "      <td>2</td>\n",
       "      <td>regular</td>\n",
       "      <td>rig5</td>\n",
       "      <td>Rebekah</td>\n",
       "      <td>False</td>\n",
       "      <td>11.64</td>\n",
       "      <td>reward</td>\n",
       "      <td>2024-09-24_12-04-52_RZ049</td>\n",
       "      <td>s</td>\n",
       "      <td>3</td>\n",
       "      <td>1</td>\n",
       "      <td>225</td>\n",
       "      <td>700.0</td>\n",
       "      <td>3519.94</td>\n",
       "      <td>True</td>\n",
       "    </tr>\n",
       "    <tr>\n",
       "      <th>24</th>\n",
       "      <td>2024-09-24</td>\n",
       "      <td>12-07-31</td>\n",
       "      <td>RZ052</td>\n",
       "      <td>2</td>\n",
       "      <td>regular</td>\n",
       "      <td>rig6</td>\n",
       "      <td>Rebekah</td>\n",
       "      <td>False</td>\n",
       "      <td>2.36</td>\n",
       "      <td>miss</td>\n",
       "      <td>2024-09-24_12-07-31_RZ052</td>\n",
       "      <td>l</td>\n",
       "      <td>3</td>\n",
       "      <td>2</td>\n",
       "      <td>414</td>\n",
       "      <td>855.0</td>\n",
       "      <td>12090.37</td>\n",
       "      <td>False</td>\n",
       "    </tr>\n",
       "    <tr>\n",
       "      <th>25</th>\n",
       "      <td>2024-09-24</td>\n",
       "      <td>12-11-31</td>\n",
       "      <td>RZ053</td>\n",
       "      <td>2</td>\n",
       "      <td>regular</td>\n",
       "      <td>rig2</td>\n",
       "      <td>Rebekah</td>\n",
       "      <td>False</td>\n",
       "      <td>1.42</td>\n",
       "      <td>reward</td>\n",
       "      <td>2024-09-24_12-11-31_RZ053</td>\n",
       "      <td>l</td>\n",
       "      <td>3</td>\n",
       "      <td>2</td>\n",
       "      <td>844</td>\n",
       "      <td>1400.0</td>\n",
       "      <td>16350.81</td>\n",
       "      <td>True</td>\n",
       "    </tr>\n",
       "    <tr>\n",
       "      <th>26</th>\n",
       "      <td>2024-09-24</td>\n",
       "      <td>12-12-51</td>\n",
       "      <td>RZ054</td>\n",
       "      <td>2</td>\n",
       "      <td>regular</td>\n",
       "      <td>rig3</td>\n",
       "      <td>Rebekah</td>\n",
       "      <td>False</td>\n",
       "      <td>1.64</td>\n",
       "      <td>reward</td>\n",
       "      <td>2024-09-24_12-12-51_RZ054</td>\n",
       "      <td>l</td>\n",
       "      <td>3</td>\n",
       "      <td>2</td>\n",
       "      <td>593</td>\n",
       "      <td>1140.0</td>\n",
       "      <td>16964.39</td>\n",
       "      <td>False</td>\n",
       "    </tr>\n",
       "    <tr>\n",
       "      <th>27</th>\n",
       "      <td>2024-09-24</td>\n",
       "      <td>13-06-25</td>\n",
       "      <td>RZ055</td>\n",
       "      <td>2</td>\n",
       "      <td>regular</td>\n",
       "      <td>rig5</td>\n",
       "      <td>Rebekah</td>\n",
       "      <td>False</td>\n",
       "      <td>4.32</td>\n",
       "      <td>miss</td>\n",
       "      <td>2024-09-24_13-06-25_RZ055</td>\n",
       "      <td>l</td>\n",
       "      <td>3</td>\n",
       "      <td>1</td>\n",
       "      <td>144</td>\n",
       "      <td>230.0</td>\n",
       "      <td>1936.44</td>\n",
       "      <td>False</td>\n",
       "    </tr>\n",
       "    <tr>\n",
       "      <th>28</th>\n",
       "      <td>2024-09-24</td>\n",
       "      <td>13-11-53</td>\n",
       "      <td>RZ056</td>\n",
       "      <td>2</td>\n",
       "      <td>regular</td>\n",
       "      <td>rig4</td>\n",
       "      <td>Rebekah</td>\n",
       "      <td>False</td>\n",
       "      <td>1.36</td>\n",
       "      <td>reward</td>\n",
       "      <td>2024-09-24_13-11-53_RZ056</td>\n",
       "      <td>l</td>\n",
       "      <td>3</td>\n",
       "      <td>2</td>\n",
       "      <td>547</td>\n",
       "      <td>945.0</td>\n",
       "      <td>11873.72</td>\n",
       "      <td>False</td>\n",
       "    </tr>\n",
       "    <tr>\n",
       "      <th>29</th>\n",
       "      <td>2024-09-24</td>\n",
       "      <td>15-08-25</td>\n",
       "      <td>RZ047</td>\n",
       "      <td>2</td>\n",
       "      <td>regular</td>\n",
       "      <td>rig2</td>\n",
       "      <td>Rebekah</td>\n",
       "      <td>False</td>\n",
       "      <td>3.17</td>\n",
       "      <td>reward</td>\n",
       "      <td>2024-09-24_15-08-25_RZ047</td>\n",
       "      <td>s</td>\n",
       "      <td>3</td>\n",
       "      <td>1</td>\n",
       "      <td>303</td>\n",
       "      <td>700.0</td>\n",
       "      <td>2244.80</td>\n",
       "      <td>True</td>\n",
       "    </tr>\n",
       "  </tbody>\n",
       "</table>\n",
       "</div>"
      ],
      "text/plain": [
       "          date      time  mouse exp training   rig  trainer  record  avg_tw  \\\n",
       "23  2024-09-24  12-04-52  RZ049   2  regular  rig5  Rebekah   False   11.64   \n",
       "24  2024-09-24  12-07-31  RZ052   2  regular  rig6  Rebekah   False    2.36   \n",
       "25  2024-09-24  12-11-31  RZ053   2  regular  rig2  Rebekah   False    1.42   \n",
       "26  2024-09-24  12-12-51  RZ054   2  regular  rig3  Rebekah   False    1.64   \n",
       "27  2024-09-24  13-06-25  RZ055   2  regular  rig5  Rebekah   False    4.32   \n",
       "28  2024-09-24  13-11-53  RZ056   2  regular  rig4  Rebekah   False    1.36   \n",
       "29  2024-09-24  15-08-25  RZ047   2  regular  rig2  Rebekah   False    3.17   \n",
       "\n",
       "   ending_code                        dir group  session  num_blocks  \\\n",
       "23      reward  2024-09-24_12-04-52_RZ049     s        3           1   \n",
       "24        miss  2024-09-24_12-07-31_RZ052     l        3           2   \n",
       "25      reward  2024-09-24_12-11-31_RZ053     l        3           2   \n",
       "26      reward  2024-09-24_12-12-51_RZ054     l        3           2   \n",
       "27        miss  2024-09-24_13-06-25_RZ055     l        3           1   \n",
       "28      reward  2024-09-24_13-11-53_RZ056     l        3           2   \n",
       "29      reward  2024-09-24_15-08-25_RZ047     s        3           1   \n",
       "\n",
       "    num_trials  rewards  session_time  proper_end  \n",
       "23         225    700.0       3519.94        True  \n",
       "24         414    855.0      12090.37       False  \n",
       "25         844   1400.0      16350.81        True  \n",
       "26         593   1140.0      16964.39       False  \n",
       "27         144    230.0       1936.44       False  \n",
       "28         547    945.0      11873.72       False  \n",
       "29         303    700.0       2244.80        True  "
      ]
     },
     "execution_count": 132,
     "metadata": {},
     "output_type": "execute_result"
    }
   ],
   "source": [
    "sessions_by_date.get_group('2024-09-24')"
   ]
  },
  {
   "cell_type": "markdown",
   "metadata": {},
   "source": [
    "duplicate if you are sussed out of having to redo this"
   ]
  },
  {
   "cell_type": "code",
   "execution_count": 133,
   "metadata": {},
   "outputs": [],
   "source": [
    "# put it into utils when you clean this up.\n",
    "def backup(source_dir):\n",
    "    \"\"\"create a copy for source_dir in the same path parallel to source_dir\"\"\"\n",
    "    data_folder = os.path.dirname(source_dir)\n",
    "    source_name = os.path.basename(source_dir)\n",
    "    destination_dir = os.path.join(data_folder, f\"{source_name}_copy\")\n",
    "    if not os.path.isdir(destination_dir):\n",
    "        shutil.copytree(source_dir, destination_dir)\n",
    "        print(f\"{os.path.basename(source_dir)} backed up\")\n",
    "    else:\n",
    "        print(f\"{os.path.basename(destination_dir)} already exist\")"
   ]
  },
  {
   "cell_type": "code",
   "execution_count": 134,
   "metadata": {},
   "outputs": [
    {
     "name": "stdout",
     "output_type": "stream",
     "text": [
      "cohort_6_copy already exist\n"
     ]
    }
   ],
   "source": [
    "backup(data_folder)"
   ]
  },
  {
   "cell_type": "markdown",
   "metadata": {},
   "source": [
    "### Deal with multiple sessions"
   ]
  },
  {
   "cell_type": "code",
   "execution_count": 135,
   "metadata": {},
   "outputs": [
    {
     "name": "stdout",
     "output_type": "stream",
     "text": [
      "no sessions to stitch!\n"
     ]
    }
   ],
   "source": [
    "days_to_stitch = []\n",
    "mice_to_stitch = []\n",
    "for date, data in sessions_by_date:\n",
    "    for mouse in mouse_list:\n",
    "        mouse_by_date = data.loc[data['mouse'] == mouse]\n",
    "        if len(mouse_by_date) > 1:\n",
    "            days_to_stitch.append(date)\n",
    "            mice_to_stitch.append(mouse)\n",
    "            print(f\"on {date}, {mouse} has {len(mouse_by_date)} sessions\")\n",
    "if not days_to_stitch:\n",
    "    print(\"no sessions to stitch!\")"
   ]
  },
  {
   "cell_type": "code",
   "execution_count": 136,
   "metadata": {},
   "outputs": [],
   "source": [
    "def get_session_basics(session_df):\n",
    "    num_trials = session_df.session_trial_num.max() \n",
    "    last_trial = session_df.loc[session_df['session_trial_num'] == num_trials]\n",
    "\n",
    "    num_blocks = last_trial.loc[(last_trial['key'] == 'trial') & (last_trial['value'] == 1), 'block_num'].iloc[0] + 1\n",
    "    total_reward = round(session_df.reward_size.sum(), 2)\n",
    "    total_time = round((session_df.session_time.max() - session_df.session_time.min()), 2)\n",
    "    session_basics = {'num_blocks': num_blocks,\n",
    "                      'num_trials': num_trials + 1,\n",
    "                      'rewards': total_reward,\n",
    "                      'session_time': total_time}\n",
    "    return session_basics  \n",
    "\n",
    "def assign_session_numbers(group):\n",
    "    group.sort_values(by=['mouse', 'dir', 'date'], inplace=True)\n",
    "    group['session'] = list(range(len(group)))\n",
    "    return group\n",
    "\n",
    "# Stitch sessions from the same mouse on the same day\n",
    "def stitch_sessions(session_1, session_2):\n",
    "    session_1_basics = get_session_basics(session_1)\n",
    "    time_offset = session_1_basics['session_time']\n",
    "    block_offset = session_1_basics['num_blocks']\n",
    "    trial_offset = session_1_basics['num_trials']\n",
    "    \n",
    "    session_2.session_time = session_2.session_time + time_offset\n",
    "    session_2.block_num = session_2.block_num + block_offset\n",
    "    session_2.session_trial_num= session_2.session_trial_num + trial_offset\n",
    "\n",
    "    stitched_session = pd.concat([session_1, session_2])\n",
    "    return stitched_session"
   ]
  },
  {
   "cell_type": "code",
   "execution_count": 137,
   "metadata": {},
   "outputs": [
    {
     "name": "stdout",
     "output_type": "stream",
     "text": [
      "no sessions to stitch!\n"
     ]
    }
   ],
   "source": [
    "# run it if session stitching is needed, nothing would happen otherwise\n",
    "# has to run more than once if there are more than 2 sessions. fix it for the next round pls\n",
    "if not days_to_stitch:\n",
    "    print(\"no sessions to stitch!\")\n",
    "else:\n",
    "    for d, m in zip(days_to_stitch, mice_to_stitch):\n",
    "        day = sessions_by_date.get_group(d)\n",
    "        sessions_to_stitch = day[day['mouse'] == m]\n",
    "\n",
    "        session_1_dir = utils.generate_events_processed_path(data_folder, sessions_to_stitch.iloc[0])\n",
    "        session_2_dir = utils.generate_events_processed_path(data_folder, sessions_to_stitch.iloc[1])\n",
    "\n",
    "        if os.path.exists(session_1_dir) and os.path.exists(session_2_dir):\n",
    "            session_1 = pd.read_csv(session_1_dir)\n",
    "            session_2 = pd.read_csv(session_2_dir)\n",
    "            stitched_session = stitch_sessions(session_1, session_2) \n",
    "            #should change to stitch events. stitch sessions should be deleted. to follow nomanclature, all session should be renamed to events!!\n",
    "\n",
    "            stitched_session.to_csv(session_1_dir, index=False)\n",
    "            shutil.rmtree(os.path.join(data_folder, sessions_to_stitch.iloc[1].dir))\n",
    "            print(f\"{d} {m} session 2 deleted\")\n",
    "        else:\n",
    "            print(\"one of the sessions do not exist\")"
   ]
  },
  {
   "cell_type": "code",
   "execution_count": 138,
   "metadata": {},
   "outputs": [
    {
     "data": {
      "text/html": [
       "<div>\n",
       "<style scoped>\n",
       "    .dataframe tbody tr th:only-of-type {\n",
       "        vertical-align: middle;\n",
       "    }\n",
       "\n",
       "    .dataframe tbody tr th {\n",
       "        vertical-align: top;\n",
       "    }\n",
       "\n",
       "    .dataframe thead th {\n",
       "        text-align: right;\n",
       "    }\n",
       "</style>\n",
       "<table border=\"1\" class=\"dataframe\">\n",
       "  <thead>\n",
       "    <tr style=\"text-align: right;\">\n",
       "      <th></th>\n",
       "      <th>index</th>\n",
       "      <th>date</th>\n",
       "      <th>time</th>\n",
       "      <th>mouse</th>\n",
       "      <th>exp</th>\n",
       "      <th>training</th>\n",
       "      <th>rig</th>\n",
       "      <th>trainer</th>\n",
       "      <th>record</th>\n",
       "      <th>total_reward</th>\n",
       "      <th>total_trial</th>\n",
       "      <th>avg_tw</th>\n",
       "      <th>ending_code</th>\n",
       "      <th>dir</th>\n",
       "      <th>group</th>\n",
       "      <th>session</th>\n",
       "    </tr>\n",
       "  </thead>\n",
       "  <tbody>\n",
       "    <tr>\n",
       "      <th>79</th>\n",
       "      <td>51</td>\n",
       "      <td>2024-10-03</td>\n",
       "      <td>10-44-14</td>\n",
       "      <td>RZ053</td>\n",
       "      <td>2</td>\n",
       "      <td>regular</td>\n",
       "      <td>rig4</td>\n",
       "      <td>Rebekah</td>\n",
       "      <td>False</td>\n",
       "      <td>700</td>\n",
       "      <td>215</td>\n",
       "      <td>4.84</td>\n",
       "      <td>reward</td>\n",
       "      <td>2024-10-03_10-44-14_RZ053</td>\n",
       "      <td>l</td>\n",
       "      <td>9</td>\n",
       "    </tr>\n",
       "    <tr>\n",
       "      <th>80</th>\n",
       "      <td>42</td>\n",
       "      <td>2024-10-03</td>\n",
       "      <td>10-46-02</td>\n",
       "      <td>RZ052</td>\n",
       "      <td>2</td>\n",
       "      <td>regular</td>\n",
       "      <td>rig3</td>\n",
       "      <td>Rebekah</td>\n",
       "      <td>False</td>\n",
       "      <td>570</td>\n",
       "      <td>355</td>\n",
       "      <td>3.94</td>\n",
       "      <td>miss</td>\n",
       "      <td>2024-10-03_10-46-02_RZ052</td>\n",
       "      <td>l</td>\n",
       "      <td>9</td>\n",
       "    </tr>\n",
       "    <tr>\n",
       "      <th>81</th>\n",
       "      <td>15</td>\n",
       "      <td>2024-10-03</td>\n",
       "      <td>11-54-10</td>\n",
       "      <td>RZ047</td>\n",
       "      <td>2</td>\n",
       "      <td>regular</td>\n",
       "      <td>rig6</td>\n",
       "      <td>Rebekah</td>\n",
       "      <td>False</td>\n",
       "      <td>700</td>\n",
       "      <td>329</td>\n",
       "      <td>2.08</td>\n",
       "      <td>reward</td>\n",
       "      <td>2024-10-03_11-54-10_RZ047</td>\n",
       "      <td>s</td>\n",
       "      <td>9</td>\n",
       "    </tr>\n",
       "    <tr>\n",
       "      <th>82</th>\n",
       "      <td>60</td>\n",
       "      <td>2024-10-03</td>\n",
       "      <td>13-02-53</td>\n",
       "      <td>RZ050</td>\n",
       "      <td>2</td>\n",
       "      <td>regular</td>\n",
       "      <td>rig1</td>\n",
       "      <td>Rebekah</td>\n",
       "      <td>False</td>\n",
       "      <td>700</td>\n",
       "      <td>430</td>\n",
       "      <td>1.91</td>\n",
       "      <td>reward</td>\n",
       "      <td>2024-10-03_13-02-53_RZ050</td>\n",
       "      <td>s</td>\n",
       "      <td>7</td>\n",
       "    </tr>\n",
       "    <tr>\n",
       "      <th>83</th>\n",
       "      <td>20</td>\n",
       "      <td>2024-10-03</td>\n",
       "      <td>13-59-56</td>\n",
       "      <td>RZ051</td>\n",
       "      <td>2</td>\n",
       "      <td>regular</td>\n",
       "      <td>rig1</td>\n",
       "      <td>Rebekah</td>\n",
       "      <td>False</td>\n",
       "      <td>700</td>\n",
       "      <td>240</td>\n",
       "      <td>3.65</td>\n",
       "      <td>reward</td>\n",
       "      <td>2024-10-03_13-59-56_RZ051</td>\n",
       "      <td>s</td>\n",
       "      <td>7</td>\n",
       "    </tr>\n",
       "  </tbody>\n",
       "</table>\n",
       "</div>"
      ],
      "text/plain": [
       "    index        date      time  mouse exp training   rig  trainer  record  \\\n",
       "79     51  2024-10-03  10-44-14  RZ053   2  regular  rig4  Rebekah   False   \n",
       "80     42  2024-10-03  10-46-02  RZ052   2  regular  rig3  Rebekah   False   \n",
       "81     15  2024-10-03  11-54-10  RZ047   2  regular  rig6  Rebekah   False   \n",
       "82     60  2024-10-03  13-02-53  RZ050   2  regular  rig1  Rebekah   False   \n",
       "83     20  2024-10-03  13-59-56  RZ051   2  regular  rig1  Rebekah   False   \n",
       "\n",
       "    total_reward  total_trial  avg_tw ending_code                        dir  \\\n",
       "79           700          215    4.84      reward  2024-10-03_10-44-14_RZ053   \n",
       "80           570          355    3.94        miss  2024-10-03_10-46-02_RZ052   \n",
       "81           700          329    2.08      reward  2024-10-03_11-54-10_RZ047   \n",
       "82           700          430    1.91      reward  2024-10-03_13-02-53_RZ050   \n",
       "83           700          240    3.65      reward  2024-10-03_13-59-56_RZ051   \n",
       "\n",
       "   group  session  \n",
       "79     l        9  \n",
       "80     l        9  \n",
       "81     s        9  \n",
       "82     s        7  \n",
       "83     s        7  "
      ]
     },
     "execution_count": 138,
     "metadata": {},
     "output_type": "execute_result"
    }
   ],
   "source": [
    "sessions_all, sessions_training = generate_session_logs(data_folder)\n",
    "\n",
    "sessions_training.tail()"
   ]
  },
  {
   "cell_type": "markdown",
   "metadata": {},
   "source": [
    "### Correct sessions log"
   ]
  },
  {
   "cell_type": "code",
   "execution_count": 139,
   "metadata": {},
   "outputs": [],
   "source": [
    "def correct_sessions_training(data_folder, save_log=True):\n",
    "    _, sessions_training = generate_session_logs(data_folder, save_logs=False)\n",
    "    session_info_list = []\n",
    "    for _, session_info in sessions_training.iterrows():\n",
    "        events_processed = pd.read_csv(utils.generate_events_processed_path(data_folder, session_info), low_memory=False)\n",
    "        session_basics = helper.get_session_basics(events_processed)\n",
    "        session_basics['dir'] = session_info['dir']\n",
    "        session_info_list.append(session_basics)\n",
    "    sessions_info = pd.DataFrame(session_info_list)\n",
    "    corrected_sessions_training = pd.merge(sessions_training, sessions_info, on=\"dir\")\n",
    "    corrected_sessions_training = corrected_sessions_training.drop(columns=['index', 'total_reward', 'total_trial', 'total_reward'])\n",
    "    corrected_sessions_training = corrected_sessions_training.groupby('mouse', group_keys=False).apply(helper.assign_session_numbers)\n",
    "    if save_log:\n",
    "        utils.save_as_csv(df=corrected_sessions_training, folder=data_folder, filename='sessions_training.csv')\n",
    "    return corrected_sessions_training"
   ]
  },
  {
   "cell_type": "code",
   "execution_count": 140,
   "metadata": {},
   "outputs": [],
   "source": [
    "sessions_training = correct_sessions_training(data_folder)"
   ]
  },
  {
   "cell_type": "markdown",
   "metadata": {},
   "source": [
    "# Analyze trials"
   ]
  },
  {
   "cell_type": "markdown",
   "metadata": {},
   "source": [
    "## Generate Trials"
   ]
  },
  {
   "cell_type": "code",
   "execution_count": 141,
   "metadata": {},
   "outputs": [],
   "source": [
    "def get_trial_basics(trial):\n",
    "    \"\"\"gets the df of a trial, extracts 5 things, and outputs as a dictionary\"\"\"\n",
    "    trial_start = trial.loc[(trial['key'] == 'trial') & (trial['value'] == 1)].iloc[0]\n",
    "    trial_end = trial.loc[(trial['key'] == 'trial') & (trial['value'] == 0)].iloc[0]\n",
    "\n",
    "    trial_basics = {'session_trial_num': trial_start['session_trial_num'],\n",
    "                    'block_trial_num': trial_start['block_trial_num'],\n",
    "                    'block_num': trial_start['block_num'],\n",
    "                    'start_time': trial_start['session_time'],\n",
    "                    'end_time': trial_end['session_time']}\n",
    "    return trial_basics"
   ]
  },
  {
   "cell_type": "code",
   "execution_count": 142,
   "metadata": {},
   "outputs": [],
   "source": [
    "def generate_trials(session_info, events):\n",
    "    trial_info_list = []\n",
    "    for t in range(int(session_info.num_trials)):\n",
    "        trial = events.loc[events['session_trial_num'] == t]\n",
    "        trial_basics = get_trial_basics(trial)\n",
    "        trial_info_list.append(trial_basics)\n",
    "    trials = pd.DataFrame(trial_info_list)\n",
    "    return trials"
   ]
  },
  {
   "cell_type": "code",
   "execution_count": 144,
   "metadata": {},
   "outputs": [],
   "source": [
    "# generate all trials based on events processed\n",
    "problematic_sessions = pd.DataFrame(columns=sessions_training.columns)\n",
    "for _, session_info in sessions_training.iterrows():\n",
    "    try: \n",
    "        trials_path = utils.generate_trials_path(data_folder, session_info)\n",
    "        if os.path.isfile(trials_path):\n",
    "            continue\n",
    "        \n",
    "        events_processed = pd.read_csv(utils.generate_events_processed_path(data_folder, session_info))\n",
    "        trials = generate_trials(session_info, events_processed)\n",
    "\n",
    "        trials.to_csv(trials_path)\n",
    "    except:\n",
    "        problematic_sessions = pd.concat([problematic_sessions, session_info.to_frame().T], ignore_index=True)"
   ]
  },
  {
   "cell_type": "code",
   "execution_count": 145,
   "metadata": {},
   "outputs": [
    {
     "name": "stdout",
     "output_type": "stream",
     "text": [
      "all sessions are perfect! woohoo!\n"
     ]
    }
   ],
   "source": [
    "if len(problematic_sessions) > 0:\n",
    "    display(problematic_sessions)\n",
    "else:\n",
    "    print(\"all sessions are perfect! woohoo!\")"
   ]
  },
  {
   "cell_type": "markdown",
   "metadata": {},
   "source": [
    "## Analyze trials"
   ]
  },
  {
   "cell_type": "code",
   "execution_count": 146,
   "metadata": {},
   "outputs": [],
   "source": [
    "for _, session_info in sessions_training.iterrows():\n",
    "    try:\n",
    "        trials_analyzed_path = utils.generate_trials_analyzed_path(data_folder, session_info)\n",
    "        if os.path.isfile(trials_analyzed_path):\n",
    "            continue\n",
    "        \n",
    "        session_by_trial = utils.load_data(utils.generate_events_processed_path(data_folder, session_info)).groupby('session_trial_num')\n",
    "        trials = utils.load_data(utils.generate_trials_path(data_folder, session_info))\n",
    "        trials_data = helper.get_trial_data_df(session_by_trial)\n",
    "        trials_analyzed = pd.merge(trials, trials_data, on='session_trial_num')\n",
    "        trials_analyzed['group'] = session_info.group #assigning trial type manually\n",
    "        trials_analyzed.to_csv(trials_analyzed_path)\n",
    "    except:\n",
    "        display(session_info)"
   ]
  },
  {
   "cell_type": "code",
   "execution_count": null,
   "metadata": {},
   "outputs": [],
   "source": []
  }
 ],
 "metadata": {
  "kernelspec": {
   "display_name": "LUCKYCHARM",
   "language": "python",
   "name": "luckycharm"
  },
  "language_info": {
   "codemirror_mode": {
    "name": "ipython",
    "version": 3
   },
   "file_extension": ".py",
   "mimetype": "text/x-python",
   "name": "python",
   "nbconvert_exporter": "python",
   "pygments_lexer": "ipython3",
   "version": "3.10.6"
  },
  "orig_nbformat": 4
 },
 "nbformat": 4,
 "nbformat_minor": 2
}
