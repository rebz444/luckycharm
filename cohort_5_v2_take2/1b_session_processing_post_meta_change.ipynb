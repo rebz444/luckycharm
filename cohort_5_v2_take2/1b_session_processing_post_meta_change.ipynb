{
 "cells": [
  {
   "cell_type": "markdown",
   "metadata": {},
   "source": [
    "# Process events files and generates trials for sessions after to 20240416"
   ]
  },
  {
   "cell_type": "code",
   "execution_count": 1,
   "metadata": {},
   "outputs": [],
   "source": [
    "import os\n",
    "import shutil\n",
    "\n",
    "import session_processing_helper_c5v2 as helper\n",
    "import utils\n",
    "\n",
    "import pandas as pd"
   ]
  },
  {
   "cell_type": "code",
   "execution_count": 2,
   "metadata": {},
   "outputs": [
    {
     "name": "stdout",
     "output_type": "stream",
     "text": [
      "/Users/rebekahzhang/data/behavior_data/post_meta_change/exp2/cohort_8\n"
     ]
    }
   ],
   "source": [
    "data_dir = '/Users/rebekahzhang/data/behavior_data'\n",
    "period = 'post_meta_change'\n",
    "exp = \"exp2\"\n",
    "cohort = \"cohort_8\"\n",
    "data_folder = os.path.join(data_dir, period, exp, cohort)\n",
    "print(data_folder)"
   ]
  },
  {
   "cell_type": "markdown",
   "metadata": {},
   "source": [
    "# Quality Control"
   ]
  },
  {
   "cell_type": "markdown",
   "metadata": {},
   "source": [
    "## Check session folders have both meta and events"
   ]
  },
  {
   "cell_type": "code",
   "execution_count": 3,
   "metadata": {},
   "outputs": [
    {
     "name": "stdout",
     "output_type": "stream",
     "text": [
      "\n",
      "All sessions have non-empty meta and events files.\n"
     ]
    }
   ],
   "source": [
    "missing_events, missing_meta, empty_meta, empty_events = helper.check_session_files(data_folder)\n",
    "if not (missing_meta.empty and missing_events.empty and empty_meta.empty and empty_events.empty):\n",
    "    print(\"\\nFile check results:\")\n",
    "    if not missing_meta.empty:\n",
    "        print(\"\\nSessions missing meta files:\")\n",
    "        display(missing_meta)\n",
    "    if not missing_events.empty:\n",
    "        print(\"\\nSessions missing events files:\")\n",
    "        display(missing_events)\n",
    "    if not empty_meta.empty:\n",
    "        print(\"\\nSessions with empty meta files:\")\n",
    "        display(empty_meta)\n",
    "    if not empty_events.empty:\n",
    "        print(\"\\nSessions with empty events files:\")\n",
    "        display(empty_events)\n",
    "else:\n",
    "    print(\"\\nAll sessions have non-empty meta and events files.\")"
   ]
  },
  {
   "cell_type": "code",
   "execution_count": 4,
   "metadata": {},
   "outputs": [
    {
     "name": "stdout",
     "output_type": "stream",
     "text": [
      "no sessions to delete\n"
     ]
    }
   ],
   "source": [
    "utils.delete_folders(missing_meta.dir.tolist(), data_folder)"
   ]
  },
  {
   "cell_type": "code",
   "execution_count": 5,
   "metadata": {},
   "outputs": [
    {
     "name": "stdout",
     "output_type": "stream",
     "text": [
      "no sessions to delete\n"
     ]
    }
   ],
   "source": [
    "utils.delete_folders(missing_events.dir.tolist(), data_folder)"
   ]
  },
  {
   "cell_type": "code",
   "execution_count": 6,
   "metadata": {},
   "outputs": [
    {
     "name": "stdout",
     "output_type": "stream",
     "text": [
      "no sessions to delete\n"
     ]
    }
   ],
   "source": [
    "utils.delete_folders(empty_meta.dir.tolist(), data_folder)"
   ]
  },
  {
   "cell_type": "code",
   "execution_count": 7,
   "metadata": {},
   "outputs": [
    {
     "name": "stdout",
     "output_type": "stream",
     "text": [
      "no sessions to delete\n"
     ]
    }
   ],
   "source": [
    "utils.delete_folders(empty_events.dir.tolist(), data_folder)"
   ]
  },
  {
   "attachments": {},
   "cell_type": "markdown",
   "metadata": {},
   "source": [
    "## Generate and save sessions log"
   ]
  },
  {
   "attachments": {},
   "cell_type": "markdown",
   "metadata": {},
   "source": [
    "generate session log using meta data from each session and add columns of basic info to each session"
   ]
  },
  {
   "cell_type": "markdown",
   "metadata": {},
   "source": [
    "### re-run after every quality control steps"
   ]
  },
  {
   "cell_type": "code",
   "execution_count": 8,
   "metadata": {},
   "outputs": [
    {
     "name": "stdout",
     "output_type": "stream",
     "text": [
      "36 sessions in total\n"
     ]
    },
    {
     "data": {
      "text/html": [
       "<div>\n",
       "<style scoped>\n",
       "    .dataframe tbody tr th:only-of-type {\n",
       "        vertical-align: middle;\n",
       "    }\n",
       "\n",
       "    .dataframe tbody tr th {\n",
       "        vertical-align: top;\n",
       "    }\n",
       "\n",
       "    .dataframe thead th {\n",
       "        text-align: right;\n",
       "    }\n",
       "</style>\n",
       "<table border=\"1\" class=\"dataframe\">\n",
       "  <thead>\n",
       "    <tr style=\"text-align: right;\">\n",
       "      <th></th>\n",
       "      <th>index</th>\n",
       "      <th>date</th>\n",
       "      <th>time</th>\n",
       "      <th>mouse</th>\n",
       "      <th>exp</th>\n",
       "      <th>training</th>\n",
       "      <th>rig</th>\n",
       "      <th>trainer</th>\n",
       "      <th>record</th>\n",
       "      <th>total_reward</th>\n",
       "      <th>total_trial</th>\n",
       "      <th>avg_tw</th>\n",
       "      <th>ending_code</th>\n",
       "      <th>dir</th>\n",
       "      <th>group</th>\n",
       "      <th>session</th>\n",
       "    </tr>\n",
       "  </thead>\n",
       "  <tbody>\n",
       "    <tr>\n",
       "      <th>31</th>\n",
       "      <td>12</td>\n",
       "      <td>2025-08-19</td>\n",
       "      <td>12-40-10</td>\n",
       "      <td>RZ075</td>\n",
       "      <td>2</td>\n",
       "      <td>regular</td>\n",
       "      <td>rig3</td>\n",
       "      <td>Rebekah</td>\n",
       "      <td>True</td>\n",
       "      <td>700</td>\n",
       "      <td>712</td>\n",
       "      <td>0.94</td>\n",
       "      <td>reward</td>\n",
       "      <td>2025-08-19_12-40-10_RZ075</td>\n",
       "      <td>l</td>\n",
       "      <td>9</td>\n",
       "    </tr>\n",
       "    <tr>\n",
       "      <th>32</th>\n",
       "      <td>7</td>\n",
       "      <td>2025-08-20</td>\n",
       "      <td>10-30-09</td>\n",
       "      <td>RZ074</td>\n",
       "      <td>2</td>\n",
       "      <td>regular</td>\n",
       "      <td>rig3</td>\n",
       "      <td>Rebekah</td>\n",
       "      <td>True</td>\n",
       "      <td>700</td>\n",
       "      <td>256</td>\n",
       "      <td>7.40</td>\n",
       "      <td>reward</td>\n",
       "      <td>2025-08-20_10-30-09_RZ074</td>\n",
       "      <td>l</td>\n",
       "      <td>11</td>\n",
       "    </tr>\n",
       "    <tr>\n",
       "      <th>33</th>\n",
       "      <td>35</td>\n",
       "      <td>2025-08-20</td>\n",
       "      <td>10-41-37</td>\n",
       "      <td>RZ077</td>\n",
       "      <td>2</td>\n",
       "      <td>regular</td>\n",
       "      <td>rig6</td>\n",
       "      <td>Rebekah</td>\n",
       "      <td>False</td>\n",
       "      <td>700</td>\n",
       "      <td>359</td>\n",
       "      <td>2.49</td>\n",
       "      <td>reward</td>\n",
       "      <td>2025-08-20_10-41-37_RZ077</td>\n",
       "      <td>l</td>\n",
       "      <td>6</td>\n",
       "    </tr>\n",
       "    <tr>\n",
       "      <th>34</th>\n",
       "      <td>11</td>\n",
       "      <td>2025-08-20</td>\n",
       "      <td>10-44-55</td>\n",
       "      <td>RZ078</td>\n",
       "      <td>2</td>\n",
       "      <td>regular</td>\n",
       "      <td>rig7</td>\n",
       "      <td>Rebekah</td>\n",
       "      <td>False</td>\n",
       "      <td>700</td>\n",
       "      <td>380</td>\n",
       "      <td>1.97</td>\n",
       "      <td>reward</td>\n",
       "      <td>2025-08-20_10-44-55_RZ078</td>\n",
       "      <td>l</td>\n",
       "      <td>5</td>\n",
       "    </tr>\n",
       "    <tr>\n",
       "      <th>35</th>\n",
       "      <td>33</td>\n",
       "      <td>2025-08-20</td>\n",
       "      <td>11-56-35</td>\n",
       "      <td>RZ075</td>\n",
       "      <td>2</td>\n",
       "      <td>regular</td>\n",
       "      <td>rig3</td>\n",
       "      <td>Rebekah</td>\n",
       "      <td>True</td>\n",
       "      <td>565</td>\n",
       "      <td>294</td>\n",
       "      <td>8.44</td>\n",
       "      <td>miss</td>\n",
       "      <td>2025-08-20_11-56-35_RZ075</td>\n",
       "      <td>l</td>\n",
       "      <td>10</td>\n",
       "    </tr>\n",
       "  </tbody>\n",
       "</table>\n",
       "</div>"
      ],
      "text/plain": [
       "    index        date      time  mouse exp training   rig  trainer  record  \\\n",
       "31     12  2025-08-19  12-40-10  RZ075   2  regular  rig3  Rebekah    True   \n",
       "32      7  2025-08-20  10-30-09  RZ074   2  regular  rig3  Rebekah    True   \n",
       "33     35  2025-08-20  10-41-37  RZ077   2  regular  rig6  Rebekah   False   \n",
       "34     11  2025-08-20  10-44-55  RZ078   2  regular  rig7  Rebekah   False   \n",
       "35     33  2025-08-20  11-56-35  RZ075   2  regular  rig3  Rebekah    True   \n",
       "\n",
       "    total_reward  total_trial  avg_tw ending_code                        dir  \\\n",
       "31           700          712    0.94      reward  2025-08-19_12-40-10_RZ075   \n",
       "32           700          256    7.40      reward  2025-08-20_10-30-09_RZ074   \n",
       "33           700          359    2.49      reward  2025-08-20_10-41-37_RZ077   \n",
       "34           700          380    1.97      reward  2025-08-20_10-44-55_RZ078   \n",
       "35           565          294    8.44        miss  2025-08-20_11-56-35_RZ075   \n",
       "\n",
       "   group  session  \n",
       "31     l        9  \n",
       "32     l       11  \n",
       "33     l        6  \n",
       "34     l        5  \n",
       "35     l       10  "
      ]
     },
     "execution_count": 8,
     "metadata": {},
     "output_type": "execute_result"
    }
   ],
   "source": [
    "sessions_all, sessions_training = helper.generate_session_logs(data_folder)\n",
    "sessions_training.tail()"
   ]
  },
  {
   "attachments": {},
   "cell_type": "markdown",
   "metadata": {},
   "source": [
    "## Remove unwanted sessions\n",
    "doesn't need to run when data folder is cleaned \n",
    "<br>\n",
    "sessions_all needs to be regenerated after every cleaning step"
   ]
  },
  {
   "cell_type": "markdown",
   "metadata": {},
   "source": [
    "### Remove test sessions\n",
    "currently not needed cuz test sessions are not sorted into exp folders"
   ]
  },
  {
   "cell_type": "code",
   "execution_count": 9,
   "metadata": {},
   "outputs": [
    {
     "name": "stdout",
     "output_type": "stream",
     "text": [
      "no sessions to delete\n"
     ]
    }
   ],
   "source": [
    "sessions_test = sessions_all.loc[sessions_all.mouse=='test']\n",
    "utils.remove_sessions(sessions_test, data_folder)"
   ]
  },
  {
   "cell_type": "markdown",
   "metadata": {},
   "source": [
    "### Remove crashed sessions\n",
    "remove the sessions with ending_code==nan"
   ]
  },
  {
   "cell_type": "code",
   "execution_count": 10,
   "metadata": {},
   "outputs": [
    {
     "name": "stdout",
     "output_type": "stream",
     "text": [
      "no sessions to delete\n"
     ]
    }
   ],
   "source": [
    "sessions_ended_nan = sessions_all[sessions_all.ending_code.isna()]\n",
    "utils.remove_sessions(sessions_ended_nan, data_folder)"
   ]
  },
  {
   "cell_type": "markdown",
   "metadata": {},
   "source": [
    "reomve sessions that crashed"
   ]
  },
  {
   "cell_type": "code",
   "execution_count": 11,
   "metadata": {},
   "outputs": [
    {
     "name": "stdout",
     "output_type": "stream",
     "text": [
      "all sessions are perfect! woohoo!\n"
     ]
    }
   ],
   "source": [
    "sessions_crashed = pd.DataFrame(columns=sessions_training.columns)\n",
    "problematic_sessions = pd.DataFrame(columns=sessions_training.columns)\n",
    "\n",
    "for _, session_info in sessions_training.iterrows():\n",
    "    try:\n",
    "        events_path = utils.generate_events_path(data_folder, session_info)\n",
    "        events = pd.read_csv(events_path, low_memory=False)\n",
    "        session_end = events.loc[(events.key=='session') & (events.value==0)]\n",
    "\n",
    "        if not len(session_end)==1:\n",
    "            sessions_crashed = pd.concat([sessions_crashed, session_info.to_frame().T], ignore_index=True)\n",
    "    \n",
    "    except:\n",
    "        problematic_sessions = pd.concat([problematic_sessions, session_info.to_frame().T], ignore_index=True)\n",
    "\n",
    "if len(problematic_sessions) > 0:\n",
    "    print(\"cannot open: \")\n",
    "    display(problematic_sessions)\n",
    "\n",
    "if len(sessions_crashed) > 0:\n",
    "    print(\"crashed sessions: \")\n",
    "    display(sessions_crashed)\n",
    "else:\n",
    "    print(\"all sessions are perfect! woohoo!\")"
   ]
  },
  {
   "cell_type": "code",
   "execution_count": 12,
   "metadata": {},
   "outputs": [
    {
     "name": "stdout",
     "output_type": "stream",
     "text": [
      "no sessions to delete\n"
     ]
    }
   ],
   "source": [
    "utils.remove_sessions(sessions_crashed, data_folder)"
   ]
  },
  {
   "attachments": {},
   "cell_type": "markdown",
   "metadata": {},
   "source": [
    "### Check for short sessions"
   ]
  },
  {
   "cell_type": "code",
   "execution_count": 13,
   "metadata": {},
   "outputs": [
    {
     "name": "stdout",
     "output_type": "stream",
     "text": [
      "no short sessions to be checked!\n"
     ]
    }
   ],
   "source": [
    "short_threshold = 20\n",
    "sessions_short = sessions_all[(sessions_all['total_trial'] < short_threshold) | sessions_all['total_trial'].isna()]\n",
    "if len(sessions_short)>0:\n",
    "    display(sessions_short)\n",
    "else: \n",
    "    print('no short sessions to be checked!')"
   ]
  },
  {
   "cell_type": "markdown",
   "metadata": {},
   "source": [
    "remove short sessions if needed"
   ]
  },
  {
   "cell_type": "code",
   "execution_count": 14,
   "metadata": {},
   "outputs": [
    {
     "name": "stdout",
     "output_type": "stream",
     "text": [
      "no sessions to delete\n"
     ]
    }
   ],
   "source": [
    "utils.remove_sessions(sessions_short, data_folder)"
   ]
  },
  {
   "cell_type": "markdown",
   "metadata": {},
   "source": [
    "# Process Events"
   ]
  },
  {
   "attachments": {},
   "cell_type": "markdown",
   "metadata": {},
   "source": [
    "load session log"
   ]
  },
  {
   "cell_type": "code",
   "execution_count": 15,
   "metadata": {},
   "outputs": [],
   "source": [
    "sessions_training = utils.load_data(os.path.join(data_folder, 'sessions_training.csv'))"
   ]
  },
  {
   "cell_type": "code",
   "execution_count": 16,
   "metadata": {},
   "outputs": [
    {
     "name": "stdout",
     "output_type": "stream",
     "text": [
      "all sessions are perfect! woohoo!\n"
     ]
    }
   ],
   "source": [
    "problematic_sessions = pd.DataFrame(columns=sessions_training.columns)\n",
    "\n",
    "for _, session_info in sessions_training.iterrows():\n",
    "    try:\n",
    "        events_processed_path = utils.generate_events_processed_path(data_folder, session_info)\n",
    "        if os.path.isfile(events_processed_path):\n",
    "            continue\n",
    "        events = pd.read_csv(utils.generate_events_path(data_folder, session_info), low_memory=False)\n",
    "        events = helper.process_events(session_info, events)\n",
    "        events_processed = events.groupby('session_trial_num', group_keys=False).apply(helper.add_trial_time)\n",
    "        events_processed.to_csv(events_processed_path)\n",
    "    except:\n",
    "        problematic_sessions = pd.concat([problematic_sessions, session_info.to_frame().T], ignore_index=True)\n",
    "\n",
    "if len(problematic_sessions) > 0:\n",
    "    display(problematic_sessions)\n",
    "else:\n",
    "    print(\"all sessions are perfect! woohoo!\")"
   ]
  },
  {
   "cell_type": "markdown",
   "metadata": {},
   "source": [
    "# Data set curation "
   ]
  },
  {
   "cell_type": "code",
   "execution_count": 19,
   "metadata": {},
   "outputs": [
    {
     "name": "stdout",
     "output_type": "stream",
     "text": [
      "['RZ074', 'RZ075', 'RZ077', 'RZ078']\n"
     ]
    }
   ],
   "source": [
    "mouse_list = utils.generate_mouse_list(sessions_all)\n",
    "# mouse_list = ['RZ047','RZ049','RZ050','RZ051','RZ052','RZ053','RZ054','RZ055','RZ056']\n",
    "# mouse_list = [\"RZ057\", \"RZ058\", \"RZ059\", \"RZ061\", \"RZ062\", \"RZ063\",\n",
    "#                      \"RZ065\", \"RZ067\", \"RZ068\", \"RZ069\", \"RZ070\"]\n",
    "print(mouse_list)\n",
    "\n",
    "sessions_by_date = sessions_training.groupby('date')"
   ]
  },
  {
   "cell_type": "markdown",
   "metadata": {},
   "source": [
    "### Deal with missing sessions\n",
    "this is not the proper way to deal with this. should have it populated with mean and variation"
   ]
  },
  {
   "cell_type": "code",
   "execution_count": 20,
   "metadata": {},
   "outputs": [
    {
     "name": "stdout",
     "output_type": "stream",
     "text": [
      "on 2025-07-31, RZ075 has missing sessions\n",
      "on 2025-07-31, RZ077 has missing sessions\n",
      "on 2025-07-31, RZ078 has missing sessions\n",
      "on 2025-08-04, RZ077 has missing sessions\n",
      "on 2025-08-04, RZ078 has missing sessions\n",
      "on 2025-08-05, RZ077 has missing sessions\n",
      "on 2025-08-05, RZ078 has missing sessions\n",
      "on 2025-08-06, RZ077 has missing sessions\n",
      "on 2025-08-06, RZ078 has missing sessions\n",
      "on 2025-08-07, RZ077 has missing sessions\n",
      "on 2025-08-07, RZ078 has missing sessions\n",
      "on 2025-08-08, RZ078 has missing sessions\n"
     ]
    }
   ],
   "source": [
    "no_missing_sessions = True\n",
    "for date, data in sessions_by_date:\n",
    "    for mouse in mouse_list:\n",
    "        mouse_by_date = data.loc[data['mouse'] == mouse]\n",
    "        if len(mouse_by_date) < 1:\n",
    "            no_missing_sessions = False\n",
    "            print(f\"on {date}, {mouse} has missing sessions\")\n",
    "if no_missing_sessions:\n",
    "    print(\"no missing sessions!\")"
   ]
  },
  {
   "cell_type": "code",
   "execution_count": 24,
   "metadata": {},
   "outputs": [
    {
     "data": {
      "text/html": [
       "<div>\n",
       "<style scoped>\n",
       "    .dataframe tbody tr th:only-of-type {\n",
       "        vertical-align: middle;\n",
       "    }\n",
       "\n",
       "    .dataframe tbody tr th {\n",
       "        vertical-align: top;\n",
       "    }\n",
       "\n",
       "    .dataframe thead th {\n",
       "        text-align: right;\n",
       "    }\n",
       "</style>\n",
       "<table border=\"1\" class=\"dataframe\">\n",
       "  <thead>\n",
       "    <tr style=\"text-align: right;\">\n",
       "      <th></th>\n",
       "      <th>index</th>\n",
       "      <th>date</th>\n",
       "      <th>time</th>\n",
       "      <th>mouse</th>\n",
       "      <th>exp</th>\n",
       "      <th>training</th>\n",
       "      <th>rig</th>\n",
       "      <th>trainer</th>\n",
       "      <th>record</th>\n",
       "      <th>total_reward</th>\n",
       "      <th>total_trial</th>\n",
       "      <th>avg_tw</th>\n",
       "      <th>ending_code</th>\n",
       "      <th>dir</th>\n",
       "      <th>group</th>\n",
       "      <th>session</th>\n",
       "    </tr>\n",
       "  </thead>\n",
       "  <tbody>\n",
       "    <tr>\n",
       "      <th>1</th>\n",
       "      <td>22</td>\n",
       "      <td>2025-08-04</td>\n",
       "      <td>13-25-36</td>\n",
       "      <td>RZ074</td>\n",
       "      <td>2</td>\n",
       "      <td>regular</td>\n",
       "      <td>rig2</td>\n",
       "      <td>Rebekah</td>\n",
       "      <td>False</td>\n",
       "      <td>700</td>\n",
       "      <td>269</td>\n",
       "      <td>8.31</td>\n",
       "      <td>reward</td>\n",
       "      <td>2025-08-04_13-25-36_RZ074</td>\n",
       "      <td>l</td>\n",
       "      <td>1</td>\n",
       "    </tr>\n",
       "    <tr>\n",
       "      <th>2</th>\n",
       "      <td>1</td>\n",
       "      <td>2025-08-04</td>\n",
       "      <td>13-30-07</td>\n",
       "      <td>RZ075</td>\n",
       "      <td>2</td>\n",
       "      <td>regular</td>\n",
       "      <td>rig3</td>\n",
       "      <td>Rebekah</td>\n",
       "      <td>False</td>\n",
       "      <td>275</td>\n",
       "      <td>138</td>\n",
       "      <td>2.62</td>\n",
       "      <td>time</td>\n",
       "      <td>2025-08-04_13-30-07_RZ075</td>\n",
       "      <td>l</td>\n",
       "      <td>0</td>\n",
       "    </tr>\n",
       "  </tbody>\n",
       "</table>\n",
       "</div>"
      ],
      "text/plain": [
       "   index        date      time  mouse  exp training   rig  trainer  record  \\\n",
       "1     22  2025-08-04  13-25-36  RZ074    2  regular  rig2  Rebekah   False   \n",
       "2      1  2025-08-04  13-30-07  RZ075    2  regular  rig3  Rebekah   False   \n",
       "\n",
       "   total_reward  total_trial  avg_tw ending_code                        dir  \\\n",
       "1           700          269    8.31      reward  2025-08-04_13-25-36_RZ074   \n",
       "2           275          138    2.62        time  2025-08-04_13-30-07_RZ075   \n",
       "\n",
       "  group  session  \n",
       "1     l        1  \n",
       "2     l        0  "
      ]
     },
     "execution_count": 24,
     "metadata": {},
     "output_type": "execute_result"
    }
   ],
   "source": [
    "sessions_by_date.get_group('2025-08-04').sort_values('mouse')"
   ]
  },
  {
   "cell_type": "markdown",
   "metadata": {},
   "source": [
    "#### duplicate if you are sussed out of having to redo this"
   ]
  },
  {
   "cell_type": "code",
   "execution_count": 25,
   "metadata": {},
   "outputs": [
    {
     "name": "stdout",
     "output_type": "stream",
     "text": [
      "cohort_8_copy already exist\n"
     ]
    }
   ],
   "source": [
    "utils.backup(data_folder)"
   ]
  },
  {
   "cell_type": "markdown",
   "metadata": {},
   "source": [
    "### Deal with multiple sessions"
   ]
  },
  {
   "cell_type": "code",
   "execution_count": 26,
   "metadata": {},
   "outputs": [
    {
     "name": "stdout",
     "output_type": "stream",
     "text": [
      "no sessions to stitch!\n"
     ]
    }
   ],
   "source": [
    "days_to_stitch = []\n",
    "mice_to_stitch = []\n",
    "for date, data in sessions_by_date:\n",
    "    for mouse in mouse_list:\n",
    "        mouse_by_date = data.loc[data['mouse'] == mouse]\n",
    "        if len(mouse_by_date) > 1:\n",
    "            days_to_stitch.append(date)\n",
    "            mice_to_stitch.append(mouse)\n",
    "            print(f\"on {date}, {mouse} has {len(mouse_by_date)} sessions\")\n",
    "if not days_to_stitch:\n",
    "    print(\"no sessions to stitch!\")"
   ]
  },
  {
   "cell_type": "code",
   "execution_count": 27,
   "metadata": {},
   "outputs": [
    {
     "name": "stdout",
     "output_type": "stream",
     "text": [
      "no sessions to stitch!\n"
     ]
    }
   ],
   "source": [
    "# run it if session stitching is needed, nothing would happen otherwise\n",
    "# has to run more than once if there are more than 2 sessions. fix it for the next round pls\n",
    "if not days_to_stitch:\n",
    "    print(\"no sessions to stitch!\")\n",
    "else:\n",
    "    for d, m in zip(days_to_stitch, mice_to_stitch):\n",
    "        day = sessions_by_date.get_group(d)\n",
    "        sessions_to_stitch = day[day['mouse'] == m]\n",
    "\n",
    "        session_1_dir = utils.generate_events_processed_path(data_folder, sessions_to_stitch.iloc[0])\n",
    "        session_2_dir = utils.generate_events_processed_path(data_folder, sessions_to_stitch.iloc[1])\n",
    "\n",
    "        if os.path.exists(session_1_dir) and os.path.exists(session_2_dir):\n",
    "            session_1 = pd.read_csv(session_1_dir)\n",
    "            session_2 = pd.read_csv(session_2_dir)\n",
    "            stitched_session = helper.stitch_sessions(session_1, session_2) \n",
    "            #should change to stitch events. stitch sessions should be deleted. to follow nomanclature, all session should be renamed to events!!\n",
    "\n",
    "            stitched_session.to_csv(session_1_dir, index=False)\n",
    "            shutil.rmtree(os.path.join(data_folder, sessions_to_stitch.iloc[1].dir))\n",
    "            print(f\"{d} {m} session 2 deleted\")\n",
    "        else:\n",
    "            print(\"one of the sessions do not exist\")"
   ]
  },
  {
   "cell_type": "code",
   "execution_count": 28,
   "metadata": {},
   "outputs": [
    {
     "name": "stdout",
     "output_type": "stream",
     "text": [
      "36 sessions in total\n"
     ]
    },
    {
     "data": {
      "text/html": [
       "<div>\n",
       "<style scoped>\n",
       "    .dataframe tbody tr th:only-of-type {\n",
       "        vertical-align: middle;\n",
       "    }\n",
       "\n",
       "    .dataframe tbody tr th {\n",
       "        vertical-align: top;\n",
       "    }\n",
       "\n",
       "    .dataframe thead th {\n",
       "        text-align: right;\n",
       "    }\n",
       "</style>\n",
       "<table border=\"1\" class=\"dataframe\">\n",
       "  <thead>\n",
       "    <tr style=\"text-align: right;\">\n",
       "      <th></th>\n",
       "      <th>index</th>\n",
       "      <th>date</th>\n",
       "      <th>time</th>\n",
       "      <th>mouse</th>\n",
       "      <th>exp</th>\n",
       "      <th>training</th>\n",
       "      <th>rig</th>\n",
       "      <th>trainer</th>\n",
       "      <th>record</th>\n",
       "      <th>total_reward</th>\n",
       "      <th>total_trial</th>\n",
       "      <th>avg_tw</th>\n",
       "      <th>ending_code</th>\n",
       "      <th>dir</th>\n",
       "      <th>group</th>\n",
       "      <th>session</th>\n",
       "    </tr>\n",
       "  </thead>\n",
       "  <tbody>\n",
       "    <tr>\n",
       "      <th>31</th>\n",
       "      <td>12</td>\n",
       "      <td>2025-08-19</td>\n",
       "      <td>12-40-10</td>\n",
       "      <td>RZ075</td>\n",
       "      <td>2</td>\n",
       "      <td>regular</td>\n",
       "      <td>rig3</td>\n",
       "      <td>Rebekah</td>\n",
       "      <td>True</td>\n",
       "      <td>700</td>\n",
       "      <td>712</td>\n",
       "      <td>0.94</td>\n",
       "      <td>reward</td>\n",
       "      <td>2025-08-19_12-40-10_RZ075</td>\n",
       "      <td>l</td>\n",
       "      <td>9</td>\n",
       "    </tr>\n",
       "    <tr>\n",
       "      <th>32</th>\n",
       "      <td>7</td>\n",
       "      <td>2025-08-20</td>\n",
       "      <td>10-30-09</td>\n",
       "      <td>RZ074</td>\n",
       "      <td>2</td>\n",
       "      <td>regular</td>\n",
       "      <td>rig3</td>\n",
       "      <td>Rebekah</td>\n",
       "      <td>True</td>\n",
       "      <td>700</td>\n",
       "      <td>256</td>\n",
       "      <td>7.40</td>\n",
       "      <td>reward</td>\n",
       "      <td>2025-08-20_10-30-09_RZ074</td>\n",
       "      <td>l</td>\n",
       "      <td>11</td>\n",
       "    </tr>\n",
       "    <tr>\n",
       "      <th>33</th>\n",
       "      <td>35</td>\n",
       "      <td>2025-08-20</td>\n",
       "      <td>10-41-37</td>\n",
       "      <td>RZ077</td>\n",
       "      <td>2</td>\n",
       "      <td>regular</td>\n",
       "      <td>rig6</td>\n",
       "      <td>Rebekah</td>\n",
       "      <td>False</td>\n",
       "      <td>700</td>\n",
       "      <td>359</td>\n",
       "      <td>2.49</td>\n",
       "      <td>reward</td>\n",
       "      <td>2025-08-20_10-41-37_RZ077</td>\n",
       "      <td>l</td>\n",
       "      <td>6</td>\n",
       "    </tr>\n",
       "    <tr>\n",
       "      <th>34</th>\n",
       "      <td>11</td>\n",
       "      <td>2025-08-20</td>\n",
       "      <td>10-44-55</td>\n",
       "      <td>RZ078</td>\n",
       "      <td>2</td>\n",
       "      <td>regular</td>\n",
       "      <td>rig7</td>\n",
       "      <td>Rebekah</td>\n",
       "      <td>False</td>\n",
       "      <td>700</td>\n",
       "      <td>380</td>\n",
       "      <td>1.97</td>\n",
       "      <td>reward</td>\n",
       "      <td>2025-08-20_10-44-55_RZ078</td>\n",
       "      <td>l</td>\n",
       "      <td>5</td>\n",
       "    </tr>\n",
       "    <tr>\n",
       "      <th>35</th>\n",
       "      <td>33</td>\n",
       "      <td>2025-08-20</td>\n",
       "      <td>11-56-35</td>\n",
       "      <td>RZ075</td>\n",
       "      <td>2</td>\n",
       "      <td>regular</td>\n",
       "      <td>rig3</td>\n",
       "      <td>Rebekah</td>\n",
       "      <td>True</td>\n",
       "      <td>565</td>\n",
       "      <td>294</td>\n",
       "      <td>8.44</td>\n",
       "      <td>miss</td>\n",
       "      <td>2025-08-20_11-56-35_RZ075</td>\n",
       "      <td>l</td>\n",
       "      <td>10</td>\n",
       "    </tr>\n",
       "  </tbody>\n",
       "</table>\n",
       "</div>"
      ],
      "text/plain": [
       "    index        date      time  mouse exp training   rig  trainer  record  \\\n",
       "31     12  2025-08-19  12-40-10  RZ075   2  regular  rig3  Rebekah    True   \n",
       "32      7  2025-08-20  10-30-09  RZ074   2  regular  rig3  Rebekah    True   \n",
       "33     35  2025-08-20  10-41-37  RZ077   2  regular  rig6  Rebekah   False   \n",
       "34     11  2025-08-20  10-44-55  RZ078   2  regular  rig7  Rebekah   False   \n",
       "35     33  2025-08-20  11-56-35  RZ075   2  regular  rig3  Rebekah    True   \n",
       "\n",
       "    total_reward  total_trial  avg_tw ending_code                        dir  \\\n",
       "31           700          712    0.94      reward  2025-08-19_12-40-10_RZ075   \n",
       "32           700          256    7.40      reward  2025-08-20_10-30-09_RZ074   \n",
       "33           700          359    2.49      reward  2025-08-20_10-41-37_RZ077   \n",
       "34           700          380    1.97      reward  2025-08-20_10-44-55_RZ078   \n",
       "35           565          294    8.44        miss  2025-08-20_11-56-35_RZ075   \n",
       "\n",
       "   group  session  \n",
       "31     l        9  \n",
       "32     l       11  \n",
       "33     l        6  \n",
       "34     l        5  \n",
       "35     l       10  "
      ]
     },
     "execution_count": 28,
     "metadata": {},
     "output_type": "execute_result"
    }
   ],
   "source": [
    "sessions_all, sessions_training = helper.generate_session_logs(data_folder)\n",
    "\n",
    "sessions_training.tail()"
   ]
  },
  {
   "cell_type": "markdown",
   "metadata": {},
   "source": [
    "# Finalize sessions log"
   ]
  },
  {
   "cell_type": "code",
   "execution_count": 29,
   "metadata": {},
   "outputs": [],
   "source": [
    "def correct_sessions_training(data_folder, save_log=True):\n",
    "    _, sessions_training = helper.generate_session_logs(data_folder, save_logs=False)\n",
    "    session_info_list = []\n",
    "    for _, session_info in sessions_training.iterrows():\n",
    "        events_processed = pd.read_csv(utils.generate_events_processed_path(data_folder, session_info), low_memory=False)\n",
    "        session_basics = helper.get_session_basics(events_processed)\n",
    "        session_basics['dir'] = session_info['dir']\n",
    "        session_info_list.append(session_basics)\n",
    "    sessions_info = pd.DataFrame(session_info_list)\n",
    "    corrected_sessions_training = pd.merge(sessions_training, sessions_info, on=\"dir\")\n",
    "    corrected_sessions_training = corrected_sessions_training.drop(columns=['index', 'total_reward', 'total_trial', 'total_reward'])\n",
    "    corrected_sessions_training = corrected_sessions_training.groupby('mouse', group_keys=False).apply(helper.assign_session_numbers)\n",
    "    corrected_sessions_training['cohort'] = cohort\n",
    "    if save_log:\n",
    "        utils.save_as_csv(df=corrected_sessions_training, folder=data_folder, filename=f'sessions_training_{exp}_{cohort}.csv')\n",
    "    return corrected_sessions_training"
   ]
  },
  {
   "cell_type": "code",
   "execution_count": 30,
   "metadata": {},
   "outputs": [
    {
     "name": "stdout",
     "output_type": "stream",
     "text": [
      "36 sessions in total\n"
     ]
    }
   ],
   "source": [
    "sessions_training = correct_sessions_training(data_folder)"
   ]
  },
  {
   "cell_type": "markdown",
   "metadata": {},
   "source": [
    "# Analyze events"
   ]
  },
  {
   "cell_type": "code",
   "execution_count": 31,
   "metadata": {},
   "outputs": [],
   "source": [
    "sessions_training = utils.load_data(os.path.join(data_folder, f'sessions_training_{exp}_{cohort}.csv'))"
   ]
  },
  {
   "cell_type": "markdown",
   "metadata": {},
   "source": [
    "## Generate Trials"
   ]
  },
  {
   "cell_type": "code",
   "execution_count": 32,
   "metadata": {},
   "outputs": [
    {
     "name": "stdout",
     "output_type": "stream",
     "text": [
      "all sessions are perfect! woohoo!\n"
     ]
    }
   ],
   "source": [
    "# generate all trials based on events processed\n",
    "problematic_sessions = pd.DataFrame(columns=sessions_training.columns)\n",
    "for _, session_info in sessions_training.iterrows():\n",
    "    try: \n",
    "        trials_path = utils.generate_trials_path(data_folder, session_info)\n",
    "        if os.path.isfile(trials_path):\n",
    "            continue\n",
    "        \n",
    "        events_processed = pd.read_csv(utils.generate_events_processed_path(data_folder, session_info))\n",
    "        trials = helper.generate_trials(session_info, events_processed)\n",
    "\n",
    "        trials.to_csv(trials_path)\n",
    "    except:\n",
    "        problematic_sessions = pd.concat([problematic_sessions, session_info.to_frame().T], ignore_index=True)\n",
    "\n",
    "if len(problematic_sessions) > 0:\n",
    "    display(problematic_sessions)\n",
    "else:\n",
    "    print(\"all sessions are perfect! woohoo!\")"
   ]
  },
  {
   "cell_type": "markdown",
   "metadata": {},
   "source": [
    "## Analyze trials"
   ]
  },
  {
   "cell_type": "code",
   "execution_count": 33,
   "metadata": {},
   "outputs": [],
   "source": [
    "for _, session_info in sessions_training.iterrows():\n",
    "    try:\n",
    "        trials_analyzed_path = utils.generate_trials_analyzed_path(data_folder, session_info)\n",
    "        if os.path.isfile(trials_analyzed_path):\n",
    "            continue\n",
    "        \n",
    "        session_by_trial = utils.load_data(utils.generate_events_processed_path(data_folder, session_info)).groupby('session_trial_num')\n",
    "        trials = utils.load_data(utils.generate_trials_path(data_folder, session_info))\n",
    "        trials_data = helper.get_trial_data_df(session_by_trial)\n",
    "        trials_analyzed = pd.merge(trials, trials_data, on='session_trial_num')\n",
    "        trials_analyzed['group'] = session_info.group #assigning trial type manually\n",
    "        trials_analyzed.to_csv(trials_analyzed_path)\n",
    "    except:\n",
    "        display(session_info)"
   ]
  },
  {
   "cell_type": "markdown",
   "metadata": {},
   "source": [
    "debug debug debug"
   ]
  },
  {
   "cell_type": "code",
   "execution_count": null,
   "metadata": {},
   "outputs": [],
   "source": [
    "# data_dir = '/Users/rebekahzhang/data/behavior_data'\n",
    "# exp = \"exp2\"\n",
    "# cohort = \"c567\"\n",
    "# data_folder = os.path.join(data_dir, exp, cohort)\n",
    "# sessions_training = pd.read_csv(os.path.join(data_folder, 'sessions_training.csv'), index_col=0)\n",
    "\n",
    "# sessions_training_post_meta_change = sessions_training.loc[sessions_training.date < \"2024-05-03\"]\n",
    "\n",
    "# for _, session_info in sessions_training_post_meta_change.iterrows():\n",
    "#     try:\n",
    "#         trials_analyzed_path = utils.generate_trials_analyzed_path(data_folder, session_info)\n",
    "#         # if os.path.isfile(trials_analyzed_path):\n",
    "#         #     continue\n",
    "        \n",
    "#         session_by_trial = utils.load_data(utils.generate_events_processed_path(data_folder, session_info)).groupby('session_trial_num')\n",
    "#         trials = utils.load_data(utils.generate_trials_path(data_folder, session_info))\n",
    "#         trials_data = helper.get_trial_data_df(session_by_trial)\n",
    "#         trials_analyzed = pd.merge(trials, trials_data, on='session_trial_num')\n",
    "#         trials_analyzed['group'] = session_info.group #assigning trial type manually\n",
    "#         trials_analyzed.to_csv(trials_analyzed_path)\n",
    "#     except:\n",
    "#         display(session_info)"
   ]
  },
  {
   "cell_type": "code",
   "execution_count": null,
   "metadata": {},
   "outputs": [],
   "source": []
  }
 ],
 "metadata": {
  "kernelspec": {
   "display_name": "LUCKYCHARM",
   "language": "python",
   "name": "luckycharm"
  },
  "language_info": {
   "codemirror_mode": {
    "name": "ipython",
    "version": 3
   },
   "file_extension": ".py",
   "mimetype": "text/x-python",
   "name": "python",
   "nbconvert_exporter": "python",
   "pygments_lexer": "ipython3",
   "version": "3.10.6"
  },
  "orig_nbformat": 4
 },
 "nbformat": 4,
 "nbformat_minor": 2
}
