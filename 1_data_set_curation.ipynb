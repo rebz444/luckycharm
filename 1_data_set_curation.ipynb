{
 "cells": [
  {
   "cell_type": "markdown",
   "id": "6b1995aa",
   "metadata": {},
   "source": [
    "This notebook analyzes missing behavioral sessions by:\n",
    "1. Loading session data and cohort information\n",
    "2. Cross-referencing with mouse death dates (DOD)\n",
    "3. Cross-referencing with documented missing behavior reasons\n",
    "4. Identifying unexplained missing sessions that need investigation"
   ]
  },
  {
   "cell_type": "code",
   "execution_count": 1,
   "id": "82fbca5b",
   "metadata": {},
   "outputs": [],
   "source": [
    "import os\n",
    "import json\n",
    "\n",
    "import utils\n",
    "import session_processing_helper as helper\n",
    "\n",
    "import pandas as pd\n"
   ]
  },
  {
   "cell_type": "markdown",
   "id": "c4642dd8",
   "metadata": {},
   "source": [
    "## 1. Configuration and Data Loading\n"
   ]
  },
  {
   "cell_type": "code",
   "execution_count": 2,
   "id": "8a60be09",
   "metadata": {},
   "outputs": [
    {
     "name": "stdout",
     "output_type": "stream",
     "text": [
      "Data folder: /Users/rebekahzhang/data/behavior_data/exp2\n"
     ]
    }
   ],
   "source": [
    "# Configuration\n",
    "data_dir = '/Users/rebekahzhang/data/behavior_data'\n",
    "exp = \"exp2\"\n",
    "data_folder = os.path.join(data_dir, exp)\n",
    "print(f\"Data folder: {data_folder}\")"
   ]
  },
  {
   "cell_type": "code",
   "execution_count": 3,
   "id": "467b1f9c",
   "metadata": {},
   "outputs": [],
   "source": [
    "# Google Sheets IDs\n",
    "mouse_log_sheet_id = \"1oE_O-Q8froULSTef7NLFG6CdMh8UdJBSdITxBFFZ6MY\"\n",
    "missing_log_sheet_id = \"16bCQtwIla-uFT3Xx-dP1RFWksRHQBkOn3-p2tAO_orY\""
   ]
  },
  {
   "cell_type": "markdown",
   "id": "59db3ae1",
   "metadata": {},
   "source": [
    "## 2. Load External Data Sources\n"
   ]
  },
  {
   "cell_type": "code",
   "execution_count": 4,
   "id": "62a75566",
   "metadata": {},
   "outputs": [],
   "source": [
    "# Load cohort information\n",
    "with open('exp_cohort_info.json', 'r') as f:\n",
    "    training_info = json.load(f)\n",
    "cohort_info = training_info['cohorts']"
   ]
  },
  {
   "cell_type": "code",
   "execution_count": 5,
   "id": "1655e248",
   "metadata": {},
   "outputs": [
    {
     "name": "stdout",
     "output_type": "stream",
     "text": [
      "Loaded 47 mice with DOD records\n",
      "Loaded 22 documented missing behavior entries\n"
     ]
    }
   ],
   "source": [
    "# Load mouse death dates (DOD) from Google Sheets\n",
    "mouse_dod = (pd.read_csv(f\"https://docs.google.com/spreadsheets/d/{mouse_log_sheet_id}/export?format=csv&gid=0\")\n",
    "             [['Mouse', 'DOD']]\n",
    "             .dropna(subset=['DOD'])\n",
    "             .assign(DOD=lambda x: pd.to_datetime(x['DOD'])))\n",
    "print(f\"Loaded {len(mouse_dod)} mice with DOD records\")\n",
    "\n",
    "# Load documented missing behavior reasons from Google Sheets\n",
    "missing_log_clean = (pd.read_csv(f\"https://docs.google.com/spreadsheets/d/{missing_log_sheet_id}/export?format=csv&gid=0\")\n",
    "                     .dropna(subset=['Date', 'Mouse', 'Reason'])\n",
    "                     .assign(Date=lambda x: pd.to_datetime(x['Date']))\n",
    "                     .sort_values('Date'))\n",
    "print(f\"Loaded {len(missing_log_clean)} documented missing behavior entries\")"
   ]
  },
  {
   "cell_type": "code",
   "execution_count": 6,
   "id": "18aaaf8d",
   "metadata": {},
   "outputs": [
    {
     "name": "stdout",
     "output_type": "stream",
     "text": [
      "Loaded 217 deletion records\n"
     ]
    }
   ],
   "source": [
    "# Load and process deletion record\n",
    "deletion_df = (pd.read_csv(os.path.join(data_dir, 'raw', 'deletion_record.csv'))\n",
    "               .sort_values('session')\n",
    "               .assign(\n",
    "                   date=lambda x: x['session'].str[:10],  # Extract date (YYYY-MM-DD)\n",
    "                   mouse=lambda x: x['session'].str.split('_').str[-1]  # Extract mouse ID\n",
    "               ))\n",
    "print(f\"Loaded {len(deletion_df)} deletion records\")"
   ]
  },
  {
   "cell_type": "markdown",
   "id": "838b751c",
   "metadata": {},
   "source": [
    "## 3. Helper Functions\n"
   ]
  },
  {
   "cell_type": "code",
   "execution_count": 7,
   "id": "185a16c0",
   "metadata": {},
   "outputs": [],
   "source": [
    "def should_ignore_mouse_due_to_dod(mouse, session_date, mouse_dod_df):\n",
    "    \"\"\"\n",
    "    Check if a mouse should be ignored for missing sessions because it died before the session date.\n",
    "    Returns:\n",
    "        bool: True if mouse should be ignored (died before session), False otherwise\n",
    "    \"\"\"\n",
    "    session_dt = pd.to_datetime(session_date)\n",
    "    # Check if mouse has a DOD record\n",
    "    mouse_dod_record = mouse_dod_df[mouse_dod_df['Mouse'] == mouse]\n",
    "    if len(mouse_dod_record) == 0:\n",
    "        return False  # No DOD record, don't ignore\n",
    "    \n",
    "    dod_date = mouse_dod_record['DOD'].iloc[0]\n",
    "\n",
    "    return dod_date <= session_dt"
   ]
  },
  {
   "cell_type": "code",
   "execution_count": 8,
   "id": "6823ecbc",
   "metadata": {},
   "outputs": [],
   "source": [
    "def has_documented_reason(mouse, date, missing_log_df):\n",
    "    \"\"\"Check if a mouse has a documented reason for being missing on a specific date.\"\"\"\n",
    "    date_dt = pd.to_datetime(date)\n",
    "    mouse_entries = missing_log_df[\n",
    "        (missing_log_df['Mouse'] == mouse) & \n",
    "        (missing_log_df['Date'] == date_dt)\n",
    "    ]\n",
    "    return len(mouse_entries) > 0, mouse_entries['Reason'].tolist() if len(mouse_entries) > 0 else []"
   ]
  },
  {
   "cell_type": "markdown",
   "id": "c406f55d",
   "metadata": {},
   "source": [
    "## 4. Missing Sessions Analysis"
   ]
  },
  {
   "cell_type": "code",
   "execution_count": 9,
   "id": "6cc1f801",
   "metadata": {},
   "outputs": [],
   "source": [
    "sessions_all = helper.generate_sessions_all(data_folder)\n",
    "sessions_by_date = sessions_all.groupby('date')\n",
    "all_cohorts = list(cohort_info.keys())"
   ]
  },
  {
   "cell_type": "code",
   "execution_count": 10,
   "id": "b18d342b",
   "metadata": {},
   "outputs": [
    {
     "name": "stdout",
     "output_type": "stream",
     "text": [
      "✅ No new missing sessions found!\n"
     ]
    }
   ],
   "source": [
    "missing_sessions_unexplained = {}\n",
    "\n",
    "for date, data in sessions_by_date:\n",
    "    missing_sessions_unexplained[date] = {}\n",
    "    \n",
    "    for cohort in all_cohorts:\n",
    "        # Get mice for this specific cohort\n",
    "        cohort_mice = utils.generate_mouse_list(sessions_all.loc[sessions_all['cohort'] == cohort])\n",
    "        \n",
    "        missing_mice_unexplained = []\n",
    "        mice_with_multiple = []\n",
    "        \n",
    "        for mouse in cohort_mice:\n",
    "            mouse_by_date = data.loc[data['mouse'] == mouse]\n",
    "            \n",
    "            if len(mouse_by_date) < 1:\n",
    "                # Mouse is missing - check if we should ignore it\n",
    "                if (not should_ignore_mouse_due_to_dod(mouse, date, mouse_dod) and \n",
    "                    not has_documented_reason(mouse, date, missing_log_clean)):\n",
    "                    missing_mice_unexplained.append(mouse)\n",
    "                    \n",
    "            elif len(mouse_by_date) > 1:\n",
    "                # Mouse has multiple sessions (indicates system was working)\n",
    "                mice_with_multiple.append(mouse)\n",
    "        \n",
    "        # Only flag if there are unexplained missing mice AND other mice have multiple sessions\n",
    "        if missing_mice_unexplained and mice_with_multiple:\n",
    "            missing_sessions_unexplained[date][cohort] = {\n",
    "                'missing_unexplained': missing_mice_unexplained,\n",
    "                'multiple_sessions': mice_with_multiple\n",
    "            }\n",
    "\n",
    "# Check if there are any dates with actual unexplained missing mice\n",
    "dates_with_unexplained = [date for date, cohorts in missing_sessions_unexplained.items() if cohorts]\n",
    "if dates_with_unexplained:\n",
    "    print(f\"🔍 Found {len(dates_with_unexplained)} days with UNEXPLAINED missing mice:\")\n",
    "    for date in dates_with_unexplained:\n",
    "        cohorts = missing_sessions_unexplained[date]\n",
    "        print(f\"📅 {date}:\")\n",
    "        for cohort, info in cohorts.items():\n",
    "            print(f\"   {cohort}:\")\n",
    "            print(f\"     ❌ missing: {', '.join(info['missing_unexplained'])}\")\n",
    "            print(f\"     ✅ multiple: {', '.join(info['multiple_sessions'])}\")\n",
    "        print()\n",
    "else:\n",
    "    print(\"✅ No new missing sessions found!\")\n"
   ]
  },
  {
   "cell_type": "markdown",
   "id": "d2ac4a5f",
   "metadata": {},
   "source": [
    "### Manual check to cross validate between training log and deletion record"
   ]
  },
  {
   "cell_type": "code",
   "execution_count": 11,
   "id": "2a7882d4",
   "metadata": {},
   "outputs": [],
   "source": [
    "# date_to_investigate = '2024-08-02'"
   ]
  },
  {
   "cell_type": "code",
   "execution_count": null,
   "id": "c451abff",
   "metadata": {},
   "outputs": [],
   "source": [
    "# sessions_by_date.get_group(date_to_investigate).sort_values('mouse')"
   ]
  },
  {
   "cell_type": "code",
   "execution_count": null,
   "id": "91439228",
   "metadata": {},
   "outputs": [],
   "source": [
    "# deletion_df.loc[deletion_df['date'] == date_to_investigate]"
   ]
  },
  {
   "cell_type": "code",
   "execution_count": null,
   "id": "76b2b207",
   "metadata": {},
   "outputs": [],
   "source": []
  }
 ],
 "metadata": {
  "kernelspec": {
   "display_name": "LUCKYCHARM",
   "language": "python",
   "name": "luckycharm"
  },
  "language_info": {
   "codemirror_mode": {
    "name": "ipython",
    "version": 3
   },
   "file_extension": ".py",
   "mimetype": "text/x-python",
   "name": "python",
   "nbconvert_exporter": "python",
   "pygments_lexer": "ipython3",
   "version": "3.10.6"
  }
 },
 "nbformat": 4,
 "nbformat_minor": 5
}
