{
 "cells": [
  {
   "cell_type": "code",
   "execution_count": 1,
   "metadata": {},
   "outputs": [],
   "source": [
    "import os\n",
    "\n",
    "import analysis_session_helper_functions_v3 as helper\n",
    "import analysis_utils as utils\n",
    "\n",
    "import pandas as pd"
   ]
  },
  {
   "cell_type": "code",
   "execution_count": 2,
   "metadata": {},
   "outputs": [
    {
     "name": "stdout",
     "output_type": "stream",
     "text": [
      "/Users/rebekahzhang/Documents/shuler_lab/behavior_data/cohort_2_v2/full_clean\n"
     ]
    }
   ],
   "source": [
    "cohort = 'cohort_2_v2'\n",
    "to_analyze = 'full_clean'\n",
    "data_dir = '/Users/rebekahzhang/Documents/shuler_lab/behavior_data'\n",
    "data_folder = os.path.join(data_dir, cohort, to_analyze)\n",
    "print(data_folder)"
   ]
  },
  {
   "attachments": {},
   "cell_type": "markdown",
   "metadata": {},
   "source": [
    "# Generates all session logs\n",
    "does not need to be run if session logs have been generated"
   ]
  },
  {
   "cell_type": "code",
   "execution_count": null,
   "metadata": {},
   "outputs": [],
   "source": [
    "session_log = helper.generate_all_session_log(data_folder)\n",
    "session_log.head()"
   ]
  },
  {
   "attachments": {},
   "cell_type": "markdown",
   "metadata": {},
   "source": [
    "get a list of mouse names"
   ]
  },
  {
   "cell_type": "code",
   "execution_count": null,
   "metadata": {},
   "outputs": [],
   "source": [
    "# prints mouse names in data folder, check for weird ones and delete from data base\n",
    "mouse_list = session_log.mouse.unique().tolist()\n",
    "mouse_list.sort()\n",
    "print(mouse_list)"
   ]
  },
  {
   "attachments": {},
   "cell_type": "markdown",
   "metadata": {},
   "source": [
    "get the type of training for session meta data and add to log"
   ]
  },
  {
   "cell_type": "code",
   "execution_count": null,
   "metadata": {},
   "outputs": [],
   "source": [
    "training_list = []\n",
    "for dir_name, file_name in zip(session_log.dir, session_log.filename):\n",
    "    session_meta = utils.load_session_meta(data_folder, dir_name, file_name)\n",
    "    training = session_meta.training.tolist()[0]\n",
    "    training_list.append(training)\n",
    "\n",
    "session_log['training'] = training_list"
   ]
  },
  {
   "attachments": {},
   "cell_type": "markdown",
   "metadata": {},
   "source": [
    "add columns of basic info to each session to log"
   ]
  },
  {
   "cell_type": "code",
   "execution_count": null,
   "metadata": {},
   "outputs": [],
   "source": [
    "session_basics_columns = ['num_blocks', 'num_trials', 'rewards', 'time', 'proper_end']\n",
    "for dir_name, file_name in zip(session_log.dir, session_log.filename):\n",
    "    session = utils.load_session(data_folder, dir_name, file_name)\n",
    "    session_basic = helper.get_session_basics(session)\n",
    "    session_log.loc[session_log.dir == dir_name, session_basics_columns] = session_basic"
   ]
  },
  {
   "attachments": {},
   "cell_type": "markdown",
   "metadata": {},
   "source": [
    "### Focus only on regular training sessions"
   ]
  },
  {
   "cell_type": "code",
   "execution_count": null,
   "metadata": {},
   "outputs": [],
   "source": [
    "training_session_log = session_log.loc[session_log.training == 'regular'].sort_values('dir').reset_index()\n",
    "training_session_log.head()"
   ]
  },
  {
   "attachments": {},
   "cell_type": "markdown",
   "metadata": {},
   "source": [
    "### Examine quality of sessions\n",
    "doesn't need to run when data folder is cleaned"
   ]
  },
  {
   "attachments": {},
   "cell_type": "markdown",
   "metadata": {},
   "source": [
    "check for missing sessions by the number of sessions in each training day"
   ]
  },
  {
   "cell_type": "code",
   "execution_count": null,
   "metadata": {},
   "outputs": [],
   "source": [
    "num_mice = 5\n",
    "date_list = training_session_log.date.unique().tolist()\n",
    "for date in date_list:\n",
    "    data = training_session_log.loc[training_session_log['date'] == date]\n",
    "    if len(data) < num_mice:\n",
    "        print(date)"
   ]
  },
  {
   "attachments": {},
   "cell_type": "markdown",
   "metadata": {},
   "source": [
    "check for same mouse with multiple sessions per day, prints out date and mouse if too many"
   ]
  },
  {
   "cell_type": "code",
   "execution_count": null,
   "metadata": {},
   "outputs": [],
   "source": [
    "# prints dates of the same mouse with multiple sessions\n",
    "for d in training_session_log.date.unique().tolist():\n",
    "    session_of_the_day = training_session_log.loc[training_session_log['date'] == d]\n",
    "    for mouse in mouse_list:\n",
    "        count = len(session_of_the_day.loc[session_of_the_day['mouse'] == mouse])\n",
    "        if count > 1:\n",
    "            print(d, mouse)   "
   ]
  },
  {
   "attachments": {},
   "cell_type": "markdown",
   "metadata": {},
   "source": [
    "check for short sessions, prints out dir"
   ]
  },
  {
   "cell_type": "code",
   "execution_count": null,
   "metadata": {},
   "outputs": [],
   "source": [
    "short_session = training_session_log.loc[(training_session_log['training'] == 'regular') & \n",
    "                                         (training_session_log['num_trials'] < 100)] \n",
    "print(short_session.dir, short_session.num_trials)"
   ]
  },
  {
   "attachments": {},
   "cell_type": "markdown",
   "metadata": {},
   "source": [
    "make a copy of cleaned data before preceeding!"
   ]
  },
  {
   "attachments": {},
   "cell_type": "markdown",
   "metadata": {},
   "source": [
    "### Add number of days in training to training log"
   ]
  },
  {
   "cell_type": "code",
   "execution_count": null,
   "metadata": {},
   "outputs": [],
   "source": [
    "for mouse in mouse_list:\n",
    "    total_days = sum(training_session_log.mouse == mouse)\n",
    "    training_session_log.loc[training_session_log.mouse == mouse, 'days'] = list(range(total_days))"
   ]
  },
  {
   "cell_type": "code",
   "execution_count": null,
   "metadata": {},
   "outputs": [],
   "source": [
    "training_session_log.days.max()"
   ]
  },
  {
   "attachments": {},
   "cell_type": "markdown",
   "metadata": {},
   "source": [
    "### Saves all sessions log and training session log"
   ]
  },
  {
   "cell_type": "code",
   "execution_count": null,
   "metadata": {},
   "outputs": [],
   "source": [
    "filename = f'all_sessions.csv'\n",
    "path = os.path.join(data_folder, filename)\n",
    "session_log.to_csv(path)"
   ]
  },
  {
   "cell_type": "code",
   "execution_count": null,
   "metadata": {},
   "outputs": [],
   "source": [
    "filename = f'training_sessions.csv'\n",
    "path = os.path.join(data_folder, filename)\n",
    "training_session_log.to_csv(path)"
   ]
  },
  {
   "attachments": {},
   "cell_type": "markdown",
   "metadata": {},
   "source": [
    "# Generate all trials per session"
   ]
  },
  {
   "attachments": {},
   "cell_type": "markdown",
   "metadata": {},
   "source": [
    "load session log"
   ]
  },
  {
   "cell_type": "code",
   "execution_count": 3,
   "metadata": {},
   "outputs": [],
   "source": [
    "training_session_log = utils.load_session_log(data_folder, 'training_sessions.csv')"
   ]
  },
  {
   "attachments": {},
   "cell_type": "markdown",
   "metadata": {},
   "source": [
    "### Raw data processing and generate initial all trials df\n",
    "adds trial numbers and states to hardware entries\n",
    "create all trials df with trial basics added\n",
    "both files saved, \n",
    "does't need to be rerun"
   ]
  },
  {
   "cell_type": "code",
   "execution_count": 4,
   "metadata": {},
   "outputs": [],
   "source": [
    "all_trials_column_names = ['session_trial_num', 'block_trial_num', 'block_num', 'start_time', 'end_time']"
   ]
  },
  {
   "cell_type": "code",
   "execution_count": 5,
   "metadata": {},
   "outputs": [],
   "source": [
    "for dir_name, file_name in zip(training_session_log.dir, training_session_log.filename):\n",
    "    \n",
    "    processed_path = os.path.join(data_folder, dir_name, f'processed_{file_name[:-4]}.csv')\n",
    "    all_trials_path =os.path.join(data_folder, dir_name, f'{dir_name}_all_trials.csv')\n",
    "    # if os.path.isfile(processed_path) and os.path.isfile(all_trials_path):\n",
    "    #     continue\n",
    "\n",
    "    session = utils.load_session(data_folder, dir_name, file_name)\n",
    "    session['trial_time'] = ''\n",
    "    total_trial_list = helper.generate_total_trial_list(training_session_log, dir_name)\n",
    "    all_trials = pd.DataFrame(columns=all_trials_column_names)\n",
    "\n",
    "    for t in total_trial_list:\n",
    "        trial = session.loc[session['session_trial_num'] == t]\n",
    "        \n",
    "        trial_basics = helper.get_trial_basics(trial)\n",
    "        helper.align_trial_number(session, trial_basics)\n",
    "\n",
    "        trial_state_times = helper.get_trial_state_times(trial)\n",
    "        helper.align_trial_states(session, trial_state_times, trial_basics)\n",
    "\n",
    "        trial = session.loc[session['session_trial_num'] == t]\n",
    "        helper.add_trial_time(session, t, trial, trial_basics)\n",
    "\n",
    "        trial_basics = pd.DataFrame([trial_basics])\n",
    "        all_trials = pd.concat([all_trials, trial_basics], ignore_index=True)\n",
    "    \n",
    "    session = utils.trim_session(training_session_log, dir_name, session)\n",
    "    session.to_csv(processed_path)\n",
    "    all_trials.to_csv(all_trials_path)"
   ]
  },
  {
   "attachments": {},
   "cell_type": "markdown",
   "metadata": {},
   "source": [
    "### Adding analyzed trial data to all trials df"
   ]
  },
  {
   "cell_type": "code",
   "execution_count": 6,
   "metadata": {},
   "outputs": [],
   "source": [
    "all_trials_data_column = ['bg_drawn', 'blk_type', 'bg_length', \n",
    "                          'miss_trial', 'good_trial', 'time_waited', 'reward', 'num_consumption_lick']"
   ]
  },
  {
   "cell_type": "code",
   "execution_count": 7,
   "metadata": {},
   "outputs": [],
   "source": [
    "for dir_name, file_name in zip(training_session_log.dir, training_session_log.filename):\n",
    "    all_trials_analyzed_path =os.path.join(data_folder, dir_name, f'{dir_name}_all_trials_analyzed.csv')\n",
    "    # if os.path.isfile(all_trials_analyzed_path):\n",
    "    #     continue\n",
    "\n",
    "    processed_session = utils.load_processed_session(data_folder, dir_name, file_name)\n",
    "    all_trials = utils.load_all_trials(data_folder, dir_name)\n",
    "    total_trial_list = helper.generate_total_trial_list(training_session_log, dir_name)\n",
    "\n",
    "    for t in total_trial_list:\n",
    "        trial = processed_session.loc[processed_session['session_trial_num'] == t]\n",
    "        trial_performance = helper.get_trial_performance(trial)\n",
    "        all_trials.loc[all_trials['session_trial_num'] == t, all_trials_data_column] = trial_performance\n",
    "    \n",
    "    all_trials.to_csv(all_trials_analyzed_path)"
   ]
  },
  {
   "attachments": {},
   "cell_type": "markdown",
   "metadata": {},
   "source": [
    "# Generate all blocks per session"
   ]
  },
  {
   "attachments": {},
   "cell_type": "markdown",
   "metadata": {},
   "source": [
    "load session log"
   ]
  },
  {
   "cell_type": "code",
   "execution_count": null,
   "metadata": {},
   "outputs": [],
   "source": [
    "training_session_log = utils.load_session_log(data_folder, 'training_sessions.csv')"
   ]
  },
  {
   "attachments": {},
   "cell_type": "markdown",
   "metadata": {},
   "source": [
    "### generate all blocks df and saves to raw data folder"
   ]
  },
  {
   "cell_type": "code",
   "execution_count": null,
   "metadata": {},
   "outputs": [],
   "source": [
    "all_blocks_column_names = ['block_num', 'blk_type', 'num_trials', 'start_time', 'end_time',\n",
    "                           'bg_drawn_mean', 'bg_drawn_std', 'bg_length_mean', 'bg_length_std', \n",
    "                           'enl_repeats_mean', 'enl_repeats_std', 'num_miss_trials', 'time_waited_mean', \n",
    "                           'time_waited_std', 'reward_mean', 'reward_std', 'num_consumption_lick_mean', \n",
    "                           'num_consumption_lick_std']"
   ]
  },
  {
   "cell_type": "code",
   "execution_count": null,
   "metadata": {},
   "outputs": [],
   "source": [
    "def generate_all_blocks_df(column_names, total_block_list):\n",
    "    \"\"\"\n",
    "    makes an empty df with each row being a trial, and each column with trial info\n",
    "    trial number is added to the df\n",
    "    \"\"\"\n",
    "    all_blocks = pd.DataFrame(columns=column_names)\n",
    "    all_blocks['block_num'] = total_block_list\n",
    "    return all_blocks"
   ]
  },
  {
   "cell_type": "code",
   "execution_count": null,
   "metadata": {},
   "outputs": [],
   "source": [
    "for dir_name, file_name in zip(training_session_log.dir, training_session_log.filename):\n",
    "    filename = f'{dir_name}_all_blocks.csv'\n",
    "    path = os.path.join(data_folder, dir_name, filename)\n",
    "    # if os.path.isfile(path):\n",
    "    #     continue\n",
    "\n",
    "    all_trials_analyzed = utils.load_all_trials_analyzed(data_folder, dir_name)\n",
    "    total_block_list = helper.generate_total_block_list(training_session_log, dir_name)\n",
    "    all_blocks = helper.generate_all_blocks_df(all_blocks_column_names, total_block_list)\n",
    "    \n",
    "    for blk in total_block_list:\n",
    "        block = all_trials_analyzed.loc[all_trials_analyzed['block_num'] == blk]\n",
    "        block_data = helper.get_block_data(block)\n",
    "        all_blocks.loc[all_blocks.block_num == blk, all_blocks_column_names[1:]] = block_data\n",
    "        \n",
    "    all_blocks.to_csv(path)"
   ]
  },
  {
   "cell_type": "code",
   "execution_count": null,
   "metadata": {},
   "outputs": [],
   "source": [
    "all_blocks"
   ]
  },
  {
   "cell_type": "code",
   "execution_count": null,
   "metadata": {},
   "outputs": [],
   "source": [
    "test = utils.load_all_blocks(data_folder, training_session_log.dir[2])"
   ]
  },
  {
   "cell_type": "code",
   "execution_count": null,
   "metadata": {},
   "outputs": [],
   "source": [
    "test"
   ]
  }
 ],
 "metadata": {
  "kernelspec": {
   "display_name": "LUCKYCHARM",
   "language": "python",
   "name": "luckycharm"
  },
  "language_info": {
   "codemirror_mode": {
    "name": "ipython",
    "version": 3
   },
   "file_extension": ".py",
   "mimetype": "text/x-python",
   "name": "python",
   "nbconvert_exporter": "python",
   "pygments_lexer": "ipython3",
   "version": "3.10.6"
  },
  "orig_nbformat": 4
 },
 "nbformat": 4,
 "nbformat_minor": 2
}
