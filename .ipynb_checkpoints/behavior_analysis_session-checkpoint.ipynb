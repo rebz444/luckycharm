{
 "cells": [
  {
   "cell_type": "code",
   "execution_count": 1,
   "id": "47c46fde",
   "metadata": {},
   "outputs": [],
   "source": [
    "import os\n",
    "import numpy as np\n",
    "import statistics\n",
    "import math\n",
    "\n",
    "import behavior_analysis_helper_functions as helper\n",
    "\n",
    "import pandas as pd\n",
    "import matplotlib.pyplot as plt\n",
    "import seaborn as sns"
   ]
  },
  {
   "cell_type": "code",
   "execution_count": 2,
   "id": "4d9291b1",
   "metadata": {},
   "outputs": [],
   "source": [
    "sns.set_theme()\n",
    "colors = [\"#fd7f6f\", \"#7eb0d5\", \"#b2e061\", \"#bd7ebe\", \"#ffb55a\", \"#ffee65\", \"#beb9db\", \"#fdcce5\", \"#8bd3c7\"]"
   ]
  },
  {
   "cell_type": "markdown",
   "id": "50a919e0",
   "metadata": {},
   "source": [
    "## Session"
   ]
  },
  {
   "cell_type": "code",
   "execution_count": null,
   "id": "0c555018",
   "metadata": {},
   "outputs": [],
   "source": [
    "def load_session_meta(data_folder, dir_name, file_name):\n",
    "    path = os.path.join(data_folder, dir_name, file_name)\n",
    "    session_meta = pd.read_csv(path, nrows=1)\n",
    "    return session_meta"
   ]
  },
  {
   "cell_type": "code",
   "execution_count": null,
   "id": "e110a08a",
   "metadata": {},
   "outputs": [],
   "source": [
    "def load_session(data_folder, dir_name, file_name):\n",
    "    path = os.path.join(data_folder, dir_name, file_name)\n",
    "    session_df = pd.read_csv(path, skiprows=3)\n",
    "    return session_df"
   ]
  },
  {
   "cell_type": "code",
   "execution_count": null,
   "id": "5c9d7e18",
   "metadata": {},
   "outputs": [],
   "source": [
    "def get_session_basic(session_df):\n",
    "    total_blocks = session_df.block_num.max()\n",
    "    total_trials = session_df.session_trial_num.max()\n",
    "    total_reward = round(session_df.reward_size.sum(), 2)\n",
    "    total_time = round((session_df.session_time.max() - session_df.session_time.min()), 2)\n",
    "    session_basic = [total_blocks, total_trials, total_reward, total_time]\n",
    "    return session_basic"
   ]
  },
  {
   "cell_type": "code",
   "execution_count": 3,
   "id": "08ab899d",
   "metadata": {},
   "outputs": [
    {
     "name": "stdout",
     "output_type": "stream",
     "text": [
      "/Users/rebekahzhang/Documents/shuler_lab/behavior_data/cohort_1/behavior_data_full_clean\n"
     ]
    }
   ],
   "source": [
    "# get a list of all folder names in data folder\n",
    "cohort = 'cohort_1'\n",
    "cohort_folder = f'/Users/rebekahzhang/Documents/shuler_lab/behavior_data/{cohort}'\n",
    "data_folder = os.path.join(cohort_folder, 'behavior_data_full_clean')\n",
    "print(data_folder)\n",
    "dir_list = os.listdir(data_folder)\n",
    "dir_list.remove('.DS_Store')"
   ]
  },
  {
   "cell_type": "code",
   "execution_count": 4,
   "id": "06307fde",
   "metadata": {},
   "outputs": [],
   "source": [
    "# make a table of session info with date, mouse, folder name, and file name\n",
    "date_list = []\n",
    "mouse_list = []\n",
    "filename_list = []\n",
    "for f in dir_list:\n",
    "    date_list.append(f[0:10])\n",
    "    mouse = f[-5:]\n",
    "    mouse_list.append(mouse)\n",
    "    filename_list.append(f'data_{mouse}_{f[0:19]}.txt')\n",
    "session_log = pd.DataFrame({'date': date_list, 'mouse': mouse_list, \n",
    "                            'dir': dir_list, 'filename': filename_list})"
   ]
  },
  {
   "cell_type": "code",
   "execution_count": 5,
   "id": "c227902b",
   "metadata": {},
   "outputs": [
    {
     "ename": "AttributeError",
     "evalue": "module 'behavior_analysis_helper_functions' has no attribute 'load_session_meta'",
     "output_type": "error",
     "traceback": [
      "\u001b[0;31m---------------------------------------------------------------------------\u001b[0m",
      "\u001b[0;31mAttributeError\u001b[0m                            Traceback (most recent call last)",
      "Input \u001b[0;32mIn [5]\u001b[0m, in \u001b[0;36m<cell line: 3>\u001b[0;34m()\u001b[0m\n\u001b[1;32m      2\u001b[0m training_list \u001b[38;5;241m=\u001b[39m []\n\u001b[1;32m      3\u001b[0m \u001b[38;5;28;01mfor\u001b[39;00m dir_name, file_name \u001b[38;5;129;01min\u001b[39;00m \u001b[38;5;28mzip\u001b[39m(session_log\u001b[38;5;241m.\u001b[39mdir, session_log\u001b[38;5;241m.\u001b[39mfilename):\n\u001b[0;32m----> 4\u001b[0m     session_meta \u001b[38;5;241m=\u001b[39m \u001b[43mhelper\u001b[49m\u001b[38;5;241;43m.\u001b[39;49m\u001b[43mload_session_meta\u001b[49m(data_folder, dir_name, file_name)\n\u001b[1;32m      5\u001b[0m     training \u001b[38;5;241m=\u001b[39m session_meta\u001b[38;5;241m.\u001b[39mtraining\u001b[38;5;241m.\u001b[39mtolist()[\u001b[38;5;241m0\u001b[39m]\n\u001b[1;32m      6\u001b[0m     training_list\u001b[38;5;241m.\u001b[39mappend(training)\n",
      "\u001b[0;31mAttributeError\u001b[0m: module 'behavior_analysis_helper_functions' has no attribute 'load_session_meta'"
     ]
    }
   ],
   "source": [
    "# get the type of training from session meta data for each session\n",
    "training_list = []\n",
    "for dir_name, file_name in zip(session_log.dir, session_log.filename):\n",
    "    session_meta = helper.load_session_meta(data_folder, dir_name, file_name)\n",
    "    training = session_meta.training.tolist()[0]\n",
    "    training_list.append(training)\n",
    "session_log['training'] = training_list"
   ]
  },
  {
   "cell_type": "code",
   "execution_count": null,
   "id": "92147d0f",
   "metadata": {},
   "outputs": [],
   "source": [
    "# get a df of only regular sessions, and sort by date time\n",
    "training_session_log = session_log.loc[session_log.training == 'regular'].sort_values('dir').reset_index()\n",
    "training_session_log.head()"
   ]
  },
  {
   "cell_type": "code",
   "execution_count": null,
   "id": "19f43564",
   "metadata": {},
   "outputs": [],
   "source": [
    "# add columns of basic info of number of blocks, trials, total rewards, and total time to each training session\n",
    "session_basics_columns = ['num_blocks', 'num_trials', 'rewards', 'time']\n",
    "column_names = training_session_log.columns.values.tolist() + session_basics_columns\n",
    "training_session_log = training_session_log.reindex(columns=column_names)\n",
    "# add basic info of num\n",
    "for dir_name, file_name in zip(session_log.dir, session_log.filename):\n",
    "    session = load_session(data_folder, dir_name, file_name)\n",
    "    session_basic = get_session_basic(session)\n",
    "    training_session_log.loc[training_session_log.dir == dir_name, session_basics_columns] = session_basic"
   ]
  },
  {
   "cell_type": "code",
   "execution_count": null,
   "id": "a97d6d55",
   "metadata": {},
   "outputs": [],
   "source": [
    "# no background in keys prior to 2023-02-20, filtered out sessions prior to that date\n",
    "# no need to run if dataset is clean\n",
    "training_session_log = training_session_log.loc[training_session_log.date > '2023-02-20']\n",
    "training_session_log.head()"
   ]
  },
  {
   "cell_type": "code",
   "execution_count": null,
   "id": "7419b543",
   "metadata": {},
   "outputs": [],
   "source": [
    "# prints mouse names in data base, check for weird ones and delete from data base\n",
    "mouse_list = session_log.mouse.unique().tolist()\n",
    "mouse_list.sort()\n",
    "print(mouse_list)"
   ]
  },
  {
   "cell_type": "code",
   "execution_count": null,
   "id": "a4da16e8",
   "metadata": {},
   "outputs": [],
   "source": [
    "# session screening\n",
    "# should print nothing if all trials are reg and long enough\n",
    "#### can upgrade to deleting wrong ones from data folder\n",
    "\n",
    "# prints short sessions, to be deleted from dataset folder\n",
    "short_session = training_session_log.loc[(training_session_log['training'] == 'regular') & \n",
    "                                         (training_session_log['num_trials'] < 100)] \n",
    "print(short_session.dir)\n",
    "\n",
    "# prints dates of the same mouse with multiple sessions\n",
    "for d in session_log.date.unique().tolist():\n",
    "    session_of_the_day = session_log.loc[session_log['date'] == d]\n",
    "    for mouse in mouse_list:\n",
    "        count = len(session_of_the_day.loc[session_of_the_day['mouse'] == mouse])\n",
    "        if count > 1:\n",
    "            print(d, mouse)   "
   ]
  },
  {
   "cell_type": "markdown",
   "id": "a54150ef",
   "metadata": {},
   "source": [
    "## Per session analysis "
   ]
  },
  {
   "cell_type": "code",
   "execution_count": null,
   "id": "303876a9",
   "metadata": {},
   "outputs": [],
   "source": [
    "# makes a list of 0 to total trial number, used to loop in the session\n",
    "def generate_total_trial_list(session_log, dir_name):\n",
    "    current_session = session_log.loc[session_log.dir == dir_name]\n",
    "    total_trial_list = range(int(current_session.num_trials.tolist()[0]) + 1)\n",
    "    return total_trial_list"
   ]
  },
  {
   "cell_type": "code",
   "execution_count": null,
   "id": "6f66c97e",
   "metadata": {},
   "outputs": [],
   "source": [
    "# makes an empty df with each row being a trial, and each column with trial info\n",
    "# trial number is added to the df\n",
    "all_trials_column_names = ['trial_num', 'block_num', 'start_time', 'end_time', 'bg_repeats', 'blk_bg_avg',\n",
    "                'bg_length', 'reward_size', 'miss_trial', 'time_waited', 'num_consumption_lick']\n",
    "\n",
    "def generate_all_trials_df(column_names, total_trial_list):\n",
    "    all_trials = pd.DataFrame(columns=column_names)\n",
    "    all_trials['trial_num'] = total_trial_list\n",
    "    return all_trials"
   ]
  },
  {
   "cell_type": "code",
   "execution_count": null,
   "id": "7b654fee",
   "metadata": {},
   "outputs": [],
   "source": [
    "# gets 5 basic things about the trial\n",
    "# takes raw data of each trial as input\n",
    "def get_trial_basics(trial):\n",
    "    block_num = trial.loc[(trial['key'] == 'trial') & (trial['value'] == 1), 'block_num'].iloc[0]\n",
    "    start_time = trial.loc[(trial['key'] == 'trial') & (trial['value'] == 1), 'session_time'].iloc[0]\n",
    "    end_time = trial.loc[(trial['key'] == 'trial') & (trial['value'] == 0), 'session_time'].iloc[0]\n",
    "    bg_repeat = trial['key'].value_counts()['background']\n",
    "    blk_bg_avg = float(trial.loc[(trial['key'] == 'trial') & (trial['value'] == 1), 'time_bg'].iloc[0])\n",
    "    return [block_num, start_time, end_time, bg_repeat, blk_bg_avg]"
   ]
  },
  {
   "cell_type": "code",
   "execution_count": null,
   "id": "89f6dc16",
   "metadata": {},
   "outputs": [],
   "source": [
    "# gets total time in background\n",
    "# takes raw data of each trial as input\n",
    "def get_trial_bg_length(trial):\n",
    "    bg_start_idx = trial.index[(trial['key'] == 'trial') & (trial['value'] == 1)].tolist()\n",
    "    bg_end_idx = trial.index[(trial['key'] == 'wait') & (trial['value'] == 1)].tolist()\n",
    "    trial_bg = trial.loc[bg_start_idx[0] : bg_end_idx[0]]\n",
    "    trial_bg_length = trial_bg.session_time.max() - trial_bg.session_time.min()\n",
    "    return [trial_bg_length]"
   ]
  },
  {
   "cell_type": "code",
   "execution_count": null,
   "id": "0dd82464",
   "metadata": {},
   "outputs": [],
   "source": [
    "# gets 3 values about trial performance\n",
    "# takes trial raw data as input\n",
    "def get_trial_performance(trial):\n",
    "    wait_start_time = trial.loc[(trial['key'] == 'wait') & (trial['value'] == 1), 'session_time'].iloc[0]\n",
    "    if 'in_consumption' in trial.state.unique() :\n",
    "        miss_trial = False\n",
    "        reward = trial.loc[trial['key'] == 'reward', 'reward_size'].iloc[0]\n",
    "        consumption_start_time = trial.loc[trial['state'] == 'in_consumption', 'session_time'].iloc[0]\n",
    "        time_waited = consumption_start_time - wait_start_time\n",
    "    else :\n",
    "        miss_trial = True\n",
    "        reward = math.nan\n",
    "        time_waited = math.nan\n",
    "    return [reward, miss_trial, time_waited]"
   ]
  },
  {
   "cell_type": "code",
   "execution_count": null,
   "id": "519274b5",
   "metadata": {},
   "outputs": [],
   "source": [
    "# gets the number of consumption licks of each trial\n",
    "# takes raw data as input \n",
    "def get_num_consumption_licks(trial):\n",
    "    consumption = trial.loc[trial['state'] == 'in_consumption']\n",
    "    num_consumption_lick = len(consumption.loc[(consumption['key'] == 'lick') & (trial['value'] == 1)])\n",
    "    return [num_consumption_lick]"
   ]
  },
  {
   "cell_type": "code",
   "execution_count": null,
   "id": "bac0171c",
   "metadata": {},
   "outputs": [],
   "source": [
    "# runs individual functions and consolidate all info to one long list to be added to session log\n",
    "def get_trial_data(trial):\n",
    "    trial_basics = get_trial_basics(trial)\n",
    "    trial_bg_length = get_trial_bg_length(trial)\n",
    "    trial_performance = get_trial_performance(trial)\n",
    "    num_consumption_lick = get_num_consumption_licks(trial)\n",
    "    trial_data = [trial_basics + trial_bg_length + trial_performance + num_consumption_lick]\n",
    "    return trial_data"
   ]
  },
  {
   "cell_type": "code",
   "execution_count": null,
   "id": "0cd77363",
   "metadata": {},
   "outputs": [],
   "source": [
    "%%time\n",
    "# for each session, generates all trials df and saves it in the raw data folder\n",
    "# skips if all trials already exists in folder\n",
    "for dir_name, file_name in zip(training_session_log.dir, training_session_log.filename):\n",
    "    filename = f'{dir_name}_all_trials.csv'\n",
    "    path = os.path.join(data_folder, dir_name, filename)\n",
    "    if os.path.isfile(path):\n",
    "        continue\n",
    "    \n",
    "    session = load_session(data_folder, dir_name, file_name)\n",
    "    total_trial_list = generate_total_trial_list(training_session_log, dir_name)\n",
    "    all_trials = generate_all_trials_df(all_trials_column_names, total_trial_list)\n",
    "    for i in total_trial_list:\n",
    "        trial = session.loc[session['session_trial_num'] == i]\n",
    "        trial_data = get_trial_data(trial)\n",
    "        all_trials.loc[all_trials.trial_num == i, all_trials_column_names[1:]] = trial_data\n",
    "        \n",
    "    all_trials.to_csv(path)"
   ]
  },
  {
   "cell_type": "markdown",
   "id": "cb1aea50",
   "metadata": {},
   "source": [
    "## adding session info based on per trial performance to master log"
   ]
  },
  {
   "cell_type": "code",
   "execution_count": null,
   "id": "68cd9d5e",
   "metadata": {},
   "outputs": [],
   "source": [
    "def load_all_trials(data_folder, dir_name):\n",
    "    filename = f'{dir_name}_all_trials.csv'\n",
    "    path = os.path.join(data_folder, dir_name, filename)\n",
    "    all_trials_df = pd.read_csv(path)\n",
    "    return all_trials_df"
   ]
  },
  {
   "cell_type": "code",
   "execution_count": null,
   "id": "5e6fb743",
   "metadata": {},
   "outputs": [],
   "source": [
    "def select_good_trials(all_trials):\n",
    "    good_trials = all_trials.loc[(all_trials['miss_trial'] == False) & (all_trials['bg_repeats'] == 1)]\n",
    "    return good_trials"
   ]
  },
  {
   "cell_type": "code",
   "execution_count": null,
   "id": "78d2eaa9",
   "metadata": {},
   "outputs": [],
   "source": [
    "def get_session_performance(all_trials):\n",
    "    num_miss_trials = all_trials.miss_trial.values.sum()\n",
    "    good_trials = all_trials.loc[(all_trials['miss_trial'] == False) & (all_trials['bg_repeats'] == 1)]\n",
    "    num_good_trials = len(good_trials)\n",
    "    return [num_miss_trials, num_good_trials]"
   ]
  },
  {
   "cell_type": "code",
   "execution_count": null,
   "id": "1e1de5cc",
   "metadata": {},
   "outputs": [],
   "source": [
    "def get_session_mistakes(all_trials):\n",
    "    num_bg_repeats_mean = all_trials.bg_repeats.mean()\n",
    "    num_bg_repeats_med = all_trials.bg_repeats.median()\n",
    "    num_bg_repeats_std = all_trials.bg_repeats.std()\n",
    "    return [num_bg_repeats_mean, num_bg_repeats_med, num_bg_repeats_std]"
   ]
  },
  {
   "cell_type": "code",
   "execution_count": null,
   "id": "f879ad60",
   "metadata": {},
   "outputs": [],
   "source": [
    "def get_session_time_waited(all_trials):\n",
    "    tw_mean = all_trials.time_waited.mean()\n",
    "    tw_med = all_trials.time_waited.median()\n",
    "    tw_std = all_trials.time_waited.std()\n",
    "    return [tw_mean, tw_med, tw_std]"
   ]
  },
  {
   "cell_type": "markdown",
   "id": "402431e6",
   "metadata": {},
   "source": [
    "### number of days in training"
   ]
  },
  {
   "cell_type": "code",
   "execution_count": null,
   "id": "64bd348d",
   "metadata": {},
   "outputs": [],
   "source": [
    "for mouse in mouse_list:\n",
    "    total_days = sum(training_session_log.mouse == mouse)\n",
    "    training_session_log.loc[training_session_log.mouse == mouse, 'days'] = list(range(total_days))"
   ]
  },
  {
   "cell_type": "markdown",
   "id": "fa43b237",
   "metadata": {},
   "source": [
    "### engagement of each session\n",
    "miss trials and good trials, and the proportions"
   ]
  },
  {
   "cell_type": "code",
   "execution_count": null,
   "id": "827b242e",
   "metadata": {},
   "outputs": [],
   "source": [
    "training_session_log['miss_trials'] = ''\n",
    "training_session_log['good_trials'] = ''"
   ]
  },
  {
   "cell_type": "code",
   "execution_count": null,
   "id": "757e0b4e",
   "metadata": {},
   "outputs": [],
   "source": [
    "for dir_name in training_session_log.dir:\n",
    "    all_trials = load_all_trials(data_folder, dir_name)\n",
    "    session_performance = get_session_performance(all_trials)\n",
    "    training_session_log.loc[training_session_log.dir == dir_name, \n",
    "                             ['miss_trials', 'good_trials']] = session_performance"
   ]
  },
  {
   "cell_type": "code",
   "execution_count": null,
   "id": "d184d479",
   "metadata": {},
   "outputs": [],
   "source": [
    "training_session_log['p_miss'] = training_session_log.miss_trials/training_session_log.num_trials\n",
    "training_session_log['p_good'] = training_session_log.good_trials/training_session_log.num_trials\n",
    "training_session_log['p_rest'] = 1 - training_session_log.p_good - training_session_log.p_miss"
   ]
  },
  {
   "cell_type": "code",
   "execution_count": null,
   "id": "3a25fc9c",
   "metadata": {},
   "outputs": [],
   "source": [
    "# plot engagement in session. each mouse has a plot\n",
    "for mouse in mouse_list:\n",
    "    session_mouse = training_session_log.loc[training_session_log.mouse == mouse]\n",
    "    to_plot = session_mouse.loc[:, ['days', 'p_good','p_miss','p_rest']]\n",
    "    fig = plt.figure()\n",
    "    ax = to_plot.plot.bar(x='days', stacked=True, color = colors[0:3])\n",
    "    ax.set_title(mouse)\n",
    "    ax.set_xlabel('Days in Training')\n",
    "    ax.set_ylabel('Normalized Proportion')\n",
    "    ax.legend(loc='upper right', bbox_to_anchor=(1.25, 1))\n",
    "    plt.plot(to_plot.days, to_plot.p_good, color = 'k', linewidth=1.5)\n",
    "    plt.savefig(f'engagement_{mouse}', bbox_inches='tight')"
   ]
  },
  {
   "cell_type": "code",
   "execution_count": null,
   "id": "b31f6250",
   "metadata": {},
   "outputs": [],
   "source": [
    "# plot percent good trials in session. each mouse is a line\n",
    "fig = plt.figure()\n",
    "for i, mouse in enumerate(mouse_list):\n",
    "    session_mouse = training_session_log.loc[training_session_log.mouse == mouse]\n",
    "    plt.plot(session_mouse.days, session_mouse.p_good, color=colors[i], label=mouse)\n",
    "plt.title('Proportion of Good Trials ')\n",
    "plt.xlabel('Days in Training')\n",
    "plt.legend(loc=\"upper left\")\n",
    "plt.xlim([0, 11])\n",
    "plt.ylim([0, 1])\n",
    "fig.savefig('%_good_trials.png', bbox_inches='tight')"
   ]
  },
  {
   "cell_type": "code",
   "execution_count": null,
   "id": "0a8a3f55",
   "metadata": {},
   "outputs": [],
   "source": [
    "# plot percent missed trials in session. each mouse is a line\n",
    "fig = plt.figure()\n",
    "for i, mouse in enumerate(mouse_list):\n",
    "    session_mouse = training_session_log.loc[training_session_log.mouse == mouse]\n",
    "    plt.plot(session_mouse.days, session_mouse.p_miss, color=colors[i], label=mouse)\n",
    "plt.title('Proportion of Missed Trials')\n",
    "plt.xlabel('Days in Training')\n",
    "plt.legend(loc=\"upper right\")\n",
    "plt.xlim([0, 11])\n",
    "plt.ylim([0, 0.2])\n",
    "fig.savefig('%_missed_trials.png', bbox_inches='tight')"
   ]
  },
  {
   "cell_type": "markdown",
   "id": "b396743e",
   "metadata": {},
   "source": [
    "### performance of each session\n",
    "reward rate, bg_repeats"
   ]
  },
  {
   "cell_type": "code",
   "execution_count": null,
   "id": "4a912bab",
   "metadata": {},
   "outputs": [],
   "source": [
    "training_session_log['reward_rate'] = training_session_log.rewards/training_session_log.time"
   ]
  },
  {
   "cell_type": "code",
   "execution_count": null,
   "id": "71b55163",
   "metadata": {},
   "outputs": [],
   "source": [
    "# plot the change in reward rate over days. each mouse is a line \n",
    "fig = plt.figure()\n",
    "for i, mouse in enumerate(mouse_list):\n",
    "    session_mouse = training_session_log.loc[training_session_log.mouse == mouse]\n",
    "    plt.plot(session_mouse.days, session_mouse.reward_rate, color=colors[i], label=mouse)\n",
    "\n",
    "plt.xlabel('Days in Training')\n",
    "plt.ylabel('Reward Rate (ul/s)')\n",
    "plt.legend(loc=\"upper left\")\n",
    "plt.xlim([0, 11])\n",
    "plt.ylim([0, 0.4])\n",
    "fig.savefig('reward_rate.png', bbox_inches='tight')"
   ]
  },
  {
   "cell_type": "code",
   "execution_count": null,
   "id": "c2e48719",
   "metadata": {},
   "outputs": [],
   "source": [
    "training_session_log['num_bg_repeats_mean'] = ''\n",
    "training_session_log['num_bg_repeats_median'] = ''\n",
    "training_session_log['num_bg_repeats_stdev'] = ''"
   ]
  },
  {
   "cell_type": "code",
   "execution_count": null,
   "id": "828f1369",
   "metadata": {},
   "outputs": [],
   "source": [
    "for dir_name in training_session_log.dir:\n",
    "    all_trials = load_all_trials(data_folder, dir_name)\n",
    "    session_mistakes = get_session_mistakes(all_trials)\n",
    "    training_session_log.loc[training_session_log.dir == dir_name, \n",
    "                             ['num_bg_repeats_mean', 'num_bg_repeats_median', \n",
    "                              'num_bg_repeats_stdev']] = session_mistakes"
   ]
  },
  {
   "cell_type": "code",
   "execution_count": null,
   "id": "61bd0283",
   "metadata": {},
   "outputs": [],
   "source": [
    "# plots the number of bg repeats across days for each mouse. one mouse per plot. \n",
    "for mouse in mouse_list:\n",
    "    session_mouse = training_session_log.loc[training_session_log.mouse == mouse]\n",
    "    \n",
    "    fig = plt.figure()\n",
    "    plt.errorbar(session_mouse.days, session_mouse.num_bg_repeats_mean, session_mouse.num_bg_repeats_stdev, \n",
    "                 linestyle='None', marker='o', color=colors[0], label='mean')\n",
    "    plt.scatter(session_mouse.days, session_mouse.num_bg_repeats_median, color=colors[1], label='median')\n",
    "    plt.title(mouse)\n",
    "    plt.xlabel('Days in Training')\n",
    "    plt.ylabel('Number of BG Repeats')\n",
    "    plt.legend(loc='upper right')\n",
    "    plt.savefig(f'bg_repeats_{mouse}', bbox_inches='tight')"
   ]
  },
  {
   "cell_type": "code",
   "execution_count": null,
   "id": "3be3be52",
   "metadata": {},
   "outputs": [],
   "source": [
    "# plot percent mean bg repeats in session for all mice. each mouse is a line\n",
    "fig = plt.figure()\n",
    "for i, mouse in enumerate(mouse_list):\n",
    "    session_mouse = training_session_log.loc[training_session_log.mouse == mouse]\n",
    "    plt.plot(session_mouse.days, session_mouse.num_bg_repeats_mean, color=colors[i], label=mouse)\n",
    "plt.xlabel('Days in Training')\n",
    "plt.ylabel('Number of Mean BG Repeats')\n",
    "plt.legend(loc='upper right')\n",
    "plt.savefig(f'bg_repeats_mean', bbox_inches='tight')"
   ]
  },
  {
   "cell_type": "code",
   "execution_count": null,
   "id": "354c4a4f",
   "metadata": {},
   "outputs": [],
   "source": [
    "# plot percent stdev bg repeats in session for all mice. each mouse is a line\n",
    "fig = plt.figure()\n",
    "for i, mouse in enumerate(mouse_list):\n",
    "    session_mouse = training_session_log.loc[training_session_log.mouse == mouse]\n",
    "    plt.plot(session_mouse.days, session_mouse.num_bg_repeats_stdev, color=colors[i], label=mouse)\n",
    "plt.xlabel('Days in Training')\n",
    "plt.ylabel('Stdev of BG Repeats')\n",
    "plt.legend(loc='upper right')\n",
    "plt.savefig(f'bg_repeats_stdev', bbox_inches='tight')"
   ]
  },
  {
   "cell_type": "markdown",
   "id": "89eb0e94",
   "metadata": {},
   "source": [
    "### wait behavior of each session"
   ]
  },
  {
   "cell_type": "code",
   "execution_count": null,
   "id": "1d3d0144",
   "metadata": {},
   "outputs": [],
   "source": [
    "training_session_log['tw_mean'] = ''\n",
    "training_session_log['tw_median'] = ''\n",
    "training_session_log['tw_stdev'] = ''"
   ]
  },
  {
   "cell_type": "code",
   "execution_count": null,
   "id": "7612fef6",
   "metadata": {},
   "outputs": [],
   "source": [
    "for dir_name in training_session_log.dir:\n",
    "    all_trials = load_all_trials(data_folder, dir_name)\n",
    "    session_time_waited = get_session_time_waited(all_trials)\n",
    "    training_session_log.loc[training_session_log.dir == dir_name, \n",
    "                             ['tw_mean', 'tw_median', 'tw_stdev']] = session_time_waited"
   ]
  },
  {
   "cell_type": "code",
   "execution_count": null,
   "id": "80dcc8d9",
   "metadata": {},
   "outputs": [],
   "source": [
    "# plot time waited across training days for each mouse. one plot per mouse. \n",
    "for mouse in mouse_list:\n",
    "    session_mouse = training_session_log.loc[training_session_log.mouse == mouse]\n",
    "    \n",
    "    fig = plt.figure()\n",
    "    plt.errorbar(session_mouse.days, session_mouse.tw_mean, session_mouse.tw_stdev, \n",
    "                 linestyle='None', marker='o', color=colors[0], label='mean')\n",
    "    plt.scatter(session_mouse.days, session_mouse.tw_median, color=colors[1], label='median')\n",
    "    plt.title(mouse)\n",
    "    plt.xlabel('Days in Training')\n",
    "    plt.ylabel('Time Waited (s)')\n",
    "    plt.legend(loc='upper right')\n",
    "    plt.savefig(f'tw_{mouse}', bbox_inches='tight')"
   ]
  },
  {
   "cell_type": "code",
   "execution_count": null,
   "id": "67200e82",
   "metadata": {},
   "outputs": [],
   "source": [
    "# plot percent mean time waited in session. each mouse is a line.\n",
    "fig = plt.figure()\n",
    "for i, mouse in enumerate(mouse_list):\n",
    "    session_mouse = training_session_log.loc[training_session_log.mouse == mouse]\n",
    "    plt.plot(session_mouse.days, session_mouse.tw_mean, color=colors[i], label=mouse)\n",
    "\n",
    "plt.xlabel('Days in Training')\n",
    "plt.ylabel('Mean Time Waited (s)')\n",
    "plt.legend(loc='upper right')\n",
    "plt.savefig(f'tw', bbox_inches='tight')"
   ]
  },
  {
   "cell_type": "code",
   "execution_count": null,
   "id": "3dcb980e",
   "metadata": {},
   "outputs": [],
   "source": [
    "# time waited for only good trials \n",
    "training_session_log['tw_good_mean'] = ''\n",
    "training_session_log['tw_good_median'] = ''\n",
    "training_session_log['tw_good_stdev'] = ''\n",
    "for dir_name in training_session_log.dir:\n",
    "    all_trials = load_all_trials(data_folder, dir_name)\n",
    "    good_trials = select_good_trials(all_trials)\n",
    "    session_time_waited = get_session_time_waited(good_trials)\n",
    "    training_session_log.loc[training_session_log.dir == dir_name, \n",
    "                             ['tw_good_mean', 'tw_good_median', 'tw_good_stdev']] = session_time_waited"
   ]
  },
  {
   "cell_type": "code",
   "execution_count": null,
   "id": "a426921a",
   "metadata": {},
   "outputs": [],
   "source": [
    "# plot time waited for only good trials in session. one plot per mouse\n",
    "for mouse in mouse_list:\n",
    "    session_mouse = training_session_log.loc[training_session_log.mouse == mouse]\n",
    "    \n",
    "    fig = plt.figure()\n",
    "    plt.errorbar(session_mouse.days, session_mouse.tw_good_mean, session_mouse.tw_good_stdev, \n",
    "                 linestyle='None', marker='o', color=colors[0], label='mean')\n",
    "    plt.scatter(session_mouse.days, session_mouse.tw_good_median, color=colors[1], label='median')\n",
    "    plt.title(mouse)\n",
    "    plt.xlabel('Days in Training')\n",
    "    plt.ylabel('Time Waited (s)')\n",
    "    plt.legend(loc='upper right')\n",
    "    plt.savefig(f'tw_good_{mouse}', bbox_inches='tight')"
   ]
  },
  {
   "cell_type": "code",
   "execution_count": null,
   "id": "36d37451",
   "metadata": {},
   "outputs": [],
   "source": [
    "# plot time waited for only good trials in session. each mouse is a line\n",
    "fig = plt.figure()\n",
    "for i, mouse in enumerate(mouse_list):\n",
    "    session_mouse = training_session_log.loc[training_session_log.mouse == mouse]\n",
    "    plt.plot(session_mouse.days, session_mouse.tw_good_mean, color=colors[i], label=mouse)\n",
    "\n",
    "plt.xlabel('Days in Training')\n",
    "plt.ylabel('Mean Time Waited (s)')\n",
    "plt.legend(loc='upper right')\n",
    "plt.savefig(f'tw_good', bbox_inches='tight')"
   ]
  },
  {
   "cell_type": "code",
   "execution_count": null,
   "id": "bae03737",
   "metadata": {},
   "outputs": [],
   "source": [
    "# plots all trials of time bg vs time wait of each session\n",
    "for dir_name in training_session_log.dir:\n",
    "    all_trials = load_all_trials(data_folder, dir_name)\n",
    "    fig = plt.figure()\n",
    "    plt.scatter(all_trials.bg_length, all_trials.time_waited, color=colors[0])\n",
    "    days_trained = training_session_log.loc[training_session_log.dir == dir_name, 'days'].tolist()[0]\n",
    "    plt.title (f'Day {days_trained}')\n",
    "    plt.xlabel('Time in Background (s)')\n",
    "    plt.ylabel('Time Waited (s)')\n",
    "    plt.savefig(f'tw_scatter_{dir_name}', bbox_inches='tight')"
   ]
  },
  {
   "cell_type": "code",
   "execution_count": null,
   "id": "427d2fd6",
   "metadata": {},
   "outputs": [],
   "source": [
    "# plots only good trials of time bg vs time wait of each session\n",
    "for dir_name in training_session_log.dir:\n",
    "    all_trials = load_all_trials(data_folder, dir_name)\n",
    "    good_trials = select_good_trials(all_trials)\n",
    "    fig = plt.figure()\n",
    "    plt.scatter(good_trials.bg_length, good_trials.time_waited, color=colors[0])\n",
    "    days_trained = training_session_log.loc[training_session_log.dir == dir_name, 'days'].tolist()[0]\n",
    "    plt.title (f'Day {days_trained}')\n",
    "    plt.xlabel('Time in Background (s)')\n",
    "    plt.ylabel('Time Waited (s)')\n",
    "    plt.savefig(f'tw_good_scatter_{dir_name}', bbox_inches='tight')"
   ]
  },
  {
   "cell_type": "code",
   "execution_count": null,
   "id": "6e022957",
   "metadata": {},
   "outputs": [],
   "source": [
    "sns.scatterplot(x=\"bg_length\",\n",
    "                    y=\"time_waited\",\n",
    "                    hue=\"block_num\",\n",
    "                    data=example_all_trials)"
   ]
  },
  {
   "cell_type": "code",
   "execution_count": null,
   "id": "8215f3df",
   "metadata": {},
   "outputs": [],
   "source": [
    "example_good_trials = select_good_trials(all_trials)\n",
    "sns.scatterplot(x=\"bg_length\",\n",
    "                    y=\"time_waited\",\n",
    "                    hue=\"block_num\",\n",
    "                    data=example_good_trials)"
   ]
  },
  {
   "cell_type": "markdown",
   "id": "77e785ec",
   "metadata": {},
   "source": [
    "### saves the master log with analyzed info"
   ]
  },
  {
   "cell_type": "code",
   "execution_count": null,
   "id": "e39d9887",
   "metadata": {},
   "outputs": [],
   "source": [
    "# save master log with analyzed data\n",
    "filename = 'all_sessions.csv'\n",
    "path = os.path.join(cohort_folder, filename)\n",
    "training_session_log.to_csv(path)"
   ]
  },
  {
   "cell_type": "markdown",
   "id": "e008390e",
   "metadata": {},
   "source": [
    "## block based analysis"
   ]
  },
  {
   "cell_type": "code",
   "execution_count": null,
   "id": "a7bb1dcc",
   "metadata": {},
   "outputs": [],
   "source": [
    "example_all_trials = load_all_trials(data_folder, training_session_log.dir[0])\n",
    "example_all_trials.head()"
   ]
  },
  {
   "cell_type": "code",
   "execution_count": null,
   "id": "5c4d2a1d",
   "metadata": {},
   "outputs": [],
   "source": [
    "# makes a list of 0 to total block number, used to loop in the session\n",
    "def generate_total_block_list(session_log, dir_name):\n",
    "    current_session = session_log.loc[session_log.dir == dir_name]\n",
    "    total_block_list = range(int(current_session.num_blocks.tolist()[0]) + 1)\n",
    "    return total_block_list"
   ]
  },
  {
   "cell_type": "code",
   "execution_count": null,
   "id": "8006954c",
   "metadata": {},
   "outputs": [],
   "source": [
    "# makes an empty df with each row being a trial, and each column with trial info\n",
    "# trial number is added to the df\n",
    "all_trials_column_names = ['block_num', 'block_type', 'start_time', 'end_time', 'bg_repeats', 'blk_bg_avg',\n",
    "                'bg_length', 'reward_size', 'miss_trial', 'time_waited', 'num_consumption_lick']\n",
    "\n",
    "def generate_all_blocks_df(column_names, total_block_list):\n",
    "    all_blocks = pd.DataFrame(columns=column_names)\n",
    "    all_blocks['block_num'] = total_block_list\n",
    "    return all_blocks"
   ]
  },
  {
   "cell_type": "code",
   "execution_count": null,
   "id": "30c7985f",
   "metadata": {},
   "outputs": [],
   "source": [
    "for dir_name in training_session_log.dir:\n",
    "    all_trials = load_all_trials(data_folder, dir_name)"
   ]
  },
  {
   "cell_type": "markdown",
   "id": "f1708b2a",
   "metadata": {},
   "source": [
    "## lick analysis across sessions"
   ]
  },
  {
   "cell_type": "code",
   "execution_count": null,
   "id": "181e8d43",
   "metadata": {},
   "outputs": [],
   "source": [
    "lick_start = session.loc[(session['key'] == 'lick') & (session['value'] == 1)]\n",
    "lick_start_times = lick_start['session_time'].tolist()\n",
    "lick_end = session.loc[(session['key'] == 'lick') & (session['value'] == 0)]\n",
    "lick_end_times = lick_end['session_time'].tolist()\n",
    "lick_times = [end - start for end, start in zip(lick_end_times, lick_start_times)]\n",
    "lick_time_min = min(lick_times)\n",
    "lick_time_max = max(lick_times)\n",
    "lick_time_med = statistics.median(lick_times)\n",
    "lick_time_avg = statistics.mean(lick_times)\n",
    "lick_time_std = statistics.stdev(lick_times)"
   ]
  },
  {
   "cell_type": "code",
   "execution_count": null,
   "id": "1384d51d",
   "metadata": {},
   "outputs": [],
   "source": [
    "for dir_name, file_name in zip(training_session_log.dir, training_session_log.filename):\n",
    "    session = load_session(data_folder, dir_name, file_name)"
   ]
  },
  {
   "cell_type": "code",
   "execution_count": null,
   "id": "32cde3a1",
   "metadata": {},
   "outputs": [],
   "source": []
  },
  {
   "cell_type": "markdown",
   "id": "71c71e4d",
   "metadata": {},
   "source": [
    "## Furture implementation"
   ]
  },
  {
   "cell_type": "code",
   "execution_count": null,
   "id": "9230d849",
   "metadata": {},
   "outputs": [],
   "source": [
    "# delete short sessions. doesnt work right now because of permission issue\n",
    "short_session = session_log.loc[(session_log['training'] == 'regular') & (session_log['total_trials'] < 100)] \n",
    "print(short_session)\n",
    "# for dir_name in short_session.dir:\n",
    "#     path = os.path.join(data_folder, dir_name)\n",
    "#     os.remove(path)"
   ]
  },
  {
   "cell_type": "code",
   "execution_count": null,
   "id": "102eb905",
   "metadata": {},
   "outputs": [],
   "source": [
    "# print out sessions with the same mouse running more than once\n",
    "mouse_list = session_log.mouse.unique().tolist()\n",
    "print(mouse_list)\n",
    "for d in session_log.date.unique().tolist():\n",
    "    session_of_the_day = session_log.loc[session_log['date'] == d]\n",
    "    for mouse in mouse_list:\n",
    "        count = len(session_of_the_day.loc[session_of_the_day['mouse'] == mouse])\n",
    "        if count > 1:\n",
    "            print(d, mouse)   "
   ]
  },
  {
   "cell_type": "code",
   "execution_count": null,
   "id": "64fb8488",
   "metadata": {},
   "outputs": [],
   "source": [
    "# search for background in key\n",
    "for dir_name, file_name in zip(session_log.dir, session_log.filename):\n",
    "    session = load_session(data_folder, dir_name, file_name)\n",
    "    keys = session['key'].unique().tolist()\n",
    "    if \"background\" not in keys:\n",
    "        print(dir_name)"
   ]
  },
  {
   "cell_type": "code",
   "execution_count": null,
   "id": "730f71e6",
   "metadata": {},
   "outputs": [],
   "source": []
  }
 ],
 "metadata": {
  "kernelspec": {
   "display_name": "LUCKYCHARM",
   "language": "python",
   "name": "luckycharm"
  },
  "language_info": {
   "codemirror_mode": {
    "name": "ipython",
    "version": 3
   },
   "file_extension": ".py",
   "mimetype": "text/x-python",
   "name": "python",
   "nbconvert_exporter": "python",
   "pygments_lexer": "ipython3",
   "version": "3.10.6"
  }
 },
 "nbformat": 4,
 "nbformat_minor": 5
}
