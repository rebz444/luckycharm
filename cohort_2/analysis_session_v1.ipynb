{
 "cells": [
  {
   "cell_type": "code",
   "execution_count": 1,
   "metadata": {},
   "outputs": [],
   "source": [
    "import os\n",
    "import math\n",
    "\n",
    "import analysis_session_helper_functions_v2 as helper\n",
    "import analysis_utils as utils\n",
    "\n",
    "import pandas as pd"
   ]
  },
  {
   "cell_type": "code",
   "execution_count": 2,
   "metadata": {},
   "outputs": [
    {
     "name": "stdout",
     "output_type": "stream",
     "text": [
      "/Users/rebekahzhang/Documents/shuler_lab/behavior_data/cohort_2/509_clean\n"
     ]
    }
   ],
   "source": [
    "cohort = 'cohort_2'\n",
    "to_analyze = '509_clean'\n",
    "data_dir = '/Users/rebekahzhang/Documents/shuler_lab/behavior_data'\n",
    "data_folder = os.path.join(data_dir, cohort, to_analyze)\n",
    "print(data_folder)"
   ]
  },
  {
   "attachments": {},
   "cell_type": "markdown",
   "metadata": {},
   "source": [
    "# Generates all session logs"
   ]
  },
  {
   "cell_type": "code",
   "execution_count": 3,
   "metadata": {},
   "outputs": [
    {
     "data": {
      "text/html": [
       "<div>\n",
       "<style scoped>\n",
       "    .dataframe tbody tr th:only-of-type {\n",
       "        vertical-align: middle;\n",
       "    }\n",
       "\n",
       "    .dataframe tbody tr th {\n",
       "        vertical-align: top;\n",
       "    }\n",
       "\n",
       "    .dataframe thead th {\n",
       "        text-align: right;\n",
       "    }\n",
       "</style>\n",
       "<table border=\"1\" class=\"dataframe\">\n",
       "  <thead>\n",
       "    <tr style=\"text-align: right;\">\n",
       "      <th></th>\n",
       "      <th>date</th>\n",
       "      <th>mouse</th>\n",
       "      <th>dir</th>\n",
       "      <th>filename</th>\n",
       "    </tr>\n",
       "  </thead>\n",
       "  <tbody>\n",
       "    <tr>\n",
       "      <th>0</th>\n",
       "      <td>2023-04-12</td>\n",
       "      <td>RZ013</td>\n",
       "      <td>2023-04-12_05-44-07_RZ013</td>\n",
       "      <td>data_RZ013_2023-04-12_05-44-07.txt</td>\n",
       "    </tr>\n",
       "    <tr>\n",
       "      <th>1</th>\n",
       "      <td>2023-05-09</td>\n",
       "      <td>RZ017</td>\n",
       "      <td>2023-05-09_13-26-19_RZ017</td>\n",
       "      <td>data_RZ017_2023-05-09_13-26-19.txt</td>\n",
       "    </tr>\n",
       "    <tr>\n",
       "      <th>2</th>\n",
       "      <td>2023-04-25</td>\n",
       "      <td>RZ015</td>\n",
       "      <td>2023-04-25_12-10-41_RZ015</td>\n",
       "      <td>data_RZ015_2023-04-25_12-10-41.txt</td>\n",
       "    </tr>\n",
       "    <tr>\n",
       "      <th>3</th>\n",
       "      <td>2023-05-02</td>\n",
       "      <td>RZ013</td>\n",
       "      <td>2023-05-02_11-18-24_RZ013</td>\n",
       "      <td>data_RZ013_2023-05-02_11-18-24.txt</td>\n",
       "    </tr>\n",
       "    <tr>\n",
       "      <th>4</th>\n",
       "      <td>2023-05-04</td>\n",
       "      <td>RZ015</td>\n",
       "      <td>2023-05-04_13-23-22_RZ015</td>\n",
       "      <td>data_RZ015_2023-05-04_13-23-22.txt</td>\n",
       "    </tr>\n",
       "  </tbody>\n",
       "</table>\n",
       "</div>"
      ],
      "text/plain": [
       "         date  mouse                        dir  \\\n",
       "0  2023-04-12  RZ013  2023-04-12_05-44-07_RZ013   \n",
       "1  2023-05-09  RZ017  2023-05-09_13-26-19_RZ017   \n",
       "2  2023-04-25  RZ015  2023-04-25_12-10-41_RZ015   \n",
       "3  2023-05-02  RZ013  2023-05-02_11-18-24_RZ013   \n",
       "4  2023-05-04  RZ015  2023-05-04_13-23-22_RZ015   \n",
       "\n",
       "                             filename  \n",
       "0  data_RZ013_2023-04-12_05-44-07.txt  \n",
       "1  data_RZ017_2023-05-09_13-26-19.txt  \n",
       "2  data_RZ015_2023-04-25_12-10-41.txt  \n",
       "3  data_RZ013_2023-05-02_11-18-24.txt  \n",
       "4  data_RZ015_2023-05-04_13-23-22.txt  "
      ]
     },
     "execution_count": 3,
     "metadata": {},
     "output_type": "execute_result"
    }
   ],
   "source": [
    "session_log = helper.generate_all_session_log(data_folder)\n",
    "session_log.head()"
   ]
  },
  {
   "attachments": {},
   "cell_type": "markdown",
   "metadata": {},
   "source": [
    "get a list of mouse names"
   ]
  },
  {
   "cell_type": "code",
   "execution_count": 4,
   "metadata": {},
   "outputs": [
    {
     "name": "stdout",
     "output_type": "stream",
     "text": [
      "['RZ012', 'RZ013', 'RZ014', 'RZ015', 'RZ016', 'RZ017']\n"
     ]
    }
   ],
   "source": [
    "# prints mouse names in data folder, check for weird ones and delete from data base\n",
    "mouse_list = session_log.mouse.unique().tolist()\n",
    "mouse_list.sort()\n",
    "print(mouse_list)"
   ]
  },
  {
   "attachments": {},
   "cell_type": "markdown",
   "metadata": {},
   "source": [
    "get the type of training for session meta data and add to log"
   ]
  },
  {
   "cell_type": "code",
   "execution_count": 5,
   "metadata": {},
   "outputs": [],
   "source": [
    "training_list = []\n",
    "for dir_name, file_name in zip(session_log.dir, session_log.filename):\n",
    "    session_meta = utils.load_session_meta(data_folder, dir_name, file_name)\n",
    "    training = session_meta.training.tolist()[0]\n",
    "    training_list.append(training)\n",
    "\n",
    "session_log['training'] = training_list"
   ]
  },
  {
   "attachments": {},
   "cell_type": "markdown",
   "metadata": {},
   "source": [
    "add columns of basic info to each session to log"
   ]
  },
  {
   "cell_type": "code",
   "execution_count": 6,
   "metadata": {},
   "outputs": [],
   "source": [
    "session = utils.load_session(data_folder, dir_name, file_name)"
   ]
  },
  {
   "cell_type": "code",
   "execution_count": 7,
   "metadata": {},
   "outputs": [],
   "source": [
    "session_basics_columns = ['num_blocks', 'num_trials', 'rewards', 'time', 'proper_end']\n",
    "for dir_name, file_name in zip(session_log.dir, session_log.filename):\n",
    "    session = utils.load_session(data_folder, dir_name, file_name)\n",
    "    session_basic = helper.get_session_basics(session)\n",
    "    session_log.loc[session_log.dir == dir_name, session_basics_columns] = session_basic"
   ]
  },
  {
   "attachments": {},
   "cell_type": "markdown",
   "metadata": {},
   "source": [
    "### Focus only on regular training sessions"
   ]
  },
  {
   "cell_type": "code",
   "execution_count": 8,
   "metadata": {},
   "outputs": [
    {
     "data": {
      "text/html": [
       "<div>\n",
       "<style scoped>\n",
       "    .dataframe tbody tr th:only-of-type {\n",
       "        vertical-align: middle;\n",
       "    }\n",
       "\n",
       "    .dataframe tbody tr th {\n",
       "        vertical-align: top;\n",
       "    }\n",
       "\n",
       "    .dataframe thead th {\n",
       "        text-align: right;\n",
       "    }\n",
       "</style>\n",
       "<table border=\"1\" class=\"dataframe\">\n",
       "  <thead>\n",
       "    <tr style=\"text-align: right;\">\n",
       "      <th></th>\n",
       "      <th>index</th>\n",
       "      <th>date</th>\n",
       "      <th>mouse</th>\n",
       "      <th>dir</th>\n",
       "      <th>filename</th>\n",
       "      <th>training</th>\n",
       "      <th>num_blocks</th>\n",
       "      <th>num_trials</th>\n",
       "      <th>rewards</th>\n",
       "      <th>time</th>\n",
       "      <th>proper_end</th>\n",
       "    </tr>\n",
       "  </thead>\n",
       "  <tbody>\n",
       "    <tr>\n",
       "      <th>0</th>\n",
       "      <td>12</td>\n",
       "      <td>2023-04-25</td>\n",
       "      <td>RZ012</td>\n",
       "      <td>2023-04-25_11-00-06_RZ012</td>\n",
       "      <td>data_RZ012_2023-04-25_11-00-06.txt</td>\n",
       "      <td>regular</td>\n",
       "      <td>3.0</td>\n",
       "      <td>176.0</td>\n",
       "      <td>541.35</td>\n",
       "      <td>1314.41</td>\n",
       "      <td>True</td>\n",
       "    </tr>\n",
       "    <tr>\n",
       "      <th>1</th>\n",
       "      <td>34</td>\n",
       "      <td>2023-04-25</td>\n",
       "      <td>RZ013</td>\n",
       "      <td>2023-04-25_11-25-20_RZ013</td>\n",
       "      <td>data_RZ013_2023-04-25_11-25-20.txt</td>\n",
       "      <td>regular</td>\n",
       "      <td>2.0</td>\n",
       "      <td>106.0</td>\n",
       "      <td>367.27</td>\n",
       "      <td>832.84</td>\n",
       "      <td>False</td>\n",
       "    </tr>\n",
       "    <tr>\n",
       "      <th>2</th>\n",
       "      <td>75</td>\n",
       "      <td>2023-04-25</td>\n",
       "      <td>RZ014</td>\n",
       "      <td>2023-04-25_11-43-17_RZ014</td>\n",
       "      <td>data_RZ014_2023-04-25_11-43-17.txt</td>\n",
       "      <td>regular</td>\n",
       "      <td>3.0</td>\n",
       "      <td>216.0</td>\n",
       "      <td>458.45</td>\n",
       "      <td>1452.66</td>\n",
       "      <td>True</td>\n",
       "    </tr>\n",
       "    <tr>\n",
       "      <th>3</th>\n",
       "      <td>2</td>\n",
       "      <td>2023-04-25</td>\n",
       "      <td>RZ015</td>\n",
       "      <td>2023-04-25_12-10-41_RZ015</td>\n",
       "      <td>data_RZ015_2023-04-25_12-10-41.txt</td>\n",
       "      <td>regular</td>\n",
       "      <td>3.0</td>\n",
       "      <td>184.0</td>\n",
       "      <td>645.04</td>\n",
       "      <td>1517.78</td>\n",
       "      <td>True</td>\n",
       "    </tr>\n",
       "    <tr>\n",
       "      <th>4</th>\n",
       "      <td>32</td>\n",
       "      <td>2023-04-25</td>\n",
       "      <td>RZ016</td>\n",
       "      <td>2023-04-25_12-38-31_RZ016</td>\n",
       "      <td>data_RZ016_2023-04-25_12-38-31.txt</td>\n",
       "      <td>regular</td>\n",
       "      <td>3.0</td>\n",
       "      <td>198.0</td>\n",
       "      <td>528.83</td>\n",
       "      <td>1380.37</td>\n",
       "      <td>True</td>\n",
       "    </tr>\n",
       "  </tbody>\n",
       "</table>\n",
       "</div>"
      ],
      "text/plain": [
       "   index        date  mouse                        dir  \\\n",
       "0     12  2023-04-25  RZ012  2023-04-25_11-00-06_RZ012   \n",
       "1     34  2023-04-25  RZ013  2023-04-25_11-25-20_RZ013   \n",
       "2     75  2023-04-25  RZ014  2023-04-25_11-43-17_RZ014   \n",
       "3      2  2023-04-25  RZ015  2023-04-25_12-10-41_RZ015   \n",
       "4     32  2023-04-25  RZ016  2023-04-25_12-38-31_RZ016   \n",
       "\n",
       "                             filename training  num_blocks  num_trials  \\\n",
       "0  data_RZ012_2023-04-25_11-00-06.txt  regular         3.0       176.0   \n",
       "1  data_RZ013_2023-04-25_11-25-20.txt  regular         2.0       106.0   \n",
       "2  data_RZ014_2023-04-25_11-43-17.txt  regular         3.0       216.0   \n",
       "3  data_RZ015_2023-04-25_12-10-41.txt  regular         3.0       184.0   \n",
       "4  data_RZ016_2023-04-25_12-38-31.txt  regular         3.0       198.0   \n",
       "\n",
       "   rewards     time proper_end  \n",
       "0   541.35  1314.41       True  \n",
       "1   367.27   832.84      False  \n",
       "2   458.45  1452.66       True  \n",
       "3   645.04  1517.78       True  \n",
       "4   528.83  1380.37       True  "
      ]
     },
     "execution_count": 8,
     "metadata": {},
     "output_type": "execute_result"
    }
   ],
   "source": [
    "training_session_log = session_log.loc[session_log.training == 'regular'].sort_values('dir').reset_index()\n",
    "training_session_log.head()"
   ]
  },
  {
   "attachments": {},
   "cell_type": "markdown",
   "metadata": {},
   "source": [
    "### Examine quality of sessions\n",
    "doesn't need to run when data folder is cleaned"
   ]
  },
  {
   "attachments": {},
   "cell_type": "markdown",
   "metadata": {},
   "source": [
    "check for missing sessions by the number of sessions in each training day"
   ]
  },
  {
   "cell_type": "code",
   "execution_count": 9,
   "metadata": {},
   "outputs": [
    {
     "name": "stdout",
     "output_type": "stream",
     "text": [
      "2023-04-27\n"
     ]
    }
   ],
   "source": [
    "num_mice = 6\n",
    "date_list = training_session_log.date.unique().tolist()\n",
    "for date in date_list:\n",
    "    data = training_session_log.loc[training_session_log['date'] == date]\n",
    "    if len(data) < num_mice:\n",
    "        print(date)"
   ]
  },
  {
   "attachments": {},
   "cell_type": "markdown",
   "metadata": {},
   "source": [
    "check for same mouse with multiple sessions per day, prints out date and mouse if too many"
   ]
  },
  {
   "cell_type": "code",
   "execution_count": 10,
   "metadata": {},
   "outputs": [],
   "source": [
    "# prints dates of the same mouse with multiple sessions\n",
    "for d in training_session_log.date.unique().tolist():\n",
    "    session_of_the_day = training_session_log.loc[training_session_log['date'] == d]\n",
    "    for mouse in mouse_list:\n",
    "        count = len(session_of_the_day.loc[session_of_the_day['mouse'] == mouse])\n",
    "        if count > 1:\n",
    "            print(d, mouse)   "
   ]
  },
  {
   "attachments": {},
   "cell_type": "markdown",
   "metadata": {},
   "source": [
    "check for short sessions, prints out dir"
   ]
  },
  {
   "cell_type": "code",
   "execution_count": 11,
   "metadata": {},
   "outputs": [
    {
     "name": "stdout",
     "output_type": "stream",
     "text": [
      "Series([], Name: dir, dtype: object)\n"
     ]
    }
   ],
   "source": [
    "short_session = training_session_log.loc[(training_session_log['training'] == 'regular') & \n",
    "                                         (training_session_log['num_trials'] < 100)] \n",
    "print(short_session.dir)"
   ]
  },
  {
   "attachments": {},
   "cell_type": "markdown",
   "metadata": {},
   "source": [
    "### Add number of days in training to training log"
   ]
  },
  {
   "cell_type": "code",
   "execution_count": 12,
   "metadata": {},
   "outputs": [],
   "source": [
    "for mouse in mouse_list:\n",
    "    total_days = sum(training_session_log.mouse == mouse)\n",
    "    training_session_log.loc[training_session_log.mouse == mouse, 'days'] = list(range(total_days))"
   ]
  },
  {
   "cell_type": "code",
   "execution_count": 13,
   "metadata": {},
   "outputs": [
    {
     "data": {
      "text/plain": [
       "10.0"
      ]
     },
     "execution_count": 13,
     "metadata": {},
     "output_type": "execute_result"
    }
   ],
   "source": [
    "training_session_log.days.max()"
   ]
  },
  {
   "attachments": {},
   "cell_type": "markdown",
   "metadata": {},
   "source": [
    "### Saves all sessions log and training session log"
   ]
  },
  {
   "cell_type": "code",
   "execution_count": 14,
   "metadata": {},
   "outputs": [],
   "source": [
    "filename = f'all_sessions.csv'\n",
    "path = os.path.join(data_folder, filename)\n",
    "session_log.to_csv(path, index=False)"
   ]
  },
  {
   "cell_type": "code",
   "execution_count": 15,
   "metadata": {},
   "outputs": [],
   "source": [
    "filename = f'training_sessions.csv'\n",
    "path = os.path.join(data_folder, filename)\n",
    "training_session_log.to_csv(path)"
   ]
  },
  {
   "attachments": {},
   "cell_type": "markdown",
   "metadata": {},
   "source": [
    "# Generate all trials per session"
   ]
  },
  {
   "attachments": {},
   "cell_type": "markdown",
   "metadata": {},
   "source": [
    "load session log"
   ]
  },
  {
   "cell_type": "code",
   "execution_count": 16,
   "metadata": {},
   "outputs": [],
   "source": [
    "training_session_log = utils.load_session_log(data_folder, '509_training_sessions.csv')"
   ]
  },
  {
   "attachments": {},
   "cell_type": "markdown",
   "metadata": {},
   "source": [
    "### Raw data processing and generate initial all trials df\n",
    "adds trial numbers and states to hardware entries\n",
    "create all trials df with trial basics added\n",
    "both files saved, \n",
    "does't need to be rerun"
   ]
  },
  {
   "cell_type": "code",
   "execution_count": 17,
   "metadata": {},
   "outputs": [],
   "source": [
    "all_trials_column_names = ['session_trial_num', 'block_trial_num', 'block_num', 'start_time', 'end_time']"
   ]
  },
  {
   "cell_type": "code",
   "execution_count": 18,
   "metadata": {},
   "outputs": [],
   "source": [
    "for dir_name, file_name in zip(training_session_log.dir, training_session_log.filename):\n",
    "    \n",
    "    processed_path = os.path.join(data_folder, dir_name, f'processed_{file_name[:-4]}.csv')\n",
    "    all_trials_path =os.path.join(data_folder, dir_name, f'{dir_name}_all_trials.csv')\n",
    "    # if os.path.isfile(processed_path) and os.path.isfile(all_trials_path):\n",
    "    #     continue\n",
    "\n",
    "    session = utils.load_session(data_folder, dir_name, file_name)\n",
    "    session['trial_time'] = ''\n",
    "    total_trial_list = helper.generate_total_trial_list(training_session_log, dir_name)\n",
    "    all_trials = pd.DataFrame(columns=all_trials_column_names)\n",
    "\n",
    "    for t in total_trial_list:\n",
    "        trial = session.loc[session['session_trial_num'] == t]\n",
    "        trial_basics = helper.get_trial_basics(trial)\n",
    "        helper.add_trial_time(session, t, trial, trial_basics)\n",
    "\n",
    "        trial_basics = pd.DataFrame([trial_basics])\n",
    "        all_trials = pd.concat([all_trials, trial_basics], ignore_index=True)\n",
    "    \n",
    "    session = utils.trim_session(training_session_log, dir_name, session)\n",
    "    session.to_csv(processed_path)\n",
    "    all_trials.to_csv(all_trials_path)"
   ]
  },
  {
   "attachments": {},
   "cell_type": "markdown",
   "metadata": {},
   "source": [
    "### Adding analyzed trial data to all trials df"
   ]
  },
  {
   "cell_type": "code",
   "execution_count": 19,
   "metadata": {},
   "outputs": [],
   "source": [
    "all_trials_data_column = ['bg_drawn', 'blk_type', 'bg_length', 'enl_repeats', \n",
    "                          'miss_trial', 'time_waited', 'reward', 'num_consumption_lick']"
   ]
  },
  {
   "cell_type": "code",
   "execution_count": 20,
   "metadata": {},
   "outputs": [],
   "source": [
    "def get_trial_bg_data(trial):\n",
    "    bg_start_idx = trial.index[(trial['key'] == 'trial') & (trial['value'] == 1)].tolist()\n",
    "    bg_end_idx = trial.index[(trial['key'] == 'wait') & (trial['value'] == 1)].tolist()\n",
    "    trial_bg = trial.loc[bg_start_idx[0] : bg_end_idx[0]]\n",
    "    bg_drawn = float(trial_bg.iloc[0]['time_bg'])\n",
    "    if bg_drawn < 2:\n",
    "        blk_type = 's'\n",
    "    elif bg_drawn > 2:\n",
    "        blk_type = 'l'\n",
    "    bg_length = trial_bg.session_time.max() - trial_bg.session_time.min()\n",
    "    enl_repeats = trial['key'].value_counts()['enl']\n",
    "    return [bg_drawn, blk_type, bg_length, enl_repeats]  "
   ]
  },
  {
   "cell_type": "code",
   "execution_count": 21,
   "metadata": {},
   "outputs": [],
   "source": [
    "def get_trial_wait_data(trial):\n",
    "    \"\"\"gets 3 values about trial performance, takes trial raw data as input\"\"\"\n",
    "    wait_start_time = trial.loc[(trial['key'] == 'wait') & (trial['value'] == 1), 'session_time'].iloc[0]\n",
    "    if 'consumption' in trial.key.unique():\n",
    "        miss_trial = False\n",
    "        reward = trial.loc[trial['key'] == 'consumption', 'reward_size'].iloc[0]\n",
    "        consumption_start_time = trial.loc[trial['key'] == 'consumption', 'session_time'].iloc[0]\n",
    "        time_waited = consumption_start_time - wait_start_time\n",
    "        consumption = trial.loc[trial['state'] == 'in_consumption']\n",
    "        num_consumption_lick = len(consumption.loc[(consumption['key'] == 'lick') & (trial['value'] == 1)])\n",
    "    else:\n",
    "        miss_trial = True\n",
    "        reward = math.nan\n",
    "        time_waited = math.nan\n",
    "        num_consumption_lick = math.nan\n",
    "    return [miss_trial, time_waited, reward, num_consumption_lick]"
   ]
  },
  {
   "cell_type": "code",
   "execution_count": 22,
   "metadata": {},
   "outputs": [],
   "source": [
    "def get_trial_performance(trial):\n",
    "    bg_data = get_trial_bg_data(trial)\n",
    "    wait_data = get_trial_wait_data(trial)\n",
    "    return [bg_data + wait_data]"
   ]
  },
  {
   "cell_type": "code",
   "execution_count": 23,
   "metadata": {},
   "outputs": [],
   "source": [
    "for dir_name, file_name in zip(training_session_log.dir, training_session_log.filename):\n",
    "    all_trials_analyzed_path =os.path.join(data_folder, dir_name, f'{dir_name}_all_trials_analyzed.csv')\n",
    "    # if os.path.isfile(all_trials_analyzed_path):\n",
    "    #     continue\n",
    "\n",
    "    processed_session = utils.load_processed_session(data_folder, dir_name, file_name)\n",
    "    all_trials = utils.load_all_trials(data_folder, dir_name)\n",
    "    total_trial_list = helper.generate_total_trial_list(training_session_log, dir_name)\n",
    "\n",
    "    for t in total_trial_list:\n",
    "        trial = processed_session.loc[processed_session['session_trial_num'] == t]\n",
    "        trial.loc[trial['key'] == 'reward', 'key'] = 'consumption'\n",
    "        trial_performance = get_trial_performance(trial)\n",
    "        all_trials.loc[all_trials['session_trial_num'] == t, all_trials_data_column] = trial_performance\n",
    "    \n",
    "    all_trials.to_csv(all_trials_analyzed_path)"
   ]
  },
  {
   "attachments": {},
   "cell_type": "markdown",
   "metadata": {},
   "source": [
    "# Generate all blocks per session"
   ]
  },
  {
   "attachments": {},
   "cell_type": "markdown",
   "metadata": {},
   "source": [
    "load session log"
   ]
  },
  {
   "cell_type": "code",
   "execution_count": 24,
   "metadata": {},
   "outputs": [
    {
     "ename": "AttributeError",
     "evalue": "module 'analysis_session_helper_functions_v2' has no attribute 'load_session_log'",
     "output_type": "error",
     "traceback": [
      "\u001b[0;31m---------------------------------------------------------------------------\u001b[0m",
      "\u001b[0;31mAttributeError\u001b[0m                            Traceback (most recent call last)",
      "\u001b[1;32m/Users/rebekahzhang/Documents/shuler_lab/code/luckycharm/analysis_session_v1.ipynb Cell 41\u001b[0m in \u001b[0;36m<cell line: 1>\u001b[0;34m()\u001b[0m\n\u001b[0;32m----> <a href='vscode-notebook-cell:/Users/rebekahzhang/Documents/shuler_lab/code/luckycharm/analysis_session_v1.ipynb#X55sZmlsZQ%3D%3D?line=0'>1</a>\u001b[0m training_session_log \u001b[39m=\u001b[39m helper\u001b[39m.\u001b[39;49mload_session_log(data_folder, \u001b[39m'\u001b[39m\u001b[39m509_training_sessions.csv\u001b[39m\u001b[39m'\u001b[39m)\n",
      "\u001b[0;31mAttributeError\u001b[0m: module 'analysis_session_helper_functions_v2' has no attribute 'load_session_log'"
     ]
    }
   ],
   "source": [
    "training_session_log = helper.load_session_log(data_folder, '509_training_sessions.csv')"
   ]
  },
  {
   "attachments": {},
   "cell_type": "markdown",
   "metadata": {},
   "source": [
    "### generate all blocks df and saves to raw data folder"
   ]
  },
  {
   "cell_type": "code",
   "execution_count": null,
   "metadata": {},
   "outputs": [],
   "source": [
    "all_blocks_column_names = ['block_num', 'blk_type', 'num_trials', 'start_time', 'end_time',\n",
    "                           'bg_drawn_mean', 'bg_drawn_std', 'bg_length_mean', 'bg_length_std', \n",
    "                           'enl_repeats_mean', 'enl_repeats_std', 'num_miss_trials', 'time_waited_mean', \n",
    "                           'time_waited_std', 'reward_mean', 'reward_std', 'num_consumption_lick_mean', \n",
    "                           'num_consumption_lick_std']"
   ]
  },
  {
   "cell_type": "code",
   "execution_count": null,
   "metadata": {},
   "outputs": [],
   "source": [
    "for dir_name, file_name in zip(training_session_log.dir, training_session_log.filename):\n",
    "    filename = f'{dir_name}_all_blocks.csv'\n",
    "    path = os.path.join(data_folder, dir_name, filename)\n",
    "    # if os.path.isfile(path):\n",
    "    #     continue\n",
    "\n",
    "    all_trials_analyzed = helper.load_all_trials_analyzed(data_folder, dir_name)\n",
    "    total_block_list = helper.generate_total_block_list(training_session_log, dir_name)\n",
    "    all_blocks = helper.generate_all_blocks_df(all_blocks_column_names, total_block_list)\n",
    "    \n",
    "    for blk in total_block_list:\n",
    "        block = all_trials_analyzed.loc[all_trials_analyzed['block_num'] == blk]\n",
    "        block_data = helper.get_block_data(block)\n",
    "        all_blocks.loc[all_blocks.block_num == blk, all_blocks_column_names[1:]] = block_data\n",
    "        \n",
    "    all_blocks.to_csv(path, index=False)"
   ]
  }
 ],
 "metadata": {
  "kernelspec": {
   "display_name": "LUCKYCHARM",
   "language": "python",
   "name": "luckycharm"
  },
  "language_info": {
   "codemirror_mode": {
    "name": "ipython",
    "version": 3
   },
   "file_extension": ".py",
   "mimetype": "text/x-python",
   "name": "python",
   "nbconvert_exporter": "python",
   "pygments_lexer": "ipython3",
   "version": "3.10.6"
  },
  "orig_nbformat": 4
 },
 "nbformat": 4,
 "nbformat_minor": 2
}
