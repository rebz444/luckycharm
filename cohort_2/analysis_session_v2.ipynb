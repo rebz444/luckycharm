{
 "cells": [
  {
   "cell_type": "code",
   "execution_count": 32,
   "metadata": {},
   "outputs": [],
   "source": [
    "import os\n",
    "\n",
    "import analysis_session_helper_functions_v2 as helper\n",
    "import analysis_utils as utils\n",
    "\n",
    "import pandas as pd"
   ]
  },
  {
   "cell_type": "code",
   "execution_count": 33,
   "metadata": {},
   "outputs": [
    {
     "name": "stdout",
     "output_type": "stream",
     "text": [
      "/Users/rebekahzhang/Documents/shuler_lab/behavior_data/cohort_2/510_clean\n"
     ]
    }
   ],
   "source": [
    "cohort = 'cohort_2'\n",
    "to_analyze = '510_clean'\n",
    "data_dir = '/Users/rebekahzhang/Documents/shuler_lab/behavior_data'\n",
    "data_folder = os.path.join(data_dir, cohort, to_analyze)\n",
    "print(data_folder)"
   ]
  },
  {
   "attachments": {},
   "cell_type": "markdown",
   "metadata": {},
   "source": [
    "# Generates all session logs"
   ]
  },
  {
   "attachments": {},
   "cell_type": "markdown",
   "metadata": {},
   "source": [
    "does not need to be run if session logs have been generated"
   ]
  },
  {
   "cell_type": "code",
   "execution_count": 34,
   "metadata": {},
   "outputs": [
    {
     "data": {
      "text/html": [
       "<div>\n",
       "<style scoped>\n",
       "    .dataframe tbody tr th:only-of-type {\n",
       "        vertical-align: middle;\n",
       "    }\n",
       "\n",
       "    .dataframe tbody tr th {\n",
       "        vertical-align: top;\n",
       "    }\n",
       "\n",
       "    .dataframe thead th {\n",
       "        text-align: right;\n",
       "    }\n",
       "</style>\n",
       "<table border=\"1\" class=\"dataframe\">\n",
       "  <thead>\n",
       "    <tr style=\"text-align: right;\">\n",
       "      <th></th>\n",
       "      <th>date</th>\n",
       "      <th>mouse</th>\n",
       "      <th>dir</th>\n",
       "      <th>filename</th>\n",
       "    </tr>\n",
       "  </thead>\n",
       "  <tbody>\n",
       "    <tr>\n",
       "      <th>0</th>\n",
       "      <td>2023-05-12</td>\n",
       "      <td>RZ012</td>\n",
       "      <td>2023-05-12_10-29-00_RZ012</td>\n",
       "      <td>data_RZ012_2023-05-12_10-29-00.txt</td>\n",
       "    </tr>\n",
       "    <tr>\n",
       "      <th>1</th>\n",
       "      <td>2023-05-10</td>\n",
       "      <td>RZ014</td>\n",
       "      <td>2023-05-10_12-03-39_RZ014</td>\n",
       "      <td>data_RZ014_2023-05-10_12-03-39.txt</td>\n",
       "    </tr>\n",
       "    <tr>\n",
       "      <th>2</th>\n",
       "      <td>2023-05-16</td>\n",
       "      <td>RZ016</td>\n",
       "      <td>2023-05-16_12-05-31_RZ016</td>\n",
       "      <td>data_RZ016_2023-05-16_12-05-31.txt</td>\n",
       "    </tr>\n",
       "    <tr>\n",
       "      <th>3</th>\n",
       "      <td>2023-05-18</td>\n",
       "      <td>RZ016</td>\n",
       "      <td>2023-05-18_14-13-53_RZ016</td>\n",
       "      <td>data_RZ016_2023-05-18_14-13-53.txt</td>\n",
       "    </tr>\n",
       "    <tr>\n",
       "      <th>4</th>\n",
       "      <td>2023-05-13</td>\n",
       "      <td>RZ016</td>\n",
       "      <td>2023-05-13_14-26-33_RZ016</td>\n",
       "      <td>data_RZ016_2023-05-13_14-26-33.txt</td>\n",
       "    </tr>\n",
       "  </tbody>\n",
       "</table>\n",
       "</div>"
      ],
      "text/plain": [
       "         date  mouse                        dir  \\\n",
       "0  2023-05-12  RZ012  2023-05-12_10-29-00_RZ012   \n",
       "1  2023-05-10  RZ014  2023-05-10_12-03-39_RZ014   \n",
       "2  2023-05-16  RZ016  2023-05-16_12-05-31_RZ016   \n",
       "3  2023-05-18  RZ016  2023-05-18_14-13-53_RZ016   \n",
       "4  2023-05-13  RZ016  2023-05-13_14-26-33_RZ016   \n",
       "\n",
       "                             filename  \n",
       "0  data_RZ012_2023-05-12_10-29-00.txt  \n",
       "1  data_RZ014_2023-05-10_12-03-39.txt  \n",
       "2  data_RZ016_2023-05-16_12-05-31.txt  \n",
       "3  data_RZ016_2023-05-18_14-13-53.txt  \n",
       "4  data_RZ016_2023-05-13_14-26-33.txt  "
      ]
     },
     "execution_count": 34,
     "metadata": {},
     "output_type": "execute_result"
    }
   ],
   "source": [
    "session_log = helper.generate_all_session_log(data_folder)\n",
    "session_log.head()"
   ]
  },
  {
   "attachments": {},
   "cell_type": "markdown",
   "metadata": {},
   "source": [
    "get a list of mouse names"
   ]
  },
  {
   "cell_type": "code",
   "execution_count": 35,
   "metadata": {},
   "outputs": [
    {
     "name": "stdout",
     "output_type": "stream",
     "text": [
      "['RZ012', 'RZ013', 'RZ014', 'RZ015', 'RZ016', 'RZ017']\n"
     ]
    }
   ],
   "source": [
    "# prints mouse names in data folder, check for weird ones and delete from data base\n",
    "mouse_list = session_log.mouse.unique().tolist()\n",
    "mouse_list.sort()\n",
    "print(mouse_list)"
   ]
  },
  {
   "attachments": {},
   "cell_type": "markdown",
   "metadata": {},
   "source": [
    "get the type of training for session meta data and add to log"
   ]
  },
  {
   "cell_type": "code",
   "execution_count": 36,
   "metadata": {},
   "outputs": [],
   "source": [
    "training_list = []\n",
    "for dir_name, file_name in zip(session_log.dir, session_log.filename):\n",
    "    session_meta = utils.load_session_meta(data_folder, dir_name, file_name)\n",
    "    training = session_meta.training.tolist()[0]\n",
    "    training_list.append(training)\n",
    "\n",
    "session_log['training'] = training_list"
   ]
  },
  {
   "attachments": {},
   "cell_type": "markdown",
   "metadata": {},
   "source": [
    "add columns of basic info to each session to log"
   ]
  },
  {
   "cell_type": "code",
   "execution_count": 37,
   "metadata": {},
   "outputs": [],
   "source": [
    "session = utils.load_session(data_folder, dir_name, file_name)"
   ]
  },
  {
   "cell_type": "code",
   "execution_count": 38,
   "metadata": {},
   "outputs": [],
   "source": [
    "session_basics_columns = ['num_blocks', 'num_trials', 'rewards', 'time', 'proper_end']\n",
    "for dir_name, file_name in zip(session_log.dir, session_log.filename):\n",
    "    session = utils.load_session(data_folder, dir_name, file_name)\n",
    "    session_basic = helper.get_session_basics(session)\n",
    "    session_log.loc[session_log.dir == dir_name, session_basics_columns] = session_basic"
   ]
  },
  {
   "attachments": {},
   "cell_type": "markdown",
   "metadata": {},
   "source": [
    "### Focus only on regular training sessions"
   ]
  },
  {
   "cell_type": "code",
   "execution_count": 39,
   "metadata": {},
   "outputs": [
    {
     "data": {
      "text/html": [
       "<div>\n",
       "<style scoped>\n",
       "    .dataframe tbody tr th:only-of-type {\n",
       "        vertical-align: middle;\n",
       "    }\n",
       "\n",
       "    .dataframe tbody tr th {\n",
       "        vertical-align: top;\n",
       "    }\n",
       "\n",
       "    .dataframe thead th {\n",
       "        text-align: right;\n",
       "    }\n",
       "</style>\n",
       "<table border=\"1\" class=\"dataframe\">\n",
       "  <thead>\n",
       "    <tr style=\"text-align: right;\">\n",
       "      <th></th>\n",
       "      <th>index</th>\n",
       "      <th>date</th>\n",
       "      <th>mouse</th>\n",
       "      <th>dir</th>\n",
       "      <th>filename</th>\n",
       "      <th>training</th>\n",
       "      <th>num_blocks</th>\n",
       "      <th>num_trials</th>\n",
       "      <th>rewards</th>\n",
       "      <th>time</th>\n",
       "      <th>proper_end</th>\n",
       "    </tr>\n",
       "  </thead>\n",
       "  <tbody>\n",
       "    <tr>\n",
       "      <th>0</th>\n",
       "      <td>7</td>\n",
       "      <td>2023-05-10</td>\n",
       "      <td>RZ012</td>\n",
       "      <td>2023-05-10_10-32-00_RZ012</td>\n",
       "      <td>data_RZ012_2023-05-10_10-32-00.txt</td>\n",
       "      <td>regular</td>\n",
       "      <td>3.0</td>\n",
       "      <td>210.0</td>\n",
       "      <td>695.09</td>\n",
       "      <td>1852.88</td>\n",
       "      <td>False</td>\n",
       "    </tr>\n",
       "    <tr>\n",
       "      <th>1</th>\n",
       "      <td>50</td>\n",
       "      <td>2023-05-10</td>\n",
       "      <td>RZ013</td>\n",
       "      <td>2023-05-10_11-08-16_RZ013</td>\n",
       "      <td>data_RZ013_2023-05-10_11-08-16.txt</td>\n",
       "      <td>regular</td>\n",
       "      <td>5.0</td>\n",
       "      <td>299.0</td>\n",
       "      <td>653.90</td>\n",
       "      <td>1967.93</td>\n",
       "      <td>True</td>\n",
       "    </tr>\n",
       "    <tr>\n",
       "      <th>2</th>\n",
       "      <td>1</td>\n",
       "      <td>2023-05-10</td>\n",
       "      <td>RZ014</td>\n",
       "      <td>2023-05-10_12-03-39_RZ014</td>\n",
       "      <td>data_RZ014_2023-05-10_12-03-39.txt</td>\n",
       "      <td>regular</td>\n",
       "      <td>5.0</td>\n",
       "      <td>289.0</td>\n",
       "      <td>719.52</td>\n",
       "      <td>1994.20</td>\n",
       "      <td>True</td>\n",
       "    </tr>\n",
       "    <tr>\n",
       "      <th>3</th>\n",
       "      <td>8</td>\n",
       "      <td>2023-05-10</td>\n",
       "      <td>RZ015</td>\n",
       "      <td>2023-05-10_13-11-46_RZ015</td>\n",
       "      <td>data_RZ015_2023-05-10_13-11-46.txt</td>\n",
       "      <td>regular</td>\n",
       "      <td>3.0</td>\n",
       "      <td>188.0</td>\n",
       "      <td>499.15</td>\n",
       "      <td>1417.92</td>\n",
       "      <td>True</td>\n",
       "    </tr>\n",
       "    <tr>\n",
       "      <th>4</th>\n",
       "      <td>11</td>\n",
       "      <td>2023-05-10</td>\n",
       "      <td>RZ016</td>\n",
       "      <td>2023-05-10_13-37-41_RZ016</td>\n",
       "      <td>data_RZ016_2023-05-10_13-37-41.txt</td>\n",
       "      <td>regular</td>\n",
       "      <td>5.0</td>\n",
       "      <td>272.0</td>\n",
       "      <td>646.67</td>\n",
       "      <td>1864.71</td>\n",
       "      <td>True</td>\n",
       "    </tr>\n",
       "  </tbody>\n",
       "</table>\n",
       "</div>"
      ],
      "text/plain": [
       "   index        date  mouse                        dir  \\\n",
       "0      7  2023-05-10  RZ012  2023-05-10_10-32-00_RZ012   \n",
       "1     50  2023-05-10  RZ013  2023-05-10_11-08-16_RZ013   \n",
       "2      1  2023-05-10  RZ014  2023-05-10_12-03-39_RZ014   \n",
       "3      8  2023-05-10  RZ015  2023-05-10_13-11-46_RZ015   \n",
       "4     11  2023-05-10  RZ016  2023-05-10_13-37-41_RZ016   \n",
       "\n",
       "                             filename training  num_blocks  num_trials  \\\n",
       "0  data_RZ012_2023-05-10_10-32-00.txt  regular         3.0       210.0   \n",
       "1  data_RZ013_2023-05-10_11-08-16.txt  regular         5.0       299.0   \n",
       "2  data_RZ014_2023-05-10_12-03-39.txt  regular         5.0       289.0   \n",
       "3  data_RZ015_2023-05-10_13-11-46.txt  regular         3.0       188.0   \n",
       "4  data_RZ016_2023-05-10_13-37-41.txt  regular         5.0       272.0   \n",
       "\n",
       "   rewards     time proper_end  \n",
       "0   695.09  1852.88      False  \n",
       "1   653.90  1967.93       True  \n",
       "2   719.52  1994.20       True  \n",
       "3   499.15  1417.92       True  \n",
       "4   646.67  1864.71       True  "
      ]
     },
     "execution_count": 39,
     "metadata": {},
     "output_type": "execute_result"
    }
   ],
   "source": [
    "training_session_log = session_log.loc[session_log.training == 'regular'].sort_values('dir').reset_index()\n",
    "training_session_log.head()"
   ]
  },
  {
   "attachments": {},
   "cell_type": "markdown",
   "metadata": {},
   "source": [
    "### Examine quality of sessions\n",
    "doesn't need to run when data folder is cleaned"
   ]
  },
  {
   "attachments": {},
   "cell_type": "markdown",
   "metadata": {},
   "source": [
    "check for missing sessions by the number of sessions in each training day"
   ]
  },
  {
   "cell_type": "code",
   "execution_count": 40,
   "metadata": {},
   "outputs": [
    {
     "name": "stdout",
     "output_type": "stream",
     "text": [
      "2023-05-13\n",
      "2023-05-16\n",
      "2023-05-17\n",
      "2023-05-18\n",
      "2023-05-23\n",
      "2023-05-24\n",
      "2023-05-25\n",
      "2023-05-26\n"
     ]
    }
   ],
   "source": [
    "num_mice = 6\n",
    "date_list = training_session_log.date.unique().tolist()\n",
    "for date in date_list:\n",
    "    data = training_session_log.loc[training_session_log['date'] == date]\n",
    "    if len(data) < num_mice:\n",
    "        print(date)"
   ]
  },
  {
   "attachments": {},
   "cell_type": "markdown",
   "metadata": {},
   "source": [
    "check for same mouse with multiple sessions per day, prints out date and mouse if too many"
   ]
  },
  {
   "cell_type": "code",
   "execution_count": 41,
   "metadata": {},
   "outputs": [],
   "source": [
    "# prints dates of the same mouse with multiple sessions\n",
    "for d in training_session_log.date.unique().tolist():\n",
    "    session_of_the_day = training_session_log.loc[training_session_log['date'] == d]\n",
    "    for mouse in mouse_list:\n",
    "        count = len(session_of_the_day.loc[session_of_the_day['mouse'] == mouse])\n",
    "        if count > 1:\n",
    "            print(d, mouse)   "
   ]
  },
  {
   "attachments": {},
   "cell_type": "markdown",
   "metadata": {},
   "source": [
    "check for short sessions, prints out dir"
   ]
  },
  {
   "cell_type": "code",
   "execution_count": 42,
   "metadata": {},
   "outputs": [
    {
     "name": "stdout",
     "output_type": "stream",
     "text": [
      "Series([], Name: dir, dtype: object)\n"
     ]
    }
   ],
   "source": [
    "short_session = training_session_log.loc[(training_session_log['training'] == 'regular') & \n",
    "                                         (training_session_log['num_trials'] < 100)] \n",
    "print(short_session.dir)"
   ]
  },
  {
   "attachments": {},
   "cell_type": "markdown",
   "metadata": {},
   "source": [
    "### Add number of days in training to training log"
   ]
  },
  {
   "cell_type": "code",
   "execution_count": 43,
   "metadata": {},
   "outputs": [],
   "source": [
    "for mouse in mouse_list:\n",
    "    total_days = sum(training_session_log.mouse == mouse)\n",
    "    training_session_log.loc[training_session_log.mouse == mouse, 'days'] = list(range(total_days))"
   ]
  },
  {
   "cell_type": "code",
   "execution_count": 44,
   "metadata": {},
   "outputs": [
    {
     "data": {
      "text/plain": [
       "10.0"
      ]
     },
     "execution_count": 44,
     "metadata": {},
     "output_type": "execute_result"
    }
   ],
   "source": [
    "training_session_log.days.max()"
   ]
  },
  {
   "attachments": {},
   "cell_type": "markdown",
   "metadata": {},
   "source": [
    "### Saves all sessions log and training session log"
   ]
  },
  {
   "cell_type": "code",
   "execution_count": 45,
   "metadata": {},
   "outputs": [],
   "source": [
    "filename = f'all_sessions.csv'\n",
    "path = os.path.join(data_folder, filename)\n",
    "session_log.to_csv(path)"
   ]
  },
  {
   "cell_type": "code",
   "execution_count": 46,
   "metadata": {},
   "outputs": [],
   "source": [
    "filename = f'training_sessions.csv'\n",
    "path = os.path.join(data_folder, filename)\n",
    "training_session_log.to_csv(path)"
   ]
  },
  {
   "attachments": {},
   "cell_type": "markdown",
   "metadata": {},
   "source": [
    "# Generate all trials per session"
   ]
  },
  {
   "attachments": {},
   "cell_type": "markdown",
   "metadata": {},
   "source": [
    "load session log"
   ]
  },
  {
   "cell_type": "code",
   "execution_count": 47,
   "metadata": {},
   "outputs": [],
   "source": [
    "training_session_log = utils.load_session_log(data_folder, 'training_sessions.csv')"
   ]
  },
  {
   "attachments": {},
   "cell_type": "markdown",
   "metadata": {},
   "source": [
    "### Raw data processing and generate initial all trials df\n",
    "adds trial numbers and states to hardware entries\n",
    "create all trials df with trial basics added\n",
    "both files saved, \n",
    "does't need to be rerun"
   ]
  },
  {
   "cell_type": "code",
   "execution_count": 48,
   "metadata": {},
   "outputs": [],
   "source": [
    "all_trials_column_names = ['session_trial_num', 'block_trial_num', 'block_num', 'start_time', 'end_time']"
   ]
  },
  {
   "cell_type": "code",
   "execution_count": 49,
   "metadata": {},
   "outputs": [],
   "source": [
    "# for dir_name, file_name in zip(training_session_log.dir, training_session_log.filename):\n",
    "    \n",
    "#     processed_path = os.path.join(data_folder, dir_name, f'processed_{file_name[:-4]}.csv')\n",
    "#     all_trials_path =os.path.join(data_folder, dir_name, f'{dir_name}_all_trials.csv')\n",
    "#     # if os.path.isfile(processed_path) and os.path.isfile(all_trials_path):\n",
    "#     #     continue\n",
    "\n",
    "#     session = utils.load_session(data_folder, dir_name, file_name)\n",
    "#     total_trial_list = helper.generate_total_trial_list(training_session_log, dir_name)\n",
    "#     all_trials = pd.DataFrame(columns=all_trials_column_names)\n",
    "\n",
    "#     for t in total_trial_list:\n",
    "#         trial = session.loc[session['session_trial_num'] == t]\n",
    "        \n",
    "#         trial_basics = helper.get_trial_basics(trial)\n",
    "#         helper.align_trial_number(session, trial_basics)\n",
    "        \n",
    "#         trial_state_times = helper.get_trial_state_times(trial)\n",
    "#         helper.align_trial_states(session, trial_state_times, trial_basics)\n",
    "\n",
    "#         trial_basics = pd.DataFrame([trial_basics])\n",
    "#         all_trials = pd.concat([all_trials, trial_basics], ignore_index=True)\n",
    "    \n",
    "#     session = utils.trim_session(training_session_log, dir_name, session)\n",
    "#     session.to_csv(processed_path)\n",
    "#     all_trials.to_csv(all_trials_path)"
   ]
  },
  {
   "cell_type": "code",
   "execution_count": 50,
   "metadata": {},
   "outputs": [],
   "source": [
    "for dir_name, file_name in zip(training_session_log.dir, training_session_log.filename):\n",
    "    \n",
    "    processed_path = os.path.join(data_folder, dir_name, f'processed_{file_name[:-4]}.csv')\n",
    "    all_trials_path =os.path.join(data_folder, dir_name, f'{dir_name}_all_trials.csv')\n",
    "    # if os.path.isfile(processed_path) and os.path.isfile(all_trials_path):\n",
    "    #     continue\n",
    "\n",
    "    session = utils.load_session(data_folder, dir_name, file_name)\n",
    "    session['trial_time'] = ''\n",
    "    total_trial_list = helper.generate_total_trial_list(training_session_log, dir_name)\n",
    "    all_trials = pd.DataFrame(columns=all_trials_column_names)\n",
    "\n",
    "    for t in total_trial_list:\n",
    "        trial = session.loc[session['session_trial_num'] == t]\n",
    "        \n",
    "        trial_basics = helper.get_trial_basics(trial)\n",
    "        helper.align_trial_number(session, trial_basics)\n",
    "        \n",
    "        trial_state_times = helper.get_trial_state_times(trial)\n",
    "        helper.align_trial_states(session, trial_state_times, trial_basics)\n",
    "\n",
    "        trial = session.loc[session['session_trial_num'] == t]\n",
    "        helper.add_trial_time(session, t, trial, trial_basics)\n",
    "\n",
    "        trial_basics = pd.DataFrame([trial_basics])\n",
    "        all_trials = pd.concat([all_trials, trial_basics], ignore_index=True)\n",
    "    \n",
    "    session = utils.trim_session(training_session_log, dir_name, session)\n",
    "    session.to_csv(processed_path)\n",
    "    all_trials.to_csv(all_trials_path)"
   ]
  },
  {
   "attachments": {},
   "cell_type": "markdown",
   "metadata": {},
   "source": [
    "### Adding analyzed trial data to all trials df"
   ]
  },
  {
   "cell_type": "code",
   "execution_count": 51,
   "metadata": {},
   "outputs": [],
   "source": [
    "all_trials_data_column = ['bg_drawn', 'blk_type', 'bg_length', 'enl_repeats', \n",
    "                          'miss_trial', 'time_waited', 'reward', 'num_consumption_lick']"
   ]
  },
  {
   "cell_type": "code",
   "execution_count": 52,
   "metadata": {},
   "outputs": [],
   "source": [
    "for dir_name, file_name in zip(training_session_log.dir, training_session_log.filename):\n",
    "    all_trials_analyzed_path =os.path.join(data_folder, dir_name, f'{dir_name}_all_trials_analyzed.csv')\n",
    "    # if os.path.isfile(all_trials_analyzed_path):\n",
    "    #     continue\n",
    "\n",
    "    processed_session = utils.load_processed_session(data_folder, dir_name, file_name)\n",
    "    all_trials = utils.load_all_trials(data_folder, dir_name)\n",
    "    total_trial_list = helper.generate_total_trial_list(training_session_log, dir_name)\n",
    "\n",
    "    for t in total_trial_list:\n",
    "        trial = processed_session.loc[processed_session['session_trial_num'] == t]\n",
    "        trial_performance = helper.get_trial_performance(trial)\n",
    "        all_trials.loc[all_trials['session_trial_num'] == t, all_trials_data_column] = trial_performance\n",
    "    \n",
    "    all_trials.to_csv(all_trials_analyzed_path)"
   ]
  },
  {
   "attachments": {},
   "cell_type": "markdown",
   "metadata": {},
   "source": [
    "# Generate all blocks per session"
   ]
  },
  {
   "attachments": {},
   "cell_type": "markdown",
   "metadata": {},
   "source": [
    "load session log"
   ]
  },
  {
   "cell_type": "code",
   "execution_count": 53,
   "metadata": {},
   "outputs": [],
   "source": [
    "training_session_log = utils.load_session_log(data_folder, 'training_sessions.csv')"
   ]
  },
  {
   "attachments": {},
   "cell_type": "markdown",
   "metadata": {},
   "source": [
    "### generate all blocks df and saves to raw data folder"
   ]
  },
  {
   "cell_type": "code",
   "execution_count": 54,
   "metadata": {},
   "outputs": [],
   "source": [
    "all_blocks_column_names = ['block_num', 'blk_type', 'num_trials', 'start_time', 'end_time',\n",
    "                           'bg_drawn_mean', 'bg_drawn_std', 'bg_length_mean', 'bg_length_std', \n",
    "                           'enl_repeats_mean', 'enl_repeats_std', 'num_miss_trials', 'time_waited_mean', \n",
    "                           'time_waited_std', 'reward_mean', 'reward_std', 'num_consumption_lick_mean', \n",
    "                           'num_consumption_lick_std']"
   ]
  },
  {
   "cell_type": "code",
   "execution_count": 55,
   "metadata": {},
   "outputs": [],
   "source": [
    "def generate_all_blocks_df(column_names, total_block_list):\n",
    "    \"\"\"\n",
    "    makes an empty df with each row being a trial, and each column with trial info\n",
    "    trial number is added to the df\n",
    "    \"\"\"\n",
    "    all_blocks = pd.DataFrame(columns=column_names)\n",
    "    all_blocks['block_num'] = total_block_list\n",
    "    return all_blocks"
   ]
  },
  {
   "cell_type": "code",
   "execution_count": 56,
   "metadata": {},
   "outputs": [],
   "source": [
    "for dir_name, file_name in zip(training_session_log.dir, training_session_log.filename):\n",
    "    filename = f'{dir_name}_all_blocks.csv'\n",
    "    path = os.path.join(data_folder, dir_name, filename)\n",
    "    # if os.path.isfile(path):\n",
    "    #     continue\n",
    "\n",
    "    all_trials_analyzed = utils.load_all_trials_analyzed(data_folder, dir_name)\n",
    "    total_block_list = helper.generate_total_block_list(training_session_log, dir_name)\n",
    "    all_blocks = helper.generate_all_blocks_df(all_blocks_column_names, total_block_list)\n",
    "    \n",
    "    for blk in total_block_list:\n",
    "        block = all_trials_analyzed.loc[all_trials_analyzed['block_num'] == blk]\n",
    "        block_data = helper.get_block_data(block)\n",
    "        all_blocks.loc[all_blocks.block_num == blk, all_blocks_column_names[1:]] = block_data\n",
    "        \n",
    "    all_blocks.to_csv(path)"
   ]
  },
  {
   "cell_type": "code",
   "execution_count": 57,
   "metadata": {},
   "outputs": [
    {
     "data": {
      "text/html": [
       "<div>\n",
       "<style scoped>\n",
       "    .dataframe tbody tr th:only-of-type {\n",
       "        vertical-align: middle;\n",
       "    }\n",
       "\n",
       "    .dataframe tbody tr th {\n",
       "        vertical-align: top;\n",
       "    }\n",
       "\n",
       "    .dataframe thead th {\n",
       "        text-align: right;\n",
       "    }\n",
       "</style>\n",
       "<table border=\"1\" class=\"dataframe\">\n",
       "  <thead>\n",
       "    <tr style=\"text-align: right;\">\n",
       "      <th></th>\n",
       "      <th>block_num</th>\n",
       "      <th>blk_type</th>\n",
       "      <th>num_trials</th>\n",
       "      <th>start_time</th>\n",
       "      <th>end_time</th>\n",
       "      <th>bg_drawn_mean</th>\n",
       "      <th>bg_drawn_std</th>\n",
       "      <th>bg_length_mean</th>\n",
       "      <th>bg_length_std</th>\n",
       "      <th>enl_repeats_mean</th>\n",
       "      <th>enl_repeats_std</th>\n",
       "      <th>num_miss_trials</th>\n",
       "      <th>time_waited_mean</th>\n",
       "      <th>time_waited_std</th>\n",
       "      <th>reward_mean</th>\n",
       "      <th>reward_std</th>\n",
       "      <th>num_consumption_lick_mean</th>\n",
       "      <th>num_consumption_lick_std</th>\n",
       "    </tr>\n",
       "  </thead>\n",
       "  <tbody>\n",
       "    <tr>\n",
       "      <th>0</th>\n",
       "      <td>0</td>\n",
       "      <td>l</td>\n",
       "      <td>45.0</td>\n",
       "      <td>1685114421.068404</td>\n",
       "      <td>1685114752.382228</td>\n",
       "      <td>3.034783</td>\n",
       "      <td>0.380186</td>\n",
       "      <td>3.429381</td>\n",
       "      <td>0.683776</td>\n",
       "      <td>3.065217</td>\n",
       "      <td>2.416629</td>\n",
       "      <td>0</td>\n",
       "      <td>0.773045</td>\n",
       "      <td>0.542357</td>\n",
       "      <td>1.381196</td>\n",
       "      <td>0.884345</td>\n",
       "      <td>8.217391</td>\n",
       "      <td>2.169619</td>\n",
       "    </tr>\n",
       "    <tr>\n",
       "      <th>1</th>\n",
       "      <td>1</td>\n",
       "      <td>s</td>\n",
       "      <td>42.0</td>\n",
       "      <td>1685114752.382339</td>\n",
       "      <td>1685114969.523603</td>\n",
       "      <td>1.016279</td>\n",
       "      <td>0.127111</td>\n",
       "      <td>1.174444</td>\n",
       "      <td>0.355013</td>\n",
       "      <td>1.906977</td>\n",
       "      <td>1.98583</td>\n",
       "      <td>0</td>\n",
       "      <td>0.875303</td>\n",
       "      <td>0.467188</td>\n",
       "      <td>1.567524</td>\n",
       "      <td>0.744982</td>\n",
       "      <td>9.465116</td>\n",
       "      <td>1.931553</td>\n",
       "    </tr>\n",
       "    <tr>\n",
       "      <th>2</th>\n",
       "      <td>2</td>\n",
       "      <td>l</td>\n",
       "      <td>44.0</td>\n",
       "      <td>1685114969.523719</td>\n",
       "      <td>1685115289.198917</td>\n",
       "      <td>3.008889</td>\n",
       "      <td>0.333591</td>\n",
       "      <td>3.377476</td>\n",
       "      <td>0.626661</td>\n",
       "      <td>3.266667</td>\n",
       "      <td>2.87149</td>\n",
       "      <td>0</td>\n",
       "      <td>0.726367</td>\n",
       "      <td>0.545128</td>\n",
       "      <td>1.302069</td>\n",
       "      <td>0.833534</td>\n",
       "      <td>8.977778</td>\n",
       "      <td>2.378778</td>\n",
       "    </tr>\n",
       "    <tr>\n",
       "      <th>3</th>\n",
       "      <td>3</td>\n",
       "      <td>s</td>\n",
       "      <td>43.0</td>\n",
       "      <td>1685115289.19905</td>\n",
       "      <td>1685115505.474034</td>\n",
       "      <td>1.025</td>\n",
       "      <td>0.118371</td>\n",
       "      <td>1.220792</td>\n",
       "      <td>0.417409</td>\n",
       "      <td>2.090909</td>\n",
       "      <td>1.926778</td>\n",
       "      <td>0</td>\n",
       "      <td>0.694501</td>\n",
       "      <td>0.584182</td>\n",
       "      <td>1.237932</td>\n",
       "      <td>0.947504</td>\n",
       "      <td>10.113636</td>\n",
       "      <td>2.479834</td>\n",
       "    </tr>\n",
       "    <tr>\n",
       "      <th>4</th>\n",
       "      <td>4</td>\n",
       "      <td>l</td>\n",
       "      <td>59.0</td>\n",
       "      <td>1685115505.474158</td>\n",
       "      <td>1685115923.904352</td>\n",
       "      <td>2.975</td>\n",
       "      <td>0.353973</td>\n",
       "      <td>3.343793</td>\n",
       "      <td>0.569845</td>\n",
       "      <td>3.166667</td>\n",
       "      <td>2.443717</td>\n",
       "      <td>0</td>\n",
       "      <td>0.629993</td>\n",
       "      <td>0.447494</td>\n",
       "      <td>1.148288</td>\n",
       "      <td>0.747694</td>\n",
       "      <td>9.666667</td>\n",
       "      <td>2.311846</td>\n",
       "    </tr>\n",
       "    <tr>\n",
       "      <th>5</th>\n",
       "      <td>5</td>\n",
       "      <td>s</td>\n",
       "      <td>50.0</td>\n",
       "      <td>1685115923.904473</td>\n",
       "      <td>1685116174.840127</td>\n",
       "      <td>0.986275</td>\n",
       "      <td>0.12332</td>\n",
       "      <td>1.350955</td>\n",
       "      <td>0.518832</td>\n",
       "      <td>3.078431</td>\n",
       "      <td>2.674645</td>\n",
       "      <td>0</td>\n",
       "      <td>0.569298</td>\n",
       "      <td>0.404382</td>\n",
       "      <td>1.046797</td>\n",
       "      <td>0.694711</td>\n",
       "      <td>10.392157</td>\n",
       "      <td>2.836043</td>\n",
       "    </tr>\n",
       "    <tr>\n",
       "      <th>6</th>\n",
       "      <td>6</td>\n",
       "      <td>l</td>\n",
       "      <td>52.0</td>\n",
       "      <td>1685116174.840242</td>\n",
       "      <td>1685116547.932732</td>\n",
       "      <td>3.016981</td>\n",
       "      <td>0.370413</td>\n",
       "      <td>3.38581</td>\n",
       "      <td>0.635427</td>\n",
       "      <td>3.320755</td>\n",
       "      <td>2.636822</td>\n",
       "      <td>0</td>\n",
       "      <td>0.653626</td>\n",
       "      <td>0.608406</td>\n",
       "      <td>1.162584</td>\n",
       "      <td>0.948872</td>\n",
       "      <td>9.679245</td>\n",
       "      <td>3.256789</td>\n",
       "    </tr>\n",
       "    <tr>\n",
       "      <th>7</th>\n",
       "      <td>7</td>\n",
       "      <td>s</td>\n",
       "      <td>42.0</td>\n",
       "      <td>1685116547.932849</td>\n",
       "      <td>1685116753.708108</td>\n",
       "      <td>1.016279</td>\n",
       "      <td>0.123308</td>\n",
       "      <td>1.264468</td>\n",
       "      <td>0.47014</td>\n",
       "      <td>2.534884</td>\n",
       "      <td>2.271446</td>\n",
       "      <td>0</td>\n",
       "      <td>0.520948</td>\n",
       "      <td>0.327584</td>\n",
       "      <td>0.970126</td>\n",
       "      <td>0.564411</td>\n",
       "      <td>9.255814</td>\n",
       "      <td>2.498505</td>\n",
       "    </tr>\n",
       "  </tbody>\n",
       "</table>\n",
       "</div>"
      ],
      "text/plain": [
       "   block_num blk_type num_trials         start_time           end_time  \\\n",
       "0          0        l       45.0  1685114421.068404  1685114752.382228   \n",
       "1          1        s       42.0  1685114752.382339  1685114969.523603   \n",
       "2          2        l       44.0  1685114969.523719  1685115289.198917   \n",
       "3          3        s       43.0   1685115289.19905  1685115505.474034   \n",
       "4          4        l       59.0  1685115505.474158  1685115923.904352   \n",
       "5          5        s       50.0  1685115923.904473  1685116174.840127   \n",
       "6          6        l       52.0  1685116174.840242  1685116547.932732   \n",
       "7          7        s       42.0  1685116547.932849  1685116753.708108   \n",
       "\n",
       "  bg_drawn_mean bg_drawn_std bg_length_mean bg_length_std enl_repeats_mean  \\\n",
       "0      3.034783     0.380186       3.429381      0.683776         3.065217   \n",
       "1      1.016279     0.127111       1.174444      0.355013         1.906977   \n",
       "2      3.008889     0.333591       3.377476      0.626661         3.266667   \n",
       "3         1.025     0.118371       1.220792      0.417409         2.090909   \n",
       "4         2.975     0.353973       3.343793      0.569845         3.166667   \n",
       "5      0.986275      0.12332       1.350955      0.518832         3.078431   \n",
       "6      3.016981     0.370413        3.38581      0.635427         3.320755   \n",
       "7      1.016279     0.123308       1.264468       0.47014         2.534884   \n",
       "\n",
       "  enl_repeats_std num_miss_trials time_waited_mean time_waited_std  \\\n",
       "0        2.416629               0         0.773045        0.542357   \n",
       "1         1.98583               0         0.875303        0.467188   \n",
       "2         2.87149               0         0.726367        0.545128   \n",
       "3        1.926778               0         0.694501        0.584182   \n",
       "4        2.443717               0         0.629993        0.447494   \n",
       "5        2.674645               0         0.569298        0.404382   \n",
       "6        2.636822               0         0.653626        0.608406   \n",
       "7        2.271446               0         0.520948        0.327584   \n",
       "\n",
       "  reward_mean reward_std num_consumption_lick_mean num_consumption_lick_std  \n",
       "0    1.381196   0.884345                  8.217391                 2.169619  \n",
       "1    1.567524   0.744982                  9.465116                 1.931553  \n",
       "2    1.302069   0.833534                  8.977778                 2.378778  \n",
       "3    1.237932   0.947504                 10.113636                 2.479834  \n",
       "4    1.148288   0.747694                  9.666667                 2.311846  \n",
       "5    1.046797   0.694711                 10.392157                 2.836043  \n",
       "6    1.162584   0.948872                  9.679245                 3.256789  \n",
       "7    0.970126   0.564411                  9.255814                 2.498505  "
      ]
     },
     "execution_count": 57,
     "metadata": {},
     "output_type": "execute_result"
    }
   ],
   "source": [
    "all_blocks"
   ]
  },
  {
   "cell_type": "code",
   "execution_count": 58,
   "metadata": {},
   "outputs": [],
   "source": [
    "test = utils.load_all_blocks(data_folder, training_session_log.dir[2])"
   ]
  },
  {
   "cell_type": "code",
   "execution_count": 59,
   "metadata": {},
   "outputs": [
    {
     "data": {
      "text/html": [
       "<div>\n",
       "<style scoped>\n",
       "    .dataframe tbody tr th:only-of-type {\n",
       "        vertical-align: middle;\n",
       "    }\n",
       "\n",
       "    .dataframe tbody tr th {\n",
       "        vertical-align: top;\n",
       "    }\n",
       "\n",
       "    .dataframe thead th {\n",
       "        text-align: right;\n",
       "    }\n",
       "</style>\n",
       "<table border=\"1\" class=\"dataframe\">\n",
       "  <thead>\n",
       "    <tr style=\"text-align: right;\">\n",
       "      <th></th>\n",
       "      <th>Unnamed: 0</th>\n",
       "      <th>block_num</th>\n",
       "      <th>blk_type</th>\n",
       "      <th>num_trials</th>\n",
       "      <th>start_time</th>\n",
       "      <th>end_time</th>\n",
       "      <th>bg_drawn_mean</th>\n",
       "      <th>bg_drawn_std</th>\n",
       "      <th>bg_length_mean</th>\n",
       "      <th>bg_length_std</th>\n",
       "      <th>enl_repeats_mean</th>\n",
       "      <th>enl_repeats_std</th>\n",
       "      <th>num_miss_trials</th>\n",
       "      <th>time_waited_mean</th>\n",
       "      <th>time_waited_std</th>\n",
       "      <th>reward_mean</th>\n",
       "      <th>reward_std</th>\n",
       "      <th>num_consumption_lick_mean</th>\n",
       "      <th>num_consumption_lick_std</th>\n",
       "    </tr>\n",
       "  </thead>\n",
       "  <tbody>\n",
       "    <tr>\n",
       "      <th>0</th>\n",
       "      <td>0</td>\n",
       "      <td>0</td>\n",
       "      <td>l</td>\n",
       "      <td>42.0</td>\n",
       "      <td>1.683735e+09</td>\n",
       "      <td>1.683735e+09</td>\n",
       "      <td>3.000000</td>\n",
       "      <td>0.345722</td>\n",
       "      <td>3.248847</td>\n",
       "      <td>0.582061</td>\n",
       "      <td>2.372093</td>\n",
       "      <td>2.319927</td>\n",
       "      <td>2</td>\n",
       "      <td>1.863680</td>\n",
       "      <td>1.400934</td>\n",
       "      <td>2.830320</td>\n",
       "      <td>1.638421</td>\n",
       "      <td>10.146341</td>\n",
       "      <td>4.350638</td>\n",
       "    </tr>\n",
       "    <tr>\n",
       "      <th>1</th>\n",
       "      <td>1</td>\n",
       "      <td>1</td>\n",
       "      <td>s</td>\n",
       "      <td>59.0</td>\n",
       "      <td>1.683735e+09</td>\n",
       "      <td>1.683735e+09</td>\n",
       "      <td>0.976667</td>\n",
       "      <td>0.130665</td>\n",
       "      <td>1.339843</td>\n",
       "      <td>0.521957</td>\n",
       "      <td>3.116667</td>\n",
       "      <td>3.042588</td>\n",
       "      <td>0</td>\n",
       "      <td>1.211890</td>\n",
       "      <td>0.797704</td>\n",
       "      <td>2.045598</td>\n",
       "      <td>1.195985</td>\n",
       "      <td>11.416667</td>\n",
       "      <td>4.026571</td>\n",
       "    </tr>\n",
       "    <tr>\n",
       "      <th>2</th>\n",
       "      <td>2</td>\n",
       "      <td>2</td>\n",
       "      <td>l</td>\n",
       "      <td>40.0</td>\n",
       "      <td>1.683735e+09</td>\n",
       "      <td>1.683736e+09</td>\n",
       "      <td>2.956098</td>\n",
       "      <td>0.310684</td>\n",
       "      <td>3.263254</td>\n",
       "      <td>0.519092</td>\n",
       "      <td>3.000000</td>\n",
       "      <td>2.439262</td>\n",
       "      <td>0</td>\n",
       "      <td>1.190850</td>\n",
       "      <td>0.937938</td>\n",
       "      <td>1.980812</td>\n",
       "      <td>1.294088</td>\n",
       "      <td>10.707317</td>\n",
       "      <td>4.081935</td>\n",
       "    </tr>\n",
       "    <tr>\n",
       "      <th>3</th>\n",
       "      <td>3</td>\n",
       "      <td>3</td>\n",
       "      <td>s</td>\n",
       "      <td>39.0</td>\n",
       "      <td>1.683736e+09</td>\n",
       "      <td>1.683736e+09</td>\n",
       "      <td>0.992500</td>\n",
       "      <td>0.128876</td>\n",
       "      <td>1.264156</td>\n",
       "      <td>0.522154</td>\n",
       "      <td>2.700000</td>\n",
       "      <td>3.314305</td>\n",
       "      <td>0</td>\n",
       "      <td>1.353147</td>\n",
       "      <td>0.898095</td>\n",
       "      <td>2.240583</td>\n",
       "      <td>1.264877</td>\n",
       "      <td>12.875000</td>\n",
       "      <td>4.772719</td>\n",
       "    </tr>\n",
       "    <tr>\n",
       "      <th>4</th>\n",
       "      <td>4</td>\n",
       "      <td>4</td>\n",
       "      <td>l</td>\n",
       "      <td>56.0</td>\n",
       "      <td>1.683736e+09</td>\n",
       "      <td>1.683736e+09</td>\n",
       "      <td>3.008772</td>\n",
       "      <td>0.342408</td>\n",
       "      <td>3.302050</td>\n",
       "      <td>0.654142</td>\n",
       "      <td>2.912281</td>\n",
       "      <td>2.911067</td>\n",
       "      <td>0</td>\n",
       "      <td>1.993592</td>\n",
       "      <td>1.583637</td>\n",
       "      <td>2.938435</td>\n",
       "      <td>1.746578</td>\n",
       "      <td>12.035088</td>\n",
       "      <td>4.594115</td>\n",
       "    </tr>\n",
       "    <tr>\n",
       "      <th>5</th>\n",
       "      <td>5</td>\n",
       "      <td>5</td>\n",
       "      <td>s</td>\n",
       "      <td>48.0</td>\n",
       "      <td>1.683736e+09</td>\n",
       "      <td>1.683737e+09</td>\n",
       "      <td>1.022449</td>\n",
       "      <td>0.121218</td>\n",
       "      <td>1.164654</td>\n",
       "      <td>0.338135</td>\n",
       "      <td>1.836735</td>\n",
       "      <td>1.829696</td>\n",
       "      <td>0</td>\n",
       "      <td>1.771342</td>\n",
       "      <td>1.077158</td>\n",
       "      <td>2.799735</td>\n",
       "      <td>1.412002</td>\n",
       "      <td>12.632653</td>\n",
       "      <td>5.036094</td>\n",
       "    </tr>\n",
       "  </tbody>\n",
       "</table>\n",
       "</div>"
      ],
      "text/plain": [
       "   Unnamed: 0  block_num blk_type  num_trials    start_time      end_time  \\\n",
       "0           0          0        l        42.0  1.683735e+09  1.683735e+09   \n",
       "1           1          1        s        59.0  1.683735e+09  1.683735e+09   \n",
       "2           2          2        l        40.0  1.683735e+09  1.683736e+09   \n",
       "3           3          3        s        39.0  1.683736e+09  1.683736e+09   \n",
       "4           4          4        l        56.0  1.683736e+09  1.683736e+09   \n",
       "5           5          5        s        48.0  1.683736e+09  1.683737e+09   \n",
       "\n",
       "   bg_drawn_mean  bg_drawn_std  bg_length_mean  bg_length_std  \\\n",
       "0       3.000000      0.345722        3.248847       0.582061   \n",
       "1       0.976667      0.130665        1.339843       0.521957   \n",
       "2       2.956098      0.310684        3.263254       0.519092   \n",
       "3       0.992500      0.128876        1.264156       0.522154   \n",
       "4       3.008772      0.342408        3.302050       0.654142   \n",
       "5       1.022449      0.121218        1.164654       0.338135   \n",
       "\n",
       "   enl_repeats_mean  enl_repeats_std  num_miss_trials  time_waited_mean  \\\n",
       "0          2.372093         2.319927                2          1.863680   \n",
       "1          3.116667         3.042588                0          1.211890   \n",
       "2          3.000000         2.439262                0          1.190850   \n",
       "3          2.700000         3.314305                0          1.353147   \n",
       "4          2.912281         2.911067                0          1.993592   \n",
       "5          1.836735         1.829696                0          1.771342   \n",
       "\n",
       "   time_waited_std  reward_mean  reward_std  num_consumption_lick_mean  \\\n",
       "0         1.400934     2.830320    1.638421                  10.146341   \n",
       "1         0.797704     2.045598    1.195985                  11.416667   \n",
       "2         0.937938     1.980812    1.294088                  10.707317   \n",
       "3         0.898095     2.240583    1.264877                  12.875000   \n",
       "4         1.583637     2.938435    1.746578                  12.035088   \n",
       "5         1.077158     2.799735    1.412002                  12.632653   \n",
       "\n",
       "   num_consumption_lick_std  \n",
       "0                  4.350638  \n",
       "1                  4.026571  \n",
       "2                  4.081935  \n",
       "3                  4.772719  \n",
       "4                  4.594115  \n",
       "5                  5.036094  "
      ]
     },
     "execution_count": 59,
     "metadata": {},
     "output_type": "execute_result"
    }
   ],
   "source": [
    "test"
   ]
  }
 ],
 "metadata": {
  "kernelspec": {
   "display_name": "LUCKYCHARM",
   "language": "python",
   "name": "luckycharm"
  },
  "language_info": {
   "codemirror_mode": {
    "name": "ipython",
    "version": 3
   },
   "file_extension": ".py",
   "mimetype": "text/x-python",
   "name": "python",
   "nbconvert_exporter": "python",
   "pygments_lexer": "ipython3",
   "version": "3.10.6"
  },
  "orig_nbformat": 4
 },
 "nbformat": 4,
 "nbformat_minor": 2
}
