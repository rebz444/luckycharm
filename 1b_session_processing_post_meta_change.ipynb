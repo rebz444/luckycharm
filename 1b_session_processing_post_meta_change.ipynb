{
 "cells": [
  {
   "cell_type": "markdown",
   "metadata": {},
   "source": [
    "# Process events files and generates trials for sessions after to 20240416"
   ]
  },
  {
   "cell_type": "code",
   "execution_count": 1,
   "metadata": {},
   "outputs": [],
   "source": [
    "import os\n",
    "import shutil\n",
    "\n",
    "import session_processing_helper as helper\n",
    "import utils\n",
    "\n",
    "import pandas as pd"
   ]
  },
  {
   "cell_type": "code",
   "execution_count": 2,
   "metadata": {},
   "outputs": [
    {
     "name": "stdout",
     "output_type": "stream",
     "text": [
      "/Users/rebekahzhang/data/behavior_data/post_meta_change/exp2/cohort_7\n"
     ]
    }
   ],
   "source": [
    "data_dir = '/Users/rebekahzhang/data/behavior_data'\n",
    "period = 'post_meta_change'\n",
    "exp = \"exp2\"\n",
    "cohort = \"cohort_7\"\n",
    "data_folder = os.path.join(data_dir, period, exp, cohort)\n",
    "print(data_folder)"
   ]
  },
  {
   "cell_type": "markdown",
   "metadata": {},
   "source": [
    "# Quality Control"
   ]
  },
  {
   "cell_type": "markdown",
   "metadata": {},
   "source": [
    "## Check session folders have both meta and events"
   ]
  },
  {
   "cell_type": "code",
   "execution_count": 3,
   "metadata": {},
   "outputs": [
    {
     "name": "stdout",
     "output_type": "stream",
     "text": [
      "\n",
      "All sessions have non-empty meta and events files.\n"
     ]
    }
   ],
   "source": [
    "missing_events, missing_meta, empty_meta, empty_events = helper.check_session_files(data_folder)\n",
    "if not (missing_meta.empty and missing_events.empty and empty_meta.empty and empty_events.empty):\n",
    "    print(\"\\nFile check results:\")\n",
    "    if not missing_meta.empty:\n",
    "        print(\"\\nSessions missing meta files:\")\n",
    "        display(missing_meta)\n",
    "    if not missing_events.empty:\n",
    "        print(\"\\nSessions missing events files:\")\n",
    "        display(missing_events)\n",
    "    if not empty_meta.empty:\n",
    "        print(\"\\nSessions with empty meta files:\")\n",
    "        display(empty_meta)\n",
    "    if not empty_events.empty:\n",
    "        print(\"\\nSessions with empty events files:\")\n",
    "        display(empty_events)\n",
    "else:\n",
    "    print(\"\\nAll sessions have non-empty meta and events files.\")"
   ]
  },
  {
   "cell_type": "code",
   "execution_count": 4,
   "metadata": {},
   "outputs": [
    {
     "name": "stdout",
     "output_type": "stream",
     "text": [
      "no sessions to delete\n"
     ]
    }
   ],
   "source": [
    "utils.delete_folders(missing_meta.dir.tolist(), data_folder)"
   ]
  },
  {
   "cell_type": "code",
   "execution_count": 5,
   "metadata": {},
   "outputs": [
    {
     "name": "stdout",
     "output_type": "stream",
     "text": [
      "no sessions to delete\n"
     ]
    }
   ],
   "source": [
    "utils.delete_folders(missing_events.dir.tolist(), data_folder)"
   ]
  },
  {
   "cell_type": "code",
   "execution_count": 6,
   "metadata": {},
   "outputs": [
    {
     "name": "stdout",
     "output_type": "stream",
     "text": [
      "no sessions to delete\n"
     ]
    }
   ],
   "source": [
    "utils.delete_folders(empty_meta.dir.tolist(), data_folder)"
   ]
  },
  {
   "cell_type": "code",
   "execution_count": 7,
   "metadata": {},
   "outputs": [
    {
     "name": "stdout",
     "output_type": "stream",
     "text": [
      "no sessions to delete\n"
     ]
    }
   ],
   "source": [
    "utils.delete_folders(empty_events.dir.tolist(), data_folder)"
   ]
  },
  {
   "attachments": {},
   "cell_type": "markdown",
   "metadata": {},
   "source": [
    "## Generate and save sessions log"
   ]
  },
  {
   "attachments": {},
   "cell_type": "markdown",
   "metadata": {},
   "source": [
    "generate session log using meta data from each session and add columns of basic info to each session"
   ]
  },
  {
   "cell_type": "markdown",
   "metadata": {},
   "source": [
    "### re-run after every quality control steps"
   ]
  },
  {
   "cell_type": "code",
   "execution_count": 8,
   "metadata": {},
   "outputs": [
    {
     "name": "stdout",
     "output_type": "stream",
     "text": [
      "555 sessions in total\n"
     ]
    },
    {
     "data": {
      "text/html": [
       "<div>\n",
       "<style scoped>\n",
       "    .dataframe tbody tr th:only-of-type {\n",
       "        vertical-align: middle;\n",
       "    }\n",
       "\n",
       "    .dataframe tbody tr th {\n",
       "        vertical-align: top;\n",
       "    }\n",
       "\n",
       "    .dataframe thead th {\n",
       "        text-align: right;\n",
       "    }\n",
       "</style>\n",
       "<table border=\"1\" class=\"dataframe\">\n",
       "  <thead>\n",
       "    <tr style=\"text-align: right;\">\n",
       "      <th></th>\n",
       "      <th>index</th>\n",
       "      <th>date</th>\n",
       "      <th>time</th>\n",
       "      <th>mouse</th>\n",
       "      <th>exp</th>\n",
       "      <th>training</th>\n",
       "      <th>rig</th>\n",
       "      <th>trainer</th>\n",
       "      <th>record</th>\n",
       "      <th>total_reward</th>\n",
       "      <th>total_trial</th>\n",
       "      <th>avg_tw</th>\n",
       "      <th>ending_code</th>\n",
       "      <th>dir</th>\n",
       "      <th>group</th>\n",
       "      <th>session</th>\n",
       "    </tr>\n",
       "  </thead>\n",
       "  <tbody>\n",
       "    <tr>\n",
       "      <th>550</th>\n",
       "      <td>468</td>\n",
       "      <td>2025-03-17</td>\n",
       "      <td>13-13-38</td>\n",
       "      <td>RZ059</td>\n",
       "      <td>2</td>\n",
       "      <td>regular</td>\n",
       "      <td>rig1</td>\n",
       "      <td>Rebekah</td>\n",
       "      <td>True</td>\n",
       "      <td>875</td>\n",
       "      <td>283</td>\n",
       "      <td>8.47</td>\n",
       "      <td>miss</td>\n",
       "      <td>2025-03-17_13-13-38_RZ059</td>\n",
       "      <td>l</td>\n",
       "      <td>50</td>\n",
       "    </tr>\n",
       "    <tr>\n",
       "      <th>551</th>\n",
       "      <td>166</td>\n",
       "      <td>2025-03-18</td>\n",
       "      <td>11-12-43</td>\n",
       "      <td>RZ059</td>\n",
       "      <td>2</td>\n",
       "      <td>regular</td>\n",
       "      <td>rig1</td>\n",
       "      <td>Rebekah</td>\n",
       "      <td>True</td>\n",
       "      <td>900</td>\n",
       "      <td>433</td>\n",
       "      <td>2.55</td>\n",
       "      <td>reward</td>\n",
       "      <td>2025-03-18_11-12-43_RZ059</td>\n",
       "      <td>l</td>\n",
       "      <td>51</td>\n",
       "    </tr>\n",
       "    <tr>\n",
       "      <th>552</th>\n",
       "      <td>291</td>\n",
       "      <td>2025-03-19</td>\n",
       "      <td>12-19-18</td>\n",
       "      <td>RZ059</td>\n",
       "      <td>2</td>\n",
       "      <td>regular</td>\n",
       "      <td>rig1</td>\n",
       "      <td>Rebekah</td>\n",
       "      <td>True</td>\n",
       "      <td>900</td>\n",
       "      <td>271</td>\n",
       "      <td>5.41</td>\n",
       "      <td>reward</td>\n",
       "      <td>2025-03-19_12-19-18_RZ059</td>\n",
       "      <td>l</td>\n",
       "      <td>52</td>\n",
       "    </tr>\n",
       "    <tr>\n",
       "      <th>553</th>\n",
       "      <td>431</td>\n",
       "      <td>2025-03-20</td>\n",
       "      <td>13-48-44</td>\n",
       "      <td>RZ059</td>\n",
       "      <td>2</td>\n",
       "      <td>regular</td>\n",
       "      <td>rig1</td>\n",
       "      <td>Rebekah</td>\n",
       "      <td>True</td>\n",
       "      <td>900</td>\n",
       "      <td>315</td>\n",
       "      <td>5.55</td>\n",
       "      <td>reward</td>\n",
       "      <td>2025-03-20_13-48-44_RZ059</td>\n",
       "      <td>l</td>\n",
       "      <td>53</td>\n",
       "    </tr>\n",
       "    <tr>\n",
       "      <th>554</th>\n",
       "      <td>42</td>\n",
       "      <td>2025-03-21</td>\n",
       "      <td>10-35-48</td>\n",
       "      <td>RZ059</td>\n",
       "      <td>2</td>\n",
       "      <td>regular</td>\n",
       "      <td>rig1</td>\n",
       "      <td>Rebekah</td>\n",
       "      <td>True</td>\n",
       "      <td>355</td>\n",
       "      <td>99</td>\n",
       "      <td>10.72</td>\n",
       "      <td>miss</td>\n",
       "      <td>2025-03-21_10-35-48_RZ059</td>\n",
       "      <td>l</td>\n",
       "      <td>54</td>\n",
       "    </tr>\n",
       "  </tbody>\n",
       "</table>\n",
       "</div>"
      ],
      "text/plain": [
       "     index        date      time  mouse exp training   rig  trainer  record  \\\n",
       "550    468  2025-03-17  13-13-38  RZ059   2  regular  rig1  Rebekah    True   \n",
       "551    166  2025-03-18  11-12-43  RZ059   2  regular  rig1  Rebekah    True   \n",
       "552    291  2025-03-19  12-19-18  RZ059   2  regular  rig1  Rebekah    True   \n",
       "553    431  2025-03-20  13-48-44  RZ059   2  regular  rig1  Rebekah    True   \n",
       "554     42  2025-03-21  10-35-48  RZ059   2  regular  rig1  Rebekah    True   \n",
       "\n",
       "     total_reward  total_trial  avg_tw ending_code                        dir  \\\n",
       "550           875          283    8.47        miss  2025-03-17_13-13-38_RZ059   \n",
       "551           900          433    2.55      reward  2025-03-18_11-12-43_RZ059   \n",
       "552           900          271    5.41      reward  2025-03-19_12-19-18_RZ059   \n",
       "553           900          315    5.55      reward  2025-03-20_13-48-44_RZ059   \n",
       "554           355           99   10.72        miss  2025-03-21_10-35-48_RZ059   \n",
       "\n",
       "    group  session  \n",
       "550     l       50  \n",
       "551     l       51  \n",
       "552     l       52  \n",
       "553     l       53  \n",
       "554     l       54  "
      ]
     },
     "execution_count": 8,
     "metadata": {},
     "output_type": "execute_result"
    }
   ],
   "source": [
    "sessions_all, sessions_training = helper.generate_session_logs(data_folder)\n",
    "sessions_training.tail()"
   ]
  },
  {
   "attachments": {},
   "cell_type": "markdown",
   "metadata": {},
   "source": [
    "## Remove unwanted sessions\n",
    "doesn't need to run when data folder is cleaned \n",
    "<br>\n",
    "sessions_all needs to be regenerated after every cleaning step"
   ]
  },
  {
   "cell_type": "markdown",
   "metadata": {},
   "source": [
    "### Remove crashed sessions\n",
    "remove the sessions with ending_code==nan"
   ]
  },
  {
   "cell_type": "code",
   "execution_count": 9,
   "metadata": {},
   "outputs": [
    {
     "name": "stdout",
     "output_type": "stream",
     "text": [
      "no sessions to delete\n"
     ]
    }
   ],
   "source": [
    "sessions_ended_nan = sessions_all[sessions_all.ending_code.isna()]\n",
    "utils.remove_sessions(sessions_ended_nan, data_folder)"
   ]
  },
  {
   "cell_type": "markdown",
   "metadata": {},
   "source": [
    "reomve sessions that crashed"
   ]
  },
  {
   "cell_type": "code",
   "execution_count": 10,
   "metadata": {},
   "outputs": [
    {
     "name": "stdout",
     "output_type": "stream",
     "text": [
      "all sessions are perfect! woohoo!\n"
     ]
    }
   ],
   "source": [
    "sessions_crashed = pd.DataFrame(columns=sessions_training.columns)\n",
    "problematic_sessions = pd.DataFrame(columns=sessions_training.columns)\n",
    "\n",
    "for _, session_info in sessions_training.iterrows():\n",
    "    try:\n",
    "        events_path = utils.generate_events_path(data_folder, session_info)\n",
    "        events = pd.read_csv(events_path, low_memory=False)\n",
    "        session_end = events.loc[(events.key=='session') & (events.value==0)]\n",
    "\n",
    "        if not len(session_end)==1:\n",
    "            sessions_crashed = pd.concat([sessions_crashed, session_info.to_frame().T], ignore_index=True)\n",
    "    \n",
    "    except:\n",
    "        problematic_sessions = pd.concat([problematic_sessions, session_info.to_frame().T], ignore_index=True)\n",
    "\n",
    "if len(problematic_sessions) > 0:\n",
    "    print(\"cannot open: \")\n",
    "    display(problematic_sessions)\n",
    "\n",
    "if len(sessions_crashed) > 0:\n",
    "    print(\"crashed sessions: \")\n",
    "    display(sessions_crashed)\n",
    "else:\n",
    "    print(\"all sessions are perfect! woohoo!\")"
   ]
  },
  {
   "cell_type": "code",
   "execution_count": 11,
   "metadata": {},
   "outputs": [
    {
     "name": "stdout",
     "output_type": "stream",
     "text": [
      "no sessions to delete\n"
     ]
    }
   ],
   "source": [
    "utils.remove_sessions(sessions_crashed, data_folder)"
   ]
  },
  {
   "attachments": {},
   "cell_type": "markdown",
   "metadata": {},
   "source": [
    "### Check for short sessions"
   ]
  },
  {
   "cell_type": "code",
   "execution_count": 12,
   "metadata": {},
   "outputs": [
    {
     "name": "stdout",
     "output_type": "stream",
     "text": [
      "no short sessions to be checked!\n"
     ]
    }
   ],
   "source": [
    "short_threshold = 20\n",
    "sessions_short = sessions_all[(sessions_all['total_trial'] < short_threshold) | sessions_all['total_trial'].isna()]\n",
    "if len(sessions_short)>0:\n",
    "    display(sessions_short)\n",
    "else: \n",
    "    print('no short sessions to be checked!')"
   ]
  },
  {
   "cell_type": "markdown",
   "metadata": {},
   "source": [
    "remove short sessions if needed"
   ]
  },
  {
   "cell_type": "code",
   "execution_count": 13,
   "metadata": {},
   "outputs": [
    {
     "name": "stdout",
     "output_type": "stream",
     "text": [
      "no sessions to delete\n"
     ]
    }
   ],
   "source": [
    "utils.remove_sessions(sessions_short, data_folder)"
   ]
  },
  {
   "cell_type": "markdown",
   "metadata": {},
   "source": [
    "# Process Events"
   ]
  },
  {
   "attachments": {},
   "cell_type": "markdown",
   "metadata": {},
   "source": [
    "load session log"
   ]
  },
  {
   "cell_type": "code",
   "execution_count": 14,
   "metadata": {},
   "outputs": [],
   "source": [
    "sessions_training = utils.load_data(os.path.join(data_folder, 'sessions_training.csv'))"
   ]
  },
  {
   "cell_type": "code",
   "execution_count": 15,
   "metadata": {},
   "outputs": [
    {
     "name": "stdout",
     "output_type": "stream",
     "text": [
      "all sessions are perfect! woohoo!\n"
     ]
    }
   ],
   "source": [
    "problematic_sessions = pd.DataFrame(columns=sessions_training.columns)\n",
    "\n",
    "for _, session_info in sessions_training.iterrows():\n",
    "    try:\n",
    "        events_processed_path = utils.generate_events_processed_path(data_folder, session_info)\n",
    "        # if os.path.isfile(events_processed_path):\n",
    "        #     continue\n",
    "        events = pd.read_csv(utils.generate_events_path(data_folder, session_info), low_memory=False)\n",
    "        events = helper.process_events(session_info, events)\n",
    "        events_processed = events.groupby('session_trial_num', group_keys=False).apply(helper.add_trial_time)\n",
    "        events_processed.to_csv(events_processed_path)\n",
    "    except:\n",
    "        problematic_sessions = pd.concat([problematic_sessions, session_info.to_frame().T], ignore_index=True)\n",
    "\n",
    "if len(problematic_sessions) > 0:\n",
    "    display(problematic_sessions)\n",
    "else:\n",
    "    print(\"all sessions are perfect! woohoo!\")"
   ]
  },
  {
   "cell_type": "markdown",
   "metadata": {},
   "source": [
    "# Data set curation "
   ]
  },
  {
   "cell_type": "code",
   "execution_count": 16,
   "metadata": {},
   "outputs": [
    {
     "name": "stdout",
     "output_type": "stream",
     "text": [
      "['RZ057', 'RZ058', 'RZ059', 'RZ061', 'RZ062', 'RZ063', 'RZ065', 'RZ067', 'RZ068', 'RZ069', 'RZ070']\n"
     ]
    }
   ],
   "source": [
    "# mouse_list = utils.generate_mouse_list(sessions_all)\n",
    "# mouse_list = ['RZ047','RZ049','RZ050','RZ051','RZ052','RZ053','RZ054','RZ055','RZ056']\n",
    "mouse_list = [\"RZ057\", \"RZ058\", \"RZ059\", \"RZ061\", \"RZ062\", \"RZ063\",\n",
    "                     \"RZ065\", \"RZ067\", \"RZ068\", \"RZ069\", \"RZ070\"]\n",
    "print(mouse_list)\n",
    "\n",
    "sessions_by_date = sessions_training.groupby('date')"
   ]
  },
  {
   "cell_type": "markdown",
   "metadata": {},
   "source": [
    "### Deal with missing sessions"
   ]
  },
  {
   "cell_type": "code",
   "execution_count": 17,
   "metadata": {},
   "outputs": [
    {
     "name": "stdout",
     "output_type": "stream",
     "text": [
      "on 2024-11-15, RZ069 has missing sessions\n",
      "on 2024-11-15, RZ070 has missing sessions\n",
      "on 2024-12-12, RZ059 has missing sessions\n",
      "on 2025-02-06, RZ061 has missing sessions\n",
      "on 2025-02-06, RZ062 has missing sessions\n",
      "on 2025-02-06, RZ063 has missing sessions\n",
      "on 2025-02-11, RZ069 has missing sessions\n",
      "on 2025-02-12, RZ057 has missing sessions\n",
      "on 2025-02-12, RZ058 has missing sessions\n",
      "on 2025-02-12, RZ059 has missing sessions\n",
      "on 2025-02-12, RZ061 has missing sessions\n",
      "on 2025-02-12, RZ062 has missing sessions\n",
      "on 2025-02-12, RZ063 has missing sessions\n",
      "on 2025-02-12, RZ065 has missing sessions\n",
      "on 2025-02-12, RZ067 has missing sessions\n",
      "on 2025-02-12, RZ068 has missing sessions\n",
      "on 2025-02-12, RZ069 has missing sessions\n",
      "on 2025-02-13, RZ069 has missing sessions\n",
      "on 2025-02-14, RZ057 has missing sessions\n",
      "on 2025-02-14, RZ058 has missing sessions\n",
      "on 2025-02-14, RZ059 has missing sessions\n",
      "on 2025-02-14, RZ061 has missing sessions\n",
      "on 2025-02-14, RZ062 has missing sessions\n",
      "on 2025-02-14, RZ063 has missing sessions\n",
      "on 2025-02-14, RZ065 has missing sessions\n",
      "on 2025-02-14, RZ067 has missing sessions\n",
      "on 2025-02-14, RZ069 has missing sessions\n",
      "on 2025-02-18, RZ068 has missing sessions\n",
      "on 2025-02-18, RZ069 has missing sessions\n",
      "on 2025-02-18, RZ070 has missing sessions\n",
      "on 2025-02-19, RZ067 has missing sessions\n",
      "on 2025-02-19, RZ068 has missing sessions\n",
      "on 2025-02-19, RZ069 has missing sessions\n",
      "on 2025-02-19, RZ070 has missing sessions\n",
      "on 2025-02-20, RZ067 has missing sessions\n",
      "on 2025-02-20, RZ068 has missing sessions\n",
      "on 2025-02-20, RZ069 has missing sessions\n",
      "on 2025-02-20, RZ070 has missing sessions\n",
      "on 2025-02-21, RZ067 has missing sessions\n",
      "on 2025-02-21, RZ068 has missing sessions\n",
      "on 2025-02-21, RZ069 has missing sessions\n",
      "on 2025-02-21, RZ070 has missing sessions\n",
      "on 2025-02-22, RZ057 has missing sessions\n",
      "on 2025-02-22, RZ058 has missing sessions\n",
      "on 2025-02-22, RZ059 has missing sessions\n",
      "on 2025-02-22, RZ061 has missing sessions\n",
      "on 2025-02-22, RZ062 has missing sessions\n",
      "on 2025-02-22, RZ063 has missing sessions\n",
      "on 2025-02-22, RZ067 has missing sessions\n",
      "on 2025-02-22, RZ068 has missing sessions\n",
      "on 2025-02-22, RZ069 has missing sessions\n",
      "on 2025-02-22, RZ070 has missing sessions\n",
      "on 2025-02-24, RZ065 has missing sessions\n",
      "on 2025-02-24, RZ067 has missing sessions\n",
      "on 2025-02-24, RZ068 has missing sessions\n",
      "on 2025-02-24, RZ069 has missing sessions\n",
      "on 2025-02-24, RZ070 has missing sessions\n",
      "on 2025-02-27, RZ065 has missing sessions\n",
      "on 2025-02-27, RZ067 has missing sessions\n",
      "on 2025-02-27, RZ068 has missing sessions\n",
      "on 2025-02-27, RZ069 has missing sessions\n",
      "on 2025-02-27, RZ070 has missing sessions\n",
      "on 2025-02-28, RZ065 has missing sessions\n",
      "on 2025-02-28, RZ067 has missing sessions\n",
      "on 2025-02-28, RZ068 has missing sessions\n",
      "on 2025-02-28, RZ069 has missing sessions\n",
      "on 2025-02-28, RZ070 has missing sessions\n",
      "on 2025-03-03, RZ065 has missing sessions\n",
      "on 2025-03-03, RZ067 has missing sessions\n",
      "on 2025-03-03, RZ068 has missing sessions\n",
      "on 2025-03-03, RZ069 has missing sessions\n",
      "on 2025-03-03, RZ070 has missing sessions\n",
      "on 2025-03-04, RZ059 has missing sessions\n",
      "on 2025-03-04, RZ065 has missing sessions\n",
      "on 2025-03-04, RZ067 has missing sessions\n",
      "on 2025-03-04, RZ068 has missing sessions\n",
      "on 2025-03-04, RZ069 has missing sessions\n",
      "on 2025-03-04, RZ070 has missing sessions\n",
      "on 2025-03-05, RZ065 has missing sessions\n",
      "on 2025-03-05, RZ067 has missing sessions\n",
      "on 2025-03-05, RZ068 has missing sessions\n",
      "on 2025-03-05, RZ069 has missing sessions\n",
      "on 2025-03-05, RZ070 has missing sessions\n",
      "on 2025-03-06, RZ065 has missing sessions\n",
      "on 2025-03-06, RZ067 has missing sessions\n",
      "on 2025-03-06, RZ068 has missing sessions\n",
      "on 2025-03-06, RZ069 has missing sessions\n",
      "on 2025-03-06, RZ070 has missing sessions\n",
      "on 2025-03-07, RZ058 has missing sessions\n",
      "on 2025-03-07, RZ065 has missing sessions\n",
      "on 2025-03-07, RZ067 has missing sessions\n",
      "on 2025-03-07, RZ068 has missing sessions\n",
      "on 2025-03-07, RZ069 has missing sessions\n",
      "on 2025-03-07, RZ070 has missing sessions\n",
      "on 2025-03-11, RZ062 has missing sessions\n",
      "on 2025-03-11, RZ063 has missing sessions\n",
      "on 2025-03-11, RZ065 has missing sessions\n",
      "on 2025-03-11, RZ067 has missing sessions\n",
      "on 2025-03-11, RZ068 has missing sessions\n",
      "on 2025-03-11, RZ069 has missing sessions\n",
      "on 2025-03-11, RZ070 has missing sessions\n",
      "on 2025-03-12, RZ059 has missing sessions\n",
      "on 2025-03-12, RZ062 has missing sessions\n",
      "on 2025-03-12, RZ063 has missing sessions\n",
      "on 2025-03-12, RZ065 has missing sessions\n",
      "on 2025-03-12, RZ067 has missing sessions\n",
      "on 2025-03-12, RZ068 has missing sessions\n",
      "on 2025-03-12, RZ069 has missing sessions\n",
      "on 2025-03-12, RZ070 has missing sessions\n",
      "on 2025-03-13, RZ062 has missing sessions\n",
      "on 2025-03-13, RZ063 has missing sessions\n",
      "on 2025-03-13, RZ065 has missing sessions\n",
      "on 2025-03-13, RZ067 has missing sessions\n",
      "on 2025-03-13, RZ068 has missing sessions\n",
      "on 2025-03-13, RZ069 has missing sessions\n",
      "on 2025-03-13, RZ070 has missing sessions\n",
      "on 2025-03-14, RZ059 has missing sessions\n",
      "on 2025-03-14, RZ062 has missing sessions\n",
      "on 2025-03-14, RZ063 has missing sessions\n",
      "on 2025-03-14, RZ065 has missing sessions\n",
      "on 2025-03-14, RZ067 has missing sessions\n",
      "on 2025-03-14, RZ068 has missing sessions\n",
      "on 2025-03-14, RZ069 has missing sessions\n",
      "on 2025-03-14, RZ070 has missing sessions\n",
      "on 2025-03-15, RZ062 has missing sessions\n",
      "on 2025-03-15, RZ063 has missing sessions\n",
      "on 2025-03-15, RZ065 has missing sessions\n",
      "on 2025-03-15, RZ067 has missing sessions\n",
      "on 2025-03-15, RZ068 has missing sessions\n",
      "on 2025-03-15, RZ069 has missing sessions\n",
      "on 2025-03-15, RZ070 has missing sessions\n",
      "on 2025-03-17, RZ057 has missing sessions\n",
      "on 2025-03-17, RZ058 has missing sessions\n",
      "on 2025-03-17, RZ061 has missing sessions\n",
      "on 2025-03-17, RZ062 has missing sessions\n",
      "on 2025-03-17, RZ063 has missing sessions\n",
      "on 2025-03-17, RZ065 has missing sessions\n",
      "on 2025-03-17, RZ067 has missing sessions\n",
      "on 2025-03-17, RZ068 has missing sessions\n",
      "on 2025-03-17, RZ069 has missing sessions\n",
      "on 2025-03-17, RZ070 has missing sessions\n",
      "on 2025-03-18, RZ057 has missing sessions\n",
      "on 2025-03-18, RZ058 has missing sessions\n",
      "on 2025-03-18, RZ061 has missing sessions\n",
      "on 2025-03-18, RZ062 has missing sessions\n",
      "on 2025-03-18, RZ063 has missing sessions\n",
      "on 2025-03-18, RZ065 has missing sessions\n",
      "on 2025-03-18, RZ067 has missing sessions\n",
      "on 2025-03-18, RZ068 has missing sessions\n",
      "on 2025-03-18, RZ069 has missing sessions\n",
      "on 2025-03-18, RZ070 has missing sessions\n",
      "on 2025-03-19, RZ057 has missing sessions\n",
      "on 2025-03-19, RZ058 has missing sessions\n",
      "on 2025-03-19, RZ061 has missing sessions\n",
      "on 2025-03-19, RZ062 has missing sessions\n",
      "on 2025-03-19, RZ063 has missing sessions\n",
      "on 2025-03-19, RZ065 has missing sessions\n",
      "on 2025-03-19, RZ067 has missing sessions\n",
      "on 2025-03-19, RZ068 has missing sessions\n",
      "on 2025-03-19, RZ069 has missing sessions\n",
      "on 2025-03-19, RZ070 has missing sessions\n",
      "on 2025-03-20, RZ057 has missing sessions\n",
      "on 2025-03-20, RZ058 has missing sessions\n",
      "on 2025-03-20, RZ061 has missing sessions\n",
      "on 2025-03-20, RZ062 has missing sessions\n",
      "on 2025-03-20, RZ063 has missing sessions\n",
      "on 2025-03-20, RZ065 has missing sessions\n",
      "on 2025-03-20, RZ067 has missing sessions\n",
      "on 2025-03-20, RZ068 has missing sessions\n",
      "on 2025-03-20, RZ069 has missing sessions\n",
      "on 2025-03-20, RZ070 has missing sessions\n",
      "on 2025-03-21, RZ057 has missing sessions\n",
      "on 2025-03-21, RZ058 has missing sessions\n",
      "on 2025-03-21, RZ061 has missing sessions\n",
      "on 2025-03-21, RZ062 has missing sessions\n",
      "on 2025-03-21, RZ063 has missing sessions\n",
      "on 2025-03-21, RZ065 has missing sessions\n",
      "on 2025-03-21, RZ067 has missing sessions\n",
      "on 2025-03-21, RZ068 has missing sessions\n",
      "on 2025-03-21, RZ069 has missing sessions\n",
      "on 2025-03-21, RZ070 has missing sessions\n"
     ]
    }
   ],
   "source": [
    "no_missing_sessions = True\n",
    "for date, data in sessions_by_date:\n",
    "    for mouse in mouse_list:\n",
    "        mouse_by_date = data.loc[data['mouse'] == mouse]\n",
    "        if len(mouse_by_date) < 1:\n",
    "            no_missing_sessions = False\n",
    "            print(f\"on {date}, {mouse} has missing sessions\")\n",
    "if no_missing_sessions:\n",
    "    print(\"no missing sessions!\")"
   ]
  },
  {
   "cell_type": "code",
   "execution_count": 18,
   "metadata": {},
   "outputs": [
    {
     "data": {
      "text/html": [
       "<div>\n",
       "<style scoped>\n",
       "    .dataframe tbody tr th:only-of-type {\n",
       "        vertical-align: middle;\n",
       "    }\n",
       "\n",
       "    .dataframe tbody tr th {\n",
       "        vertical-align: top;\n",
       "    }\n",
       "\n",
       "    .dataframe thead th {\n",
       "        text-align: right;\n",
       "    }\n",
       "</style>\n",
       "<table border=\"1\" class=\"dataframe\">\n",
       "  <thead>\n",
       "    <tr style=\"text-align: right;\">\n",
       "      <th></th>\n",
       "      <th>index</th>\n",
       "      <th>date</th>\n",
       "      <th>time</th>\n",
       "      <th>mouse</th>\n",
       "      <th>exp</th>\n",
       "      <th>training</th>\n",
       "      <th>rig</th>\n",
       "      <th>trainer</th>\n",
       "      <th>record</th>\n",
       "      <th>total_reward</th>\n",
       "      <th>total_trial</th>\n",
       "      <th>avg_tw</th>\n",
       "      <th>ending_code</th>\n",
       "      <th>dir</th>\n",
       "      <th>group</th>\n",
       "      <th>session</th>\n",
       "    </tr>\n",
       "  </thead>\n",
       "  <tbody>\n",
       "    <tr>\n",
       "      <th>168</th>\n",
       "      <td>3</td>\n",
       "      <td>2024-12-12</td>\n",
       "      <td>10-26-58</td>\n",
       "      <td>RZ057</td>\n",
       "      <td>2</td>\n",
       "      <td>regular</td>\n",
       "      <td>rig7</td>\n",
       "      <td>Rebekah</td>\n",
       "      <td>False</td>\n",
       "      <td>700</td>\n",
       "      <td>267</td>\n",
       "      <td>5.02</td>\n",
       "      <td>reward</td>\n",
       "      <td>2024-12-12_10-26-58_RZ057</td>\n",
       "      <td>l</td>\n",
       "      <td>13</td>\n",
       "    </tr>\n",
       "    <tr>\n",
       "      <th>169</th>\n",
       "      <td>254</td>\n",
       "      <td>2024-12-12</td>\n",
       "      <td>10-28-34</td>\n",
       "      <td>RZ058</td>\n",
       "      <td>2</td>\n",
       "      <td>regular</td>\n",
       "      <td>rig6</td>\n",
       "      <td>Rebekah</td>\n",
       "      <td>False</td>\n",
       "      <td>255</td>\n",
       "      <td>73</td>\n",
       "      <td>18.51</td>\n",
       "      <td>miss</td>\n",
       "      <td>2024-12-12_10-28-34_RZ058</td>\n",
       "      <td>l</td>\n",
       "      <td>13</td>\n",
       "    </tr>\n",
       "    <tr>\n",
       "      <th>173</th>\n",
       "      <td>449</td>\n",
       "      <td>2024-12-12</td>\n",
       "      <td>11-33-29</td>\n",
       "      <td>RZ061</td>\n",
       "      <td>2</td>\n",
       "      <td>regular</td>\n",
       "      <td>rig4</td>\n",
       "      <td>Rebekah</td>\n",
       "      <td>False</td>\n",
       "      <td>700</td>\n",
       "      <td>382</td>\n",
       "      <td>2.32</td>\n",
       "      <td>reward</td>\n",
       "      <td>2024-12-12_11-33-29_RZ061</td>\n",
       "      <td>s</td>\n",
       "      <td>13</td>\n",
       "    </tr>\n",
       "    <tr>\n",
       "      <th>174</th>\n",
       "      <td>204</td>\n",
       "      <td>2024-12-12</td>\n",
       "      <td>11-35-30</td>\n",
       "      <td>RZ062</td>\n",
       "      <td>2</td>\n",
       "      <td>regular</td>\n",
       "      <td>rig5</td>\n",
       "      <td>Rebekah</td>\n",
       "      <td>False</td>\n",
       "      <td>700</td>\n",
       "      <td>706</td>\n",
       "      <td>0.93</td>\n",
       "      <td>reward</td>\n",
       "      <td>2024-12-12_11-35-30_RZ062</td>\n",
       "      <td>s</td>\n",
       "      <td>13</td>\n",
       "    </tr>\n",
       "    <tr>\n",
       "      <th>175</th>\n",
       "      <td>243</td>\n",
       "      <td>2024-12-12</td>\n",
       "      <td>11-38-49</td>\n",
       "      <td>RZ063</td>\n",
       "      <td>2</td>\n",
       "      <td>regular</td>\n",
       "      <td>rig7</td>\n",
       "      <td>Rebekah</td>\n",
       "      <td>False</td>\n",
       "      <td>700</td>\n",
       "      <td>349</td>\n",
       "      <td>2.28</td>\n",
       "      <td>reward</td>\n",
       "      <td>2024-12-12_11-38-49_RZ063</td>\n",
       "      <td>s</td>\n",
       "      <td>13</td>\n",
       "    </tr>\n",
       "    <tr>\n",
       "      <th>176</th>\n",
       "      <td>425</td>\n",
       "      <td>2024-12-12</td>\n",
       "      <td>12-10-07</td>\n",
       "      <td>RZ064</td>\n",
       "      <td>2</td>\n",
       "      <td>regular</td>\n",
       "      <td>rig6</td>\n",
       "      <td>Rebekah</td>\n",
       "      <td>False</td>\n",
       "      <td>700</td>\n",
       "      <td>558</td>\n",
       "      <td>1.11</td>\n",
       "      <td>reward</td>\n",
       "      <td>2024-12-12_12-10-07_RZ064</td>\n",
       "      <td>s</td>\n",
       "      <td>12</td>\n",
       "    </tr>\n",
       "    <tr>\n",
       "      <th>170</th>\n",
       "      <td>143</td>\n",
       "      <td>2024-12-12</td>\n",
       "      <td>10-33-05</td>\n",
       "      <td>RZ065</td>\n",
       "      <td>2</td>\n",
       "      <td>regular</td>\n",
       "      <td>rig4</td>\n",
       "      <td>Rebekah</td>\n",
       "      <td>False</td>\n",
       "      <td>700</td>\n",
       "      <td>273</td>\n",
       "      <td>3.25</td>\n",
       "      <td>reward</td>\n",
       "      <td>2024-12-12_10-33-05_RZ065</td>\n",
       "      <td>l</td>\n",
       "      <td>13</td>\n",
       "    </tr>\n",
       "    <tr>\n",
       "      <th>171</th>\n",
       "      <td>351</td>\n",
       "      <td>2024-12-12</td>\n",
       "      <td>10-38-58</td>\n",
       "      <td>RZ067</td>\n",
       "      <td>2</td>\n",
       "      <td>regular</td>\n",
       "      <td>rig2</td>\n",
       "      <td>Rebekah</td>\n",
       "      <td>False</td>\n",
       "      <td>700</td>\n",
       "      <td>375</td>\n",
       "      <td>2.13</td>\n",
       "      <td>reward</td>\n",
       "      <td>2024-12-12_10-38-58_RZ067</td>\n",
       "      <td>l</td>\n",
       "      <td>13</td>\n",
       "    </tr>\n",
       "    <tr>\n",
       "      <th>172</th>\n",
       "      <td>595</td>\n",
       "      <td>2024-12-12</td>\n",
       "      <td>10-40-12</td>\n",
       "      <td>RZ068</td>\n",
       "      <td>2</td>\n",
       "      <td>regular</td>\n",
       "      <td>rig3</td>\n",
       "      <td>Rebekah</td>\n",
       "      <td>False</td>\n",
       "      <td>585</td>\n",
       "      <td>438</td>\n",
       "      <td>2.51</td>\n",
       "      <td>miss</td>\n",
       "      <td>2024-12-12_10-40-12_RZ068</td>\n",
       "      <td>l</td>\n",
       "      <td>13</td>\n",
       "    </tr>\n",
       "    <tr>\n",
       "      <th>177</th>\n",
       "      <td>391</td>\n",
       "      <td>2024-12-12</td>\n",
       "      <td>12-25-15</td>\n",
       "      <td>RZ069</td>\n",
       "      <td>2</td>\n",
       "      <td>regular</td>\n",
       "      <td>rig4</td>\n",
       "      <td>Rebekah</td>\n",
       "      <td>False</td>\n",
       "      <td>650</td>\n",
       "      <td>231</td>\n",
       "      <td>6.74</td>\n",
       "      <td>miss</td>\n",
       "      <td>2024-12-12_12-25-15_RZ069</td>\n",
       "      <td>s</td>\n",
       "      <td>12</td>\n",
       "    </tr>\n",
       "    <tr>\n",
       "      <th>179</th>\n",
       "      <td>297</td>\n",
       "      <td>2024-12-12</td>\n",
       "      <td>13-20-32</td>\n",
       "      <td>RZ070</td>\n",
       "      <td>2</td>\n",
       "      <td>regular</td>\n",
       "      <td>rig3</td>\n",
       "      <td>Rebekah</td>\n",
       "      <td>False</td>\n",
       "      <td>220</td>\n",
       "      <td>74</td>\n",
       "      <td>24.31</td>\n",
       "      <td>miss</td>\n",
       "      <td>2024-12-12_13-20-32_RZ070</td>\n",
       "      <td>s</td>\n",
       "      <td>12</td>\n",
       "    </tr>\n",
       "    <tr>\n",
       "      <th>178</th>\n",
       "      <td>388</td>\n",
       "      <td>2024-12-12</td>\n",
       "      <td>12-29-52</td>\n",
       "      <td>RZ072</td>\n",
       "      <td>2</td>\n",
       "      <td>regular</td>\n",
       "      <td>rig2</td>\n",
       "      <td>Rebekah</td>\n",
       "      <td>False</td>\n",
       "      <td>700</td>\n",
       "      <td>382</td>\n",
       "      <td>2.29</td>\n",
       "      <td>reward</td>\n",
       "      <td>2024-12-12_12-29-52_RZ072</td>\n",
       "      <td>s</td>\n",
       "      <td>12</td>\n",
       "    </tr>\n",
       "  </tbody>\n",
       "</table>\n",
       "</div>"
      ],
      "text/plain": [
       "     index        date      time  mouse  exp training   rig  trainer  record  \\\n",
       "168      3  2024-12-12  10-26-58  RZ057    2  regular  rig7  Rebekah   False   \n",
       "169    254  2024-12-12  10-28-34  RZ058    2  regular  rig6  Rebekah   False   \n",
       "173    449  2024-12-12  11-33-29  RZ061    2  regular  rig4  Rebekah   False   \n",
       "174    204  2024-12-12  11-35-30  RZ062    2  regular  rig5  Rebekah   False   \n",
       "175    243  2024-12-12  11-38-49  RZ063    2  regular  rig7  Rebekah   False   \n",
       "176    425  2024-12-12  12-10-07  RZ064    2  regular  rig6  Rebekah   False   \n",
       "170    143  2024-12-12  10-33-05  RZ065    2  regular  rig4  Rebekah   False   \n",
       "171    351  2024-12-12  10-38-58  RZ067    2  regular  rig2  Rebekah   False   \n",
       "172    595  2024-12-12  10-40-12  RZ068    2  regular  rig3  Rebekah   False   \n",
       "177    391  2024-12-12  12-25-15  RZ069    2  regular  rig4  Rebekah   False   \n",
       "179    297  2024-12-12  13-20-32  RZ070    2  regular  rig3  Rebekah   False   \n",
       "178    388  2024-12-12  12-29-52  RZ072    2  regular  rig2  Rebekah   False   \n",
       "\n",
       "     total_reward  total_trial  avg_tw ending_code                        dir  \\\n",
       "168           700          267    5.02      reward  2024-12-12_10-26-58_RZ057   \n",
       "169           255           73   18.51        miss  2024-12-12_10-28-34_RZ058   \n",
       "173           700          382    2.32      reward  2024-12-12_11-33-29_RZ061   \n",
       "174           700          706    0.93      reward  2024-12-12_11-35-30_RZ062   \n",
       "175           700          349    2.28      reward  2024-12-12_11-38-49_RZ063   \n",
       "176           700          558    1.11      reward  2024-12-12_12-10-07_RZ064   \n",
       "170           700          273    3.25      reward  2024-12-12_10-33-05_RZ065   \n",
       "171           700          375    2.13      reward  2024-12-12_10-38-58_RZ067   \n",
       "172           585          438    2.51        miss  2024-12-12_10-40-12_RZ068   \n",
       "177           650          231    6.74        miss  2024-12-12_12-25-15_RZ069   \n",
       "179           220           74   24.31        miss  2024-12-12_13-20-32_RZ070   \n",
       "178           700          382    2.29      reward  2024-12-12_12-29-52_RZ072   \n",
       "\n",
       "    group  session  \n",
       "168     l       13  \n",
       "169     l       13  \n",
       "173     s       13  \n",
       "174     s       13  \n",
       "175     s       13  \n",
       "176     s       12  \n",
       "170     l       13  \n",
       "171     l       13  \n",
       "172     l       13  \n",
       "177     s       12  \n",
       "179     s       12  \n",
       "178     s       12  "
      ]
     },
     "execution_count": 18,
     "metadata": {},
     "output_type": "execute_result"
    }
   ],
   "source": [
    "sessions_by_date.get_group('2024-12-12').sort_values('mouse')"
   ]
  },
  {
   "cell_type": "markdown",
   "metadata": {},
   "source": [
    "#### duplicate if you are sussed out of having to redo this"
   ]
  },
  {
   "cell_type": "code",
   "execution_count": null,
   "metadata": {},
   "outputs": [],
   "source": [
    "utils.backup(data_folder)"
   ]
  },
  {
   "cell_type": "markdown",
   "metadata": {},
   "source": [
    "### Deal with multiple sessions"
   ]
  },
  {
   "cell_type": "code",
   "execution_count": 19,
   "metadata": {},
   "outputs": [
    {
     "name": "stdout",
     "output_type": "stream",
     "text": [
      "no sessions to stitch!\n"
     ]
    }
   ],
   "source": [
    "days_to_stitch = []\n",
    "mice_to_stitch = []\n",
    "for date, data in sessions_by_date:\n",
    "    for mouse in mouse_list:\n",
    "        mouse_by_date = data.loc[data['mouse'] == mouse]\n",
    "        if len(mouse_by_date) > 1:\n",
    "            days_to_stitch.append(date)\n",
    "            mice_to_stitch.append(mouse)\n",
    "            print(f\"on {date}, {mouse} has {len(mouse_by_date)} sessions\")\n",
    "if not days_to_stitch:\n",
    "    print(\"no sessions to stitch!\")"
   ]
  },
  {
   "cell_type": "code",
   "execution_count": 20,
   "metadata": {},
   "outputs": [
    {
     "name": "stdout",
     "output_type": "stream",
     "text": [
      "no sessions to stitch!\n"
     ]
    }
   ],
   "source": [
    "# run it if session stitching is needed, nothing would happen otherwise\n",
    "# has to run more than once if there are more than 2 sessions. fix it for the next round pls\n",
    "if not days_to_stitch:\n",
    "    print(\"no sessions to stitch!\")\n",
    "else:\n",
    "    for d, m in zip(days_to_stitch, mice_to_stitch):\n",
    "        day = sessions_by_date.get_group(d)\n",
    "        sessions_to_stitch = day[day['mouse'] == m]\n",
    "\n",
    "        session_1_dir = utils.generate_events_processed_path(data_folder, sessions_to_stitch.iloc[0])\n",
    "        session_2_dir = utils.generate_events_processed_path(data_folder, sessions_to_stitch.iloc[1])\n",
    "\n",
    "        if os.path.exists(session_1_dir) and os.path.exists(session_2_dir):\n",
    "            session_1 = pd.read_csv(session_1_dir)\n",
    "            session_2 = pd.read_csv(session_2_dir)\n",
    "            stitched_session = helper.stitch_sessions(session_1, session_2) \n",
    "            #should change to stitch events. stitch sessions should be deleted. to follow nomanclature, all session should be renamed to events!!\n",
    "\n",
    "            stitched_session.to_csv(session_1_dir, index=False)\n",
    "            shutil.rmtree(os.path.join(data_folder, sessions_to_stitch.iloc[1].dir))\n",
    "            print(f\"{d} {m} session 2 deleted\")\n",
    "        else:\n",
    "            print(\"one of the sessions do not exist\")"
   ]
  },
  {
   "cell_type": "code",
   "execution_count": 21,
   "metadata": {},
   "outputs": [
    {
     "name": "stdout",
     "output_type": "stream",
     "text": [
      "555 sessions in total\n"
     ]
    },
    {
     "data": {
      "text/html": [
       "<div>\n",
       "<style scoped>\n",
       "    .dataframe tbody tr th:only-of-type {\n",
       "        vertical-align: middle;\n",
       "    }\n",
       "\n",
       "    .dataframe tbody tr th {\n",
       "        vertical-align: top;\n",
       "    }\n",
       "\n",
       "    .dataframe thead th {\n",
       "        text-align: right;\n",
       "    }\n",
       "</style>\n",
       "<table border=\"1\" class=\"dataframe\">\n",
       "  <thead>\n",
       "    <tr style=\"text-align: right;\">\n",
       "      <th></th>\n",
       "      <th>index</th>\n",
       "      <th>date</th>\n",
       "      <th>time</th>\n",
       "      <th>mouse</th>\n",
       "      <th>exp</th>\n",
       "      <th>training</th>\n",
       "      <th>rig</th>\n",
       "      <th>trainer</th>\n",
       "      <th>record</th>\n",
       "      <th>total_reward</th>\n",
       "      <th>total_trial</th>\n",
       "      <th>avg_tw</th>\n",
       "      <th>ending_code</th>\n",
       "      <th>dir</th>\n",
       "      <th>group</th>\n",
       "      <th>session</th>\n",
       "    </tr>\n",
       "  </thead>\n",
       "  <tbody>\n",
       "    <tr>\n",
       "      <th>550</th>\n",
       "      <td>468</td>\n",
       "      <td>2025-03-17</td>\n",
       "      <td>13-13-38</td>\n",
       "      <td>RZ059</td>\n",
       "      <td>2</td>\n",
       "      <td>regular</td>\n",
       "      <td>rig1</td>\n",
       "      <td>Rebekah</td>\n",
       "      <td>True</td>\n",
       "      <td>875</td>\n",
       "      <td>283</td>\n",
       "      <td>8.47</td>\n",
       "      <td>miss</td>\n",
       "      <td>2025-03-17_13-13-38_RZ059</td>\n",
       "      <td>l</td>\n",
       "      <td>50</td>\n",
       "    </tr>\n",
       "    <tr>\n",
       "      <th>551</th>\n",
       "      <td>166</td>\n",
       "      <td>2025-03-18</td>\n",
       "      <td>11-12-43</td>\n",
       "      <td>RZ059</td>\n",
       "      <td>2</td>\n",
       "      <td>regular</td>\n",
       "      <td>rig1</td>\n",
       "      <td>Rebekah</td>\n",
       "      <td>True</td>\n",
       "      <td>900</td>\n",
       "      <td>433</td>\n",
       "      <td>2.55</td>\n",
       "      <td>reward</td>\n",
       "      <td>2025-03-18_11-12-43_RZ059</td>\n",
       "      <td>l</td>\n",
       "      <td>51</td>\n",
       "    </tr>\n",
       "    <tr>\n",
       "      <th>552</th>\n",
       "      <td>291</td>\n",
       "      <td>2025-03-19</td>\n",
       "      <td>12-19-18</td>\n",
       "      <td>RZ059</td>\n",
       "      <td>2</td>\n",
       "      <td>regular</td>\n",
       "      <td>rig1</td>\n",
       "      <td>Rebekah</td>\n",
       "      <td>True</td>\n",
       "      <td>900</td>\n",
       "      <td>271</td>\n",
       "      <td>5.41</td>\n",
       "      <td>reward</td>\n",
       "      <td>2025-03-19_12-19-18_RZ059</td>\n",
       "      <td>l</td>\n",
       "      <td>52</td>\n",
       "    </tr>\n",
       "    <tr>\n",
       "      <th>553</th>\n",
       "      <td>431</td>\n",
       "      <td>2025-03-20</td>\n",
       "      <td>13-48-44</td>\n",
       "      <td>RZ059</td>\n",
       "      <td>2</td>\n",
       "      <td>regular</td>\n",
       "      <td>rig1</td>\n",
       "      <td>Rebekah</td>\n",
       "      <td>True</td>\n",
       "      <td>900</td>\n",
       "      <td>315</td>\n",
       "      <td>5.55</td>\n",
       "      <td>reward</td>\n",
       "      <td>2025-03-20_13-48-44_RZ059</td>\n",
       "      <td>l</td>\n",
       "      <td>53</td>\n",
       "    </tr>\n",
       "    <tr>\n",
       "      <th>554</th>\n",
       "      <td>42</td>\n",
       "      <td>2025-03-21</td>\n",
       "      <td>10-35-48</td>\n",
       "      <td>RZ059</td>\n",
       "      <td>2</td>\n",
       "      <td>regular</td>\n",
       "      <td>rig1</td>\n",
       "      <td>Rebekah</td>\n",
       "      <td>True</td>\n",
       "      <td>355</td>\n",
       "      <td>99</td>\n",
       "      <td>10.72</td>\n",
       "      <td>miss</td>\n",
       "      <td>2025-03-21_10-35-48_RZ059</td>\n",
       "      <td>l</td>\n",
       "      <td>54</td>\n",
       "    </tr>\n",
       "  </tbody>\n",
       "</table>\n",
       "</div>"
      ],
      "text/plain": [
       "     index        date      time  mouse exp training   rig  trainer  record  \\\n",
       "550    468  2025-03-17  13-13-38  RZ059   2  regular  rig1  Rebekah    True   \n",
       "551    166  2025-03-18  11-12-43  RZ059   2  regular  rig1  Rebekah    True   \n",
       "552    291  2025-03-19  12-19-18  RZ059   2  regular  rig1  Rebekah    True   \n",
       "553    431  2025-03-20  13-48-44  RZ059   2  regular  rig1  Rebekah    True   \n",
       "554     42  2025-03-21  10-35-48  RZ059   2  regular  rig1  Rebekah    True   \n",
       "\n",
       "     total_reward  total_trial  avg_tw ending_code                        dir  \\\n",
       "550           875          283    8.47        miss  2025-03-17_13-13-38_RZ059   \n",
       "551           900          433    2.55      reward  2025-03-18_11-12-43_RZ059   \n",
       "552           900          271    5.41      reward  2025-03-19_12-19-18_RZ059   \n",
       "553           900          315    5.55      reward  2025-03-20_13-48-44_RZ059   \n",
       "554           355           99   10.72        miss  2025-03-21_10-35-48_RZ059   \n",
       "\n",
       "    group  session  \n",
       "550     l       50  \n",
       "551     l       51  \n",
       "552     l       52  \n",
       "553     l       53  \n",
       "554     l       54  "
      ]
     },
     "execution_count": 21,
     "metadata": {},
     "output_type": "execute_result"
    }
   ],
   "source": [
    "sessions_all, sessions_training = helper.generate_session_logs(data_folder)\n",
    "\n",
    "sessions_training.tail()"
   ]
  },
  {
   "cell_type": "markdown",
   "metadata": {},
   "source": [
    "# Finalize sessions log"
   ]
  },
  {
   "cell_type": "code",
   "execution_count": 22,
   "metadata": {},
   "outputs": [],
   "source": [
    "def correct_sessions_training(data_folder, save_log=True):\n",
    "    _, sessions_training = helper.generate_session_logs(data_folder, save_logs=False)\n",
    "    session_info_list = []\n",
    "    for _, session_info in sessions_training.iterrows():\n",
    "        events_processed = pd.read_csv(utils.generate_events_processed_path(data_folder, session_info), low_memory=False)\n",
    "        session_basics = helper.get_session_basics(events_processed)\n",
    "        session_basics['dir'] = session_info['dir']\n",
    "        session_info_list.append(session_basics)\n",
    "    sessions_info = pd.DataFrame(session_info_list)\n",
    "    corrected_sessions_training = pd.merge(sessions_training, sessions_info, on=\"dir\")\n",
    "    corrected_sessions_training = corrected_sessions_training.drop(columns=['index', 'total_reward', 'total_trial', 'total_reward'])\n",
    "    corrected_sessions_training = corrected_sessions_training.groupby('mouse', group_keys=False).apply(helper.assign_session_numbers)\n",
    "    corrected_sessions_training['cohort'] = cohort\n",
    "    if save_log:\n",
    "        utils.save_as_csv(df=corrected_sessions_training, folder=data_folder, filename=f'sessions_training_{exp}_{cohort}.csv')\n",
    "    return corrected_sessions_training"
   ]
  },
  {
   "cell_type": "code",
   "execution_count": 23,
   "metadata": {},
   "outputs": [
    {
     "name": "stdout",
     "output_type": "stream",
     "text": [
      "555 sessions in total\n"
     ]
    }
   ],
   "source": [
    "sessions_training = correct_sessions_training(data_folder)"
   ]
  },
  {
   "cell_type": "markdown",
   "metadata": {},
   "source": [
    "# Analyze events"
   ]
  },
  {
   "cell_type": "code",
   "execution_count": 24,
   "metadata": {},
   "outputs": [],
   "source": [
    "sessions_training = utils.load_data(os.path.join(data_folder, f'sessions_training_{exp}_{cohort}.csv'))"
   ]
  },
  {
   "cell_type": "markdown",
   "metadata": {},
   "source": [
    "## Generate Trials"
   ]
  },
  {
   "cell_type": "code",
   "execution_count": 25,
   "metadata": {},
   "outputs": [
    {
     "name": "stdout",
     "output_type": "stream",
     "text": [
      "all sessions are perfect! woohoo!\n"
     ]
    }
   ],
   "source": [
    "# generate all trials based on events processed\n",
    "problematic_sessions = pd.DataFrame(columns=sessions_training.columns)\n",
    "for _, session_info in sessions_training.iterrows():\n",
    "    try: \n",
    "        trials_path = utils.generate_trials_path(data_folder, session_info)\n",
    "        # if os.path.isfile(trials_path):\n",
    "        #     continue\n",
    "        \n",
    "        events_processed = pd.read_csv(utils.generate_events_processed_path(data_folder, session_info))\n",
    "        trials = helper.generate_trials(session_info, events_processed)\n",
    "\n",
    "        trials.to_csv(trials_path)\n",
    "    except:\n",
    "        problematic_sessions = pd.concat([problematic_sessions, session_info.to_frame().T], ignore_index=True)\n",
    "\n",
    "if len(problematic_sessions) > 0:\n",
    "    display(problematic_sessions)\n",
    "else:\n",
    "    print(\"all sessions are perfect! woohoo!\")"
   ]
  },
  {
   "cell_type": "markdown",
   "metadata": {},
   "source": [
    "## Analyze trials"
   ]
  },
  {
   "cell_type": "code",
   "execution_count": 26,
   "metadata": {},
   "outputs": [],
   "source": [
    "for _, session_info in sessions_training.iterrows():\n",
    "    try:\n",
    "        trials_analyzed_path = utils.generate_trials_analyzed_path(data_folder, session_info)\n",
    "        # if os.path.isfile(trials_analyzed_path):\n",
    "        #     continue\n",
    "        \n",
    "        session_by_trial = utils.load_data(utils.generate_events_processed_path(data_folder, session_info)).groupby('session_trial_num')\n",
    "        trials = utils.load_data(utils.generate_trials_path(data_folder, session_info))\n",
    "        trials_data = helper.get_trial_data_df(session_by_trial)\n",
    "        trials_analyzed = pd.merge(trials, trials_data, on='session_trial_num')\n",
    "        trials_analyzed['group'] = session_info.group #assigning trial type manually\n",
    "        trials_analyzed.to_csv(trials_analyzed_path)\n",
    "    except:\n",
    "        display(session_info)"
   ]
  },
  {
   "cell_type": "markdown",
   "metadata": {},
   "source": [
    "debug debug debug"
   ]
  },
  {
   "cell_type": "code",
   "execution_count": null,
   "metadata": {},
   "outputs": [],
   "source": [
    "# data_dir = '/Users/rebekahzhang/data/behavior_data'\n",
    "# exp = \"exp2\"\n",
    "# cohort = \"c567\"\n",
    "# data_folder = os.path.join(data_dir, exp, cohort)\n",
    "# sessions_training = pd.read_csv(os.path.join(data_folder, 'sessions_training.csv'), index_col=0)\n",
    "\n",
    "# sessions_training_post_meta_change = sessions_training.loc[sessions_training.date < \"2024-05-03\"]\n",
    "\n",
    "# for _, session_info in sessions_training_post_meta_change.iterrows():\n",
    "#     try:\n",
    "#         trials_analyzed_path = utils.generate_trials_analyzed_path(data_folder, session_info)\n",
    "#         # if os.path.isfile(trials_analyzed_path):\n",
    "#         #     continue\n",
    "        \n",
    "#         session_by_trial = utils.load_data(utils.generate_events_processed_path(data_folder, session_info)).groupby('session_trial_num')\n",
    "#         trials = utils.load_data(utils.generate_trials_path(data_folder, session_info))\n",
    "#         trials_data = helper.get_trial_data_df(session_by_trial)\n",
    "#         trials_analyzed = pd.merge(trials, trials_data, on='session_trial_num')\n",
    "#         trials_analyzed['group'] = session_info.group #assigning trial type manually\n",
    "#         trials_analyzed.to_csv(trials_analyzed_path)\n",
    "#     except:\n",
    "#         display(session_info)"
   ]
  },
  {
   "cell_type": "code",
   "execution_count": null,
   "metadata": {},
   "outputs": [],
   "source": []
  }
 ],
 "metadata": {
  "kernelspec": {
   "display_name": "LUCKYCHARM",
   "language": "python",
   "name": "luckycharm"
  },
  "language_info": {
   "codemirror_mode": {
    "name": "ipython",
    "version": 3
   },
   "file_extension": ".py",
   "mimetype": "text/x-python",
   "name": "python",
   "nbconvert_exporter": "python",
   "pygments_lexer": "ipython3",
   "version": "3.10.6"
  },
  "orig_nbformat": 4
 },
 "nbformat": 4,
 "nbformat_minor": 2
}
