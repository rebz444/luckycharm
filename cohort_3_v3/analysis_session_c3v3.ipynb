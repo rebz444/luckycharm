{
 "cells": [
  {
   "cell_type": "code",
   "execution_count": 1,
   "metadata": {},
   "outputs": [],
   "source": [
    "import os\n",
    "\n",
    "import helpers_for_processing as helper\n",
    "import utils_new as utils\n",
    "\n",
    "import pandas as pd"
   ]
  },
  {
   "cell_type": "code",
   "execution_count": 2,
   "metadata": {},
   "outputs": [
    {
     "name": "stdout",
     "output_type": "stream",
     "text": [
      "/Users/rebekahzhang/Documents/shuler_lab/behavior_data/cohort_3_v23/full_clean\n"
     ]
    }
   ],
   "source": [
    "cohort = 'cohort_3_v23'\n",
    "to_analyze = 'full_clean'\n",
    "data_dir = '/Users/rebekahzhang/Documents/shuler_lab/behavior_data'\n",
    "data_folder = os.path.join(data_dir, cohort, to_analyze)\n",
    "print(data_folder)"
   ]
  },
  {
   "attachments": {},
   "cell_type": "markdown",
   "metadata": {},
   "source": [
    "# Generate all session logs"
   ]
  },
  {
   "attachments": {},
   "cell_type": "markdown",
   "metadata": {},
   "source": [
    "generate session log using meta data from each session"
   ]
  },
  {
   "cell_type": "code",
   "execution_count": null,
   "metadata": {},
   "outputs": [],
   "source": [
    "session_log = helper.generate_all_session_log(data_folder)"
   ]
  },
  {
   "cell_type": "markdown",
   "metadata": {},
   "source": [
    "all columns of basic info for each session"
   ]
  },
  {
   "cell_type": "code",
   "execution_count": null,
   "metadata": {},
   "outputs": [],
   "source": [
    "session_basics_list = []\n",
    "for _, session_info in session_log.iterrows():\n",
    "    try:\n",
    "        session = utils.load_session(data_folder, session_info)\n",
    "        session_basics = {'dir': session_info.dir} | helper.get_session_basics(session)\n",
    "        session_basics_list.append(session_basics)\n",
    "    except:\n",
    "        print(session_info.dir)\n",
    "session_basics_df = pd.DataFrame(session_basics_list)\n",
    "session_log = pd.merge(session_log, session_basics_df, on='dir')"
   ]
  },
  {
   "attachments": {},
   "cell_type": "markdown",
   "metadata": {},
   "source": [
    "focus only on regular training sessions"
   ]
  },
  {
   "cell_type": "code",
   "execution_count": null,
   "metadata": {},
   "outputs": [],
   "source": [
    "training_session_log = session_log.loc[session_log.training == 'regular'].sort_values('dir').reset_index()"
   ]
  },
  {
   "attachments": {},
   "cell_type": "markdown",
   "metadata": {},
   "source": [
    "### Examine quality of sessions\n",
    "doesn't need to run when data folder is cleaned"
   ]
  },
  {
   "attachments": {},
   "cell_type": "markdown",
   "metadata": {},
   "source": [
    "check for short sessions"
   ]
  },
  {
   "cell_type": "code",
   "execution_count": null,
   "metadata": {},
   "outputs": [],
   "source": [
    "short_session = training_session_log.loc[(training_session_log['training'] == 'regular') & \n",
    "                                         (training_session_log['num_trials'] < 50)] \n",
    "display(short_session)"
   ]
  },
  {
   "attachments": {},
   "cell_type": "markdown",
   "metadata": {},
   "source": [
    "check for missing sessions by the number of sessions in each training day"
   ]
  },
  {
   "cell_type": "code",
   "execution_count": null,
   "metadata": {},
   "outputs": [],
   "source": [
    "num_mice = 8\n",
    "date_list = training_session_log.date.unique().tolist()\n",
    "for date in date_list:\n",
    "    data = training_session_log.loc[training_session_log['date'] == date]\n",
    "    if len(data) < num_mice:\n",
    "        print(date)"
   ]
  },
  {
   "cell_type": "markdown",
   "metadata": {},
   "source": [
    "check if mice ran correct experiments for each session"
   ]
  },
  {
   "cell_type": "code",
   "execution_count": null,
   "metadata": {},
   "outputs": [],
   "source": [
    "mouse_dict_pre = {'s': ['RZ018', 'RZ019', 'RZ022', 'RZ023'],\n",
    "                  'l': ['RZ020', 'RZ021', 'RZ024', 'RZ025']}\n",
    "mouse_dict_post = {'l': ['RZ018', 'RZ019', 'RZ022', 'RZ023'],\n",
    "                  's': ['RZ020', 'RZ021', 'RZ024', 'RZ025']}"
   ]
  },
  {
   "cell_type": "code",
   "execution_count": null,
   "metadata": {},
   "outputs": [],
   "source": [
    "pre_switch_log = training_session_log[training_session_log.date < '2023-10-05'].copy()\n",
    "post_switch_log = training_session_log[training_session_log.date >= '2023-10-05'].copy()"
   ]
  },
  {
   "cell_type": "code",
   "execution_count": null,
   "metadata": {},
   "outputs": [],
   "source": [
    "pre_switch_log['correct_exp'] = pre_switch_log.apply(lambda row: row['mouse'] in mouse_dict_pre.get(row['exp'], []), axis=1)\n",
    "incorrect_exp_df = pre_switch_log[~pre_switch_log['correct_exp']]\n",
    "if len(incorrect_exp_df) > 0:\n",
    "    display(incorrect_exp_df)\n",
    "else:\n",
    "    print('all correct!')"
   ]
  },
  {
   "cell_type": "code",
   "execution_count": null,
   "metadata": {},
   "outputs": [],
   "source": [
    "post_switch_log['correct_exp'] = post_switch_log.apply(lambda row: row['mouse'] in mouse_dict_post.get(row['exp'], []), axis=1)\n",
    "incorrect_exp_df = post_switch_log[~post_switch_log['correct_exp']]\n",
    "if len(incorrect_exp_df) > 0:\n",
    "    display(incorrect_exp_df)\n",
    "else:\n",
    "    print('all correct!')"
   ]
  },
  {
   "attachments": {},
   "cell_type": "markdown",
   "metadata": {},
   "source": [
    "make a copy of cleaned data before preceeding!"
   ]
  },
  {
   "attachments": {},
   "cell_type": "markdown",
   "metadata": {},
   "source": [
    "### Add training session number to training log"
   ]
  },
  {
   "cell_type": "code",
   "execution_count": null,
   "metadata": {},
   "outputs": [],
   "source": [
    "training_session_log = training_session_log.groupby('mouse', group_keys=False).apply(helper.assign_session_numbers)"
   ]
  },
  {
   "attachments": {},
   "cell_type": "markdown",
   "metadata": {},
   "source": [
    "### Saves all sessions log and training session log"
   ]
  },
  {
   "cell_type": "code",
   "execution_count": null,
   "metadata": {},
   "outputs": [],
   "source": [
    "utils.save_as_csv(df=session_log, folder=data_folder, filename='all_sessions.csv')\n",
    "utils.save_as_csv(df=training_session_log, folder=data_folder, filename='training_sessions.csv')"
   ]
  },
  {
   "attachments": {},
   "cell_type": "markdown",
   "metadata": {},
   "source": [
    "# Process raw session and generate all_trials"
   ]
  },
  {
   "attachments": {},
   "cell_type": "markdown",
   "metadata": {},
   "source": [
    "load session log"
   ]
  },
  {
   "cell_type": "code",
   "execution_count": null,
   "metadata": {},
   "outputs": [],
   "source": [
    "training_session_log = utils.load_session_log(data_folder, 'training_sessions.csv')"
   ]
  },
  {
   "cell_type": "markdown",
   "metadata": {},
   "source": [
    "### Generate all trials, align trial number, trial state, and trial time for raw session"
   ]
  },
  {
   "cell_type": "code",
   "execution_count": null,
   "metadata": {},
   "outputs": [],
   "source": [
    "for _, session_info in training_session_log.iterrows():\n",
    "    try: \n",
    "        processed_session_path = utils.generate_processed_session_path(data_folder, session_info)\n",
    "        all_trials_path = utils.generate_all_trials_path(data_folder, session_info)\n",
    "        if os.path.isfile(all_trials_path) and os.path.isfile(processed_session_path):\n",
    "            continue\n",
    "        \n",
    "        session = utils.load_session(data_folder, session_info)\n",
    "        # make all_trials\n",
    "        all_trials = helper.generate_all_trials(session_info, session)\n",
    "\n",
    "        # align trial number\n",
    "        session = helper.align_trial_number(session, all_trials)\n",
    "        session = utils.trim_session(session_info, session)\n",
    "\n",
    "        # align trial state\n",
    "        session = session.groupby('session_trial_num', group_keys=False).apply(helper.align_trial_states)\n",
    "        # add trial_time\n",
    "        session = session.groupby('session_trial_num', group_keys=False).apply(helper.add_trial_time)\n",
    "\n",
    "        session.to_csv(processed_session_path)\n",
    "        all_trials.to_csv(all_trials_path)\n",
    "    except:\n",
    "        display(session_info)"
   ]
  },
  {
   "attachments": {},
   "cell_type": "markdown",
   "metadata": {},
   "source": [
    "### Adding analyzed trial data to all trials df"
   ]
  },
  {
   "cell_type": "code",
   "execution_count": null,
   "metadata": {},
   "outputs": [],
   "source": [
    "for _, session_info in training_session_log.iterrows():\n",
    "    all_trials_analyzed_path = utils.generate_all_trials_analyzed_path(data_folder, session_info)\n",
    "    if os.path.isfile(all_trials_path) and os.path.isfile(processed_session_path):\n",
    "        continue\n",
    "    \n",
    "    session_by_trial = utils.load_processed_session(data_folder, session_info).groupby('session_trial_num')\n",
    "    all_trials = utils.load_all_trials(data_folder, session_info)\n",
    "    all_trials_data = helper.get_trial_data_df(session_by_trial)\n",
    "    all_trials_analyzed = pd.merge(all_trials, all_trials_data, on='session_trial_num')\n",
    "    all_trials_analyzed.to_csv(all_trials_analyzed_path)"
   ]
  },
  {
   "cell_type": "markdown",
   "metadata": {},
   "source": [
    "# Combine sessions"
   ]
  },
  {
   "cell_type": "code",
   "execution_count": 3,
   "metadata": {},
   "outputs": [],
   "source": [
    "stitched_folder = os.path.join(data_dir, cohort, 'full_clean_stitched')\n",
    "stitched_all_mice_folder = os.path.join(data_dir, cohort, 'full_clean_stitched_all_mice')"
   ]
  },
  {
   "attachments": {},
   "cell_type": "markdown",
   "metadata": {},
   "source": [
    "## Stitch sessions from the same mouse on the same day"
   ]
  },
  {
   "cell_type": "markdown",
   "metadata": {},
   "source": [
    "load session log and generate lists for looping"
   ]
  },
  {
   "cell_type": "code",
   "execution_count": 46,
   "metadata": {},
   "outputs": [],
   "source": [
    "training_session_log = utils.load_session_log(data_folder, 'training_sessions.csv')"
   ]
  },
  {
   "cell_type": "markdown",
   "metadata": {},
   "source": [
    "makes the stitched session log with columns of date, mouse, dir, filename"
   ]
  },
  {
   "cell_type": "code",
   "execution_count": 58,
   "metadata": {},
   "outputs": [],
   "source": [
    "stitched_session_log = helper.generate_stitched_session_log(training_session_log)"
   ]
  },
  {
   "cell_type": "markdown",
   "metadata": {},
   "source": [
    "### Stitch!"
   ]
  },
  {
   "cell_type": "markdown",
   "metadata": {},
   "source": [
    "creates empty directories in the stitched folder"
   ]
  },
  {
   "cell_type": "code",
   "execution_count": 48,
   "metadata": {},
   "outputs": [],
   "source": [
    "for d in stitched_session_log.dir:\n",
    "    new_dir = os.path.join(stitched_folder, d)\n",
    "    if not os.path.exists(new_dir):\n",
    "        os.makedirs(new_dir)"
   ]
  },
  {
   "cell_type": "markdown",
   "metadata": {},
   "source": [
    "loop through each day and each mouse to stitch processed_session and all_trials_analyzed"
   ]
  },
  {
   "cell_type": "code",
   "execution_count": 49,
   "metadata": {},
   "outputs": [],
   "source": [
    "training_session_log = training_session_log.sort_values(by = ['dir'])\n",
    "log_by_date = training_session_log.groupby('date')"
   ]
  },
  {
   "cell_type": "code",
   "execution_count": 50,
   "metadata": {},
   "outputs": [],
   "source": [
    "for d, date in log_by_date:\n",
    "    date_log_by_mouse = date.groupby('mouse')\n",
    "    for m, mouse in date_log_by_mouse:\n",
    "        num_sessions = len(mouse)\n",
    "        session_info = mouse.iloc[0]\n",
    "        stitched_session = utils.load_processed_session(data_folder, session_info)\n",
    "        stitched_all_trials = utils.load_all_trials_analyzed(data_folder, session_info)\n",
    "\n",
    "        for i in range(1, num_sessions):\n",
    "            session_2 = utils.load_processed_session(data_folder, mouse.iloc[i])\n",
    "            all_trials_2 = utils.load_all_trials_analyzed(data_folder, mouse.iloc[i])\n",
    "\n",
    "            stitched_session = helper.stitch_sessions(stitched_session, session_2)\n",
    "            stitched_all_trials = helper.stitch_all_trials(stitched_all_trials, all_trials_2)\n",
    "        \n",
    "        stitched_session.to_csv(utils.generate_stitched_processed_session_path(stitched_folder, session_info))\n",
    "        stitched_all_trials.to_csv(utils.generate_stitched_all_trials_path(stitched_folder, session_info))"
   ]
  },
  {
   "cell_type": "markdown",
   "metadata": {},
   "source": [
    "### Add info to stitched sesscion log and save it"
   ]
  },
  {
   "cell_type": "code",
   "execution_count": 59,
   "metadata": {},
   "outputs": [],
   "source": [
    "stitched_session_basics_list = []\n",
    "for _, session_info in stitched_session_log.iterrows():\n",
    "    session = utils.load_stitched_processed_session(stitched_folder, session_info)\n",
    "    session_basics = {'dir': session_info.dir} | helper.get_session_basics(session)\n",
    "    stitched_session_basics_list.append(session_basics)\n",
    "stitched_session_basics = pd.DataFrame(stitched_session_basics_list)\n",
    "stitched_session_log = pd.merge(stitched_session_log, stitched_session_basics, on='dir')"
   ]
  },
  {
   "cell_type": "code",
   "execution_count": 61,
   "metadata": {},
   "outputs": [],
   "source": [
    "def assign_session_numbers(group):\n",
    "    group.sort_values(by=['mouse', 'date'], inplace=True)\n",
    "    group['session'] = list(range(len(group)))\n",
    "    return group"
   ]
  },
  {
   "cell_type": "code",
   "execution_count": 64,
   "metadata": {},
   "outputs": [],
   "source": [
    "stitched_session_log = stitched_session_log.groupby('mouse', group_keys=False).apply(assign_session_numbers)\n",
    "utils.save_as_csv(stitched_session_log, stitched_folder, 'stitched_training_session_log.csv')"
   ]
  },
  {
   "cell_type": "markdown",
   "metadata": {},
   "source": [
    "## Stitch all Sessions from the same day"
   ]
  },
  {
   "cell_type": "markdown",
   "metadata": {},
   "source": [
    "load stitched session log"
   ]
  },
  {
   "cell_type": "code",
   "execution_count": 11,
   "metadata": {},
   "outputs": [],
   "source": [
    "stitched_session_log = utils.load_session_log(stitched_folder, 'stitched_training_session_log.csv')"
   ]
  },
  {
   "cell_type": "markdown",
   "metadata": {},
   "source": [
    "generage stitched all mice log with columns of date, mouse, dir, filename"
   ]
  },
  {
   "cell_type": "code",
   "execution_count": 20,
   "metadata": {},
   "outputs": [],
   "source": [
    "stitched_all_mice_session_log = helper.generate_stitched_all_mice_session_log(stitched_session_log)"
   ]
  },
  {
   "cell_type": "markdown",
   "metadata": {},
   "source": [
    "### Stitch!"
   ]
  },
  {
   "cell_type": "markdown",
   "metadata": {},
   "source": [
    "creates empty directories in the stitched folder"
   ]
  },
  {
   "cell_type": "code",
   "execution_count": 23,
   "metadata": {},
   "outputs": [],
   "source": [
    "for date in stitched_all_mice_session_log.date:\n",
    "    new_dir = os.path.join(stitched_all_mice_folder, date)\n",
    "    if not os.path.exists(new_dir):\n",
    "        os.makedirs(new_dir)"
   ]
  },
  {
   "cell_type": "markdown",
   "metadata": {},
   "source": [
    "loop through each day to stitch processed_session and all_trials_analyzed from all mice"
   ]
  },
  {
   "cell_type": "code",
   "execution_count": 25,
   "metadata": {},
   "outputs": [],
   "source": [
    "log_by_date = stitched_session_log.groupby('date')"
   ]
  },
  {
   "cell_type": "code",
   "execution_count": 38,
   "metadata": {},
   "outputs": [],
   "source": [
    "for d, date in log_by_date:\n",
    "    num_mice = len(date)\n",
    "    session_info = date.iloc[0]\n",
    "    stitched_session = utils.load_stitched_processed_session(stitched_folder, session_info)\n",
    "    stitched_all_trials = utils.load_stitched_all_trials_analyzed(stitched_folder, session_info)\n",
    "\n",
    "    for i in range(1, num_mice):\n",
    "        session_2 = utils.load_stitched_processed_session(stitched_folder, date.iloc[i])\n",
    "        all_trials_2 = utils.load_stitched_all_trials_analyzed(stitched_folder, date.iloc[i])\n",
    "        stitched_session = helper.stitch_sessions(stitched_session, session_2)\n",
    "        stitched_all_trials = helper.stitch_all_trials(stitched_all_trials, all_trials_2)\n",
    "    \n",
    "    stitched_session.to_csv(utils.generate_stitched_all_mice_processed_session_path(stitched_all_mice_folder, session_info))\n",
    "    stitched_all_trials.to_csv(utils.generate_stitched_all_mice_all_trials_analyzed_path(stitched_all_mice_folder, session_info))"
   ]
  },
  {
   "cell_type": "markdown",
   "metadata": {},
   "source": [
    "### Add info to stitched sesscion log and save it"
   ]
  },
  {
   "cell_type": "code",
   "execution_count": 41,
   "metadata": {},
   "outputs": [],
   "source": [
    "stitched_session_basics_list = []\n",
    "for _, session_info in stitched_all_mice_session_log.iterrows():\n",
    "    session = utils.load_stitched_all_mice_processed_session(stitched_all_mice_folder, session_info)\n",
    "    session_basics = {'date': session_info.date} | helper.get_session_basics(session)\n",
    "    stitched_session_basics_list.append(session_basics)\n",
    "stitched_session_basics = pd.DataFrame(stitched_session_basics_list)\n",
    "stitched_session_log = pd.merge(stitched_all_mice_session_log, stitched_session_basics, on='date')"
   ]
  },
  {
   "cell_type": "code",
   "execution_count": 43,
   "metadata": {},
   "outputs": [],
   "source": [
    "total_days = len(stitched_all_mice_session_log)\n",
    "stitched_all_mice_session_log['days'] = list(range(total_days))"
   ]
  },
  {
   "cell_type": "code",
   "execution_count": 45,
   "metadata": {},
   "outputs": [],
   "source": [
    "utils.save_as_csv(stitched_all_mice_session_log, stitched_all_mice_folder, 'stitched_all_mice_training_session_log.csv')"
   ]
  }
 ],
 "metadata": {
  "kernelspec": {
   "display_name": "LUCKYCHARM",
   "language": "python",
   "name": "luckycharm"
  },
  "language_info": {
   "codemirror_mode": {
    "name": "ipython",
    "version": 3
   },
   "file_extension": ".py",
   "mimetype": "text/x-python",
   "name": "python",
   "nbconvert_exporter": "python",
   "pygments_lexer": "ipython3",
   "version": "3.10.6"
  },
  "orig_nbformat": 4
 },
 "nbformat": 4,
 "nbformat_minor": 2
}
