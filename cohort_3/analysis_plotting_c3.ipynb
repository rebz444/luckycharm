{
 "cells": [
  {
   "cell_type": "code",
   "execution_count": 1,
   "metadata": {},
   "outputs": [],
   "source": [
    "import os\n",
    "\n",
    "import analysis_plotting_helper_functions_v3 as helper\n",
    "import analysis_utils as utils\n",
    "\n",
    "import pandas as pd\n",
    "import matplotlib.pyplot as plt\n",
    "import seaborn as sns\n"
   ]
  },
  {
   "cell_type": "code",
   "execution_count": 2,
   "metadata": {},
   "outputs": [],
   "source": [
    "colors = [\"#fd7f6f\", \"#7eb0d5\", \"#b2e061\", \"#bd7ebe\", \"#ffb55a\", \"#ffee65\", \n",
    "          \"#beb9db\", \"#fdcce5\", \"#8bd3c7\"]\n",
    "continuous_colors = [\"#54bebe\", \"#76c8c8\", \"#98d1d1\", \"#badbdb\", \"#dedad2\", \n",
    "                     \"#e4bcad\", \"#df979e\", \"#d7658b\", \"#c80064\"]"
   ]
  },
  {
   "cell_type": "code",
   "execution_count": 3,
   "metadata": {},
   "outputs": [
    {
     "name": "stdout",
     "output_type": "stream",
     "text": [
      "/Users/rebekahzhang/Documents/shuler_lab/behavior_data/cohort_2_v2/full_clean\n"
     ]
    }
   ],
   "source": [
    "cohort = 'cohort_2_v2'\n",
    "to_analyze = 'full_clean'\n",
    "data_dir = '/Users/rebekahzhang/Documents/shuler_lab/behavior_data'\n",
    "data_folder = os.path.join(data_dir, cohort, to_analyze)\n",
    "print(data_folder)"
   ]
  },
  {
   "attachments": {},
   "cell_type": "markdown",
   "metadata": {},
   "source": [
    "# Session based plotting"
   ]
  },
  {
   "attachments": {},
   "cell_type": "markdown",
   "metadata": {},
   "source": [
    "## load session log"
   ]
  },
  {
   "cell_type": "code",
   "execution_count": 4,
   "metadata": {},
   "outputs": [],
   "source": [
    "training_session_log = utils.load_session_log(data_folder, 'training_sessions.csv')"
   ]
  },
  {
   "attachments": {},
   "cell_type": "markdown",
   "metadata": {},
   "source": [
    "make mouse list"
   ]
  },
  {
   "cell_type": "code",
   "execution_count": 5,
   "metadata": {},
   "outputs": [
    {
     "name": "stdout",
     "output_type": "stream",
     "text": [
      "['RZ012', 'RZ013', 'RZ015', 'RZ016', 'RZ017']\n"
     ]
    }
   ],
   "source": [
    "mouse_list = utils.generate_mouse_list(training_session_log)"
   ]
  },
  {
   "attachments": {},
   "cell_type": "markdown",
   "metadata": {},
   "source": [
    "plot across training days with each mouse as a line"
   ]
  },
  {
   "cell_type": "code",
   "execution_count": 6,
   "metadata": {},
   "outputs": [],
   "source": [
    "def plot_each_mouse_per_line(mouse_list, data_df, column_name, plot_name, title, x_label, y_label):\n",
    "    fig = plt.figure()\n",
    "    for i, mouse in enumerate(mouse_list):\n",
    "        session_mouse = data_df.loc[data_df.mouse == mouse]\n",
    "        plt.plot(session_mouse.days, session_mouse[column_name], color=colors[i], label=mouse)\n",
    "    plt.title(title)\n",
    "    plt.xlabel(x_label)\n",
    "    plt.ylabel(y_label)\n",
    "    plt.legend(bbox_to_anchor=(1, 1), loc=\"upper left\")\n",
    "    fig.savefig(f'{plot_name}.png', bbox_inches='tight')"
   ]
  },
  {
   "attachments": {},
   "cell_type": "markdown",
   "metadata": {},
   "source": [
    "## Plot type of trials per session"
   ]
  },
  {
   "attachments": {},
   "cell_type": "markdown",
   "metadata": {},
   "source": [
    "Calculate proportions of trials types and generate trial type df"
   ]
  },
  {
   "cell_type": "code",
   "execution_count": null,
   "metadata": {},
   "outputs": [],
   "source": [
    "def generate_trial_type_df(training_session_log):\n",
    "    for dir_name in training_session_log.dir:\n",
    "        all_trials = utils.load_all_trials_analyzed(data_folder, dir_name)\n",
    "        session_performance = helper.get_session_performance(all_trials)\n",
    "        training_session_log.loc[training_session_log.dir == dir_name, \n",
    "                                 ['miss_trials', 'good_trials']] = session_performance\n",
    "    trial_type_df = training_session_log[['mouse', 'days', 'num_trials', 'miss_trials', 'good_trials']].copy()\n",
    "    trial_type_df['p_miss'] = trial_type_df.miss_trials/trial_type_df.num_trials\n",
    "    trial_type_df['p_good'] = trial_type_df.good_trials/trial_type_df.num_trials\n",
    "    trial_type_df['p_accident'] = 1 - trial_type_df.p_good - trial_type_df.p_miss \n",
    "    return trial_type_df"
   ]
  },
  {
   "cell_type": "code",
   "execution_count": null,
   "metadata": {},
   "outputs": [],
   "source": [
    "trial_type_df = generate_trial_type_df(training_session_log)"
   ]
  },
  {
   "cell_type": "code",
   "execution_count": null,
   "metadata": {},
   "outputs": [],
   "source": [
    "# ploting the proportion of good trials, miss trials, and enl trials per session\n",
    "fig, axs = plt.subplots(2, 3, figsize=(14, 10))  # 2 rows, 3 columns\n",
    "\n",
    "# Loop through the mouse list and plot data for each mouse in a subplot\n",
    "for i, mouse in enumerate(mouse_list):\n",
    "    session_mouse = trial_type_df.loc[trial_type_df.mouse == mouse]\n",
    "    to_plot = session_mouse.loc[:, ['days', 'p_good', 'p_miss', 'p_accident']]\n",
    "    ax = axs.flat[i]\n",
    "    to_plot.plot.bar(x='days', stacked=True, color=colors[0:3], ax=ax, legend=None)\n",
    "    ax.set_title(mouse)\n",
    "    if i == 0 or i == 3:\n",
    "        ax.set_ylabel('Normalized Proportion')\n",
    "    ax.plot(to_plot.days, to_plot.p_good, color='k', linewidth=1.5)\n",
    "\n",
    "handles, labels = ax.get_legend_handles_labels()\n",
    "fig.legend(handles, labels, loc='upper right', bbox_to_anchor=(1.1, 1))\n",
    "\n",
    "plt.delaxes(axs.flat[-1])\n",
    "\n",
    "plt.tight_layout()\n",
    "plt.savefig('engagement_plots.png', bbox_inches='tight')\n",
    "plt.show()"
   ]
  },
  {
   "cell_type": "code",
   "execution_count": null,
   "metadata": {},
   "outputs": [],
   "source": [
    "# plot the proportion of good trials\n",
    "plot_each_mouse_per_line(mouse_list, \n",
    "                         data_df=trial_type_df, \n",
    "                         column_name='p_good', \n",
    "                         plot_name=\"%_good_trials\", \n",
    "                         title='Proportion of Good Trials',\n",
    "                         x_label='Days in Training', \n",
    "                         y_label='Proportion')"
   ]
  },
  {
   "cell_type": "code",
   "execution_count": null,
   "metadata": {},
   "outputs": [],
   "source": [
    "# plot the proportion of miss trials\n",
    "plot_each_mouse_per_line(mouse_list, \n",
    "                         data_df=trial_type_df, \n",
    "                         column_name='p_miss', \n",
    "                         plot_name=\"%_miss_trials\",\n",
    "                         title='Proportion of Missed Trials', \n",
    "                         x_label='Days in Training', \n",
    "                         y_label='Proportion')"
   ]
  },
  {
   "cell_type": "code",
   "execution_count": null,
   "metadata": {},
   "outputs": [],
   "source": [
    "# plot the proportion of accident trials\n",
    "plot_each_mouse_per_line(mouse_list, \n",
    "                         data_df=trial_type_df, \n",
    "                         column_name='p_accident', \n",
    "                         plot_name=\"%_accident_trials\", \n",
    "                         title='Proportion of Accident Trials',\n",
    "                         x_label='Days in Training', \n",
    "                         y_label='Proportion')"
   ]
  },
  {
   "attachments": {},
   "cell_type": "markdown",
   "metadata": {},
   "source": [
    "## Plot rewards per session"
   ]
  },
  {
   "cell_type": "code",
   "execution_count": 12,
   "metadata": {},
   "outputs": [],
   "source": [
    "training_session_log['reward_rate'] = training_session_log.rewards/training_session_log.time"
   ]
  },
  {
   "cell_type": "code",
   "execution_count": 7,
   "metadata": {},
   "outputs": [],
   "source": [
    "training_session_log['reward_per_trial'] = training_session_log.rewards/training_session_log.num_trials"
   ]
  },
  {
   "cell_type": "code",
   "execution_count": 8,
   "metadata": {},
   "outputs": [
    {
     "data": {
      "image/png": "[encoded data removed]",
      "text/plain": [
       "<Figure size 432x288 with 1 Axes>"
      ]
     },
     "metadata": {
      "needs_background": "light"
     },
     "output_type": "display_data"
    }
   ],
   "source": [
    "# plot the reward rize\n",
    "plot_each_mouse_per_line(mouse_list, \n",
    "                         data_df=training_session_log, \n",
    "                         column_name='reward_per_trial', \n",
    "                         plot_name=\"reward_size\",\n",
    "                         title='Reward Size', \n",
    "                         x_label='Days in Training', \n",
    "                         y_label='Reward Rate (ul/s)')"
   ]
  },
  {
   "cell_type": "code",
   "execution_count": 13,
   "metadata": {},
   "outputs": [
    {
     "data": {
      "image/png": "[encoded data removed]",
      "text/plain": [
       "<Figure size 432x288 with 1 Axes>"
      ]
     },
     "metadata": {
      "needs_background": "light"
     },
     "output_type": "display_data"
    }
   ],
   "source": [
    "# plot the reward rate\n",
    "plot_each_mouse_per_line(mouse_list, \n",
    "                         data_df=training_session_log, \n",
    "                         column_name='reward_rate', \n",
    "                         plot_name=\"reward_rate\",\n",
    "                         title='Reward Rate', \n",
    "                         x_label='Days in Training', \n",
    "                         y_label='Reward Rate (ul/s)')"
   ]
  },
  {
   "cell_type": "code",
   "execution_count": null,
   "metadata": {},
   "outputs": [],
   "source": [
    "# plot the session length\n",
    "plot_each_mouse_per_line(mouse_list, \n",
    "                         data_df=training_session_log, \n",
    "                         column_name='time', \n",
    "                         plot_name=\"session_length\", \n",
    "                         title='Session Length',\n",
    "                         x_label='Days in Training', \n",
    "                         y_label='Time (s)')"
   ]
  },
  {
   "cell_type": "code",
   "execution_count": null,
   "metadata": {},
   "outputs": [],
   "source": [
    "# plot the reward rate\n",
    "plot_each_mouse_per_line(mouse_list, \n",
    "                         data_df=training_session_log, \n",
    "                         column_name='num_trials', \n",
    "                         plot_name=\"num_trials\", \n",
    "                         title='Trials Completed',\n",
    "                         x_label='Days in Training', \n",
    "                         y_label='Count')"
   ]
  },
  {
   "attachments": {},
   "cell_type": "markdown",
   "metadata": {},
   "source": [
    "## Plot time wait behavior"
   ]
  },
  {
   "cell_type": "code",
   "execution_count": 9,
   "metadata": {},
   "outputs": [],
   "source": [
    "def generate_wait_df(training_session_log):\n",
    "    wait_df = training_session_log[['mouse', 'days', 'dir']].copy()\n",
    "\n",
    "    for dir_name in training_session_log.dir:\n",
    "        all_trials = utils.load_all_trials_analyzed(data_folder, dir_name)\n",
    "        # time waited for all trials\n",
    "        session_tw = helper.get_session_tw(all_trials)\n",
    "        wait_df.loc[wait_df.dir == dir_name, \n",
    "                                ['tw_mean', 'tw_median', 'tw_stdev']] = session_tw\n",
    "        # time waited for long and short blocks\n",
    "        block_tw = helper.get_block_tw(all_trials)\n",
    "        wait_df.loc[wait_df.dir == dir_name, \n",
    "                                ['tw_l_mean', 'tw_l_median', 'tw_l_stdev',\n",
    "                                'tw_s_mean', 'tw_s_median','tw_s_stdev']] = block_tw\n",
    "\n",
    "        good_trials = utils.select_good_trials(all_trials)\n",
    "         # time waited for good trials\n",
    "        session_tw_g = helper.get_session_tw(good_trials)\n",
    "        wait_df.loc[wait_df.dir == dir_name, \n",
    "                                ['tw_mean_g', 'tw_median_g', 'tw_stdev_g']] = session_tw_g\n",
    "        block_tw_g = helper.get_block_tw(good_trials)\n",
    "        wait_df.loc[wait_df.dir == dir_name, \n",
    "                                ['tw_l_mean_g', 'tw_l_median_g', 'tw_l_stdev_g',\n",
    "                                'tw_s_mean_g', 'tw_s_median_g','tw_s_stdev_g']] = block_tw_g\n",
    "\n",
    "    wait_df['tw_diff'] = wait_df['tw_l_mean'] - wait_df['tw_s_mean']\n",
    "    wait_df['tw_diff_g'] = wait_df['tw_l_mean_g'] - wait_df['tw_s_mean_g']\n",
    "    return wait_df"
   ]
  },
  {
   "cell_type": "code",
   "execution_count": 10,
   "metadata": {},
   "outputs": [],
   "source": [
    "wait_df = generate_wait_df(training_session_log)"
   ]
  },
  {
   "cell_type": "code",
   "execution_count": 11,
   "metadata": {},
   "outputs": [
    {
     "data": {
      "image/png": "[encoded data removed]",
      "text/plain": [
       "<Figure size 432x288 with 1 Axes>"
      ]
     },
     "metadata": {
      "needs_background": "light"
     },
     "output_type": "display_data"
    }
   ],
   "source": [
    "# plot the time waited over days. \n",
    "plot_each_mouse_per_line(mouse_list, \n",
    "                         data_df=wait_df, \n",
    "                         column_name='tw_mean', \n",
    "                         plot_name=\"tw_mean\", \n",
    "                         title='Time Waited',\n",
    "                         x_label='Days in Training', \n",
    "                         y_label='Time (s)')"
   ]
  },
  {
   "cell_type": "code",
   "execution_count": null,
   "metadata": {},
   "outputs": [],
   "source": [
    "# plot the time waited over days good trials only. \n",
    "plot_each_mouse_per_line(mouse_list, \n",
    "                         data_df=wait_df, \n",
    "                         column_name='tw_mean_g', \n",
    "                         plot_name=\"tw_mean_g\", \n",
    "                         title='Time Waited (Good Trials Only)',\n",
    "                         x_label='Days in Training', \n",
    "                         y_label='Time (s)')"
   ]
  },
  {
   "cell_type": "code",
   "execution_count": null,
   "metadata": {},
   "outputs": [],
   "source": [
    "# plot the difference in time waited bewteen long and short blocks over days. \n",
    "plot_each_mouse_per_line(mouse_list, \n",
    "                         data_df=wait_df, \n",
    "                         column_name='tw_diff', \n",
    "                         plot_name=\"tw_diff\", \n",
    "                         title='Difference in Time Waited',\n",
    "                         x_label='Days in Training', \n",
    "                         y_label='Time (s)')"
   ]
  },
  {
   "cell_type": "code",
   "execution_count": null,
   "metadata": {},
   "outputs": [],
   "source": [
    "# plot the difference in time waited bewteen long and short blocks over days. good trials only\n",
    "plot_each_mouse_per_line(mouse_list, \n",
    "                         data_df=wait_df, \n",
    "                         column_name='tw_diff_g', \n",
    "                         plot_name=\"tw_diff_g\", \n",
    "                         title='Difference in Time Waited (Good Trials Only)',\n",
    "                         x_label='Days in Training', \n",
    "                         y_label='Time (s)')"
   ]
  },
  {
   "cell_type": "code",
   "execution_count": null,
   "metadata": {},
   "outputs": [],
   "source": [
    "def generate_linear_fit_df(training_session_log):\n",
    "    linear_fit_df = training_session_log[['mouse', 'days', 'dir']].copy()\n",
    "    for dir_name in training_session_log.dir:\n",
    "        all_trials = utils.load_all_trials_analyzed(data_folder, dir_name)\n",
    "        all_trials = all_trials[all_trials['time_waited'].notna()]\n",
    "        fit_data = utils.linear_fit(all_trials, 'bg_length', 'time_waited')\n",
    "        linear_fit_df.loc[linear_fit_df.dir == dir_name, \n",
    "                                ['slope', 'intercept', 'rsquared']] = fit_data\n",
    "    return linear_fit_df\n"
   ]
  },
  {
   "cell_type": "code",
   "execution_count": null,
   "metadata": {},
   "outputs": [],
   "source": [
    "linear_fit_df = generate_linear_fit_df(training_session_log)"
   ]
  },
  {
   "cell_type": "code",
   "execution_count": null,
   "metadata": {},
   "outputs": [],
   "source": [
    "# plot the difference in time waited bewteen long and short blocks over days. good trials only\n",
    "plot_each_mouse_per_line(mouse_list, \n",
    "                         data_df=linear_fit_df, \n",
    "                         column_name='slope', \n",
    "                         plot_name=\"tb_tw_correlation\", \n",
    "                         title='Correlation between Background Length and Time Waited',\n",
    "                         x_label='Days in Training', \n",
    "                         y_label=' ')"
   ]
  },
  {
   "cell_type": "code",
   "execution_count": null,
   "metadata": {},
   "outputs": [],
   "source": [
    "fig = plt.figure()\n",
    "sns.pointplot(x=\"days\", \n",
    "              y=\"slope\", \n",
    "              errorbar='sd', \n",
    "              data=linear_fit_df)\n",
    "fig.savefig('tb_tw_correlation_all_mice.png', bbox_inches='tight')"
   ]
  },
  {
   "cell_type": "code",
   "execution_count": null,
   "metadata": {},
   "outputs": [],
   "source": [
    "fig = plt.figure()\n",
    "sns.pointplot(x=\"days\", \n",
    "              y=\"rsquared\", \n",
    "              errorbar='sd', \n",
    "              data=linear_fit_df)\n",
    "fig.savefig('tb_tw_rsquared_all_mice.png', bbox_inches='tight')"
   ]
  },
  {
   "cell_type": "code",
   "execution_count": null,
   "metadata": {},
   "outputs": [],
   "source": [
    "fig = plt.figure()\n",
    "for i, mouse in enumerate(mouse_list):\n",
    "    session_mouse = linear_fit_df.loc[linear_fit_df.mouse == mouse]\n",
    "    plt.plot(session_mouse.days, session_mouse.rsquared, color=colors[i], \n",
    "             label=mouse)\n",
    "\n",
    "plt.xlabel('Days in Training')\n",
    "# plt.ylabel('Time (s)')\n",
    "plt.title('R Squared of Correlation between Background Length and Time Waited')\n",
    "plt.legend(bbox_to_anchor=(1, 1), loc=\"upper left\")\n",
    "# plt.xlim([0, 11])\n",
    "# plt.ylim([0, 0.4])\n",
    "fig.savefig('tb_tw_correlation_rsuqared.png', bbox_inches='tight')"
   ]
  },
  {
   "cell_type": "code",
   "execution_count": null,
   "metadata": {},
   "outputs": [],
   "source": [
    "# Create a figure with six subplots\n",
    "fig, axs = plt.subplots(2, 3, figsize=(14, 10))  # 2 rows, 3 columns\n",
    "\n",
    "# Loop through the mouse list and plot data for each mouse in a subplot\n",
    "for i, mouse in enumerate(mouse_list):\n",
    "    session_mouse = wait_df_copy.loc[wait_df_copy.mouse == mouse]\n",
    "    ax = axs.flat[i]\n",
    "    ax.errorbar(session_mouse.days, session_mouse.tw_mean, session_mouse.tw_stdev, \n",
    "                linestyle='None', marker='o', color=colors[0], label='mean')\n",
    "    ax.scatter(session_mouse.days, session_mouse.tw_median, color=colors[1], \n",
    "               label='median')\n",
    "    ax.set_title(mouse)\n",
    "    ax.set_xlabel('Days in Training')\n",
    "    ax.set_ylabel('Time Waited (s)')\n",
    "\n",
    "# Extract the legend from the first subplot\n",
    "handles, labels = axs[0, 0].get_legend_handles_labels()\n",
    "\n",
    "# Set the figure legend outside the loop\n",
    "fig.legend(handles, labels, loc='upper right', bbox_to_anchor=(1.1, 1))\n",
    "\n",
    "# Adjust the spacing between subplots\n",
    "plt.tight_layout()\n",
    "\n",
    "# Save the figure with proper spacing around the subplots\n",
    "plt.savefig('tw_plots.png', bbox_inches='tight', dpi=300)\n",
    "\n",
    "# Show the plot (optional)\n",
    "plt.show()"
   ]
  },
  {
   "cell_type": "code",
   "execution_count": null,
   "metadata": {},
   "outputs": [],
   "source": [
    "# plot percent mean time waited in session. each mouse is a line.\n",
    "fig = plt.figure()\n",
    "for i, mouse in enumerate(mouse_list):\n",
    "    session_mouse = wait_df_copy.loc[wait_df_copy.mouse == mouse]\n",
    "    plt.plot(session_mouse.days, session_mouse.tw_mean, color=colors[i], label=mouse)\n",
    "\n",
    "plt.xlabel('Days in Training')\n",
    "plt.ylabel('Mean Time Waited (s)')\n",
    "plt.legend(loc='upper right')\n",
    "plt.savefig(f'tw_all_mice', bbox_inches='tight')"
   ]
  },
  {
   "cell_type": "code",
   "execution_count": null,
   "metadata": {},
   "outputs": [],
   "source": [
    "for dir_name in training_session_log.dir:\n",
    "    all_trials = utils.load_all_trials_analyzed(data_folder, dir_name)\n",
    "    good_trials = utils.select_good_trials(all_trials)\n",
    "    session_time_waited = helper.get_session_time_waited(good_trials)\n",
    "    wait_df_copy.loc[wait_df_copy.dir == dir_name, \n",
    "                     ['tw_good_mean', 'tw_good_median', 'tw_good_stdev']] = session_time_waited"
   ]
  },
  {
   "cell_type": "code",
   "execution_count": null,
   "metadata": {},
   "outputs": [],
   "source": [
    "# Create a figure with six subplots\n",
    "fig, axs = plt.subplots(2, 3, figsize=(14, 10))  # 2 rows, 3 columns\n",
    "\n",
    "# Loop through the mouse list and plot data for each mouse in a subplot\n",
    "for i, mouse in enumerate(mouse_list):\n",
    "    session_mouse = wait_df_copy.loc[wait_df_copy.mouse == mouse]\n",
    "    ax = axs.flat[i]\n",
    "    ax.errorbar(session_mouse.days, session_mouse.tw_good_mean, session_mouse.tw_good_stdev, \n",
    "                linestyle='None', marker='o', color=colors[0], label='mean')\n",
    "    ax.scatter(session_mouse.days, session_mouse.tw_good_median, color=colors[1], \n",
    "               label='median')\n",
    "    ax.set_title(mouse)\n",
    "    ax.set_xlabel('Days in Training')\n",
    "    ax.set_ylabel('Time Waited (s)')\n",
    "\n",
    "# Extract the legend from the first subplot\n",
    "handles, labels = axs[0, 0].get_legend_handles_labels()\n",
    "\n",
    "# Set the figure legend outside the loop\n",
    "fig.legend(handles, labels, loc='upper right', bbox_to_anchor=(1.09, 1))\n",
    "\n",
    "# Adjust the spacing between subplots\n",
    "plt.tight_layout()\n",
    "\n",
    "# Save the figure with proper spacing around the subplots\n",
    "plt.savefig('tw_good_plots.png', bbox_inches='tight', dpi=300)\n",
    "\n",
    "# Show the plot (optional)\n",
    "plt.show()"
   ]
  },
  {
   "cell_type": "code",
   "execution_count": null,
   "metadata": {},
   "outputs": [],
   "source": [
    "for mouse in mouse_list:\n",
    "    session_mouse = training_session_log.loc[training_session_log.mouse == mouse]\n",
    "    days_trained = len(session_mouse)\n",
    "\n",
    "    # Calculate the number of rows and columns for the subplot grid\n",
    "    num_rows = (days_trained - 1) // 5 + 1\n",
    "    num_cols = min(days_trained, 5)\n",
    "\n",
    "    fig, axs = plt.subplots(num_rows, num_cols, figsize=(14, 2.5 * num_rows))\n",
    "\n",
    "    for i, (dir_name, day) in enumerate(zip(session_mouse.dir, session_mouse.days)):\n",
    "        all_trials = utils.load_all_trials_analyzed(data_folder, dir_name)\n",
    "        row_idx = i // num_cols\n",
    "        col_idx = i % num_cols\n",
    "        ax = axs[row_idx, col_idx]\n",
    "        \n",
    "        custom_palette = {'l': colors[1], 's': colors[0]}\n",
    "        \n",
    "        sns.scatterplot(x=\"session_trial_num\",\n",
    "                        y=\"time_waited\",\n",
    "                        hue=\"blk_type\",\n",
    "                        data=all_trials,\n",
    "                        palette=custom_palette,\n",
    "                        ax=axs.flat[i])\n",
    "        ax.set_title(f'Day {day}')\n",
    "        ax.set_ylim([0, 10])\n",
    "\n",
    "    handles, labels = axs[0, 0].get_legend_handles_labels()\n",
    "    fig.legend(handles, labels, loc='upper right', bbox_to_anchor=(1.05, 1))\n",
    "    \n",
    "    # Remove any unused subplots\n",
    "    if i + 1 < num_rows * num_cols:\n",
    "        for j in range(i + 1, num_rows * num_cols):\n",
    "            axs.flat[j].axis('off')\n",
    "    \n",
    "    for i in range(days_trained):\n",
    "        ax = axs.flat[i]\n",
    "        ax.get_legend().remove()\n",
    "\n",
    "    # Adjust the spacing between subplots\n",
    "    plt.tight_layout()\n",
    "\n",
    "    # Save the figure with proper spacing around the subplots\n",
    "    plt.savefig(f'trial_num_vs_tw_{mouse}.png', bbox_inches='tight', dpi=300)"
   ]
  },
  {
   "cell_type": "code",
   "execution_count": null,
   "metadata": {},
   "outputs": [],
   "source": [
    "for mouse in mouse_list:\n",
    "    session_mouse = training_session_log.loc[training_session_log.mouse == mouse]\n",
    "    days_trained = len(session_mouse)\n",
    "\n",
    "    # Calculate the number of rows and columns for the subplot grid\n",
    "    num_rows = (days_trained - 1) // 5 + 1\n",
    "    num_cols = min(days_trained, 5)\n",
    "\n",
    "    fig, axs = plt.subplots(num_rows, num_cols, figsize=(14, 2.5 * num_rows))\n",
    "\n",
    "    for i, (dir_name, day) in enumerate(zip(session_mouse.dir, session_mouse.days)):\n",
    "        all_trials = utils.load_all_trials_analyzed(data_folder, dir_name)\n",
    "        row_idx = i // num_cols\n",
    "        col_idx = i % num_cols\n",
    "        ax = axs[row_idx, col_idx]\n",
    "        \n",
    "        custom_palette = {0: continuous_colors[0], 1: continuous_colors[1], \n",
    "                          2: continuous_colors[2], 3: continuous_colors[3],\n",
    "                          4: continuous_colors[4], 5: continuous_colors[5], \n",
    "                          6: continuous_colors[6], 7: continuous_colors[7]}\n",
    "        \n",
    "        sns.scatterplot(x=\"bg_length\",\n",
    "                        y=\"time_waited\",\n",
    "                        hue=\"block_num\",\n",
    "                        data=all_trials,\n",
    "                        palette=custom_palette,\n",
    "                        ax=axs.flat[i])\n",
    "        ax.set_title(f'Day {day}')\n",
    "        ax.set_xlim([0, 4])\n",
    "        handles, labels = ax.get_legend_handles_labels()\n",
    "    \n",
    "    fig.legend(handles, labels, loc='upper right', bbox_to_anchor=(1.05, 1))\n",
    "    \n",
    "    # Remove any unused subplots\n",
    "    if i + 1 < num_rows * num_cols:\n",
    "        for j in range(i + 1, num_rows * num_cols):\n",
    "            axs.flat[j].axis('off')\n",
    "    \n",
    "    for i in range(days_trained):\n",
    "        ax = axs.flat[i]\n",
    "        ax.get_legend().remove()\n",
    "\n",
    "    # Adjust the spacing between subplots\n",
    "    plt.tight_layout()\n",
    "\n",
    "    # Save the figure with proper spacing around the subplots\n",
    "    plt.savefig(f'bg_vs_tw_blk_{mouse}.png', bbox_inches='tight', dpi=300)\n"
   ]
  },
  {
   "cell_type": "code",
   "execution_count": null,
   "metadata": {},
   "outputs": [],
   "source": [
    "for mouse in mouse_list:\n",
    "    session_mouse = training_session_log.loc[training_session_log.mouse == mouse]\n",
    "    days_trained = len(session_mouse)\n",
    "\n",
    "    # Calculate the number of rows and columns for the subplot grid\n",
    "    num_rows = (days_trained - 1) // 5 + 1\n",
    "    num_cols = min(days_trained, 5)\n",
    "\n",
    "    fig, axs = plt.subplots(num_rows, num_cols, figsize=(14, 2.5 * num_rows))\n",
    "\n",
    "    for i, (dir_name, day) in enumerate(zip(session_mouse.dir, session_mouse.days)):\n",
    "        all_trials = utils.load_all_trials_analyzed(data_folder, dir_name)\n",
    "        row_idx = i // num_cols\n",
    "        col_idx = i % num_cols\n",
    "        ax = axs[row_idx, col_idx]\n",
    "        \n",
    "        custom_palette = {'l': colors[0], 's': colors[1]}\n",
    "        \n",
    "        sns.pointplot(x=\"block_num\",\n",
    "                        y=\"time_waited\",\n",
    "                        errorbar='sd',\n",
    "                        hue=\"blk_type\",\n",
    "                        data=all_trials,\n",
    "                        palette=custom_palette,\n",
    "                        ax=axs.flat[i])\n",
    "        ax.set_title(f'Day {day}')\n",
    "\n",
    "    handles, labels = axs[0, 0].get_legend_handles_labels()\n",
    "    fig.legend(handles, labels, loc='upper right', bbox_to_anchor=(1.05, 1))\n",
    "    \n",
    "    # Remove any unused subplots\n",
    "    if i + 1 < num_rows * num_cols:\n",
    "        for j in range(i + 1, num_rows * num_cols):\n",
    "            axs.flat[j].axis('off')\n",
    "    \n",
    "    for i in range(days_trained):\n",
    "        ax = axs.flat[i]\n",
    "        ax.get_legend().remove()\n",
    "\n",
    "    # Adjust the spacing between subplots\n",
    "    plt.tight_layout()\n",
    "\n",
    "    # Save the figure with proper spacing around the subplots\n",
    "    plt.savefig(f'trial_num_vs_tw_pointplot_{mouse}.png', bbox_inches='tight', dpi=300)"
   ]
  },
  {
   "attachments": {},
   "cell_type": "markdown",
   "metadata": {},
   "source": [
    "# Block based plotting"
   ]
  },
  {
   "cell_type": "code",
   "execution_count": null,
   "metadata": {},
   "outputs": [],
   "source": [
    "def load_all_blocks(data_folder, dir_name):\n",
    "    filename = f'{dir_name}_all_blocks.csv'\n",
    "    path = os.path.join(data_folder, dir_name, filename)\n",
    "    all_blocks_df = pd.read_csv(path)\n",
    "    return all_blocks_df"
   ]
  },
  {
   "cell_type": "code",
   "execution_count": null,
   "metadata": {},
   "outputs": [],
   "source": [
    "def get_session_performance(all_trials):\n",
    "    num_miss_trials = all_trials.miss_trial.sum()\n",
    "    good_trials = all_trials.loc[(all_trials['miss_trial'] == False) & (all_trials['enl_repeats'] == 1)]\n",
    "    num_good_trials = len(good_trials)\n",
    "    return [num_miss_trials, num_good_trials]"
   ]
  },
  {
   "cell_type": "code",
   "execution_count": null,
   "metadata": {},
   "outputs": [],
   "source": [
    "block = load_all_blocks(data_folder, training_session_log.dir[57])"
   ]
  }
 ],
 "metadata": {
  "kernelspec": {
   "display_name": "LUCKYCHARM",
   "language": "python",
   "name": "luckycharm"
  },
  "language_info": {
   "codemirror_mode": {
    "name": "ipython",
    "version": 3
   },
   "file_extension": ".py",
   "mimetype": "text/x-python",
   "name": "python",
   "nbconvert_exporter": "python",
   "pygments_lexer": "ipython3",
   "version": "3.10.6"
  },
  "orig_nbformat": 4
 },
 "nbformat": 4,
 "nbformat_minor": 2
}
