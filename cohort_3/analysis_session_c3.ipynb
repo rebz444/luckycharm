{
 "cells": [
  {
   "cell_type": "code",
   "execution_count": 1,
   "metadata": {},
   "outputs": [],
   "source": [
    "import os\n",
    "\n",
    "import analysis_session_helper_functions_c3 as helper\n",
    "import analysis_utils as utils\n",
    "\n",
    "import pandas as pd"
   ]
  },
  {
   "cell_type": "code",
   "execution_count": 2,
   "metadata": {},
   "outputs": [
    {
     "name": "stdout",
     "output_type": "stream",
     "text": [
      "/Users/rebekahzhang/Documents/shuler_lab/behavior_data/cohort_3/full_clean\n"
     ]
    }
   ],
   "source": [
    "cohort = 'cohort_3'\n",
    "to_analyze = 'full_clean'\n",
    "data_dir = '/Users/rebekahzhang/Documents/shuler_lab/behavior_data'\n",
    "data_folder = os.path.join(data_dir, cohort, to_analyze)\n",
    "stitched_folder = os.path.join(data_dir, cohort, 'full_clean_stitched')\n",
    "stitched_all_mice_folder = os.path.join(data_dir, cohort, 'full_clean_stitched_all_mice')\n",
    "print(data_folder)"
   ]
  },
  {
   "attachments": {},
   "cell_type": "markdown",
   "metadata": {},
   "source": [
    "# Generates all session logs\n",
    "does not need to be run if session logs have been generated"
   ]
  },
  {
   "cell_type": "code",
   "execution_count": 3,
   "metadata": {},
   "outputs": [
    {
     "data": {
      "text/html": [
       "<div>\n",
       "<style scoped>\n",
       "    .dataframe tbody tr th:only-of-type {\n",
       "        vertical-align: middle;\n",
       "    }\n",
       "\n",
       "    .dataframe tbody tr th {\n",
       "        vertical-align: top;\n",
       "    }\n",
       "\n",
       "    .dataframe thead th {\n",
       "        text-align: right;\n",
       "    }\n",
       "</style>\n",
       "<table border=\"1\" class=\"dataframe\">\n",
       "  <thead>\n",
       "    <tr style=\"text-align: right;\">\n",
       "      <th></th>\n",
       "      <th>date</th>\n",
       "      <th>mouse</th>\n",
       "      <th>dir</th>\n",
       "      <th>filename</th>\n",
       "    </tr>\n",
       "  </thead>\n",
       "  <tbody>\n",
       "    <tr>\n",
       "      <th>298</th>\n",
       "      <td>2023-07-22</td>\n",
       "      <td>RZ019</td>\n",
       "      <td>2023-07-22_12-39-24_RZ019</td>\n",
       "      <td>data_RZ019_2023-07-22_12-39-24.txt</td>\n",
       "    </tr>\n",
       "    <tr>\n",
       "      <th>25</th>\n",
       "      <td>2023-07-22</td>\n",
       "      <td>RZ020</td>\n",
       "      <td>2023-07-22_12-16-16_RZ020</td>\n",
       "      <td>data_RZ020_2023-07-22_12-16-16.txt</td>\n",
       "    </tr>\n",
       "    <tr>\n",
       "      <th>179</th>\n",
       "      <td>2023-07-22</td>\n",
       "      <td>RZ021</td>\n",
       "      <td>2023-07-22_12-47-56_RZ021</td>\n",
       "      <td>data_RZ021_2023-07-22_12-47-56.txt</td>\n",
       "    </tr>\n",
       "    <tr>\n",
       "      <th>104</th>\n",
       "      <td>2023-07-23</td>\n",
       "      <td>RZ018</td>\n",
       "      <td>2023-07-23_13-12-32_RZ018</td>\n",
       "      <td>data_RZ018_2023-07-23_13-12-32.txt</td>\n",
       "    </tr>\n",
       "    <tr>\n",
       "      <th>32</th>\n",
       "      <td>2023-07-23</td>\n",
       "      <td>RZ019</td>\n",
       "      <td>2023-07-23_13-38-21_RZ019</td>\n",
       "      <td>data_RZ019_2023-07-23_13-38-21.txt</td>\n",
       "    </tr>\n",
       "    <tr>\n",
       "      <th>110</th>\n",
       "      <td>2023-07-23</td>\n",
       "      <td>RZ020</td>\n",
       "      <td>2023-07-23_13-16-23_RZ020</td>\n",
       "      <td>data_RZ020_2023-07-23_13-16-23.txt</td>\n",
       "    </tr>\n",
       "    <tr>\n",
       "      <th>83</th>\n",
       "      <td>2023-07-23</td>\n",
       "      <td>RZ021</td>\n",
       "      <td>2023-07-23_13-51-08_RZ021</td>\n",
       "      <td>data_RZ021_2023-07-23_13-51-08.txt</td>\n",
       "    </tr>\n",
       "    <tr>\n",
       "      <th>53</th>\n",
       "      <td>2023-07-24</td>\n",
       "      <td>RZ018</td>\n",
       "      <td>2023-07-24_10-25-02_RZ018</td>\n",
       "      <td>data_RZ018_2023-07-24_10-25-02.txt</td>\n",
       "    </tr>\n",
       "    <tr>\n",
       "      <th>85</th>\n",
       "      <td>2023-07-24</td>\n",
       "      <td>RZ019</td>\n",
       "      <td>2023-07-24_10-49-20_RZ019</td>\n",
       "      <td>data_RZ019_2023-07-24_10-49-20.txt</td>\n",
       "    </tr>\n",
       "    <tr>\n",
       "      <th>169</th>\n",
       "      <td>2023-07-24</td>\n",
       "      <td>RZ020</td>\n",
       "      <td>2023-07-24_10-28-11_RZ020</td>\n",
       "      <td>data_RZ020_2023-07-24_10-28-11.txt</td>\n",
       "    </tr>\n",
       "  </tbody>\n",
       "</table>\n",
       "</div>"
      ],
      "text/plain": [
       "           date  mouse                        dir  \\\n",
       "298  2023-07-22  RZ019  2023-07-22_12-39-24_RZ019   \n",
       "25   2023-07-22  RZ020  2023-07-22_12-16-16_RZ020   \n",
       "179  2023-07-22  RZ021  2023-07-22_12-47-56_RZ021   \n",
       "104  2023-07-23  RZ018  2023-07-23_13-12-32_RZ018   \n",
       "32   2023-07-23  RZ019  2023-07-23_13-38-21_RZ019   \n",
       "110  2023-07-23  RZ020  2023-07-23_13-16-23_RZ020   \n",
       "83   2023-07-23  RZ021  2023-07-23_13-51-08_RZ021   \n",
       "53   2023-07-24  RZ018  2023-07-24_10-25-02_RZ018   \n",
       "85   2023-07-24  RZ019  2023-07-24_10-49-20_RZ019   \n",
       "169  2023-07-24  RZ020  2023-07-24_10-28-11_RZ020   \n",
       "\n",
       "                               filename  \n",
       "298  data_RZ019_2023-07-22_12-39-24.txt  \n",
       "25   data_RZ020_2023-07-22_12-16-16.txt  \n",
       "179  data_RZ021_2023-07-22_12-47-56.txt  \n",
       "104  data_RZ018_2023-07-23_13-12-32.txt  \n",
       "32   data_RZ019_2023-07-23_13-38-21.txt  \n",
       "110  data_RZ020_2023-07-23_13-16-23.txt  \n",
       "83   data_RZ021_2023-07-23_13-51-08.txt  \n",
       "53   data_RZ018_2023-07-24_10-25-02.txt  \n",
       "85   data_RZ019_2023-07-24_10-49-20.txt  \n",
       "169  data_RZ020_2023-07-24_10-28-11.txt  "
      ]
     },
     "execution_count": 3,
     "metadata": {},
     "output_type": "execute_result"
    }
   ],
   "source": [
    "session_log = helper.generate_all_session_log(data_folder)\n",
    "session_log.head(10)"
   ]
  },
  {
   "attachments": {},
   "cell_type": "markdown",
   "metadata": {},
   "source": [
    "get a list of mouse names"
   ]
  },
  {
   "cell_type": "code",
   "execution_count": 4,
   "metadata": {},
   "outputs": [
    {
     "name": "stdout",
     "output_type": "stream",
     "text": [
      "['RZ018', 'RZ019', 'RZ020', 'RZ021', 'RZ022', 'RZ023', 'RZ024', 'RZ025']\n"
     ]
    }
   ],
   "source": [
    "# prints mouse names in data folder, check for weird ones and delete from data base\n",
    "mouse_list = utils.generate_mouse_list(session_log)\n",
    "print(mouse_list)"
   ]
  },
  {
   "attachments": {},
   "cell_type": "markdown",
   "metadata": {},
   "source": [
    "get the type of training for session meta data and add to log"
   ]
  },
  {
   "cell_type": "code",
   "execution_count": 5,
   "metadata": {},
   "outputs": [],
   "source": [
    "training_list = []\n",
    "rig_list = []\n",
    "for dir_name, file_name in zip(session_log.dir, session_log.filename):\n",
    "    try:\n",
    "        session_meta = utils.load_session_meta(data_folder, dir_name, file_name)\n",
    "        training = session_meta.training.tolist()[0]\n",
    "        rig = session_meta.rig.tolist()[0]\n",
    "        training_list.append(training)\n",
    "        rig_list.append(rig)\n",
    "    except:\n",
    "        print(dir_name)\n",
    "\n",
    "session_log['training'] = training_list\n",
    "session_log['rig'] = rig_list"
   ]
  },
  {
   "attachments": {},
   "cell_type": "markdown",
   "metadata": {},
   "source": [
    "add columns of basic info to each session to log"
   ]
  },
  {
   "cell_type": "code",
   "execution_count": 6,
   "metadata": {},
   "outputs": [],
   "source": [
    "session_basics_columns = ['num_blocks', 'num_trials', 'rewards', 'time', 'proper_end']\n",
    "for dir_name, file_name in zip(session_log.dir, session_log.filename):\n",
    "    try:\n",
    "        session = utils.load_session(data_folder, dir_name, file_name)\n",
    "        session_basic = helper.get_session_basics(session)\n",
    "        session_log.loc[session_log.dir == dir_name, session_basics_columns] = session_basic\n",
    "    except:\n",
    "        print(dir_name)"
   ]
  },
  {
   "attachments": {},
   "cell_type": "markdown",
   "metadata": {},
   "source": [
    "### Focus only on regular training sessions"
   ]
  },
  {
   "cell_type": "code",
   "execution_count": 7,
   "metadata": {},
   "outputs": [
    {
     "data": {
      "text/html": [
       "<div>\n",
       "<style scoped>\n",
       "    .dataframe tbody tr th:only-of-type {\n",
       "        vertical-align: middle;\n",
       "    }\n",
       "\n",
       "    .dataframe tbody tr th {\n",
       "        vertical-align: top;\n",
       "    }\n",
       "\n",
       "    .dataframe thead th {\n",
       "        text-align: right;\n",
       "    }\n",
       "</style>\n",
       "<table border=\"1\" class=\"dataframe\">\n",
       "  <thead>\n",
       "    <tr style=\"text-align: right;\">\n",
       "      <th></th>\n",
       "      <th>index</th>\n",
       "      <th>date</th>\n",
       "      <th>mouse</th>\n",
       "      <th>dir</th>\n",
       "      <th>filename</th>\n",
       "      <th>training</th>\n",
       "      <th>rig</th>\n",
       "      <th>num_blocks</th>\n",
       "      <th>num_trials</th>\n",
       "      <th>rewards</th>\n",
       "      <th>time</th>\n",
       "      <th>proper_end</th>\n",
       "    </tr>\n",
       "  </thead>\n",
       "  <tbody>\n",
       "    <tr>\n",
       "      <th>0</th>\n",
       "      <td>201</td>\n",
       "      <td>2023-07-25</td>\n",
       "      <td>RZ018</td>\n",
       "      <td>2023-07-25_10-24-14_RZ018</td>\n",
       "      <td>data_RZ018_2023-07-25_10-24-14.txt</td>\n",
       "      <td>regular</td>\n",
       "      <td>rig2</td>\n",
       "      <td>1.0</td>\n",
       "      <td>353.0</td>\n",
       "      <td>181.5</td>\n",
       "      <td>1767.68</td>\n",
       "      <td>True</td>\n",
       "    </tr>\n",
       "    <tr>\n",
       "      <th>1</th>\n",
       "      <td>269</td>\n",
       "      <td>2023-07-25</td>\n",
       "      <td>RZ020</td>\n",
       "      <td>2023-07-25_10-28-09_RZ020</td>\n",
       "      <td>data_RZ020_2023-07-25_10-28-09.txt</td>\n",
       "      <td>regular</td>\n",
       "      <td>rig3</td>\n",
       "      <td>1.0</td>\n",
       "      <td>363.0</td>\n",
       "      <td>137.9</td>\n",
       "      <td>2528.20</td>\n",
       "      <td>True</td>\n",
       "    </tr>\n",
       "    <tr>\n",
       "      <th>2</th>\n",
       "      <td>143</td>\n",
       "      <td>2023-07-25</td>\n",
       "      <td>RZ019</td>\n",
       "      <td>2023-07-25_10-56-16_RZ019</td>\n",
       "      <td>data_RZ019_2023-07-25_10-56-16.txt</td>\n",
       "      <td>regular</td>\n",
       "      <td>rig2</td>\n",
       "      <td>1.0</td>\n",
       "      <td>340.0</td>\n",
       "      <td>97.2</td>\n",
       "      <td>1639.49</td>\n",
       "      <td>True</td>\n",
       "    </tr>\n",
       "    <tr>\n",
       "      <th>3</th>\n",
       "      <td>285</td>\n",
       "      <td>2023-07-25</td>\n",
       "      <td>RZ021</td>\n",
       "      <td>2023-07-25_11-12-50_RZ021</td>\n",
       "      <td>data_RZ021_2023-07-25_11-12-50.txt</td>\n",
       "      <td>regular</td>\n",
       "      <td>rig3</td>\n",
       "      <td>1.0</td>\n",
       "      <td>355.0</td>\n",
       "      <td>629.6</td>\n",
       "      <td>2835.79</td>\n",
       "      <td>True</td>\n",
       "    </tr>\n",
       "    <tr>\n",
       "      <th>4</th>\n",
       "      <td>190</td>\n",
       "      <td>2023-07-25</td>\n",
       "      <td>RZ018</td>\n",
       "      <td>2023-07-25_13-05-38_RZ018</td>\n",
       "      <td>data_RZ018_2023-07-25_13-05-38.txt</td>\n",
       "      <td>regular</td>\n",
       "      <td>rig3</td>\n",
       "      <td>1.0</td>\n",
       "      <td>338.0</td>\n",
       "      <td>303.5</td>\n",
       "      <td>1915.50</td>\n",
       "      <td>True</td>\n",
       "    </tr>\n",
       "  </tbody>\n",
       "</table>\n",
       "</div>"
      ],
      "text/plain": [
       "   index        date  mouse                        dir  \\\n",
       "0    201  2023-07-25  RZ018  2023-07-25_10-24-14_RZ018   \n",
       "1    269  2023-07-25  RZ020  2023-07-25_10-28-09_RZ020   \n",
       "2    143  2023-07-25  RZ019  2023-07-25_10-56-16_RZ019   \n",
       "3    285  2023-07-25  RZ021  2023-07-25_11-12-50_RZ021   \n",
       "4    190  2023-07-25  RZ018  2023-07-25_13-05-38_RZ018   \n",
       "\n",
       "                             filename training   rig  num_blocks  num_trials  \\\n",
       "0  data_RZ018_2023-07-25_10-24-14.txt  regular  rig2         1.0       353.0   \n",
       "1  data_RZ020_2023-07-25_10-28-09.txt  regular  rig3         1.0       363.0   \n",
       "2  data_RZ019_2023-07-25_10-56-16.txt  regular  rig2         1.0       340.0   \n",
       "3  data_RZ021_2023-07-25_11-12-50.txt  regular  rig3         1.0       355.0   \n",
       "4  data_RZ018_2023-07-25_13-05-38.txt  regular  rig3         1.0       338.0   \n",
       "\n",
       "   rewards     time proper_end  \n",
       "0    181.5  1767.68       True  \n",
       "1    137.9  2528.20       True  \n",
       "2     97.2  1639.49       True  \n",
       "3    629.6  2835.79       True  \n",
       "4    303.5  1915.50       True  "
      ]
     },
     "execution_count": 7,
     "metadata": {},
     "output_type": "execute_result"
    }
   ],
   "source": [
    "training_session_log = session_log.loc[session_log.training == 'regular'].sort_values('dir').reset_index()\n",
    "training_session_log.head()"
   ]
  },
  {
   "attachments": {},
   "cell_type": "markdown",
   "metadata": {},
   "source": [
    "### Examine quality of sessions\n",
    "doesn't need to run when data folder is cleaned"
   ]
  },
  {
   "attachments": {},
   "cell_type": "markdown",
   "metadata": {},
   "source": [
    "check for short sessions, prints out dir"
   ]
  },
  {
   "cell_type": "code",
   "execution_count": null,
   "metadata": {},
   "outputs": [],
   "source": [
    "short_session = training_session_log.loc[(training_session_log['training'] == 'regular') & \n",
    "                                         (training_session_log['num_trials'] < 50)] \n",
    "print(short_session.dir, short_session.num_trials)"
   ]
  },
  {
   "attachments": {},
   "cell_type": "markdown",
   "metadata": {},
   "source": [
    "check for missing sessions by the number of sessions in each training day"
   ]
  },
  {
   "cell_type": "code",
   "execution_count": null,
   "metadata": {},
   "outputs": [],
   "source": [
    "num_mice = 8\n",
    "date_list = training_session_log.date.unique().tolist()\n",
    "for date in date_list:\n",
    "    data = training_session_log.loc[training_session_log['date'] == date]\n",
    "    if len(data) < num_mice:\n",
    "        print(date)"
   ]
  },
  {
   "attachments": {},
   "cell_type": "markdown",
   "metadata": {},
   "source": [
    "check for same mouse with multiple sessions per day, prints out date and mouse if too many"
   ]
  },
  {
   "cell_type": "code",
   "execution_count": null,
   "metadata": {},
   "outputs": [],
   "source": [
    "# prints dates of the same mouse with multiple sessions\n",
    "for d in training_session_log.date.unique().tolist():\n",
    "    session_of_the_day = training_session_log.loc[training_session_log['date'] == d]\n",
    "    for mouse in mouse_list:\n",
    "        count = len(session_of_the_day.loc[session_of_the_day['mouse'] == mouse])\n",
    "        if count > 1:\n",
    "            print(d, mouse)   "
   ]
  },
  {
   "attachments": {},
   "cell_type": "markdown",
   "metadata": {},
   "source": [
    "make a copy of cleaned data before preceeding!"
   ]
  },
  {
   "attachments": {},
   "cell_type": "markdown",
   "metadata": {},
   "source": [
    "### Add training session number to training log"
   ]
  },
  {
   "cell_type": "code",
   "execution_count": 8,
   "metadata": {},
   "outputs": [],
   "source": [
    "training_session_log.sort_values(by=['mouse', 'dir'], inplace=True)\n",
    "for mouse in mouse_list:\n",
    "    total_sessions = sum(training_session_log.mouse == mouse)\n",
    "    training_session_log.loc[training_session_log.mouse == mouse, 'session_num'] = list(range(total_sessions))\n",
    "training_session_log.session_num = training_session_log.session_num.astype(int)"
   ]
  },
  {
   "cell_type": "code",
   "execution_count": 9,
   "metadata": {},
   "outputs": [
    {
     "data": {
      "text/plain": [
       "38"
      ]
     },
     "execution_count": 9,
     "metadata": {},
     "output_type": "execute_result"
    }
   ],
   "source": [
    "training_session_log.session_num.max()"
   ]
  },
  {
   "attachments": {},
   "cell_type": "markdown",
   "metadata": {},
   "source": [
    "### Saves all sessions log and training session log"
   ]
  },
  {
   "cell_type": "code",
   "execution_count": 10,
   "metadata": {},
   "outputs": [],
   "source": [
    "filename = f'all_sessions.csv'\n",
    "path = os.path.join(data_folder, filename)\n",
    "session_log.to_csv(path)"
   ]
  },
  {
   "cell_type": "code",
   "execution_count": 11,
   "metadata": {},
   "outputs": [],
   "source": [
    "filename = f'training_sessions.csv'\n",
    "path = os.path.join(data_folder, filename)\n",
    "training_session_log.to_csv(path)"
   ]
  },
  {
   "attachments": {},
   "cell_type": "markdown",
   "metadata": {},
   "source": [
    "# Generate all trials per session"
   ]
  },
  {
   "attachments": {},
   "cell_type": "markdown",
   "metadata": {},
   "source": [
    "load session log"
   ]
  },
  {
   "cell_type": "code",
   "execution_count": 12,
   "metadata": {},
   "outputs": [],
   "source": [
    "training_session_log = utils.load_session_log(data_folder, 'training_sessions.csv')"
   ]
  },
  {
   "attachments": {},
   "cell_type": "markdown",
   "metadata": {},
   "source": [
    "### Raw data processing and generate initial all trials df\n",
    "adds trial numbers and states to hardware entries\n",
    "create all trials df with trial basics added\n",
    "both files saved, \n",
    "does't need to be rerun"
   ]
  },
  {
   "cell_type": "code",
   "execution_count": 13,
   "metadata": {},
   "outputs": [],
   "source": [
    "all_trials_column_names = ['session_trial_num', 'block_trial_num', 'block_num', 'start_time', 'end_time']"
   ]
  },
  {
   "cell_type": "code",
   "execution_count": 14,
   "metadata": {},
   "outputs": [],
   "source": [
    "for dir_name, file_name in zip(training_session_log.dir, training_session_log.filename):\n",
    "    \n",
    "    processed_path = os.path.join(data_folder, dir_name, f'processed_{file_name[:-4]}.csv')\n",
    "    all_trials_path =os.path.join(data_folder, dir_name, f'{dir_name}_all_trials.csv')\n",
    "    if os.path.isfile(processed_path) and os.path.isfile(all_trials_path):\n",
    "        continue\n",
    "\n",
    "    session = utils.load_session(data_folder, dir_name, file_name)\n",
    "    session.session_time = session.session_time - session.iloc[0]['session_time']\n",
    "    session['trial_time'] = ''\n",
    "    total_trial_list = helper.generate_total_trial_list(training_session_log, dir_name)\n",
    "    all_trials = pd.DataFrame(columns=all_trials_column_names)\n",
    "\n",
    "    for t in total_trial_list:\n",
    "        trial = session.loc[session['session_trial_num'] == t]\n",
    "        \n",
    "        trial_basics = helper.get_trial_basics(trial)\n",
    "        helper.align_trial_number(session, trial_basics)\n",
    "\n",
    "        trial_state_times = helper.get_trial_state_times(trial)\n",
    "        helper.align_trial_states(session, trial_state_times, trial_basics)\n",
    "\n",
    "        trial = session.loc[session['session_trial_num'] == t]\n",
    "        helper.add_trial_time(session, t, trial, trial_basics)\n",
    "\n",
    "        trial_basics = pd.DataFrame([trial_basics])\n",
    "        all_trials = pd.concat([all_trials, trial_basics], ignore_index=True)\n",
    "    \n",
    "    session = utils.trim_session(training_session_log, dir_name, session)\n",
    "    session.to_csv(processed_path)\n",
    "    all_trials.to_csv(all_trials_path)"
   ]
  },
  {
   "attachments": {},
   "cell_type": "markdown",
   "metadata": {},
   "source": [
    "### Adding analyzed trial data to all trials df"
   ]
  },
  {
   "cell_type": "code",
   "execution_count": 15,
   "metadata": {},
   "outputs": [],
   "source": [
    "all_trials_data_column = ['bg_length', 'blk_type', 'num_bg_lick',\n",
    "                          'miss_trial', 'time_waited', 'reward', 'num_consumption_lick',\n",
    "                          'good_trial']"
   ]
  },
  {
   "cell_type": "code",
   "execution_count": 16,
   "metadata": {},
   "outputs": [],
   "source": [
    "for dir_name, file_name in zip(training_session_log.dir, training_session_log.filename):\n",
    "    all_trials_analyzed_path =os.path.join(data_folder, dir_name, f'{dir_name}_all_trials_analyzed.csv')\n",
    "    # if os.path.isfile(all_trials_analyzed_path):\n",
    "    #     continue\n",
    "\n",
    "    processed_session = utils.load_processed_session(data_folder, dir_name, file_name)\n",
    "    all_trials = utils.load_all_trials(data_folder, dir_name)\n",
    "    total_trial_list = helper.generate_total_trial_list(training_session_log, dir_name)\n",
    "\n",
    "    for t in total_trial_list:\n",
    "        trial = processed_session.loc[processed_session['session_trial_num'] == t]\n",
    "        trial_performance = helper.get_trial_performance(trial)\n",
    "        all_trials.loc[all_trials['session_trial_num'] == t, all_trials_data_column] = trial_performance\n",
    "    \n",
    "    all_trials.to_csv(all_trials_analyzed_path)"
   ]
  },
  {
   "cell_type": "markdown",
   "metadata": {},
   "source": [
    "# Combine sessions"
   ]
  },
  {
   "attachments": {},
   "cell_type": "markdown",
   "metadata": {},
   "source": [
    "## Stitch all sessions from the same day"
   ]
  },
  {
   "cell_type": "markdown",
   "metadata": {},
   "source": [
    "load session log and generate lists for looping"
   ]
  },
  {
   "cell_type": "code",
   "execution_count": 17,
   "metadata": {},
   "outputs": [],
   "source": [
    "training_session_log = utils.load_session_log(data_folder, 'training_sessions.csv')\n",
    "unique_date_list = utils.generate_date_list(training_session_log)\n",
    "unique_mouse_list = utils.generate_mouse_list(training_session_log)"
   ]
  },
  {
   "cell_type": "markdown",
   "metadata": {},
   "source": [
    "makes the stitched session log with columns of date, mouse, dir, filename"
   ]
  },
  {
   "cell_type": "code",
   "execution_count": 18,
   "metadata": {},
   "outputs": [
    {
     "data": {
      "text/html": [
       "<div>\n",
       "<style scoped>\n",
       "    .dataframe tbody tr th:only-of-type {\n",
       "        vertical-align: middle;\n",
       "    }\n",
       "\n",
       "    .dataframe tbody tr th {\n",
       "        vertical-align: top;\n",
       "    }\n",
       "\n",
       "    .dataframe thead th {\n",
       "        text-align: right;\n",
       "    }\n",
       "</style>\n",
       "<table border=\"1\" class=\"dataframe\">\n",
       "  <thead>\n",
       "    <tr style=\"text-align: right;\">\n",
       "      <th></th>\n",
       "      <th>date</th>\n",
       "      <th>mouse</th>\n",
       "      <th>dir</th>\n",
       "      <th>filename</th>\n",
       "      <th>num_sessions</th>\n",
       "    </tr>\n",
       "  </thead>\n",
       "  <tbody>\n",
       "    <tr>\n",
       "      <th>0</th>\n",
       "      <td>2023-07-25</td>\n",
       "      <td>RZ018</td>\n",
       "      <td>2023-07-25_RZ018</td>\n",
       "      <td>processed_data_RZ018_2023-07-25.csv</td>\n",
       "      <td>3</td>\n",
       "    </tr>\n",
       "    <tr>\n",
       "      <th>1</th>\n",
       "      <td>2023-07-25</td>\n",
       "      <td>RZ019</td>\n",
       "      <td>2023-07-25_RZ019</td>\n",
       "      <td>processed_data_RZ019_2023-07-25.csv</td>\n",
       "      <td>3</td>\n",
       "    </tr>\n",
       "    <tr>\n",
       "      <th>2</th>\n",
       "      <td>2023-07-25</td>\n",
       "      <td>RZ020</td>\n",
       "      <td>2023-07-25_RZ020</td>\n",
       "      <td>processed_data_RZ020_2023-07-25.csv</td>\n",
       "      <td>2</td>\n",
       "    </tr>\n",
       "    <tr>\n",
       "      <th>3</th>\n",
       "      <td>2023-07-25</td>\n",
       "      <td>RZ021</td>\n",
       "      <td>2023-07-25_RZ021</td>\n",
       "      <td>processed_data_RZ021_2023-07-25.csv</td>\n",
       "      <td>2</td>\n",
       "    </tr>\n",
       "    <tr>\n",
       "      <th>4</th>\n",
       "      <td>2023-07-26</td>\n",
       "      <td>RZ018</td>\n",
       "      <td>2023-07-26_RZ018</td>\n",
       "      <td>processed_data_RZ018_2023-07-26.csv</td>\n",
       "      <td>1</td>\n",
       "    </tr>\n",
       "    <tr>\n",
       "      <th>5</th>\n",
       "      <td>2023-07-26</td>\n",
       "      <td>RZ019</td>\n",
       "      <td>2023-07-26_RZ019</td>\n",
       "      <td>processed_data_RZ019_2023-07-26.csv</td>\n",
       "      <td>1</td>\n",
       "    </tr>\n",
       "    <tr>\n",
       "      <th>6</th>\n",
       "      <td>2023-07-26</td>\n",
       "      <td>RZ020</td>\n",
       "      <td>2023-07-26_RZ020</td>\n",
       "      <td>processed_data_RZ020_2023-07-26.csv</td>\n",
       "      <td>1</td>\n",
       "    </tr>\n",
       "    <tr>\n",
       "      <th>7</th>\n",
       "      <td>2023-07-26</td>\n",
       "      <td>RZ021</td>\n",
       "      <td>2023-07-26_RZ021</td>\n",
       "      <td>processed_data_RZ021_2023-07-26.csv</td>\n",
       "      <td>1</td>\n",
       "    </tr>\n",
       "    <tr>\n",
       "      <th>8</th>\n",
       "      <td>2023-07-26</td>\n",
       "      <td>RZ022</td>\n",
       "      <td>2023-07-26_RZ022</td>\n",
       "      <td>processed_data_RZ022_2023-07-26.csv</td>\n",
       "      <td>1</td>\n",
       "    </tr>\n",
       "    <tr>\n",
       "      <th>9</th>\n",
       "      <td>2023-07-26</td>\n",
       "      <td>RZ023</td>\n",
       "      <td>2023-07-26_RZ023</td>\n",
       "      <td>processed_data_RZ023_2023-07-26.csv</td>\n",
       "      <td>1</td>\n",
       "    </tr>\n",
       "  </tbody>\n",
       "</table>\n",
       "</div>"
      ],
      "text/plain": [
       "         date  mouse               dir                             filename  \\\n",
       "0  2023-07-25  RZ018  2023-07-25_RZ018  processed_data_RZ018_2023-07-25.csv   \n",
       "1  2023-07-25  RZ019  2023-07-25_RZ019  processed_data_RZ019_2023-07-25.csv   \n",
       "2  2023-07-25  RZ020  2023-07-25_RZ020  processed_data_RZ020_2023-07-25.csv   \n",
       "3  2023-07-25  RZ021  2023-07-25_RZ021  processed_data_RZ021_2023-07-25.csv   \n",
       "4  2023-07-26  RZ018  2023-07-26_RZ018  processed_data_RZ018_2023-07-26.csv   \n",
       "5  2023-07-26  RZ019  2023-07-26_RZ019  processed_data_RZ019_2023-07-26.csv   \n",
       "6  2023-07-26  RZ020  2023-07-26_RZ020  processed_data_RZ020_2023-07-26.csv   \n",
       "7  2023-07-26  RZ021  2023-07-26_RZ021  processed_data_RZ021_2023-07-26.csv   \n",
       "8  2023-07-26  RZ022  2023-07-26_RZ022  processed_data_RZ022_2023-07-26.csv   \n",
       "9  2023-07-26  RZ023  2023-07-26_RZ023  processed_data_RZ023_2023-07-26.csv   \n",
       "\n",
       "   num_sessions  \n",
       "0             3  \n",
       "1             3  \n",
       "2             2  \n",
       "3             2  \n",
       "4             1  \n",
       "5             1  \n",
       "6             1  \n",
       "7             1  \n",
       "8             1  \n",
       "9             1  "
      ]
     },
     "execution_count": 18,
     "metadata": {},
     "output_type": "execute_result"
    }
   ],
   "source": [
    "stitched_session_log = helper.generate_stitched_session_log(training_session_log)\n",
    "stitched_session_log.head(10)"
   ]
  },
  {
   "cell_type": "markdown",
   "metadata": {},
   "source": [
    "### Stitch!"
   ]
  },
  {
   "cell_type": "markdown",
   "metadata": {},
   "source": [
    "creates empty directories in the stitched folder"
   ]
  },
  {
   "cell_type": "code",
   "execution_count": 19,
   "metadata": {},
   "outputs": [],
   "source": [
    "for d in stitched_session_log.dir:\n",
    "    new_dir = os.path.join(stitched_folder, d)\n",
    "    if not os.path.exists(new_dir):\n",
    "        os.makedirs(new_dir)"
   ]
  },
  {
   "cell_type": "markdown",
   "metadata": {},
   "source": [
    "loop through each day and each mouse to stitch processed_session and all_trials_analyzed"
   ]
  },
  {
   "cell_type": "code",
   "execution_count": 20,
   "metadata": {},
   "outputs": [],
   "source": [
    "for d in unique_date_list:\n",
    "    log_date = training_session_log.loc[training_session_log.date == d]\n",
    "    for m in unique_mouse_list:\n",
    "        log_date_mouse = log_date.loc[log_date.mouse == m]\n",
    "        num_sessions = len(log_date_mouse)\n",
    "\n",
    "        if num_sessions == 0:\n",
    "            continue\n",
    "        \n",
    "        else:\n",
    "            stitched_processed_session = utils.load_processed_session(data_folder, log_date_mouse.dir.iloc[0], log_date_mouse.filename.iloc[0])\n",
    "            stitched_all_trials = utils.load_all_trials_analyzed(data_folder, log_date_mouse.dir.iloc[0])\n",
    "\n",
    "            for i in range(1, num_sessions):\n",
    "                session_2 = utils.load_processed_session(data_folder, log_date_mouse.dir.iloc[i], log_date_mouse.filename.iloc[i])\n",
    "                all_trials_2 = utils.load_all_trials_analyzed(data_folder, log_date_mouse.dir.iloc[i])\n",
    "                \n",
    "                stitched_processed_session = helper.stitch_sessions(stitched_processed_session, session_2)\n",
    "                stitched_all_trials = helper.stitch_all_trials(stitched_all_trials, all_trials_2)\n",
    "\n",
    "            stitched_processed_session.to_csv(utils.generate_stitched_session_path(stitched_folder, m, d))\n",
    "            stitched_all_trials.to_csv(utils.generate_stitched_all_trials_path(stitched_folder, m, d))"
   ]
  },
  {
   "cell_type": "markdown",
   "metadata": {},
   "source": [
    "### Add info to stitched sesscion log and save it"
   ]
  },
  {
   "cell_type": "code",
   "execution_count": 21,
   "metadata": {},
   "outputs": [],
   "source": [
    "session_basics_columns = ['num_blocks', 'num_trials', 'rewards', 'time', 'proper_end']\n",
    "for m, d in zip(stitched_session_log.mouse, stitched_session_log.date):\n",
    "    session = utils.load_stitched_session(stitched_folder, m, d)\n",
    "    session_basic = helper.get_session_basics(session)\n",
    "    stitched_session_log.loc[stitched_session_log.dir == f'{d}_{m}', session_basics_columns] = session_basic"
   ]
  },
  {
   "cell_type": "code",
   "execution_count": 22,
   "metadata": {},
   "outputs": [],
   "source": [
    "stitched_session_log.sort_values(by=['mouse', 'date'], inplace=True)\n",
    "for mouse in mouse_list:\n",
    "    total_sessions = sum(stitched_session_log.mouse == mouse)\n",
    "    stitched_session_log.loc[stitched_session_log.mouse == mouse, 'session_num'] = list(range(total_sessions))\n",
    "stitched_session_log.session_num = stitched_session_log.session_num.astype(int)"
   ]
  },
  {
   "cell_type": "code",
   "execution_count": 23,
   "metadata": {},
   "outputs": [],
   "source": [
    "filename = f'stitched_training_sessions.csv'\n",
    "path = os.path.join(stitched_folder, filename)\n",
    "stitched_session_log.to_csv(path)"
   ]
  },
  {
   "cell_type": "markdown",
   "metadata": {},
   "source": [
    "## Stitch all Sessions from the same day from all mice"
   ]
  },
  {
   "cell_type": "markdown",
   "metadata": {},
   "source": [
    "load stitched session log"
   ]
  },
  {
   "cell_type": "code",
   "execution_count": 24,
   "metadata": {},
   "outputs": [],
   "source": [
    "stitched_session_log = utils.load_session_log(stitched_folder, 'stitched_training_sessions.csv')"
   ]
  },
  {
   "cell_type": "code",
   "execution_count": 25,
   "metadata": {},
   "outputs": [],
   "source": [
    "unique_date_list = utils.generate_date_list(stitched_session_log)\n",
    "unique_mouse_list = utils.generate_mouse_list(stitched_session_log)"
   ]
  },
  {
   "cell_type": "markdown",
   "metadata": {},
   "source": [
    "generage stitched all mice log with columns of date, mouse, dir, filename"
   ]
  },
  {
   "cell_type": "code",
   "execution_count": 26,
   "metadata": {},
   "outputs": [],
   "source": [
    "stitched_all_mice_session_log = helper.generate_stitched_all_mice_session_log(stitched_session_log)"
   ]
  },
  {
   "cell_type": "code",
   "execution_count": 27,
   "metadata": {},
   "outputs": [],
   "source": [
    "for date in stitched_session_log.date:\n",
    "    new_dir = os.path.join(stitched_all_mice_folder, date)\n",
    "    if not os.path.exists(new_dir):\n",
    "        os.makedirs(new_dir)"
   ]
  },
  {
   "cell_type": "code",
   "execution_count": 28,
   "metadata": {},
   "outputs": [],
   "source": [
    "for d in unique_date_list:\n",
    "    log_date = stitched_session_log.loc[stitched_session_log.date == d]\n",
    "    num_mice = len(log_date)\n",
    "\n",
    "    if num_mice == 0:\n",
    "        continue\n",
    "    else:\n",
    "        stitched_processed_session =  utils.load_stitched_session(stitched_folder, log_date.mouse.iloc[0], log_date.date.iloc[0])\n",
    "        stitched_processed_session['mouse'] = log_date.mouse.iloc[0]\n",
    "        stitched_all_trials = utils.load_stitched_all_trials_analyzed(stitched_folder, log_date.mouse.iloc[0], log_date.date.iloc[0])\n",
    "        stitched_all_trials['mouse'] = log_date.mouse.iloc[0]\n",
    "\n",
    "        for i in range(1, num_mice):\n",
    "            session_2 = utils.load_stitched_session(stitched_folder, log_date.mouse.iloc[i], log_date.date.iloc[i])\n",
    "            session_2['mouse'] = log_date.mouse.iloc[i]\n",
    "            all_trials_2 = utils.load_stitched_all_trials_analyzed(stitched_folder, log_date.mouse.iloc[i], log_date.date.iloc[i])\n",
    "            all_trials_2['mouse'] = log_date.mouse.iloc[i]\n",
    "            \n",
    "            stitched_processed_session = helper.stitch_sessions(stitched_processed_session, session_2)\n",
    "            stitched_all_trials = helper.stitch_all_trials(stitched_all_trials, all_trials_2)\n",
    "        \n",
    "        stitched_processed_session.to_csv(utils.generate_stitched_all_mice_session_path(stitched_all_mice_folder, d))\n",
    "        stitched_all_trials.to_csv(utils.generate_stitched_all_mice_all_trials_path(stitched_all_mice_folder, d))"
   ]
  },
  {
   "cell_type": "code",
   "execution_count": 29,
   "metadata": {},
   "outputs": [],
   "source": [
    "session_basics_columns = ['num_blocks', 'num_trials', 'rewards', 'time', 'proper_end']\n",
    "for d in stitched_all_mice_session_log.date:\n",
    "    session = utils.load_stitched_all_mice_session(stitched_all_mice_folder, d)\n",
    "    session_basic = helper.get_session_basics(session)\n",
    "    stitched_all_mice_session_log.loc[stitched_all_mice_session_log.date == d, session_basics_columns] = session_basic"
   ]
  },
  {
   "cell_type": "code",
   "execution_count": 30,
   "metadata": {},
   "outputs": [],
   "source": [
    "total_days = len(stitched_all_mice_session_log)\n",
    "stitched_all_mice_session_log['days'] = list(range(total_days))"
   ]
  },
  {
   "cell_type": "code",
   "execution_count": 31,
   "metadata": {},
   "outputs": [],
   "source": [
    "filename = f'stitched_all_mice_training_sessions.csv'\n",
    "path = os.path.join(stitched_all_mice_folder, filename)\n",
    "stitched_all_mice_session_log.to_csv(path)"
   ]
  }
 ],
 "metadata": {
  "kernelspec": {
   "display_name": "LUCKYCHARM",
   "language": "python",
   "name": "luckycharm"
  },
  "language_info": {
   "codemirror_mode": {
    "name": "ipython",
    "version": 3
   },
   "file_extension": ".py",
   "mimetype": "text/x-python",
   "name": "python",
   "nbconvert_exporter": "python",
   "pygments_lexer": "ipython3",
   "version": "3.10.6"
  },
  "orig_nbformat": 4
 },
 "nbformat": 4,
 "nbformat_minor": 2
}
